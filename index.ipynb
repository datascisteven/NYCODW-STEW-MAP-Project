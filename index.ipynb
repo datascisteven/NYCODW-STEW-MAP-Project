{
 "cells": [
  {
   "cell_type": "code",
   "execution_count": 1,
   "metadata": {},
   "outputs": [],
   "source": [
    "import pandas as pd"
   ]
  },
  {
   "cell_type": "code",
   "execution_count": 9,
   "metadata": {},
   "outputs": [],
   "source": [
    "import pickle\n",
    "with open('/Volumes/My Backup Barracuda/Dropbox/Data Science/DRepositories/STEW-MAP Project/processed_tweets.pickle', 'rb') as read_file:\n",
    "    tweets = pickle.load(read_file)"
   ]
  },
  {
   "cell_type": "code",
   "execution_count": 10,
   "metadata": {},
   "outputs": [
    {
     "data": {
      "text/plain": [
       "0        [congrats, receive, grant, humanities, continu...\n",
       "1        [congrats, putnam, history, museum, receive, g...\n",
       "2        [congrats, mount, gulian, society, receive, gr...\n",
       "3        [congrats, receive, grant, since, work, build,...\n",
       "4        [new, blog, hny, speak, webbyawardwinning, web...\n",
       "                               ...                        \n",
       "22085    [thank, add, us, list, donation, make, differe...\n",
       "22086    [spring, sessions, esol, class, open, registra...\n",
       "22087    [want, safer, community, work, every, day, bui...\n",
       "22088    [right, students, staff, go, break, christmas,...\n",
       "22089               [back, center, open, happy, new, year]\n",
       "Name: tweet, Length: 22090, dtype: object"
      ]
     },
     "execution_count": 10,
     "metadata": {},
     "output_type": "execute_result"
    }
   ],
   "source": [
    "tweets"
   ]
  },
  {
   "cell_type": "code",
   "execution_count": 12,
   "metadata": {},
   "outputs": [
    {
     "data": {
      "text/plain": [
       "['congrats',\n",
       " 'receive',\n",
       " 'grant',\n",
       " 'humanities',\n",
       " 'continue',\n",
       " 'catskills',\n",
       " 'august',\n",
       " 'pollinator',\n",
       " 'pavilion',\n",
       " 'new']"
      ]
     },
     "execution_count": 12,
     "metadata": {},
     "output_type": "execute_result"
    }
   ],
   "source": [
    "tweets_list = tweets.sum()\n",
    "tweets_list[0:10]"
   ]
  },
  {
   "cell_type": "code",
   "execution_count": 13,
   "metadata": {},
   "outputs": [],
   "source": [
    "all_tweets_words = [] #initialize a list which will contain all words. (WordCloud)\n",
    "all_tweets = [] #initialize a list which will contain all tweets. Each element in the list will be a tweet (tf-idf)\n",
    "\n",
    "for tweet_sentence in tweets:\n",
    "    all_tweets.append(\" \".join(tweet_sentence))\n",
    "    for tweet_word in tweet_sentence:\n",
    "        all_tweets_words.append(tweet_word.capitalize())"
   ]
  },
  {
   "cell_type": "code",
   "execution_count": 18,
   "metadata": {},
   "outputs": [],
   "source": [
    "text_tokens = [[test for test in x.split()] for x in all_tweets]"
   ]
  },
  {
   "cell_type": "code",
   "execution_count": 19,
   "metadata": {},
   "outputs": [],
   "source": [
    "from gensim.corpora import Dictionary\n",
    "id2word = Dictionary(text_tokens)"
   ]
  },
  {
   "cell_type": "code",
   "execution_count": 20,
   "metadata": {},
   "outputs": [
    {
     "name": "stdout",
     "output_type": "stream",
     "text": [
      "[[(0, 1), (1, 1), (2, 1), (3, 1), (4, 1), (5, 1), (6, 1), (7, 1), (8, 1), (9, 1), (10, 1), (11, 1), (12, 1), (13, 1), (14, 1), (15, 2), (16, 1), (17, 1)]]\n"
     ]
    }
   ],
   "source": [
    "# Term Document Frequency\n",
    "corpus = [id2word.doc2bow(text) for text in tweets]\n",
    "print(corpus[:1])"
   ]
  },
  {
   "cell_type": "code",
   "execution_count": null,
   "metadata": {},
   "outputs": [],
   "source": [
    "lda = models.LdaModel(corpus, num_topics=5, \n",
    "                            id2word=dictionary, \n",
    "                            update_every=5, \n",
    "                            chunksize=10000, \n",
    "                            passes=100)"
   ]
  }
 ],
 "metadata": {
  "interpreter": {
   "hash": "53e0a93b7c64fcbbd161567d178793b8bdbd3decf5b1e60d467119eca94f2238"
  },
  "kernelspec": {
   "display_name": "Python 3.9.7 ('geo-env')",
   "language": "python",
   "name": "python3"
  },
  "language_info": {
   "codemirror_mode": {
    "name": "ipython",
    "version": 3
   },
   "file_extension": ".py",
   "mimetype": "text/x-python",
   "name": "python",
   "nbconvert_exporter": "python",
   "pygments_lexer": "ipython3",
   "version": "3.8.10"
  },
  "orig_nbformat": 4
 },
 "nbformat": 4,
 "nbformat_minor": 2
}
