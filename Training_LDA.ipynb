{
  "cells": [
    {
      "cell_type": "markdown",
      "metadata": {
        "id": "Ppg5bqOINf25"
      },
      "source": [
        "## Importing Packages"
      ]
    },
    {
      "cell_type": "code",
      "execution_count": 13,
      "metadata": {
        "id": "nzuObDsHNf27"
      },
      "outputs": [],
      "source": [
        "import pandas as pd\n",
        "import numpy as np\n",
        "import tqdm\n",
        "import pickle\n",
        "from pprint import pprint\n",
        "import os\n",
        "\n",
        "import warnings\n",
        "warnings.filterwarnings('ignore', category=DeprecationWarning)\n",
        "\n",
        "#sklearn\n",
        "from sklearn.manifold import TSNE\n",
        "from sklearn.feature_extraction.text import CountVectorizer\n",
        "from sklearn.decomposition import LatentDirichletAllocation\n",
        "from sklearn.model_selection import train_test_split\n",
        "\n",
        "import gensim\n",
        "from gensim import corpora, models\n",
        "from gensim.corpora import Dictionary\n",
        "from gensim.models.coherencemodel import CoherenceModel\n",
        "from gensim.models.ldamodel import LdaModel\n",
        "\n"
      ]
    },
    {
      "cell_type": "code",
      "execution_count": null,
      "metadata": {
        "colab": {
          "base_uri": "https://localhost:8080/"
        },
        "id": "WyUoM7JoNn31",
        "outputId": "7e59a102-497d-4cb9-ddbf-e2cabde82919"
      },
      "outputs": [
        {
          "name": "stdout",
          "output_type": "stream",
          "text": [
            "Collecting pyLDAvis\n",
            "  Downloading pyLDAvis-3.3.1.tar.gz (1.7 MB)\n",
            "\u001b[K     |████████████████████████████████| 1.7 MB 3.9 MB/s \n",
            "\u001b[?25h  Installing build dependencies ... \u001b[?25l\u001b[?25hdone\n",
            "  Getting requirements to build wheel ... \u001b[?25l\u001b[?25hdone\n",
            "  Installing backend dependencies ... \u001b[?25l\u001b[?25hdone\n",
            "    Preparing wheel metadata ... \u001b[?25l\u001b[?25hdone\n",
            "Requirement already satisfied: future in /usr/local/lib/python3.7/dist-packages (from pyLDAvis) (0.16.0)\n",
            "Requirement already satisfied: joblib in /usr/local/lib/python3.7/dist-packages (from pyLDAvis) (1.1.0)\n",
            "Requirement already satisfied: jinja2 in /usr/local/lib/python3.7/dist-packages (from pyLDAvis) (2.11.3)\n",
            "Requirement already satisfied: numexpr in /usr/local/lib/python3.7/dist-packages (from pyLDAvis) (2.8.1)\n",
            "Collecting funcy\n",
            "  Downloading funcy-1.17-py2.py3-none-any.whl (33 kB)\n",
            "Requirement already satisfied: sklearn in /usr/local/lib/python3.7/dist-packages (from pyLDAvis) (0.0)\n",
            "Requirement already satisfied: setuptools in /usr/local/lib/python3.7/dist-packages (from pyLDAvis) (57.4.0)\n",
            "Requirement already satisfied: pandas>=1.2.0 in /usr/local/lib/python3.7/dist-packages (from pyLDAvis) (1.3.5)\n",
            "Requirement already satisfied: scipy in /usr/local/lib/python3.7/dist-packages (from pyLDAvis) (1.4.1)\n",
            "Requirement already satisfied: gensim in /usr/local/lib/python3.7/dist-packages (from pyLDAvis) (3.6.0)\n",
            "Requirement already satisfied: numpy>=1.20.0 in /usr/local/lib/python3.7/dist-packages (from pyLDAvis) (1.21.5)\n",
            "Requirement already satisfied: scikit-learn in /usr/local/lib/python3.7/dist-packages (from pyLDAvis) (1.0.2)\n",
            "Requirement already satisfied: python-dateutil>=2.7.3 in /usr/local/lib/python3.7/dist-packages (from pandas>=1.2.0->pyLDAvis) (2.8.2)\n",
            "Requirement already satisfied: pytz>=2017.3 in /usr/local/lib/python3.7/dist-packages (from pandas>=1.2.0->pyLDAvis) (2018.9)\n",
            "Requirement already satisfied: six>=1.5 in /usr/local/lib/python3.7/dist-packages (from python-dateutil>=2.7.3->pandas>=1.2.0->pyLDAvis) (1.15.0)\n",
            "Requirement already satisfied: smart-open>=1.2.1 in /usr/local/lib/python3.7/dist-packages (from gensim->pyLDAvis) (5.2.1)\n",
            "Requirement already satisfied: MarkupSafe>=0.23 in /usr/local/lib/python3.7/dist-packages (from jinja2->pyLDAvis) (2.0.1)\n",
            "Requirement already satisfied: packaging in /usr/local/lib/python3.7/dist-packages (from numexpr->pyLDAvis) (21.3)\n",
            "Requirement already satisfied: pyparsing!=3.0.5,>=2.0.2 in /usr/local/lib/python3.7/dist-packages (from packaging->numexpr->pyLDAvis) (3.0.7)\n",
            "Requirement already satisfied: threadpoolctl>=2.0.0 in /usr/local/lib/python3.7/dist-packages (from scikit-learn->pyLDAvis) (3.1.0)\n",
            "Building wheels for collected packages: pyLDAvis\n",
            "  Building wheel for pyLDAvis (PEP 517) ... \u001b[?25l\u001b[?25hdone\n",
            "  Created wheel for pyLDAvis: filename=pyLDAvis-3.3.1-py2.py3-none-any.whl size=136898 sha256=949a43551ff78b995340bc3acad21a2cb08f7b3b4005c32b9b03415d74dc9789\n",
            "  Stored in directory: /root/.cache/pip/wheels/c9/21/f6/17bcf2667e8a68532ba2fbf6d5c72fdf4c7f7d9abfa4852d2f\n",
            "Successfully built pyLDAvis\n",
            "Installing collected packages: funcy, pyLDAvis\n",
            "Successfully installed funcy-1.17 pyLDAvis-3.3.1\n"
          ]
        }
      ],
      "source": [
        "! pip install pyLDAvis"
      ]
    },
    {
      "cell_type": "code",
      "execution_count": 2,
      "metadata": {
        "colab": {
          "base_uri": "https://localhost:8080/"
        },
        "id": "G65af0UwNkts",
        "outputId": "91ac15c8-07d0-4e81-e748-2d2b3e9844f7"
      },
      "outputs": [],
      "source": [
        "import pyLDAvis\n",
        "import pyLDAvis.sklearn\n",
        "import pyLDAvis.gensim_models as gensimvis"
      ]
    },
    {
      "cell_type": "code",
      "execution_count": null,
      "metadata": {
        "colab": {
          "base_uri": "https://localhost:8080/"
        },
        "id": "yAzGpTYmN39L",
        "outputId": "b4154ee4-bbba-4700-805d-3e58c2f28d88"
      },
      "outputs": [
        {
          "name": "stdout",
          "output_type": "stream",
          "text": [
            "Mounted at /content/drive\n"
          ]
        }
      ],
      "source": [
        "from google.colab import drive\n",
        "drive.mount('/content/drive')"
      ]
    },
    {
      "cell_type": "code",
      "execution_count": 3,
      "metadata": {
        "id": "ZhTnZ-KqNf28"
      },
      "outputs": [],
      "source": [
        "with open('processed_tweets.pickle', 'rb') as read_file:\n",
        "    df = pickle.load(read_file)"
      ]
    },
    {
      "cell_type": "markdown",
      "metadata": {
        "id": "Zhr8nFpQNf28"
      },
      "source": [
        "## Train-Test Split"
      ]
    },
    {
      "cell_type": "code",
      "execution_count": 4,
      "metadata": {
        "colab": {
          "base_uri": "https://localhost:8080/"
        },
        "id": "H17baDemNf28",
        "outputId": "8efbf3fc-c7d4-44aa-9b86-9890ded91c00"
      },
      "outputs": [
        {
          "data": {
            "text/plain": [
              "20180    [congrats, lead, nonprofit, organization, dedi...\n",
              "17391    [youre, pet, owner, new, york, know, toxic, in...\n",
              "9976                 [restock, feel, good, brooklynwineco]\n",
              "6257     [since, percent, excess, heat, retain, earth, ...\n",
              "6245     [shorebird, watch, big, business, new, jersey,...\n",
              "                               ...                        \n",
              "11964    [ooh, yourcbdstorebk, union, berkeley, cbd, st...\n",
              "21575    [meet, horticultural, therapist, garden, progr...\n",
              "5390     [alone, together, gowanus, community, group, s...\n",
              "860      [new, york, city, experience, dangerous, heat,...\n",
              "15795    [congratulations, raise, money, thank, partici...\n",
              "Name: tweet, Length: 17672, dtype: object"
            ]
          },
          "execution_count": 4,
          "metadata": {},
          "output_type": "execute_result"
        }
      ],
      "source": [
        "X_train, X_test = train_test_split(df.tweet, test_size=0.2, random_state=42)\n",
        "X_train"
      ]
    },
    {
      "cell_type": "code",
      "execution_count": 5,
      "metadata": {
        "colab": {
          "base_uri": "https://localhost:8080/"
        },
        "id": "xlNqCvNjNf29",
        "outputId": "a78bef4c-f96b-490a-eeeb-c4cca80acd5b"
      },
      "outputs": [
        {
          "data": {
            "text/plain": [
              "19530    [bundle, new, yorkers, go, dip, freeze, every,...\n",
              "20241    [congratulations, award, grant, historic, hous...\n",
              "15031                            [refresh, flower, street]\n",
              "9960     [mask, thermometers, oximeters, near, ave, bea...\n",
              "735      [deeply, thankful, haul, trash, recycle, treat...\n",
              "                               ...                        \n",
              "16606      [get_repost, member, dl, dd, show, chefs, take]\n",
              "21677    [know, secure, food, box, family, four, please...\n",
              "7948                                  [missamericanpienyc]\n",
              "4630     [dont, trash, tree, mulch, drop, bbp, anytime,...\n",
              "8439     [virtual, learn, great, option, yourchild, lea...\n",
              "Name: tweet, Length: 4418, dtype: object"
            ]
          },
          "execution_count": 5,
          "metadata": {},
          "output_type": "execute_result"
        }
      ],
      "source": [
        "X_test"
      ]
    },
    {
      "cell_type": "code",
      "execution_count": 6,
      "metadata": {
        "id": "AoyIsQstNf29"
      },
      "outputs": [],
      "source": [
        "train_list_of_lists = list(X_train.values)"
      ]
    },
    {
      "cell_type": "markdown",
      "metadata": {
        "id": "qnxPS6kSNf29"
      },
      "source": [
        "## Bigram-Trigram Models\n",
        "\n",
        "(I did not incorporate bigrams and trigrams into the model yet)"
      ]
    },
    {
      "cell_type": "code",
      "execution_count": null,
      "metadata": {
        "id": "NgnGqRA-Nf2-"
      },
      "outputs": [],
      "source": [
        "# Build the bigram and trigram models\n",
        "bigram = gensim.models.Phrases(train_list_of_lists, min_count=5, threshold=100) # higher threshold fewer phrases.\n",
        "trigram = gensim.models.Phrases(bigram[train_list_of_lists], threshold=100)\n",
        "# Faster way to get a sentence clubbed as a trigram/bigram\n",
        "bigram_mod = gensim.models.phrases.Phraser(bigram)\n",
        "trigram_mod = gensim.models.phrases.Phraser(trigram)"
      ]
    },
    {
      "cell_type": "code",
      "execution_count": null,
      "metadata": {
        "id": "Lv08Nn5SNf2-"
      },
      "outputs": [],
      "source": [
        "def make_bigrams(texts):\n",
        "    return [bigram_mod[doc] for doc in texts]"
      ]
    },
    {
      "cell_type": "code",
      "execution_count": null,
      "metadata": {
        "id": "bj7C-ktBNf2_"
      },
      "outputs": [],
      "source": [
        "data_words_bigrams = make_bigrams(train_list_of_lists)"
      ]
    },
    {
      "cell_type": "markdown",
      "metadata": {
        "id": "GTjpmeUeNf2_"
      },
      "source": [
        "## Bag of Words"
      ]
    },
    {
      "cell_type": "code",
      "execution_count": 7,
      "metadata": {
        "id": "u7ojCaMnNf2_"
      },
      "outputs": [],
      "source": [
        "id2word = Dictionary(train_list_of_lists)\n",
        "corpus = [id2word.doc2bow(text) for text in train_list_of_lists]"
      ]
    },
    {
      "cell_type": "code",
      "execution_count": 8,
      "metadata": {
        "colab": {
          "base_uri": "https://localhost:8080/"
        },
        "id": "58sWA13yNf2_",
        "outputId": "ce0b48d5-e7bc-448f-98bf-d9b0890f5999"
      },
      "outputs": [
        {
          "name": "stdout",
          "output_type": "stream",
          "text": [
            "Word 173 (\"class\") appears 1 time(s).\n",
            "Word 572 (\"get_repost\") appears 1 time(s).\n",
            "Word 660 (\"wine\") appears 1 time(s).\n",
            "Word 692 (\"january\") appears 1 time(s).\n",
            "Word 715 (\"pizza\") appears 1 time(s).\n",
            "Word 732 (\"february\") appears 1 time(s).\n",
            "Word 833 (\"thursday\") appears 2 time(s).\n",
            "Word 1022 (\"month\") appears 1 time(s).\n",
            "Word 1091 (\"dd\") appears 1 time(s).\n",
            "Word 3509 (\"pair\") appears 2 time(s).\n"
          ]
        }
      ],
      "source": [
        "sample = corpus[3000]\n",
        "\n",
        "for i in range(len(sample)):\n",
        "    print(\"Word {} (\\\"{}\\\") appears {} time(s).\".format(sample[i][0], \n",
        "                                                     id2word[sample[i][0]], \n",
        "                                                     sample[i][1]))"
      ]
    },
    {
      "cell_type": "markdown",
      "metadata": {
        "id": "-1VlwKE1Nf2_"
      },
      "source": [
        "## LDA with Bag of Words"
      ]
    },
    {
      "cell_type": "code",
      "execution_count": 9,
      "metadata": {
        "colab": {
          "base_uri": "https://localhost:8080/"
        },
        "id": "Ej1AGlipNf3A",
        "outputId": "4206b0b7-1835-4341-9899-4a02e6af7719"
      },
      "outputs": [
        {
          "name": "stdout",
          "output_type": "stream",
          "text": [
            "[(0,\n",
            "  '0.019*\"water\" + 0.010*\"river\" + 0.008*\"protect\" + 0.008*\"new\" + '\n",
            "  '0.008*\"clean\" + 0.006*\"state\" + 0.006*\"hudson\" + 0.006*\"environmental\" + '\n",
            "  '0.006*\"society\" + 0.006*\"littoral\"'),\n",
            " (1,\n",
            "  '0.014*\"us\" + 0.011*\"new\" + 0.011*\"thank\" + 0.010*\"join\" + 0.009*\"today\" + '\n",
            "  '0.009*\"get\" + 0.008*\"day\" + 0.008*\"make\" + 0.008*\"help\" + 0.008*\"learn\"'),\n",
            " (2,\n",
            "  '0.025*\"park\" + 0.016*\"brooklyn\" + 0.012*\"st\" + 0.010*\"come\" + '\n",
            "  '0.009*\"get_repost\" + 0.008*\"slope\" + 0.008*\"good\" + 0.008*\"corner\" + '\n",
            "  '0.007*\"amaze\" + 0.007*\"house\"'),\n",
            " (3,\n",
            "  '0.011*\"high\" + 0.010*\"line\" + 0.009*\"june\" + 0.008*\"friday\" + '\n",
            "  '0.008*\"ticket\" + 0.007*\"april\" + 0.006*\"bio\" + 0.006*\"business\" + '\n",
            "  '0.006*\"update\" + 0.006*\"staff\"')]\n"
          ]
        }
      ],
      "source": [
        "# Build LDA model\n",
        "lda_model = LdaModel(corpus=corpus,\n",
        "                     id2word=id2word,\n",
        "                     num_topics=4, \n",
        "                     random_state=42,\n",
        "                     chunksize=100,\n",
        "                     passes=100,\n",
        "                     update_every=5,\n",
        "                     alpha='auto',\n",
        "                     per_word_topics=True)\n",
        "\n",
        "pprint(lda_model.print_topics())\n",
        "doc_lda = lda_model[corpus]\n"
      ]
    },
    {
      "cell_type": "code",
      "execution_count": null,
      "metadata": {
        "colab": {
          "base_uri": "https://localhost:8080/",
          "height": 861
        },
        "id": "Ki068lBRNf3A",
        "outputId": "3327862c-5e52-40f3-f1e7-d1ba790f7b13"
      },
      "outputs": [
        {
          "data": {
            "text/html": [
              "\n",
              "<link rel=\"stylesheet\" type=\"text/css\" href=\"https://cdn.jsdelivr.net/gh/bmabey/pyLDAvis@3.3.1/pyLDAvis/js/ldavis.v1.0.0.css\">\n",
              "\n",
              "\n",
              "<div id=\"ldavis_el611404707493352487521176391\"></div>\n",
              "<script type=\"text/javascript\">\n",
              "\n",
              "var ldavis_el611404707493352487521176391_data = {\"mdsDat\": {\"x\": [0.2949859996235468, -0.19747139718844903, 0.07487010686020763, -0.1723847092953059], \"y\": [0.1670102161101897, 0.17282694336982, -0.2981540608935941, -0.04168309858641573], \"topics\": [1, 2, 3, 4], \"cluster\": [1, 1, 1, 1], \"Freq\": [46.778906553289396, 20.061063676782656, 19.538901070843586, 13.621128699084364]}, \"tinfo\": {\"Term\": [\"park\", \"water\", \"come\", \"us\", \"brooklyn\", \"thank\", \"join\", \"st\", \"today\", \"happy\", \"river\", \"new\", \"make\", \"help\", \"high\", \"learn\", \"support\", \"see\", \"community\", \"line\", \"protect\", \"get_repost\", \"work\", \"june\", \"get\", \"slope\", \"good\", \"corner\", \"day\", \"please\", \"us\", \"thank\", \"join\", \"today\", \"make\", \"learn\", \"help\", \"support\", \"community\", \"see\", \"work\", \"please\", \"need\", \"take\", \"time\", \"program\", \"free\", \"food\", \"nyc\", \"look\", \"week\", \"garden\", \"call\", \"year\", \"start\", \"love\", \"city\", \"grant\", \"summer\", \"visit\", \"event\", \"go\", \"day\", \"new\", \"get\", \"one\", \"open\", \"check\", \"come\", \"brooklyn\", \"st\", \"get_repost\", \"slope\", \"corner\", \"good\", \"amaze\", \"house\", \"shop\", \"enjoy\", \"photo\", \"street\", \"store\", \"bag\", \"beautiful\", \"ave\", \"spot\", \"kid\", \"mark\", \"lot\", \"dance\", \"bar\", \"tree\", \"near\", \"restaurant\", \"serve\", \"plastic\", \"prospect\", \"soon\", \"park\", \"open\", \"night\", \"get\", \"ready\", \"great\", \"july\", \"water\", \"river\", \"protect\", \"state\", \"hudson\", \"littoral\", \"environmental\", \"society\", \"fish\", \"climate\", \"plant\", \"bay\", \"ocean\", \"compost\", \"pollution\", \"quality\", \"bill\", \"ban\", \"stream\", \"beach\", \"sea\", \"whale\", \"w\", \"rise\", \"act\", \"storm\", \"nj\", \"rivers\", \"environment\", \"species\", \"report\", \"clean\", \"step\", \"change\", \"american\", \"use\", \"new\", \"say\", \"drink\", \"project\", \"happy\", \"high\", \"line\", \"june\", \"friday\", \"bio\", \"april\", \"business\", \"update\", \"staff\", \"days\", \"fort\", \"avenue\", \"due\", \"buy\", \"another\", \"rain\", \"taste\", \"dl\", \"reopen\", \"fifth\", \"sale\", \"win\", \"mother\", \"flower\", \"heres\", \"whitman\", \"walt\", \"weather\", \"blog\", \"todays\", \"ticket\", \"greene\", \"pm\", \"gift\", \"park\", \"sit\", \"day\"], \"Freq\": [1162.0, 834.0, 799.0, 1527.0, 661.0, 1184.0, 1160.0, 499.0, 1050.0, 381.0, 444.0, 1584.0, 869.0, 838.0, 313.0, 835.0, 805.0, 781.0, 770.0, 286.0, 348.0, 350.0, 688.0, 256.0, 1113.0, 309.0, 304.0, 304.0, 918.0, 635.0, 1527.0305063923354, 1183.5295652025557, 1159.5772099850587, 1049.5574917904155, 868.8947194319854, 835.2152893132543, 837.4291722612787, 805.2127242515102, 769.8948456253651, 780.9083173773478, 687.809942358677, 634.7158630517113, 619.0305680371615, 618.4624791541241, 607.2339430973026, 566.486189396262, 555.2291467385276, 479.21079839783897, 463.1483503510758, 459.7882685451882, 451.18146414296626, 444.51549226057136, 444.18674207461777, 428.1893338323263, 427.5145641032108, 406.22730851764095, 404.16109073526644, 376.2705680600946, 380.51598413784706, 365.3664526884054, 369.90294256575146, 599.8185784042217, 807.1254393390376, 1270.3458831756984, 823.2021406862572, 535.4840933977335, 499.0884122974853, 435.95660424384283, 798.4050782355343, 660.4569478443177, 499.04209157906445, 350.24616066148724, 308.9789189459596, 303.90576807170225, 304.1038925555303, 286.3715947894439, 276.87148719556484, 270.13031049957897, 267.82468558347995, 244.86170951580277, 228.43362869775032, 205.75285015484332, 207.34535627230125, 208.18360412790776, 199.99011258868995, 196.8019710842601, 194.68681437257825, 177.78393992206895, 179.11621598674486, 173.40040703240274, 164.2299992745159, 166.81704982890497, 161.30062749709487, 157.9034716509283, 163.74721557390004, 161.33137778551887, 151.02883161017147, 152.24615917470075, 1022.5715098532497, 414.66229877741563, 178.7986577164668, 289.3354511169089, 180.6924916263237, 202.81342299138404, 172.35225820869726, 834.0234292845247, 443.8955898040912, 347.8668649738285, 273.95540953737594, 262.7118230349737, 246.10887064131526, 247.82763726883593, 246.5400760482102, 229.41710480719232, 224.83948412491154, 215.86575053057865, 174.8967667412869, 149.07425384653286, 158.53150357813723, 144.0450073712517, 144.2691642861921, 142.07555764564572, 142.83068523691156, 143.54252364151313, 139.71233988767142, 137.6703317553167, 139.37272143636875, 142.36735581963586, 129.4589186046689, 125.49784119183101, 127.82940227164386, 119.26459452861926, 118.07075373676099, 115.77222085357936, 113.4420617704245, 114.20215730636973, 302.6191092971203, 117.97629167208025, 220.5005279751625, 196.69811955483115, 190.13372737664105, 313.717010059845, 154.78792867581234, 147.05008561368118, 147.21849792237256, 380.9022225600404, 312.8957081262455, 285.9554800196564, 255.315997640598, 226.46024768700326, 181.98264940902905, 183.64116488625208, 166.11973012966007, 161.40722427817522, 156.60747734250327, 146.8644372547034, 130.08464378498732, 130.1638675849319, 127.67771624020295, 120.93603008100176, 119.59446646280956, 115.37669504019358, 110.99597868951356, 113.81773695219107, 112.92900116316525, 106.56705947968615, 107.26331670523143, 106.16353228268622, 98.39823298365069, 96.95893215472768, 98.65006919663375, 91.00824457382149, 90.0888773763601, 91.65927355098076, 90.2322677798714, 91.45020799130228, 189.47110451746627, 118.99390671490158, 120.41409921088606, 118.78354507481994, 139.69629106601343, 106.80284695937095, 111.40022120957752], \"Total\": [1162.0, 834.0, 799.0, 1527.0, 661.0, 1184.0, 1160.0, 499.0, 1050.0, 381.0, 444.0, 1584.0, 869.0, 838.0, 313.0, 835.0, 805.0, 781.0, 770.0, 286.0, 348.0, 350.0, 688.0, 256.0, 1113.0, 309.0, 304.0, 304.0, 918.0, 635.0, 1527.738175820837, 1184.2352958968984, 1160.2904345564057, 1050.276916466523, 869.608931505398, 835.921447695804, 838.1380259530982, 805.9125026761634, 770.5937045891122, 781.6208851387695, 688.517892981825, 635.4191080548582, 619.7374097825322, 619.1806211750759, 607.9505892633881, 567.1807465630177, 555.9366739800399, 479.9170833945265, 463.86230308781796, 460.50230587619524, 451.8897063890639, 445.2196418061246, 444.9023008458008, 428.902472842008, 428.2316047084157, 406.9449244975976, 404.88047779451784, 376.96346194303516, 381.23210946375553, 366.0641241516143, 370.61262449030005, 644.9531927505645, 918.9992181252455, 1584.542426592711, 1113.008261475559, 651.9368920077252, 983.7497204209125, 480.883878132649, 799.1312132096074, 661.1754915330808, 499.7508365909306, 350.9647747664501, 309.6788920584645, 304.60557133142174, 304.83377636824343, 287.1033467580551, 277.59941394179845, 270.84450347443203, 268.5452982924381, 245.6004246130352, 229.15326243024157, 206.4616847506542, 208.06243889333834, 208.90962428480404, 200.69884787657898, 197.52551297843863, 195.40521359780988, 178.49758223531538, 179.83620290604694, 174.1172229862972, 164.9345244422456, 167.54528424910563, 162.01796044961807, 158.61228449564766, 164.49214577847295, 162.0840057518519, 151.74467325185003, 152.98485104518488, 1162.7528588526764, 983.7497204209125, 206.8175604236685, 1113.008261475559, 235.63043206608202, 553.6432048049423, 250.53836775946084, 834.7315951516309, 444.6066442494571, 348.56964023555065, 274.66201163423096, 263.4191592178559, 246.821252102615, 248.54938940274937, 247.258153676463, 230.131550649966, 225.54067095437938, 216.60855348801104, 175.60115445086967, 149.7787134258872, 159.28583745187686, 144.74702770019317, 144.97612730813847, 142.7832039727159, 143.54417099582807, 144.26280484240803, 140.42417501064853, 138.37523442568045, 140.09987182210813, 143.12581386835024, 130.17566475647442, 126.19967344787058, 128.54983002710063, 119.96606970797092, 118.7733000073263, 116.4844363467422, 114.14522519838259, 114.9192975008317, 343.41283489704415, 119.78525813527021, 332.92546587989096, 276.5474324878926, 370.8424376643583, 1584.542426592711, 251.6388369319636, 336.8145829292146, 344.4254424425085, 381.624298704569, 313.61693889311243, 286.6687239662525, 256.0476658490403, 227.19809655284593, 182.70358007647852, 184.3741252701115, 166.84897012874728, 162.12818016235414, 157.36030523572407, 147.60374489175524, 130.79544963965932, 130.8849445487342, 128.42605366256802, 121.66586483549666, 120.35511445702883, 116.11819622290399, 111.70949762746835, 114.55394190945754, 113.65946385881239, 107.27820083315314, 108.0072331480466, 106.91825308374088, 99.12186857235686, 97.68181252739116, 99.39022648443445, 91.70385896131594, 90.78362630337494, 92.3926524389639, 90.97272439287912, 92.22671747173932, 222.83376334611717, 147.02018285110532, 211.93551277111817, 238.7121841418675, 1162.7528588526764, 207.90904903960927, 918.9992181252455], \"Category\": [\"Default\", \"Default\", \"Default\", \"Default\", \"Default\", \"Default\", \"Default\", \"Default\", \"Default\", \"Default\", \"Default\", \"Default\", \"Default\", \"Default\", \"Default\", \"Default\", \"Default\", \"Default\", \"Default\", \"Default\", \"Default\", \"Default\", \"Default\", \"Default\", \"Default\", \"Default\", \"Default\", \"Default\", \"Default\", \"Default\", \"Topic1\", \"Topic1\", \"Topic1\", \"Topic1\", \"Topic1\", \"Topic1\", \"Topic1\", \"Topic1\", \"Topic1\", \"Topic1\", \"Topic1\", \"Topic1\", \"Topic1\", \"Topic1\", \"Topic1\", \"Topic1\", \"Topic1\", \"Topic1\", \"Topic1\", \"Topic1\", \"Topic1\", \"Topic1\", \"Topic1\", \"Topic1\", \"Topic1\", \"Topic1\", \"Topic1\", \"Topic1\", \"Topic1\", \"Topic1\", \"Topic1\", \"Topic1\", \"Topic1\", \"Topic1\", \"Topic1\", \"Topic1\", \"Topic1\", \"Topic1\", \"Topic2\", \"Topic2\", \"Topic2\", \"Topic2\", \"Topic2\", \"Topic2\", \"Topic2\", \"Topic2\", \"Topic2\", \"Topic2\", \"Topic2\", \"Topic2\", \"Topic2\", \"Topic2\", \"Topic2\", \"Topic2\", \"Topic2\", \"Topic2\", \"Topic2\", \"Topic2\", \"Topic2\", \"Topic2\", \"Topic2\", \"Topic2\", \"Topic2\", \"Topic2\", \"Topic2\", \"Topic2\", \"Topic2\", \"Topic2\", \"Topic2\", \"Topic2\", \"Topic2\", \"Topic2\", \"Topic2\", \"Topic2\", \"Topic2\", \"Topic3\", \"Topic3\", \"Topic3\", \"Topic3\", \"Topic3\", \"Topic3\", \"Topic3\", \"Topic3\", \"Topic3\", \"Topic3\", \"Topic3\", \"Topic3\", \"Topic3\", \"Topic3\", \"Topic3\", \"Topic3\", \"Topic3\", \"Topic3\", \"Topic3\", \"Topic3\", \"Topic3\", \"Topic3\", \"Topic3\", \"Topic3\", \"Topic3\", \"Topic3\", \"Topic3\", \"Topic3\", \"Topic3\", \"Topic3\", \"Topic3\", \"Topic3\", \"Topic3\", \"Topic3\", \"Topic3\", \"Topic3\", \"Topic3\", \"Topic3\", \"Topic3\", \"Topic3\", \"Topic4\", \"Topic4\", \"Topic4\", \"Topic4\", \"Topic4\", \"Topic4\", \"Topic4\", \"Topic4\", \"Topic4\", \"Topic4\", \"Topic4\", \"Topic4\", \"Topic4\", \"Topic4\", \"Topic4\", \"Topic4\", \"Topic4\", \"Topic4\", \"Topic4\", \"Topic4\", \"Topic4\", \"Topic4\", \"Topic4\", \"Topic4\", \"Topic4\", \"Topic4\", \"Topic4\", \"Topic4\", \"Topic4\", \"Topic4\", \"Topic4\", \"Topic4\", \"Topic4\", \"Topic4\", \"Topic4\", \"Topic4\", \"Topic4\", \"Topic4\"], \"logprob\": [30.0, 29.0, 28.0, 27.0, 26.0, 25.0, 24.0, 23.0, 22.0, 21.0, 20.0, 19.0, 18.0, 17.0, 16.0, 15.0, 14.0, 13.0, 12.0, 11.0, 10.0, 9.0, 8.0, 7.0, 6.0, 5.0, 4.0, 3.0, 2.0, 1.0, -4.2255, -4.4804, -4.5008, -4.6005, -4.7894, -4.8289, -4.8263, -4.8655, -4.9104, -4.8962, -5.0231, -5.1034, -5.1285, -5.1294, -5.1477, -5.2172, -5.2372, -5.3845, -5.4186, -5.4259, -5.4448, -5.4596, -5.4604, -5.4971, -5.4986, -5.5497, -5.5548, -5.6263, -5.6151, -5.6557, -5.6434, -5.16, -4.8631, -4.4096, -4.8434, -5.2735, -5.3438, -5.4791, -4.0274, -4.217, -4.4973, -4.8513, -4.9767, -4.9933, -4.9926, -5.0527, -5.0864, -5.1111, -5.1196, -5.2093, -5.2787, -5.3833, -5.3756, -5.3716, -5.4117, -5.4278, -5.4386, -5.5294, -5.5219, -5.5544, -5.6087, -5.5931, -5.6267, -5.648, -5.6116, -5.6265, -5.6925, -5.6845, -3.7799, -4.6825, -5.5237, -5.0424, -5.5132, -5.3977, -5.5604, -3.9573, -4.588, -4.8318, -5.0706, -5.1125, -5.1778, -5.1709, -5.1761, -5.2481, -5.2682, -5.3089, -5.5194, -5.6792, -5.6176, -5.7135, -5.7119, -5.7272, -5.7219, -5.717, -5.744, -5.7587, -5.7464, -5.7252, -5.8202, -5.8513, -5.8329, -5.9023, -5.9123, -5.932, -5.9523, -5.9456, -4.9711, -5.9131, -5.2877, -5.4019, -5.4359, -4.9351, -5.6415, -5.6928, -5.6917, -4.3803, -4.5769, -4.667, -4.7803, -4.9002, -5.1189, -5.1098, -5.2101, -5.2389, -5.2691, -5.3333, -5.4546, -5.454, -5.4733, -5.5276, -5.5387, -5.5746, -5.6133, -5.5882, -5.5961, -5.654, -5.6475, -5.6578, -5.7338, -5.7485, -5.7312, -5.8119, -5.822, -5.8047, -5.8204, -5.807, -5.0786, -5.5437, -5.5319, -5.5455, -5.3833, -5.6518, -5.6097], \"loglift\": [30.0, 29.0, 28.0, 27.0, 26.0, 25.0, 24.0, 23.0, 22.0, 21.0, 20.0, 19.0, 18.0, 17.0, 16.0, 15.0, 14.0, 13.0, 12.0, 11.0, 10.0, 9.0, 8.0, 7.0, 6.0, 5.0, 4.0, 3.0, 2.0, 1.0, 0.7593, 0.7591, 0.7591, 0.7591, 0.7589, 0.7589, 0.7589, 0.7589, 0.7588, 0.7588, 0.7587, 0.7586, 0.7586, 0.7586, 0.7586, 0.7585, 0.7585, 0.7583, 0.7582, 0.7582, 0.7582, 0.7582, 0.7581, 0.7581, 0.7581, 0.758, 0.758, 0.7579, 0.7579, 0.7578, 0.7578, 0.6872, 0.6299, 0.5387, 0.4581, 0.563, 0.0811, 0.6617, 1.6055, 1.6053, 1.605, 1.6043, 1.6041, 1.6041, 1.604, 1.6038, 1.6038, 1.6037, 1.6037, 1.6034, 1.6032, 1.603, 1.6029, 1.6029, 1.6029, 1.6027, 1.6027, 1.6024, 1.6024, 1.6023, 1.6021, 1.602, 1.602, 1.6019, 1.6019, 1.6017, 1.6017, 1.6015, 1.4779, 0.7425, 1.4608, 0.2592, 1.3409, 0.6022, 1.2323, 1.6319, 1.6312, 1.6307, 1.6302, 1.6301, 1.6299, 1.6299, 1.6299, 1.6297, 1.6296, 1.6293, 1.6287, 1.628, 1.628, 1.6279, 1.6279, 1.6278, 1.6278, 1.6278, 1.6277, 1.6277, 1.6276, 1.6274, 1.6272, 1.6272, 1.6271, 1.6269, 1.6268, 1.6266, 1.6266, 1.6265, 1.5063, 1.6175, 1.2207, 1.2921, 0.9647, 0.0132, 1.1468, 0.804, 0.7828, 1.9917, 1.9912, 1.9911, 1.9907, 1.9903, 1.9896, 1.9896, 1.9892, 1.9891, 1.9888, 1.9885, 1.9881, 1.988, 1.9877, 1.9875, 1.9872, 1.9871, 1.9871, 1.9871, 1.9871, 1.9869, 1.9866, 1.9865, 1.9862, 1.9861, 1.9861, 1.9859, 1.9859, 1.9856, 1.9854, 1.9851, 1.8314, 1.7821, 1.4282, 1.2956, -0.1255, 1.3274, -0.1166]}, \"token.table\": {\"Topic\": [3, 2, 1, 3, 4, 4, 2, 4, 2, 3, 2, 3, 3, 2, 3, 4, 4, 2, 4, 4, 1, 1, 3, 1, 2, 1, 1, 3, 3, 2, 1, 3, 2, 2, 1, 4, 4, 4, 2, 3, 4, 4, 2, 3, 3, 1, 4, 3, 4, 1, 4, 1, 4, 1, 1, 2, 2, 2, 4, 1, 4, 2, 1, 1, 2, 2, 4, 4, 1, 4, 4, 2, 3, 1, 1, 2, 4, 2, 1, 4, 3, 1, 2, 1, 1, 2, 4, 2, 1, 1, 3, 2, 4, 3, 1, 3, 1, 2, 3, 1, 2, 4, 2, 4, 2, 3, 2, 1, 1, 4, 3, 1, 1, 3, 2, 3, 3, 4, 1, 2, 4, 3, 2, 3, 3, 3, 4, 2, 3, 4, 3, 1, 2, 2, 1, 4, 2, 3, 2, 3, 2, 2, 4, 1, 3, 1, 3, 2, 3, 3, 2, 1, 1, 1, 4, 1, 2, 4, 1, 1, 4, 2, 4, 1, 1, 3, 1, 3, 4, 3, 4, 1, 3, 4, 4, 1, 1], \"Freq\": [0.9904938466551094, 0.996156970057946, 0.2856652809584796, 0.7123551942888668, 0.9970494443993435, 0.9979708363656592, 0.9965179278108824, 0.9932387597994152, 0.9948936535638564, 0.9962090345288637, 0.9943339670975143, 0.9965765916929785, 0.996979330584521, 0.9956458478736051, 0.994514733169417, 0.996149062453051, 0.9893075160783549, 0.9982221187141175, 0.9949117448666769, 0.9945271022698358, 0.9979719123859655, 0.33641163406948893, 0.6638122422264022, 0.9066637910446479, 0.09149818074762502, 0.9978253389758034, 0.11647788298882912, 0.8823199636403806, 0.9976027784607915, 0.9985844462199592, 0.9992295491313041, 0.9982055061739986, 0.9980119492602357, 0.9935835010050377, 0.8781291475375534, 0.12078356304419881, 0.9959096912331188, 0.9951643575050838, 0.4572248584389971, 0.43644191032813356, 0.10391474055431751, 0.9966824982126489, 0.9979694364566969, 0.9958411925066095, 0.9977896167676391, 0.9983469950837681, 0.9974067347234336, 0.9950830268741069, 0.9930200667887896, 0.9980890794967334, 0.9939183691645942, 0.9983151426702359, 0.9947266435281633, 0.9995066664057461, 0.739437458360746, 0.2596566530574187, 0.9972510780687546, 0.4985082786108558, 0.4985082786108558, 0.9303000694378295, 0.0697725052078372, 0.9972648163265339, 0.9974441503214422, 0.632176096378372, 0.3666621358994558, 0.1904500420078854, 0.809412678533513, 0.99836410127267, 0.9986421974449804, 0.9960737941924747, 0.9980328266218979, 0.9978407233167859, 0.9984087747485776, 0.9997496880541666, 0.3113295608075764, 0.6865215956269634, 0.9959083171269447, 0.997926290755763, 0.9988976862618564, 0.9976672587194018, 0.9966726848048175, 0.9989092218002263, 0.9953501970541282, 0.9976780039737216, 0.9992997639705197, 0.9972123866940706, 0.988681926717938, 0.9937169900991648, 0.9988101254323328, 0.8014932126058113, 0.19816446358915335, 0.8654971059194206, 0.13538502215499318, 0.9919471421350838, 0.9981410365057091, 0.9948009072312368, 0.8206315773178556, 0.13191460869034688, 0.04601672396174891, 0.5072428379308663, 0.4218552660146484, 0.07115630993018165, 0.8798086301928556, 0.12040391811045922, 0.9975552786035236, 0.9971905380548847, 0.993312074520718, 0.9993404226446052, 0.42937589274279075, 0.5662099684520318, 0.9948390808981553, 0.9979182181867549, 0.5719670376350994, 0.4267977387429422, 0.9950925904949949, 0.9983657778251551, 0.9932669790105252, 0.9903701895200174, 0.22917243552333605, 0.7681520524022931, 0.994197897505204, 0.992000494948857, 0.996139741019464, 0.9909686287473639, 0.9986355483947363, 0.9934892774110125, 0.9906743917172105, 0.27022855783737937, 0.6159621538940265, 0.11524453201888238, 0.9972882833605461, 0.9992056441293028, 0.9970080894978673, 0.9968819619242827, 0.4857893413805103, 0.5146481141357881, 0.9978077548199948, 0.9989559346269292, 0.9935624276622396, 0.9899669460865121, 0.9973395184727555, 0.9984975781210244, 0.9977103168732144, 0.999459160169709, 0.9975897226183846, 0.00834827269705198, 0.9850961782521338, 0.9977638235820279, 0.9957228257168079, 0.9981782910522562, 0.9949672877531358, 0.9993911597213518, 0.9988677397693505, 0.9980932523811302, 0.9936487260032768, 0.9998013098429732, 0.14809245916985506, 0.8481659025182607, 0.9984364037469889, 0.9997363395670403, 0.986698892627126, 0.9967454515264368, 0.9930414307912148, 0.9995168178471155, 0.4853813418272108, 0.5123469719287225, 0.9970930662651509, 0.9921340963036495, 0.991368197820648, 0.9991235564151636, 0.9957501767878858, 0.9980311426074001, 0.9921493731021775, 0.992324652754113, 0.9914116340544614, 0.9992478147814255, 0.997895855353717], \"Term\": [\"act\", \"amaze\", \"american\", \"american\", \"another\", \"april\", \"ave\", \"avenue\", \"bag\", \"ban\", \"bar\", \"bay\", \"beach\", \"beautiful\", \"bill\", \"bio\", \"blog\", \"brooklyn\", \"business\", \"buy\", \"call\", \"change\", \"change\", \"check\", \"check\", \"city\", \"clean\", \"clean\", \"climate\", \"come\", \"community\", \"compost\", \"corner\", \"dance\", \"day\", \"day\", \"days\", \"dl\", \"drink\", \"drink\", \"drink\", \"due\", \"enjoy\", \"environment\", \"environmental\", \"event\", \"fifth\", \"fish\", \"flower\", \"food\", \"fort\", \"free\", \"friday\", \"garden\", \"get\", \"get\", \"get_repost\", \"gift\", \"gift\", \"go\", \"go\", \"good\", \"grant\", \"great\", \"great\", \"greene\", \"greene\", \"happy\", \"help\", \"heres\", \"high\", \"house\", \"hudson\", \"join\", \"july\", \"july\", \"june\", \"kid\", \"learn\", \"line\", \"littoral\", \"look\", \"lot\", \"love\", \"make\", \"mark\", \"mother\", \"near\", \"need\", \"new\", \"new\", \"night\", \"night\", \"nj\", \"nyc\", \"ocean\", \"one\", \"one\", \"one\", \"open\", \"open\", \"open\", \"park\", \"park\", \"photo\", \"plant\", \"plastic\", \"please\", \"pm\", \"pm\", \"pollution\", \"program\", \"project\", \"project\", \"prospect\", \"protect\", \"quality\", \"rain\", \"ready\", \"ready\", \"reopen\", \"report\", \"restaurant\", \"rise\", \"river\", \"rivers\", \"sale\", \"say\", \"say\", \"say\", \"sea\", \"see\", \"serve\", \"shop\", \"sit\", \"sit\", \"slope\", \"society\", \"soon\", \"species\", \"spot\", \"st\", \"staff\", \"start\", \"state\", \"step\", \"step\", \"store\", \"storm\", \"stream\", \"street\", \"summer\", \"support\", \"take\", \"taste\", \"thank\", \"ticket\", \"ticket\", \"time\", \"today\", \"todays\", \"tree\", \"update\", \"us\", \"use\", \"use\", \"visit\", \"w\", \"walt\", \"water\", \"weather\", \"week\", \"whale\", \"whitman\", \"win\", \"work\", \"year\"]}, \"R\": 30, \"lambda.step\": 0.01, \"plot.opts\": {\"xlab\": \"PC1\", \"ylab\": \"PC2\"}, \"topic.order\": [2, 3, 1, 4]};\n",
              "\n",
              "function LDAvis_load_lib(url, callback){\n",
              "  var s = document.createElement('script');\n",
              "  s.src = url;\n",
              "  s.async = true;\n",
              "  s.onreadystatechange = s.onload = callback;\n",
              "  s.onerror = function(){console.warn(\"failed to load library \" + url);};\n",
              "  document.getElementsByTagName(\"head\")[0].appendChild(s);\n",
              "}\n",
              "\n",
              "if(typeof(LDAvis) !== \"undefined\"){\n",
              "   // already loaded: just create the visualization\n",
              "   !function(LDAvis){\n",
              "       new LDAvis(\"#\" + \"ldavis_el611404707493352487521176391\", ldavis_el611404707493352487521176391_data);\n",
              "   }(LDAvis);\n",
              "}else if(typeof define === \"function\" && define.amd){\n",
              "   // require.js is available: use it to load d3/LDAvis\n",
              "   require.config({paths: {d3: \"https://d3js.org/d3.v5\"}});\n",
              "   require([\"d3\"], function(d3){\n",
              "      window.d3 = d3;\n",
              "      LDAvis_load_lib(\"https://cdn.jsdelivr.net/gh/bmabey/pyLDAvis@3.3.1/pyLDAvis/js/ldavis.v3.0.0.js\", function(){\n",
              "        new LDAvis(\"#\" + \"ldavis_el611404707493352487521176391\", ldavis_el611404707493352487521176391_data);\n",
              "      });\n",
              "    });\n",
              "}else{\n",
              "    // require.js not available: dynamically load d3 & LDAvis\n",
              "    LDAvis_load_lib(\"https://d3js.org/d3.v5.js\", function(){\n",
              "         LDAvis_load_lib(\"https://cdn.jsdelivr.net/gh/bmabey/pyLDAvis@3.3.1/pyLDAvis/js/ldavis.v3.0.0.js\", function(){\n",
              "                 new LDAvis(\"#\" + \"ldavis_el611404707493352487521176391\", ldavis_el611404707493352487521176391_data);\n",
              "            })\n",
              "         });\n",
              "}\n",
              "</script>"
            ],
            "text/plain": [
              "PreparedData(topic_coordinates=              x         y  topics  cluster       Freq\n",
              "topic                                                \n",
              "1      0.294986  0.167010       1        1  46.778907\n",
              "2     -0.197471  0.172827       2        1  20.061064\n",
              "0      0.074870 -0.298154       3        1  19.538901\n",
              "3     -0.172385 -0.041683       4        1  13.621129, topic_info=          Term         Freq        Total Category  logprob  loglift\n",
              "21        park  1162.000000  1162.000000  Default  30.0000  30.0000\n",
              "568      water   834.000000   834.000000  Default  29.0000  29.0000\n",
              "284       come   799.000000   799.000000  Default  28.0000  28.0000\n",
              "376         us  1527.000000  1527.000000  Default  27.0000  27.0000\n",
              "416   brooklyn   661.000000   661.000000  Default  26.0000  26.0000\n",
              "...        ...          ...          ...      ...      ...      ...\n",
              "90          pm   120.414099   211.935513   Topic4  -5.5319   1.4282\n",
              "1190      gift   118.783545   238.712184   Topic4  -5.5455   1.2956\n",
              "21        park   139.696291  1162.752859   Topic4  -5.3833  -0.1255\n",
              "97         sit   106.802847   207.909049   Topic4  -5.6518   1.3274\n",
              "201        day   111.400221   918.999218   Topic4  -5.6097  -0.1166\n",
              "\n",
              "[183 rows x 6 columns], token_table=      Topic      Freq      Term\n",
              "term                           \n",
              "1926      3  0.990494       act\n",
              "817       2  0.996157     amaze\n",
              "580       1  0.285665  american\n",
              "580       3  0.712355  american\n",
              "1670      4  0.997049   another\n",
              "...     ...       ...       ...\n",
              "1471      3  0.992149     whale\n",
              "1058      4  0.992325   whitman\n",
              "2264      4  0.991412       win\n",
              "186       1  0.999248      work\n",
              "724       1  0.997896      year\n",
              "\n",
              "[177 rows x 3 columns], R=30, lambda_step=0.01, plot_opts={'xlab': 'PC1', 'ylab': 'PC2'}, topic_order=[2, 3, 1, 4])"
            ]
          },
          "execution_count": 27,
          "metadata": {},
          "output_type": "execute_result"
        }
      ],
      "source": [
        "pyLDAvis.enable_notebook()\n",
        "LDAvis_prepared = gensimvis.prepare(lda_model, corpus, id2word)\n",
        "LDAvis_prepared"
      ]
    },
    {
      "cell_type": "code",
      "execution_count": null,
      "metadata": {
        "colab": {
          "base_uri": "https://localhost:8080/"
        },
        "id": "lMrTjSIdNf3A",
        "outputId": "1c2873a4-ce96-48ca-8b33-7d46ea91eefe"
      },
      "outputs": [
        {
          "name": "stdout",
          "output_type": "stream",
          "text": [
            "Coherence Score:  0.2907941943446717\n"
          ]
        }
      ],
      "source": [
        "# Compute Coherence Score\n",
        "coherence_model_lda = CoherenceModel(model=lda_model, texts=train_list_of_lists, dictionary=id2word, coherence='c_v')\n",
        "coherence_lda = coherence_model_lda.get_coherence()\n",
        "print('Coherence Score: ', coherence_lda)"
      ]
    },
    {
      "cell_type": "code",
      "execution_count": 10,
      "metadata": {
        "colab": {
          "base_uri": "https://localhost:8080/"
        },
        "id": "bNKkV2tWNf3A",
        "outputId": "d8d3cac8-8353-4bf2-f2cb-9722a9689e85"
      },
      "outputs": [
        {
          "name": "stdout",
          "output_type": "stream",
          "text": [
            "Topic: 0 \n",
            "Words: 0.009*\"park\" + 0.008*\"brooklyn\" + 0.008*\"open\" + 0.008*\"st\" + 0.007*\"come\" + 0.007*\"order\" + 0.007*\"get\" + 0.007*\"us\" + 0.006*\"day\" + 0.005*\"today\"\n",
            "Topic: 1 \n",
            "Words: 0.012*\"thank\" + 0.011*\"us\" + 0.010*\"community\" + 0.009*\"new\" + 0.009*\"learn\" + 0.007*\"help\" + 0.007*\"support\" + 0.007*\"program\" + 0.006*\"make\" + 0.006*\"please\"\n",
            "Topic: 2 \n",
            "Words: 0.008*\"gowanus\" + 0.008*\"get\" + 0.007*\"park\" + 0.006*\"join\" + 0.006*\"one\" + 0.005*\"link\" + 0.005*\"small\" + 0.005*\"bio\" + 0.005*\"today\" + 0.005*\"support\"\n",
            "Topic: 3 \n",
            "Words: 0.013*\"water\" + 0.011*\"new\" + 0.008*\"river\" + 0.006*\"protect\" + 0.005*\"clean\" + 0.005*\"join\" + 0.005*\"state\" + 0.004*\"change\" + 0.004*\"littoral\" + 0.004*\"hudson\"\n"
          ]
        }
      ],
      "source": [
        "lda_model_bow = gensim.models.LdaMulticore(corpus, num_topics=4, id2word=id2word, passes=100, workers=2)\n",
        "\n",
        "for idx, topic in lda_model_bow.print_topics(-1):\n",
        "    print('Topic: {} \\nWords: {}'.format(idx, topic))"
      ]
    },
    {
      "cell_type": "code",
      "execution_count": null,
      "metadata": {
        "colab": {
          "base_uri": "https://localhost:8080/",
          "height": 861
        },
        "id": "w-KBe1jLNf3B",
        "outputId": "46a7bcb5-27b7-4089-cdcc-aa1a1d5bbc21"
      },
      "outputs": [
        {
          "data": {
            "text/html": [
              "\n",
              "<link rel=\"stylesheet\" type=\"text/css\" href=\"https://cdn.jsdelivr.net/gh/bmabey/pyLDAvis@3.3.1/pyLDAvis/js/ldavis.v1.0.0.css\">\n",
              "\n",
              "\n",
              "<div id=\"ldavis_el611404707493346088413899821\"></div>\n",
              "<script type=\"text/javascript\">\n",
              "\n",
              "var ldavis_el611404707493346088413899821_data = {\"mdsDat\": {\"x\": [-0.025180858664661496, 0.2064421216023035, -0.2224612720669421, 0.041200009129300004], \"y\": [0.07048380463661853, -0.13519974352110783, -0.10247794905587376, 0.1671938879403632], \"topics\": [1, 2, 3, 4], \"cluster\": [1, 1, 1, 1], \"Freq\": [33.10819368316996, 25.84041895774351, 21.403756955864086, 19.647630403222443]}, \"tinfo\": {\"Term\": [\"park\", \"water\", \"order\", \"new\", \"river\", \"york\", \"grant\", \"join\", \"protect\", \"delivery\", \"congratulations\", \"receive\", \"hudson\", \"slope\", \"open\", \"history\", \"saturday\", \"learn\", \"line\", \"garden\", \"happy\", \"climate\", \"event\", \"small\", \"register\", \"pick\", \"post\", \"june\", \"state\", \"wine\", \"park\", \"slope\", \"line\", \"register\", \"june\", \"volunteer\", \"street\", \"pm\", \"annual\", \"music\", \"compost\", \"avenue\", \"rsvp\", \"fort\", \"thursday\", \"bridge\", \"reopen\", \"workshop\", \"celebration\", \"puente\", \"count\", \"pier\", \"neighbor\", \"registration\", \"date\", \"schedule\", \"grand\", \"kick\", \"camp\", \"yard\", \"purchase\", \"location\", \"event\", \"info\", \"garden\", \"saturday\", \"high\", \"el\", \"join\", \"free\", \"fun\", \"march\", \"learn\", \"us\", \"link\", \"class\", \"brooklyn\", \"thank\", \"week\", \"next\", \"tomorrow\", \"come\", \"please\", \"open\", \"today\", \"day\", \"summer\", \"support\", \"community\", \"program\", \"help\", \"get\", \"see\", \"water\", \"river\", \"protect\", \"hudson\", \"climate\", \"plastic\", \"bill\", \"pass\", \"ban\", \"stream\", \"quality\", \"pollution\", \"ocean\", \"act\", \"fight\", \"sea\", \"health\", \"storm\", \"budget\", \"environment\", \"essential\", \"riverkeeper\", \"rivers\", \"jersey\", \"waterways\", \"delaware\", \"crisis\", \"flood\", \"risk\", \"urge\", \"screen\", \"fish\", \"state\", \"fund\", \"environmental\", \"change\", \"clean\", \"ensure\", \"work\", \"plan\", \"say\", \"communities\", \"help\", \"new\", \"need\", \"thank\", \"make\", \"city\", \"take\", \"today\", \"would\", \"support\", \"use\", \"public\", \"community\", \"us\", \"join\", \"project\", \"order\", \"delivery\", \"wine\", \"bar\", \"delicious\", \"favorite\", \"lunch\", \"pizza\", \"fresh\", \"menu\", \"eat\", \"ds\", \"chicken\", \"grill\", \"coffee\", \"withregram\", \"hot\", \"anniesblueribbongeneralstore\", \"cafe\", \"specials\", \"ddd\", \"chocolate\", \"brunch\", \"le\", \"pickup\", \"bergen\", \"pub\", \"stock\", \"sauce\", \"pizzasecret\", \"tip\", \"restaurant\", \"pick\", \"blue\", \"post\", \"store\", \"happy\", \"get_repost\", \"perfect\", \"get\", \"dd\", \"go\", \"day\", \"open\", \"shop\", \"come\", \"call\", \"today\", \"make\", \"love\", \"take\", \"photo\", \"back\", \"drink\", \"good\", \"one\", \"available\", \"see\", \"time\", \"us\", \"brooklyn\", \"st\", \"grant\", \"york\", \"congratulations\", \"history\", \"congrats\", \"piece\", \"something\", \"artists\", \"shophabit\", \"habit\", \"humanities\", \"inspire\", \"museum\", \"stories\", \"johns\", \"cultural\", \"hny\", \"carroll\", \"exhibition\", \"suffrage\", \"award\", \"hair\", \"exhibit\", \"somethingelse_bk\", \"corps\", \"army\", \"small\", \"peek\", \"graphicolorny\", \"degraw\", \"receive\", \"women\", \"black\", \"new\", \"art\", \"since\", \"proud\", \"business\", \"businesses\", \"gift\", \"years\", \"one\", \"like\", \"city\", \"support\", \"read\", \"many\", \"community\", \"see\", \"time\", \"check\", \"help\", \"look\", \"learn\", \"thank\", \"us\", \"work\", \"love\", \"open\"], \"Freq\": [1173.0, 874.0, 439.0, 1531.0, 465.0, 366.0, 354.0, 1118.0, 368.0, 264.0, 246.0, 299.0, 268.0, 328.0, 976.0, 209.0, 427.0, 782.0, 300.0, 409.0, 388.0, 233.0, 351.0, 194.0, 271.0, 226.0, 262.0, 264.0, 281.0, 181.0, 1172.5917181049495, 327.30016077356737, 299.8434733243748, 270.7766293007204, 263.6250296937172, 237.21899897586601, 232.98120211174484, 212.4172373537423, 212.11914500939986, 179.3432754573151, 169.95847942100815, 138.66535073036545, 137.80794790625367, 134.92887612344964, 136.57030347311928, 120.65490772491403, 119.5358133569976, 108.69930622655497, 97.34569942878973, 95.44719411514241, 99.37755957874157, 93.27011809716674, 89.02240547938759, 83.49523355757962, 86.37214487669603, 76.74486906929671, 76.32034225839023, 71.27052952244756, 70.31375827984245, 71.03126032089897, 112.64290990988151, 71.99023076060443, 334.86808431540413, 180.69674140192652, 377.70348595348986, 389.64040073206473, 299.3383896224224, 141.52352368514732, 887.8766206193045, 433.1801307471675, 268.8432983453195, 187.75403806007853, 570.4459744163274, 912.3181270733724, 265.19407720613873, 212.39356693485394, 434.8977940605077, 624.5323134861782, 297.08145391483, 241.93393984022626, 261.94379300318985, 446.5553806813498, 351.8859276714785, 470.5425872412622, 475.42888472352405, 438.6703251709593, 257.2671723951536, 363.78452219372934, 347.3006490580762, 287.49866988751575, 321.7231002161678, 350.4528258303016, 291.9298755925175, 873.3105210596145, 464.7515362998167, 367.9041305955123, 268.09491137071234, 232.50684895514314, 169.21642498111362, 157.4805815220309, 159.98417653271432, 152.64374549098503, 153.21307903352482, 145.80772564135535, 141.1348749760219, 140.84315434838174, 139.75532877283555, 139.90105472748667, 140.25631380612677, 139.23189232241157, 127.72877237987981, 120.188414894742, 119.69722464486776, 117.81324037774797, 115.71625652008014, 110.08146138459664, 108.75051289282214, 106.35118059724961, 103.28215517788456, 98.54811734700795, 92.96798623941474, 88.90266071039726, 86.44746187237224, 95.3790951161464, 224.4358533681252, 252.87306552936388, 228.61664044898617, 232.59036661456702, 279.9006215976529, 275.57487440940383, 122.88242371967178, 288.5096584767605, 181.14570533574422, 167.84835305095623, 158.2464153491708, 275.2105729586929, 368.4170601589238, 238.69266447843756, 300.01800499096464, 242.63841706504147, 185.9316058058384, 209.12017108317696, 223.9206665706752, 159.07620414073443, 207.11620407817827, 173.21846062359376, 168.74669189052187, 194.14710467906994, 206.6767958520202, 197.60554999578247, 162.90385501782484, 438.30328413596527, 263.7378995089303, 181.1209800181822, 171.5397543224606, 147.24975278164942, 143.5970343653008, 125.25589512110284, 118.4104772264181, 119.46112553564774, 108.72754321874544, 103.6523663395429, 101.9262964905049, 93.1102146686489, 89.17492431942, 89.89432226744309, 88.19053832437751, 87.50588524449219, 79.47595892720139, 77.18005988585382, 76.20030913667277, 74.74234346632572, 72.0562546590126, 71.36937577079046, 68.84049024178616, 68.144029248674, 66.94550936258766, 62.94868097736649, 64.18198468323652, 58.08314742088829, 56.313518502698706, 57.88765467466529, 155.57526644607006, 206.73939961961662, 116.43310248711131, 215.95322226222086, 172.6948932040623, 270.4039728968757, 248.00212456818983, 110.16259975678577, 483.27743319577075, 115.3747306229529, 293.75472783571513, 360.19532927065745, 365.5768441512567, 157.44452254541577, 274.39687273038237, 184.97189553788306, 274.71427299921305, 246.70913024724712, 176.61197087657516, 205.65761225175484, 143.0780648934876, 162.52634346250372, 156.23599765085538, 144.00495825918998, 170.27175582914037, 139.45236779034798, 163.9737532368134, 155.28906088107993, 169.6227991504568, 150.10027874436605, 144.79716796243133, 353.90513404483954, 366.0338138800315, 245.63557674841664, 208.98911273747126, 149.75298866303916, 96.72118318863566, 99.30579322352682, 83.21410868800075, 76.74081484860803, 73.94032687415883, 70.35416742543569, 70.86753837490309, 67.6187396056407, 67.49168918350723, 61.49381921900184, 60.038447515744785, 57.95060243497039, 59.24699382469542, 54.46636221886211, 47.255054221904544, 47.42045013991531, 47.158702671520444, 41.762740019882095, 41.61895845724695, 42.455768326615534, 40.848467855991174, 191.2062830340945, 38.55884537400553, 35.765010524423815, 35.70519369620068, 245.59975969538726, 100.40603874383822, 125.907392295394, 789.036560982341, 162.70379552120315, 71.82909242004993, 82.21698788012664, 113.32411376004382, 92.66400803912164, 144.3421924800264, 159.29519916395284, 231.25745113269403, 178.83683414419727, 157.70670366776199, 223.54080701576353, 124.98028636856293, 127.28929102506655, 185.7327712525229, 178.5621277677112, 166.8023145422545, 146.7601193896388, 162.23829642298952, 129.83938143012705, 153.58795710392735, 168.27195790069754, 161.08267034236087, 138.36828398097464, 123.27550293322959, 140.05929634172622], \"Total\": [1173.0, 874.0, 439.0, 1531.0, 465.0, 366.0, 354.0, 1118.0, 368.0, 264.0, 246.0, 299.0, 268.0, 328.0, 976.0, 209.0, 427.0, 782.0, 300.0, 409.0, 388.0, 233.0, 351.0, 194.0, 271.0, 226.0, 262.0, 264.0, 281.0, 181.0, 1173.317574531083, 328.02847680968523, 300.55949019606305, 271.4870773440949, 264.3414946668653, 237.93312914390748, 233.6992705731819, 213.13372517980773, 212.83973997026027, 180.0548194422827, 170.66467826299964, 139.37843133425068, 138.5203013197655, 135.6330818390107, 137.29481534168343, 121.37323322412828, 120.25851964756885, 109.41659513154997, 98.06749291401083, 96.1549566154226, 100.12568787363422, 93.97608110891547, 89.7542545072776, 84.19348107777445, 87.09605841493199, 77.45177953551254, 77.03217870072154, 71.97967550263601, 71.01610948421448, 71.7452900953612, 114.26515500651999, 72.71550390709581, 351.8501525539193, 188.46957993615447, 409.81836934873496, 427.186660754847, 327.05359942875697, 148.914353954085, 1118.9735078875137, 531.6409550599695, 310.3558294610689, 210.69189999582792, 782.1809606714982, 1449.7003924182102, 324.92914568367326, 260.05301203854293, 691.1170160651866, 1163.0818029021625, 418.8199221169027, 316.1814099350708, 356.99387982629764, 831.5974597276158, 591.70252152445, 976.424192541285, 1027.6419470937863, 907.025112195039, 359.43177283090125, 794.6804170371272, 727.4186710488581, 539.0642114159675, 784.0162558419986, 1079.9000909056601, 715.2608693085066, 874.0172257581852, 465.46687395670267, 368.6055638990802, 268.8077125857914, 233.20955374527816, 169.92510387716396, 158.18209879231227, 160.70247736529868, 153.34433216374651, 153.92780934991472, 146.51592398620073, 141.83296440055437, 141.54779875680185, 140.45557036040898, 140.6128451463029, 140.97032660509024, 139.94726570997807, 128.44512029156388, 120.89254606997177, 120.40792611012823, 118.53899265701037, 116.43350946414492, 110.78414973147459, 109.4633945190093, 107.05191886867189, 103.98984297175346, 99.25730475090818, 93.66582862777213, 89.61044697512122, 87.1441294506051, 96.16506439381358, 235.65887649242205, 281.0507135709304, 257.61858973868874, 266.52247831850286, 336.98994002268677, 368.1236491963385, 135.59826149553982, 654.0793825302168, 280.78978546247464, 253.31448973800022, 224.48653628973935, 784.0162558419986, 1531.0212539542315, 586.7765180626301, 1163.0818029021625, 832.7576641686917, 385.24425758198186, 614.7532514796994, 1027.6419470937863, 235.78002959988942, 794.6804170371272, 348.32578420979877, 315.6655409600999, 727.4186710488581, 1449.7003924182102, 1118.9735078875137, 327.09447905409104, 439.0138037473574, 264.44247035262225, 181.8243196398372, 172.24895765296483, 147.95207761849989, 144.31867771185262, 125.9601142455241, 119.1111175594988, 120.1689704267057, 109.42570118660115, 104.36597902336634, 102.65270669502802, 93.80569027236909, 89.87057132435618, 90.59874340894717, 88.89603148861427, 88.22376764354584, 80.17617412737368, 77.88792986892727, 76.9135487790024, 75.45035703246347, 72.76136253965514, 72.0728360210812, 69.54396438309848, 68.84834536449065, 67.65404706261799, 63.646390866028625, 64.89374917399121, 58.77842816229035, 57.01921647807326, 58.64867327480396, 165.75896875585659, 226.6788892815572, 125.11297261354238, 262.096608863379, 220.4348571237719, 388.6569111677409, 353.88463764818846, 129.4134016410616, 1079.9000909056601, 141.57563847353805, 599.7773443140535, 907.025112195039, 976.424192541285, 275.5729587973751, 831.5974597276158, 415.1876192856461, 1027.6419470937863, 832.7576641686917, 411.638537409765, 614.7532514796994, 249.95241560388064, 364.98245039213197, 340.8881937776119, 304.26898434809607, 659.4391306876603, 266.0133646958454, 715.2608693085066, 612.857940822909, 1449.7003924182102, 691.1170160651866, 477.95078718167235, 354.60690183961634, 366.76724958802964, 246.33987237258316, 209.69697829448702, 150.4502632817071, 97.42989824772275, 100.0341562749241, 83.91872953001229, 77.44976156382286, 74.6469384725542, 71.05487584207066, 71.58637107632657, 68.31884453502575, 68.19721379729654, 62.208259287229446, 60.74239251093449, 58.651612232244375, 59.98666985513056, 55.17694381296476, 47.94920559023114, 48.12201141442942, 47.87775711035005, 42.46349991401283, 42.32626186544815, 43.18865401208579, 41.57678478469694, 194.70037093704988, 39.30401802342124, 36.472324773561, 36.418534296828064, 299.968918376205, 113.9187109092801, 160.40097618859463, 1531.0212539542315, 240.59836799940166, 85.54159345626411, 108.40359564434812, 177.6660730839051, 131.5634987024235, 262.03850577028675, 337.48186379540107, 659.4391306876603, 455.237033506546, 385.24425758198186, 794.6804170371272, 262.3485421743753, 287.15501084829214, 727.4186710488581, 715.2608693085066, 612.857940822909, 454.97320410349016, 784.0162558419986, 432.1946190903374, 782.1809606714982, 1163.0818029021625, 1449.7003924182102, 654.0793825302168, 411.638537409765, 976.424192541285], \"Category\": [\"Default\", \"Default\", \"Default\", \"Default\", \"Default\", \"Default\", \"Default\", \"Default\", \"Default\", \"Default\", \"Default\", \"Default\", \"Default\", \"Default\", \"Default\", \"Default\", \"Default\", \"Default\", \"Default\", \"Default\", \"Default\", \"Default\", \"Default\", \"Default\", \"Default\", \"Default\", \"Default\", \"Default\", \"Default\", \"Default\", \"Topic1\", \"Topic1\", \"Topic1\", \"Topic1\", \"Topic1\", \"Topic1\", \"Topic1\", \"Topic1\", \"Topic1\", \"Topic1\", \"Topic1\", \"Topic1\", \"Topic1\", \"Topic1\", \"Topic1\", \"Topic1\", \"Topic1\", \"Topic1\", \"Topic1\", \"Topic1\", \"Topic1\", \"Topic1\", \"Topic1\", \"Topic1\", \"Topic1\", \"Topic1\", \"Topic1\", \"Topic1\", \"Topic1\", \"Topic1\", \"Topic1\", \"Topic1\", \"Topic1\", \"Topic1\", \"Topic1\", \"Topic1\", \"Topic1\", \"Topic1\", \"Topic1\", \"Topic1\", \"Topic1\", \"Topic1\", \"Topic1\", \"Topic1\", \"Topic1\", \"Topic1\", \"Topic1\", \"Topic1\", \"Topic1\", \"Topic1\", \"Topic1\", \"Topic1\", \"Topic1\", \"Topic1\", \"Topic1\", \"Topic1\", \"Topic1\", \"Topic1\", \"Topic1\", \"Topic1\", \"Topic1\", \"Topic1\", \"Topic1\", \"Topic2\", \"Topic2\", \"Topic2\", \"Topic2\", \"Topic2\", \"Topic2\", \"Topic2\", \"Topic2\", \"Topic2\", \"Topic2\", \"Topic2\", \"Topic2\", \"Topic2\", \"Topic2\", \"Topic2\", \"Topic2\", \"Topic2\", \"Topic2\", \"Topic2\", \"Topic2\", \"Topic2\", \"Topic2\", \"Topic2\", \"Topic2\", \"Topic2\", \"Topic2\", \"Topic2\", \"Topic2\", \"Topic2\", \"Topic2\", \"Topic2\", \"Topic2\", \"Topic2\", \"Topic2\", \"Topic2\", \"Topic2\", \"Topic2\", \"Topic2\", \"Topic2\", \"Topic2\", \"Topic2\", \"Topic2\", \"Topic2\", \"Topic2\", \"Topic2\", \"Topic2\", \"Topic2\", \"Topic2\", \"Topic2\", \"Topic2\", \"Topic2\", \"Topic2\", \"Topic2\", \"Topic2\", \"Topic2\", \"Topic2\", \"Topic2\", \"Topic2\", \"Topic3\", \"Topic3\", \"Topic3\", \"Topic3\", \"Topic3\", \"Topic3\", \"Topic3\", \"Topic3\", \"Topic3\", \"Topic3\", \"Topic3\", \"Topic3\", \"Topic3\", \"Topic3\", \"Topic3\", \"Topic3\", \"Topic3\", \"Topic3\", \"Topic3\", \"Topic3\", \"Topic3\", \"Topic3\", \"Topic3\", \"Topic3\", \"Topic3\", \"Topic3\", \"Topic3\", \"Topic3\", \"Topic3\", \"Topic3\", \"Topic3\", \"Topic3\", \"Topic3\", \"Topic3\", \"Topic3\", \"Topic3\", \"Topic3\", \"Topic3\", \"Topic3\", \"Topic3\", \"Topic3\", \"Topic3\", \"Topic3\", \"Topic3\", \"Topic3\", \"Topic3\", \"Topic3\", \"Topic3\", \"Topic3\", \"Topic3\", \"Topic3\", \"Topic3\", \"Topic3\", \"Topic3\", \"Topic3\", \"Topic3\", \"Topic3\", \"Topic3\", \"Topic3\", \"Topic3\", \"Topic3\", \"Topic3\", \"Topic4\", \"Topic4\", \"Topic4\", \"Topic4\", \"Topic4\", \"Topic4\", \"Topic4\", \"Topic4\", \"Topic4\", \"Topic4\", \"Topic4\", \"Topic4\", \"Topic4\", \"Topic4\", \"Topic4\", \"Topic4\", \"Topic4\", \"Topic4\", \"Topic4\", \"Topic4\", \"Topic4\", \"Topic4\", \"Topic4\", \"Topic4\", \"Topic4\", \"Topic4\", \"Topic4\", \"Topic4\", \"Topic4\", \"Topic4\", \"Topic4\", \"Topic4\", \"Topic4\", \"Topic4\", \"Topic4\", \"Topic4\", \"Topic4\", \"Topic4\", \"Topic4\", \"Topic4\", \"Topic4\", \"Topic4\", \"Topic4\", \"Topic4\", \"Topic4\", \"Topic4\", \"Topic4\", \"Topic4\", \"Topic4\", \"Topic4\", \"Topic4\", \"Topic4\", \"Topic4\", \"Topic4\", \"Topic4\", \"Topic4\", \"Topic4\", \"Topic4\", \"Topic4\"], \"logprob\": [30.0, 29.0, 28.0, 27.0, 26.0, 25.0, 24.0, 23.0, 22.0, 21.0, 20.0, 19.0, 18.0, 17.0, 16.0, 15.0, 14.0, 13.0, 12.0, 11.0, 10.0, 9.0, 8.0, 7.0, 6.0, 5.0, 4.0, 3.0, 2.0, 1.0, -4.144, -5.4201, -5.5077, -5.6097, -5.6364, -5.742, -5.76, -5.8524, -5.8538, -6.0217, -6.0754, -6.2789, -6.2851, -6.3062, -6.2941, -6.418, -6.4274, -6.5224, -6.6327, -6.6524, -6.612, -6.6755, -6.7221, -6.7862, -6.7523, -6.8705, -6.876, -6.9445, -6.958, -6.9479, -6.4867, -6.9344, -5.3972, -6.0142, -5.2769, -5.2457, -5.5094, -6.2585, -4.4221, -5.1398, -5.6168, -5.9758, -4.8646, -4.395, -5.6305, -5.8525, -5.1359, -4.774, -5.517, -5.7223, -5.6428, -5.1094, -5.3477, -5.0571, -5.0468, -5.1272, -5.6609, -5.3144, -5.3608, -5.5498, -5.4373, -5.3517, -5.5345, -4.1908, -4.8216, -5.0553, -5.3718, -5.5142, -5.832, -5.9038, -5.8881, -5.935, -5.9313, -5.9808, -6.0134, -6.0155, -6.0232, -6.0222, -6.0197, -6.027, -6.1132, -6.1741, -6.1782, -6.194, -6.212, -6.2619, -6.2741, -6.2964, -6.3257, -6.3726, -6.4309, -6.4756, -6.5036, -6.4053, -5.5495, -5.4302, -5.5311, -5.5139, -5.3287, -5.3443, -6.1519, -5.2984, -5.7638, -5.8401, -5.899, -5.3456, -5.0539, -5.488, -5.2593, -5.4716, -5.7378, -5.6202, -5.5518, -5.8937, -5.6299, -5.8086, -5.8347, -5.6945, -5.632, -5.6769, -5.87, -4.6918, -5.1998, -5.5756, -5.6299, -5.7826, -5.8077, -5.9444, -6.0006, -5.9918, -6.0859, -6.1337, -6.1505, -6.241, -6.2842, -6.2761, -6.2953, -6.3031, -6.3993, -6.4286, -6.4414, -6.4607, -6.4973, -6.5069, -6.543, -6.5531, -6.5709, -6.6324, -6.613, -6.7129, -6.7438, -6.7163, -5.7276, -5.4433, -6.0174, -5.3997, -5.6232, -5.1748, -5.2613, -6.0728, -4.5942, -6.0266, -5.092, -4.8881, -4.8733, -5.7157, -5.1602, -5.5546, -5.159, -5.2665, -5.6008, -5.4485, -5.8114, -5.6839, -5.7234, -5.8049, -5.6374, -5.837, -5.6751, -5.7295, -5.6412, -5.7635, -5.7994, -4.8201, -4.7864, -5.1853, -5.3469, -5.6802, -6.1173, -6.0909, -6.2677, -6.3487, -6.3859, -6.4356, -6.4283, -6.4753, -6.4771, -6.5702, -6.5942, -6.6296, -6.6074, -6.6916, -6.8336, -6.8301, -6.8356, -6.9571, -6.9606, -6.9407, -6.9793, -5.4358, -7.037, -7.1122, -7.1139, -5.1854, -6.0799, -5.8536, -4.0183, -5.5972, -6.4149, -6.2798, -5.9589, -6.1602, -5.717, -5.6184, -5.2456, -5.5027, -5.6284, -5.2796, -5.861, -5.8427, -5.4648, -5.5042, -5.5723, -5.7003, -5.6001, -5.8228, -5.6549, -5.5636, -5.6072, -5.7592, -5.8747, -5.7471], \"loglift\": [30.0, 29.0, 28.0, 27.0, 26.0, 25.0, 24.0, 23.0, 22.0, 21.0, 20.0, 19.0, 18.0, 17.0, 16.0, 15.0, 14.0, 13.0, 12.0, 11.0, 10.0, 9.0, 8.0, 7.0, 6.0, 5.0, 4.0, 3.0, 2.0, 1.0, 1.1048, 1.1032, 1.103, 1.1028, 1.1027, 1.1024, 1.1023, 1.102, 1.102, 1.1014, 1.1012, 1.1003, 1.1002, 1.1002, 1.1001, 1.0995, 1.0994, 1.0988, 1.098, 1.098, 1.0979, 1.0978, 1.0972, 1.0971, 1.097, 1.0962, 1.0961, 1.0955, 1.0955, 1.0954, 1.0911, 1.0954, 1.0559, 1.0633, 1.0238, 1.0134, 1.0168, 1.0545, 0.8741, 0.9006, 0.9618, 0.9901, 0.7897, 0.6423, 0.9022, 0.9029, 0.6422, 0.4836, 0.762, 0.8377, 0.7958, 0.4836, 0.5857, 0.3754, 0.3346, 0.379, 0.771, 0.324, 0.3661, 0.4768, 0.2147, -0.02, 0.2093, 1.3524, 1.3517, 1.3513, 1.3506, 1.3502, 1.3491, 1.3488, 1.3488, 1.3487, 1.3486, 1.3484, 1.3483, 1.3482, 1.3482, 1.3482, 1.3482, 1.3481, 1.3476, 1.3474, 1.3473, 1.3471, 1.3471, 1.3469, 1.3467, 1.3467, 1.3464, 1.3461, 1.3458, 1.3453, 1.3452, 1.345, 1.3044, 1.2476, 1.2338, 1.2171, 1.1676, 1.0637, 1.2548, 0.5347, 0.9149, 0.9417, 1.0036, 0.3063, -0.0712, 0.4538, -0.0018, 0.1201, 0.6247, 0.2749, -0.1705, 0.9597, 0.0086, 0.6546, 0.7269, 0.0323, -0.5947, -0.3807, 0.6561, 1.54, 1.5389, 1.5377, 1.5375, 1.5368, 1.5366, 1.536, 1.5357, 1.5357, 1.5352, 1.5347, 1.5345, 1.5342, 1.5338, 1.5338, 1.5336, 1.5334, 1.5328, 1.5325, 1.5323, 1.5322, 1.5319, 1.5318, 1.5314, 1.5313, 1.5311, 1.5306, 1.5306, 1.5297, 1.5292, 1.5285, 1.4782, 1.4495, 1.4697, 1.348, 1.2975, 1.1788, 1.1861, 1.3805, 0.7376, 1.337, 0.8278, 0.6181, 0.5592, 0.9818, 0.4328, 0.7331, 0.2223, 0.3251, 0.6954, 0.4466, 0.9837, 0.7326, 0.7614, 0.7935, 0.1876, 0.8958, 0.0687, 0.1688, -0.6039, 0.0146, 0.3474, 1.6252, 1.6252, 1.6244, 1.6238, 1.6226, 1.6199, 1.6199, 1.6188, 1.618, 1.6177, 1.6173, 1.6171, 1.6169, 1.6168, 1.6157, 1.6156, 1.6152, 1.6148, 1.6143, 1.6126, 1.6125, 1.6121, 1.6106, 1.6104, 1.6101, 1.6095, 1.6091, 1.6081, 1.6076, 1.6074, 1.4272, 1.501, 1.3851, 0.9643, 1.236, 1.4525, 1.3507, 1.1776, 1.2767, 1.0309, 0.8765, 0.5794, 0.6929, 0.7341, 0.3589, 0.8857, 0.8137, 0.262, 0.2395, 0.3259, 0.4958, 0.0518, 0.4246, -0.0006, -0.306, -0.57, 0.0739, 0.4215, -0.3146]}, \"token.table\": {\"Topic\": [2, 3, 1, 4, 1, 4, 4, 1, 2, 3, 4, 1, 4, 1, 2, 3, 4, 2, 3, 3, 2, 3, 4, 3, 4, 1, 1, 3, 4, 3, 2, 1, 3, 4, 1, 3, 4, 3, 1, 2, 3, 4, 1, 4, 1, 1, 2, 4, 1, 3, 4, 3, 3, 1, 2, 4, 1, 2, 4, 1, 2, 4, 2, 3, 1, 2, 3, 4, 1, 2, 4, 1, 2, 4, 1, 4, 4, 4, 1, 2, 4, 1, 1, 2, 3, 4, 1, 3, 4, 3, 4, 2, 3, 3, 1, 2, 3, 3, 3, 1, 2, 1, 2, 2, 1, 2, 2, 1, 4, 4, 4, 3, 2, 2, 3, 2, 1, 1, 3, 4, 3, 1, 3, 1, 2, 1, 4, 1, 2, 3, 4, 1, 3, 4, 3, 4, 1, 2, 3, 1, 2, 3, 4, 1, 4, 4, 3, 4, 4, 1, 3, 4, 2, 1, 2, 3, 4, 1, 2, 4, 4, 3, 2, 4, 1, 4, 4, 2, 4, 1, 2, 4, 1, 1, 3, 1, 2, 4, 1, 2, 3, 4, 1, 1, 3, 1, 1, 2, 3, 4, 1, 3, 4, 3, 1, 2, 3, 4, 1, 2, 3, 4, 1, 2, 3, 4, 1, 1, 2, 3, 4, 1, 1, 2, 3, 4, 1, 2, 4, 2, 1, 2, 3, 4, 1, 3, 4, 3, 1, 2, 4, 1, 3, 1, 2, 3, 4, 1, 3, 3, 4, 1, 3, 3, 1, 2, 2, 1, 2, 3, 1, 2, 1, 3, 1, 2, 4, 1, 2, 4, 2, 1, 2, 4, 3, 1, 2, 4, 1, 1, 2, 2, 1, 2, 3, 4, 1, 4, 1, 1, 1, 1, 3, 2, 2, 2, 2, 1, 1, 3, 3, 1, 2, 3, 1, 2, 2, 1, 2, 3, 4, 1, 3, 4, 4, 3, 4, 1, 2, 3, 4, 4, 4, 3, 1, 3, 4, 2, 4, 3, 3, 4, 4, 2, 2, 1, 4, 1, 2, 3, 1, 2, 4, 1, 2, 3, 4, 1, 2, 3, 4, 1, 1, 2, 3, 4, 3, 1, 2, 3, 4, 1, 3, 2, 1, 2, 3, 4, 1, 2, 3, 4, 1, 2, 2, 1, 2, 3, 4, 3, 3, 3, 4, 1, 2, 4, 1, 1, 2, 4, 1, 1, 2, 3, 4, 4], \"Freq\": [0.9967564806490765, 0.9853301290542359, 0.9960545903205031, 0.9861272393311847, 0.3200354210224381, 0.6774775795669793, 0.9890521515857349, 0.3721617525239558, 0.041351305835995084, 0.5225301373821197, 0.06014735394326558, 0.9972848644469018, 0.9766840291697992, 0.2849452073332947, 0.1643914657692085, 0.4465968153396831, 0.10685445274998552, 0.997754516525731, 0.9985546638054762, 0.9903324769024885, 0.9925269749147511, 0.21196878477861522, 0.7855313788854564, 0.9271620486415013, 0.06394221025113801, 0.9969249132266331, 0.6294158440442313, 0.21703994622214873, 0.15337489533031845, 0.985114557990095, 0.9926170297591783, 0.0900565860564937, 0.27016975816948113, 0.6360246390239868, 0.22802677259180687, 0.06840803177754207, 0.7068829950346013, 0.9885999041132366, 0.2577148138089945, 0.2288122178677989, 0.44558168742676624, 0.06984794019122281, 0.9856918452504028, 0.9835518481437061, 0.9891147118959507, 0.09792577190220687, 0.8308853373520584, 0.06825129556820479, 0.4835449604850967, 0.1934179841940387, 0.32309595086958737, 0.9914110725049863, 0.9895361698423364, 0.10642598609344618, 0.4828105710580729, 0.4101294098235243, 0.8152183985032216, 0.00769073960852096, 0.17304164119172158, 0.14668984217093625, 0.7497480822070076, 0.10322618523139959, 0.999101435846376, 0.993391261441182, 0.5375196794689727, 0.06974528279463181, 0.3294863359608468, 0.06373275841578424, 0.08463759258807912, 0.7038284015219212, 0.20936667640209047, 0.47702927325148803, 0.26669648129910284, 0.25569868825584086, 0.9961053554270008, 0.9970072283564967, 0.9986203111607157, 0.9724776323949998, 0.9887572520345137, 0.9974076995989978, 0.9877780166330977, 0.9874155221845943, 0.4839998298807863, 0.05622777066952187, 0.3969019106083897, 0.06284280251299504, 0.08476034527820918, 0.8122866422495046, 0.09888706949124404, 0.9940310814928325, 0.9885076567492581, 0.990481349490812, 0.9935649594529192, 0.9983267802935276, 0.1085399866448235, 0.4312264334267312, 0.4576280517997964, 0.9936416026810949, 0.9964933110694588, 0.9535682506723502, 0.04700688559652431, 0.08849670982245382, 0.9070912756801517, 0.9966121324126526, 0.12381694860485257, 0.8742226977251711, 0.9954530349471593, 0.9521098614520649, 0.04547390383054638, 0.9890847453706971, 0.9786696447531729, 0.9977918470643912, 0.9956416133556983, 0.9505264700148184, 0.046677639152513405, 0.9928914457115612, 0.9953323936135128, 0.814459450271579, 0.12226296597610307, 0.06207196734171387, 0.9902722772563098, 0.8667470511738637, 0.13210642787408333, 0.11256951615726056, 0.8889110068969885, 0.9223598263804054, 0.07808337154543114, 0.3241040564284719, 0.13704971528975382, 0.4472635978712912, 0.09074913579997212, 0.1978045740137212, 0.7007933479343266, 0.10172806663562804, 0.44649926412939783, 0.5495375558515666, 0.33345707685696885, 0.1767322507341935, 0.4901819029797442, 0.23334616294236918, 0.17090141511272108, 0.4732654572352276, 0.12160292998405153, 0.986600681453764, 0.9982885222017173, 0.987049776056409, 0.990313054523553, 0.9913333555830685, 0.9816667036359499, 0.2675881915685645, 0.6947001127260809, 0.03602148732653753, 0.9932312667548564, 0.41070576993864283, 0.35075803333269184, 0.03188709393933562, 0.20662836872689483, 0.9142232359535063, 0.08255527548744036, 0.9966762597145857, 0.9888901224119097, 0.9974636353726136, 0.9969952030839382, 0.9851540681822417, 0.9603671853108345, 0.037141272360087525, 0.9918089006676791, 0.995766671396904, 0.9805771886068916, 0.7935844716077651, 0.17694788893956925, 0.029491314823261543, 0.9987081306803699, 0.9863895537761888, 0.9921781223155193, 0.7287316217856519, 0.0741516387080137, 0.19688538553507084, 0.10104626077029945, 0.22405909996892487, 0.283368861725405, 0.3932017538670348, 0.9981385043084213, 0.8155624188234077, 0.1815780479644568, 0.9901602289931186, 0.4442443092052197, 0.09255089775108744, 0.1642778435081802, 0.30079041769103415, 0.2720833688331512, 0.42998889538810503, 0.2988058425578357, 0.9923776327826075, 0.2689858162081404, 0.2918015774043666, 0.2966048955509405, 0.14409954439721806, 0.15322734529346518, 0.2751127335950852, 0.1253678279673806, 0.4422698375515927, 0.8922981851875783, 0.10441787273471662, 0.9961096782384313, 0.9953329928631582, 0.9941416761542402, 0.1942818031921177, 0.407310096165931, 0.20280293491107024, 0.1959860295359082, 0.9915964484199862, 0.15349231723142695, 0.24036243719644731, 0.09078907274539723, 0.5153422906195569, 0.7653833919258433, 0.1359978754248399, 0.09804497995744273, 0.9961299380024762, 0.20168654514224563, 0.1895550236299301, 0.2577948321367049, 0.3502976836681108, 0.48237231686584336, 0.3748370869912923, 0.14338030649940142, 0.9976907246680999, 0.9997293362530516, 0.9956287085500128, 0.9922649632604972, 0.14681632473194714, 0.849989248448115, 0.2200418822403495, 0.02800533046695357, 0.5721088938249087, 0.18003426728755867, 0.0838190096140808, 0.9131860521113013, 0.9876780573302173, 0.995587614731674, 0.9896135155095027, 0.9906715881584793, 0.9821250353647845, 0.352576928099226, 0.6446103432925242, 0.9945558139671187, 0.5948935270600412, 0.2484356490847331, 0.15717357391074951, 0.9946806861333124, 0.9941271452368295, 0.17550780301769586, 0.8241235967787458, 0.5324041068245526, 0.24672385438210975, 0.2188978557675861, 0.281264300962983, 0.49832696801050247, 0.2201198877101606, 0.9983571493260314, 0.16604615274067686, 0.07379829010696749, 0.7564324735964169, 0.9898440295320243, 0.12988430690058245, 0.5353767772243521, 0.3326305420624673, 0.9879885899169825, 0.9889279018923328, 0.008751574353029494, 0.9964787173150591, 0.18296270908224, 0.28969095604688, 0.049552400376439994, 0.47646538823499995, 0.18001865090661187, 0.8200849652412319, 0.9982058912385079, 0.9858245429159538, 0.9978503007659959, 0.060328560650789405, 0.9411255461523147, 0.9931877700008493, 0.9989969770507319, 0.996276763741469, 0.9929218238044408, 0.996243862345026, 0.9129498550138774, 0.08661319137311144, 0.9867565672198468, 0.09079622734486524, 0.6632072258233634, 0.2447550476252889, 0.9941669573220665, 0.9878847437875939, 0.9931168024614961, 0.40824266016718785, 0.11324539545733635, 0.22928697351855754, 0.2502583430476939, 0.2649026244032741, 0.5697220826207403, 0.16329613833078543, 0.9941928605751454, 0.15197285290981477, 0.8416958007312818, 0.9968646721781965, 0.010272194091744364, 0.005136097045872182, 0.9809945357615868, 0.9896619683372755, 0.9922917391929078, 0.9881223946430125, 0.5398045299210532, 0.3033785148781113, 0.15691992148867825, 0.900193409173284, 0.09962614805079824, 0.9862274997920845, 0.7848123579786761, 0.21321491806357096, 0.9824448283055224, 0.9965345488364721, 0.9939724384188071, 0.9970078187601235, 0.9802039350069124, 0.7150174787717183, 0.17527665822030447, 0.1057224287678027, 0.4580457655633838, 0.2604820699769792, 0.28187431726977463, 0.22122697142739883, 0.33997380167887026, 0.33509379495620706, 0.10410681008348181, 0.5373654702880555, 0.2579354257382666, 0.060184932672262215, 0.1444438384134293, 0.9978526840875256, 0.2480183250883614, 0.22680623149527787, 0.25291342360984226, 0.27249381769576553, 0.9889396769170797, 0.4622232493947134, 0.2179747533987701, 0.2676029338600972, 0.05254748519434636, 0.733906139028157, 0.26611100460944626, 0.9868708373378884, 0.6290955046778424, 0.14278812441701028, 0.11726560942459781, 0.11105743010211909, 0.15502728321563317, 0.496661481413047, 0.16938166129115476, 0.17799428813646773, 0.9960781873996912, 0.9988361490732602, 0.9901737504587624, 0.7091353212111533, 0.08356813549626385, 0.09073111853880075, 0.1169953896947694, 0.9954663950264188, 0.9899204556872819, 0.11411645985313716, 0.8778189219472089, 0.3470526759640114, 0.4418423936281908, 0.21098356512349595, 0.9961925781820472, 0.2756806847055824, 0.6743573672028862, 0.05089489563795367, 0.9896119996954422, 0.14519298740659536, 0.32890656330881807, 0.05333619945548401, 0.4711364285234421, 0.9979080749742747], \"Term\": [\"act\", \"anniesblueribbongeneralstore\", \"annual\", \"army\", \"art\", \"art\", \"artists\", \"available\", \"available\", \"available\", \"available\", \"avenue\", \"award\", \"back\", \"back\", \"back\", \"back\", \"ban\", \"bar\", \"bergen\", \"bill\", \"black\", \"black\", \"blue\", \"blue\", \"bridge\", \"brooklyn\", \"brooklyn\", \"brooklyn\", \"brunch\", \"budget\", \"business\", \"business\", \"business\", \"businesses\", \"businesses\", \"businesses\", \"cafe\", \"call\", \"call\", \"call\", \"call\", \"camp\", \"carroll\", \"celebration\", \"change\", \"change\", \"change\", \"check\", \"check\", \"check\", \"chicken\", \"chocolate\", \"city\", \"city\", \"city\", \"class\", \"class\", \"class\", \"clean\", \"clean\", \"clean\", \"climate\", \"coffee\", \"come\", \"come\", \"come\", \"come\", \"communities\", \"communities\", \"communities\", \"community\", \"community\", \"community\", \"compost\", \"congrats\", \"congratulations\", \"corps\", \"count\", \"crisis\", \"cultural\", \"date\", \"day\", \"day\", \"day\", \"day\", \"dd\", \"dd\", \"dd\", \"ddd\", \"degraw\", \"delaware\", \"delicious\", \"delivery\", \"drink\", \"drink\", \"drink\", \"ds\", \"eat\", \"el\", \"el\", \"ensure\", \"ensure\", \"environment\", \"environmental\", \"environmental\", \"essential\", \"event\", \"event\", \"exhibit\", \"exhibition\", \"favorite\", \"fight\", \"fish\", \"fish\", \"flood\", \"fort\", \"free\", \"free\", \"free\", \"fresh\", \"fun\", \"fun\", \"fund\", \"fund\", \"garden\", \"garden\", \"get\", \"get\", \"get\", \"get\", \"get_repost\", \"get_repost\", \"get_repost\", \"gift\", \"gift\", \"go\", \"go\", \"go\", \"good\", \"good\", \"good\", \"good\", \"grand\", \"grant\", \"graphicolorny\", \"grill\", \"habit\", \"hair\", \"happy\", \"happy\", \"happy\", \"health\", \"help\", \"help\", \"help\", \"help\", \"high\", \"high\", \"history\", \"hny\", \"hot\", \"hudson\", \"humanities\", \"info\", \"info\", \"inspire\", \"jersey\", \"johns\", \"join\", \"join\", \"join\", \"june\", \"kick\", \"le\", \"learn\", \"learn\", \"learn\", \"like\", \"like\", \"like\", \"like\", \"line\", \"link\", \"link\", \"location\", \"look\", \"look\", \"look\", \"look\", \"love\", \"love\", \"love\", \"lunch\", \"make\", \"make\", \"make\", \"make\", \"many\", \"many\", \"many\", \"many\", \"march\", \"march\", \"menu\", \"museum\", \"music\", \"need\", \"need\", \"need\", \"need\", \"neighbor\", \"new\", \"new\", \"new\", \"new\", \"next\", \"next\", \"next\", \"ocean\", \"one\", \"one\", \"one\", \"one\", \"open\", \"open\", \"open\", \"order\", \"park\", \"pass\", \"peek\", \"perfect\", \"perfect\", \"photo\", \"photo\", \"photo\", \"photo\", \"pick\", \"pick\", \"pickup\", \"piece\", \"pier\", \"pizza\", \"pizzasecret\", \"plan\", \"plan\", \"plastic\", \"please\", \"please\", \"please\", \"pm\", \"pollution\", \"post\", \"post\", \"program\", \"program\", \"program\", \"project\", \"project\", \"project\", \"protect\", \"proud\", \"proud\", \"proud\", \"pub\", \"public\", \"public\", \"public\", \"puente\", \"purchase\", \"purchase\", \"quality\", \"read\", \"read\", \"read\", \"read\", \"receive\", \"receive\", \"register\", \"registration\", \"reopen\", \"restaurant\", \"restaurant\", \"risk\", \"river\", \"riverkeeper\", \"rivers\", \"rsvp\", \"saturday\", \"saturday\", \"sauce\", \"say\", \"say\", \"say\", \"schedule\", \"screen\", \"sea\", \"see\", \"see\", \"see\", \"see\", \"shop\", \"shop\", \"shop\", \"shophabit\", \"since\", \"since\", \"slope\", \"small\", \"small\", \"small\", \"something\", \"somethingelse_bk\", \"specials\", \"st\", \"st\", \"st\", \"state\", \"state\", \"stock\", \"store\", \"store\", \"stories\", \"storm\", \"stream\", \"street\", \"suffrage\", \"summer\", \"summer\", \"summer\", \"support\", \"support\", \"support\", \"take\", \"take\", \"take\", \"take\", \"thank\", \"thank\", \"thank\", \"thank\", \"thursday\", \"time\", \"time\", \"time\", \"time\", \"tip\", \"today\", \"today\", \"today\", \"today\", \"tomorrow\", \"tomorrow\", \"urge\", \"us\", \"us\", \"us\", \"us\", \"use\", \"use\", \"use\", \"use\", \"volunteer\", \"water\", \"waterways\", \"week\", \"week\", \"week\", \"week\", \"wine\", \"withregram\", \"women\", \"women\", \"work\", \"work\", \"work\", \"workshop\", \"would\", \"would\", \"would\", \"yard\", \"years\", \"years\", \"years\", \"years\", \"york\"]}, \"R\": 30, \"lambda.step\": 0.01, \"plot.opts\": {\"xlab\": \"PC1\", \"ylab\": \"PC2\"}, \"topic.order\": [2, 3, 4, 1]};\n",
              "\n",
              "function LDAvis_load_lib(url, callback){\n",
              "  var s = document.createElement('script');\n",
              "  s.src = url;\n",
              "  s.async = true;\n",
              "  s.onreadystatechange = s.onload = callback;\n",
              "  s.onerror = function(){console.warn(\"failed to load library \" + url);};\n",
              "  document.getElementsByTagName(\"head\")[0].appendChild(s);\n",
              "}\n",
              "\n",
              "if(typeof(LDAvis) !== \"undefined\"){\n",
              "   // already loaded: just create the visualization\n",
              "   !function(LDAvis){\n",
              "       new LDAvis(\"#\" + \"ldavis_el611404707493346088413899821\", ldavis_el611404707493346088413899821_data);\n",
              "   }(LDAvis);\n",
              "}else if(typeof define === \"function\" && define.amd){\n",
              "   // require.js is available: use it to load d3/LDAvis\n",
              "   require.config({paths: {d3: \"https://d3js.org/d3.v5\"}});\n",
              "   require([\"d3\"], function(d3){\n",
              "      window.d3 = d3;\n",
              "      LDAvis_load_lib(\"https://cdn.jsdelivr.net/gh/bmabey/pyLDAvis@3.3.1/pyLDAvis/js/ldavis.v3.0.0.js\", function(){\n",
              "        new LDAvis(\"#\" + \"ldavis_el611404707493346088413899821\", ldavis_el611404707493346088413899821_data);\n",
              "      });\n",
              "    });\n",
              "}else{\n",
              "    // require.js not available: dynamically load d3 & LDAvis\n",
              "    LDAvis_load_lib(\"https://d3js.org/d3.v5.js\", function(){\n",
              "         LDAvis_load_lib(\"https://cdn.jsdelivr.net/gh/bmabey/pyLDAvis@3.3.1/pyLDAvis/js/ldavis.v3.0.0.js\", function(){\n",
              "                 new LDAvis(\"#\" + \"ldavis_el611404707493346088413899821\", ldavis_el611404707493346088413899821_data);\n",
              "            })\n",
              "         });\n",
              "}\n",
              "</script>"
            ],
            "text/plain": [
              "PreparedData(topic_coordinates=              x         y  topics  cluster       Freq\n",
              "topic                                                \n",
              "1     -0.025181  0.070484       1        1  33.108194\n",
              "2      0.206442 -0.135200       2        1  25.840419\n",
              "3     -0.222461 -0.102478       3        1  21.403757\n",
              "0      0.041200  0.167194       4        1  19.647630, topic_info=       Term         Freq        Total Category  logprob  loglift\n",
              "21     park  1173.000000  1173.000000  Default  30.0000  30.0000\n",
              "568   water   874.000000   874.000000  Default  29.0000  29.0000\n",
              "194   order   439.000000   439.000000  Default  28.0000  28.0000\n",
              "18      new  1531.000000  1531.000000  Default  27.0000  27.0000\n",
              "150   river   465.000000   465.000000  Default  26.0000  26.0000\n",
              "...     ...          ...          ...      ...      ...      ...\n",
              "445   thank   168.271958  1163.081803   Topic4  -5.5636  -0.3060\n",
              "376      us   161.082670  1449.700392   Topic4  -5.6072  -0.5700\n",
              "186    work   138.368284   654.079383   Topic4  -5.7592   0.0739\n",
              "1029   love   123.275503   411.638537   Topic4  -5.8747   0.4215\n",
              "130    open   140.059296   976.424193   Topic4  -5.7471  -0.3146\n",
              "\n",
              "[272 rows x 6 columns], token_table=      Topic      Freq                          Term\n",
              "term                                               \n",
              "1926      2  0.996756                           act\n",
              "2409      3  0.985330  anniesblueribbongeneralstore\n",
              "391       1  0.996055                        annual\n",
              "961       4  0.986127                          army\n",
              "872       1  0.320035                           art\n",
              "...     ...       ...                           ...\n",
              "101       1  0.145193                         years\n",
              "101       2  0.328907                         years\n",
              "101       3  0.053336                         years\n",
              "101       4  0.471136                         years\n",
              "26        4  0.997908                          york\n",
              "\n",
              "[386 rows x 3 columns], R=30, lambda_step=0.01, plot_opts={'xlab': 'PC1', 'ylab': 'PC2'}, topic_order=[2, 3, 4, 1])"
            ]
          },
          "execution_count": 28,
          "metadata": {},
          "output_type": "execute_result"
        }
      ],
      "source": [
        "LDAvis_prepared_2 = gensimvis.prepare(lda_model_bow, corpus, id2word)\n",
        "LDAvis_prepared_2"
      ]
    },
    {
      "cell_type": "code",
      "execution_count": null,
      "metadata": {
        "colab": {
          "base_uri": "https://localhost:8080/"
        },
        "id": "h5mTnyo6Nf3B",
        "outputId": "345ee5f4-b492-4dfc-ca51-74c20e3f672e"
      },
      "outputs": [
        {
          "name": "stdout",
          "output_type": "stream",
          "text": [
            "\n",
            "Score: 0.49821075797080994\t \n",
            "Topic: 0.016*\"park\" + 0.012*\"us\" + 0.012*\"join\" + 0.008*\"thank\"\n",
            "\n",
            "Score: 0.46301236748695374\t \n",
            "Topic: 0.010*\"get\" + 0.009*\"order\" + 0.008*\"open\" + 0.008*\"day\"\n",
            "\n",
            "Score: 0.019508961588144302\t \n",
            "Topic: 0.018*\"new\" + 0.008*\"york\" + 0.008*\"grant\" + 0.006*\"congratulations\"\n",
            "\n",
            "Score: 0.01926790364086628\t \n",
            "Topic: 0.015*\"water\" + 0.008*\"river\" + 0.006*\"new\" + 0.006*\"protect\"\n"
          ]
        }
      ],
      "source": [
        "for index, score in sorted(lda_model_bow[corpus[3000]], key=lambda tup: -1*tup[1]):\n",
        "    print(\"\\nScore: {}\\t \\nTopic: {}\".format(score, lda_model_bow.print_topic(index, 4)))"
      ]
    },
    {
      "cell_type": "code",
      "execution_count": null,
      "metadata": {
        "colab": {
          "base_uri": "https://localhost:8080/"
        },
        "id": "z1KlhqW6Nf3B",
        "outputId": "f699dc50-7382-4758-e090-91394a0fb6e7"
      },
      "outputs": [
        {
          "name": "stdout",
          "output_type": "stream",
          "text": [
            "Coherence Score:  0.2938788565098576\n"
          ]
        }
      ],
      "source": [
        "# Compute Coherence Score\n",
        "coherence_model_lda_2 = CoherenceModel(model=lda_model_bow, texts=train_list_of_lists, dictionary=id2word, coherence='c_v')\n",
        "coherence_lda_2 = coherence_model_lda_2.get_coherence()\n",
        "print('Coherence Score: ', coherence_lda_2)"
      ]
    },
    {
      "cell_type": "markdown",
      "metadata": {
        "id": "EtDEJRL3Nf3B"
      },
      "source": [
        "## LDA with TF-IDF"
      ]
    },
    {
      "cell_type": "code",
      "execution_count": 14,
      "metadata": {
        "colab": {
          "base_uri": "https://localhost:8080/"
        },
        "id": "7qwP-GqYNf3B",
        "outputId": "9b9e77af-9856-4107-9480-0468d1dd06b5"
      },
      "outputs": [
        {
          "name": "stdout",
          "output_type": "stream",
          "text": [
            "[(0, 0.42466773753051157),\n",
            " (1, 0.1766020120629213),\n",
            " (2, 0.23014024341235387),\n",
            " (3, 0.2832750364803111),\n",
            " (4, 0.2366724011621648),\n",
            " (5, 0.2832750364803111),\n",
            " (6, 0.18979599067454203),\n",
            " (7, 0.2143401059677086),\n",
            " (8, 0.24462258623808159),\n",
            " (9, 0.33186344059309086),\n",
            " (10, 0.29674778220154957),\n",
            " (11, 0.19428450256362492),\n",
            " (12, 0.19638562074430463),\n",
            " (13, 0.24300529787323882),\n",
            " (14, 0.2088991128043566)]\n"
          ]
        }
      ],
      "source": [
        "tfidf = models.TfidfModel(corpus)\n",
        "corpus_tfidf = tfidf[corpus]\n",
        "\n",
        "for doc in corpus_tfidf:\n",
        "    pprint(doc)\n",
        "    break"
      ]
    },
    {
      "cell_type": "code",
      "execution_count": 15,
      "metadata": {
        "colab": {
          "base_uri": "https://localhost:8080/"
        },
        "id": "cT_4phsRNf3C",
        "outputId": "9df03114-7808-4aaf-e8ca-5c6c79d93036"
      },
      "outputs": [
        {
          "name": "stdout",
          "output_type": "stream",
          "text": [
            "Topic: 0 Word: 0.004*\"st\" + 0.004*\"corner\" + 0.004*\"open\" + 0.003*\"wine\" + 0.003*\"come\" + 0.003*\"get_repost\" + 0.002*\"brooklyn\" + 0.002*\"gowanus\" + 0.002*\"order\" + 0.002*\"union\"\n",
            "Topic: 1 Word: 0.003*\"park\" + 0.003*\"post\" + 0.003*\"slope\" + 0.003*\"photo\" + 0.002*\"le\" + 0.002*\"restaurant\" + 0.002*\"see\" + 0.002*\"grill\" + 0.002*\"get\" + 0.002*\"start\"\n",
            "Topic: 2 Word: 0.005*\"thank\" + 0.004*\"water\" + 0.004*\"new\" + 0.004*\"join\" + 0.003*\"support\" + 0.003*\"us\" + 0.003*\"learn\" + 0.003*\"community\" + 0.003*\"help\" + 0.003*\"work\"\n",
            "Topic: 3 Word: 0.004*\"happy\" + 0.004*\"open\" + 0.004*\"please\" + 0.003*\"get\" + 0.003*\"line\" + 0.003*\"us\" + 0.003*\"day\" + 0.003*\"high\" + 0.003*\"today\" + 0.003*\"park\"\n"
          ]
        }
      ],
      "source": [
        "lda_model_tfidf = gensim.models.LdaMulticore(corpus_tfidf, num_topics=4, id2word=id2word, passes=100, workers=4)\n",
        "\n",
        "for idx, topic in lda_model_tfidf.print_topics(-1):\n",
        "    print('Topic: {} Word: {}'.format(idx, topic))"
      ]
    },
    {
      "cell_type": "code",
      "execution_count": null,
      "metadata": {
        "colab": {
          "base_uri": "https://localhost:8080/",
          "height": 861
        },
        "id": "Twoc5brzNf3C",
        "outputId": "3cf20471-deb4-4ec6-efe8-3cf07f97b4e4"
      },
      "outputs": [
        {
          "data": {
            "text/html": [
              "\n",
              "<link rel=\"stylesheet\" type=\"text/css\" href=\"https://cdn.jsdelivr.net/gh/bmabey/pyLDAvis@3.3.1/pyLDAvis/js/ldavis.v1.0.0.css\">\n",
              "\n",
              "\n",
              "<div id=\"ldavis_el611404707495299366222789671\"></div>\n",
              "<script type=\"text/javascript\">\n",
              "\n",
              "var ldavis_el611404707495299366222789671_data = {\"mdsDat\": {\"x\": [0.07030815191705424, -0.10526570696851754, 0.1319621221007403, -0.09700456704927692], \"y\": [0.08882424727225653, 0.09897357147493029, -0.0613355237442257, -0.12646229500296113], \"topics\": [1, 2, 3, 4], \"cluster\": [1, 1, 1, 1], \"Freq\": [32.89971465962033, 31.73034969376978, 23.25190452503843, 12.118031121571457]}, \"tinfo\": {\"Term\": [\"order\", \"delivery\", \"protect\", \"pick\", \"water\", \"st\", \"gift\", \"grant\", \"corner\", \"slope\", \"wine\", \"state\", \"high\", \"l\", \"open\", \"climate\", \"restaurant\", \"lunch\", \"pizza\", \"shop\", \"store\", \"york\", \"early\", \"plastic\", \"khcc\", \"delicious\", \"census\", \"link\", \"el\", \"fun\", \"compost\", \"cjg\", \"fifth\", \"grill\", \"fort\", \"reservoir\", \"earth\", \"awesome\", \"festival\", \"grand\", \"member\", \"winter\", \"kick\", \"ridgewood\", \"canoe\", \"grade\", \"bonnies\", \"somethingelse_bk\", \"montrose\", \"parade\", \"recycle\", \"bike\", \"feb\", \"easter\", \"sight\", \"jazz\", \"pink\", \"stroll\", \"peek\", \"seal\", \"dance\", \"date\", \"events\", \"click\", \"market\", \"high\", \"page\", \"link\", \"ps\", \"line\", \"update\", \"bio\", \"greene\", \"saturday\", \"august\", \"volunteer\", \"register\", \"street\", \"april\", \"park\", \"join\", \"ticket\", \"fun\", \"week\", \"music\", \"free\", \"event\", \"us\", \"day\", \"today\", \"happy\", \"come\", \"brooklyn\", \"open\", \"learn\", \"great\", \"get\", \"garden\", \"year\", \"see\", \"tomorrow\", \"gowanus\", \"thank\", \"go\", \"summer\", \"one\", \"work\", \"make\", \"community\", \"protect\", \"state\", \"climate\", \"plastic\", \"bill\", \"ban\", \"pollution\", \"ocean\", \"congrats\", \"act\", \"report\", \"environment\", \"sea\", \"million\", \"crisis\", \"yorkers\", \"justice\", \"nys\", \"flood\", \"humanities\", \"preserve\", \"grant\", \"wildlife\", \"lend\", \"coastal\", \"trump\", \"stone\", \"billion\", \"development\", \"simple\", \"study\", \"propose\", \"rivers\", \"communities\", \"water\", \"rise\", \"fish\", \"york\", \"action\", \"change\", \"stream\", \"jersey\", \"congratulations\", \"city\", \"new\", \"clean\", \"bag\", \"river\", \"hudson\", \"program\", \"support\", \"receive\", \"help\", \"community\", \"fund\", \"thank\", \"environmental\", \"need\", \"work\", \"learn\", \"us\", \"years\", \"take\", \"please\", \"join\", \"delivery\", \"l\", \"pizza\", \"census\", \"shophabit\", \"menu\", \"habit\", \"le\", \"cafe\", \"coffee\", \"pick\", \"johns\", \"breakfast\", \"clothe\", \"carroll\", \"pub\", \"bergen\", \"pickup\", \"print\", \"succulent\", \"bk\", \"sterling\", \"french\", \"pie\", \"toy\", \"santa\", \"missamericanpienyc\", \"ribbon\", \"din\", \"blend\", \"gift\", \"lunch\", \"wine\", \"order\", \"monro\", \"delicious\", \"restaurant\", \"ds\", \"corner\", \"slope\", \"store\", \"st\", \"shop\", \"open\", \"dd\", \"love\", \"get\", \"call\", \"get_repost\", \"brooklyn\", \"ready\", \"good\", \"day\", \"come\", \"today\", \"park\", \"us\", \"new\", \"thank\", \"equal\", \"hair\", \"pitasandsticks\", \"teens\", \"educators\", \"loan\", \"independence\", \"roof\", \"velvettebrew\", \"brew\", \"steve\", \"dsd\", \"supporters\", \"offshore\", \"taylor\", \"unless\", \"true\", \"wythe\", \"du\", \"jour\", \"elevator\", \"teen\", \"velvette\", \"kimble\", \"fundraise\", \"generosity\", \"chelsea\", \"virus\", \"crowd\", \"senada\", \"drill\", \"teachers\", \"early\", \"puente\", \"el\", \"pay\", \"khcc\", \"thank\", \"hire\", \"de\", \"snow\", \"black\", \"families\", \"dujourbakery\", \"coronavirus\", \"youth\", \"discussion\", \"fight\", \"fund\", \"budget\", \"need\", \"nyc\", \"get_repost\", \"food\", \"may\"], \"Freq\": [64.0, 43.0, 54.0, 42.0, 103.0, 80.0, 43.0, 50.0, 57.0, 53.0, 34.0, 38.0, 56.0, 28.0, 126.0, 35.0, 34.0, 29.0, 26.0, 49.0, 41.0, 54.0, 25.0, 32.0, 47.0, 29.0, 23.0, 52.0, 25.0, 55.0, 27.425910918300076, 24.64304485018888, 23.80889022376778, 23.8537086582991, 22.744844881465394, 19.414655837646198, 20.992055833665756, 20.732990933423356, 26.2521553657064, 17.946537702473023, 17.533515993366485, 16.811730297929213, 15.866242797556058, 15.328994474186558, 15.284983151294043, 14.25830971548809, 14.129470431833159, 14.301437963293443, 12.92848303805097, 11.831086576775666, 12.051934477158646, 11.38291489203717, 11.435349717314294, 11.529639347588875, 11.143783011653534, 10.643213428314201, 10.599245362385332, 11.759996394639249, 10.139533563783758, 10.234261038934294, 30.61633143733181, 18.732487190623498, 27.99640274575732, 25.951861303867602, 20.143993565907746, 49.754442341230074, 20.387053389600233, 45.917946363624715, 16.88237524985442, 44.75638927477989, 29.476864941288696, 30.25801818171367, 22.28101839607775, 50.9473596736721, 23.84445588826992, 33.442146395106406, 35.52036074557667, 32.113885408743776, 28.066113980296457, 79.01804834163636, 71.87492675987335, 31.375155644131056, 39.70815391030598, 43.73913741666614, 26.487874166153386, 46.458173087198595, 40.14704961396163, 73.38013404870739, 63.19424168046728, 66.63272717039999, 45.86559910732279, 57.447758739068185, 52.53186858240051, 60.98697598171541, 49.875882574005345, 48.63831561469502, 56.96362258172367, 41.978988354758904, 38.60424041819028, 47.06403223015393, 38.47656274226649, 37.801551540155764, 54.793047228528806, 42.24458189136853, 37.44953692046399, 40.19015887090489, 39.11262579632735, 38.86720477544839, 38.901831447324994, 53.52083465859952, 38.22924145819685, 35.030530500490535, 32.10668164169842, 28.850998171874597, 27.449156898810077, 25.699945091959595, 24.75254075248465, 28.80944965223212, 23.345070403923895, 22.97914386494103, 22.02897993530958, 22.494105193015645, 19.265327727217738, 18.58930954271355, 17.15604638763101, 17.324302018434352, 16.45472992492955, 15.694263397405958, 15.455124355875386, 14.960656066700617, 49.10498163419585, 14.91166927123069, 14.6951808480201, 13.982974586699568, 13.916652843624105, 15.653474986114112, 13.589024775994673, 13.36444277604926, 13.399067899148648, 16.655074949234187, 15.940971978455055, 18.499850793377544, 33.1922059106216, 83.52265111900002, 21.928527597459237, 30.340883802565116, 44.51996736127525, 29.714922874019294, 38.38866680751857, 25.307181742214322, 19.458169352623383, 32.827374253279004, 42.18936729815606, 85.53650884291687, 40.6248750486326, 30.61129718165475, 44.104860692703824, 31.831658770201354, 44.03030698636651, 52.550704402253125, 31.56990879472252, 46.44994656904868, 45.32654102344911, 30.08550367752128, 53.45723383885684, 29.69620609623952, 36.37990496394971, 35.72591872858588, 35.520679298435816, 38.548136928951976, 30.86854959500536, 31.911892429434534, 31.298795342613836, 30.562747931821733, 42.95932676336679, 27.532814590088037, 25.516175739339246, 23.321134192923374, 21.35499713846032, 21.04331288900016, 20.453976134446734, 19.971655943248624, 18.99231867913743, 18.89019958504157, 41.35577542631879, 17.339143928688543, 17.185738608090606, 16.60398368475371, 16.480854984407163, 18.395319562508757, 15.447025172567383, 15.286266191519264, 14.596100327921576, 13.191082909906514, 13.466620734302486, 12.625477406365812, 12.694386469116079, 12.136421703623746, 12.325216608345197, 11.702338751138143, 11.497333282820367, 11.47739145610371, 11.601576751142806, 11.12835058173038, 40.11584477735153, 27.50884622043577, 31.746755816545434, 56.837355793834696, 12.835440742087084, 25.93208183309497, 29.765681779103467, 18.08672382061143, 39.58380423745963, 37.38938009429389, 29.715430523267056, 45.73616200723671, 30.447235314755545, 48.781516960297054, 22.68935021926763, 33.20481473552006, 39.828540499710385, 28.444996574594253, 27.179161832741237, 31.930396000653204, 24.408335085718562, 25.31718995271021, 32.161096032492864, 31.143949530216293, 28.12176062084549, 27.672514751582916, 25.943045960377415, 25.117902921017098, 24.07371594595961, 11.43748309904888, 11.430247211920943, 9.420009734663836, 9.378291853087125, 8.76148804642183, 8.202439987164068, 7.956707394979324, 7.378583329956998, 7.090881815213553, 7.3201653939530065, 7.1958425938350965, 7.176411400055766, 7.003827331279502, 7.03854637681034, 6.176987716521731, 6.352759539439266, 6.203879413044463, 5.897214588952517, 5.942659613034278, 5.757510671083599, 5.654628947034261, 5.365047733792545, 5.243706725400341, 4.991469995575409, 5.220567430924191, 4.9016913672392715, 4.849411888435759, 4.940472147048369, 4.872359210396269, 4.636759969057286, 5.6373211091768995, 8.95929668197975, 16.286376195362415, 11.162863695168747, 12.655710371845128, 9.275438108837639, 15.208875657562944, 27.65040921093776, 7.89923455443694, 8.469563913550985, 6.864869541406591, 9.098775984233201, 10.08410251194269, 6.677523019342675, 6.953412395249342, 7.9598729984457135, 7.620072319164456, 7.923024379259608, 8.725542552997556, 7.596365656524677, 8.28416820530996, 8.054761826337831, 7.939236341622835, 7.399963783125895, 7.360414336037579], \"Total\": [64.0, 43.0, 54.0, 42.0, 103.0, 80.0, 43.0, 50.0, 57.0, 53.0, 34.0, 38.0, 56.0, 28.0, 126.0, 35.0, 34.0, 29.0, 26.0, 49.0, 41.0, 54.0, 25.0, 32.0, 47.0, 29.0, 23.0, 52.0, 25.0, 55.0, 27.99347433203235, 25.213546671190024, 24.378374109887737, 24.450655976623214, 23.320959378942877, 19.98749741334858, 21.622019304018522, 21.357753902670883, 27.05732423667399, 18.513943748047843, 18.117280424466195, 17.394103935429737, 16.443491181923537, 15.889814952153456, 15.849687864891058, 14.823406005055247, 14.693534896534937, 14.883236861614817, 13.497228219402698, 12.39156526070018, 12.626343574573312, 11.94529028297794, 12.0063280452298, 12.106207600085186, 11.715723436455566, 11.206805103747937, 11.175150542701777, 12.411370730387564, 10.711339556211763, 10.813875415172753, 32.456636879538365, 19.84892409389918, 29.943579849998663, 28.27146707884182, 21.796659993750335, 56.5393705867534, 22.166923049677614, 52.78827660108143, 18.168595937122763, 51.99927829609264, 33.33072658102061, 34.487105987092626, 24.745185307952706, 64.93500056402081, 26.91539554956957, 40.73140554268017, 45.211778743305445, 39.89014577454362, 33.82799350528966, 125.76587158197515, 115.67881759886613, 39.85018901312146, 55.42293521407978, 64.64499514826116, 32.02425046081108, 70.8929375250111, 57.626230267665285, 142.55190065721786, 114.30904713525452, 128.64018020405308, 73.60950842348318, 106.34529619304271, 94.96579574076536, 126.83334924584064, 91.29220139133834, 87.31550765101993, 122.03407213904448, 69.96147850920553, 62.67437927390235, 98.03031495321132, 62.58286205923057, 60.72437063134534, 159.97440622428303, 81.59818635588582, 60.573041127886526, 84.67416642373888, 85.88828531635043, 93.46451146363661, 96.93082040454587, 54.08369111409221, 38.79598084296525, 35.58869706129622, 32.666753527911965, 29.417694230542896, 28.01297819051399, 26.25436115532707, 25.310972894181475, 29.495575407079244, 23.90246249264743, 23.543093728538093, 22.587782631281428, 23.08819230584929, 19.826676337475696, 19.14841707096596, 17.721258513980164, 17.920131039355514, 17.022743694063223, 16.250006690606984, 16.02495064120448, 15.518614189734889, 50.95535967748432, 15.477120261547268, 15.253930662022412, 14.544698519638638, 14.476978349117447, 16.28837049767783, 14.140971221317791, 13.930059421334931, 13.967233929231138, 17.43339841621279, 16.687269918033042, 19.533092926976128, 36.90725876055397, 103.807019241928, 23.899793733435853, 34.75563729567486, 54.2070531460909, 34.55182418663141, 47.10012464951326, 28.699738721674127, 21.29134234914492, 41.372872701548346, 57.20543420145063, 148.94128224049405, 56.39293368837987, 38.681892106988165, 64.31558649854597, 42.366095100168884, 73.43038673091047, 101.26249013009165, 43.916130463727775, 93.6708514405734, 96.93082040454587, 42.005841974296786, 159.97440622428303, 42.4029031498271, 80.50421937378903, 85.88828531635043, 91.29220139133834, 142.55190065721786, 53.22910399884384, 77.86631941464604, 86.35211292934694, 115.67881759886613, 43.53806021375723, 28.122480507785536, 26.084297431873118, 23.904418423705334, 21.916075335249218, 21.614769211479736, 21.02125919942277, 20.54402311096781, 19.559911348748155, 19.459433690445515, 42.62371735795286, 17.903260467352254, 17.753915016404225, 17.170405758133203, 17.049580212811048, 19.039486912921635, 16.014784810557156, 15.85870824966068, 15.16652876978826, 13.750786035824094, 14.046233325567657, 13.190929927220692, 13.26519465071409, 12.698614930771555, 12.900798216497716, 12.269074763127875, 12.058837743393038, 12.039188979665978, 12.172525215374998, 11.694183344720177, 43.55285939755124, 29.679982745701466, 34.52604945215255, 64.75259018906296, 13.538678349597918, 29.006403154687497, 34.30531908126548, 20.47565278837641, 57.131449453081245, 53.34170281531182, 41.946130055562755, 80.87031646743128, 49.84764925347842, 126.83334924584064, 32.28562717316151, 65.8816112239154, 122.03407213904448, 60.9674786710298, 59.29093725796563, 94.96579574076536, 46.019487349459, 51.746513839069465, 114.30904713525452, 106.34529619304271, 128.64018020405308, 125.76587158197515, 142.55190065721786, 148.94128224049405, 159.97440622428303, 12.014878369837424, 12.027764535792349, 10.002488488416104, 9.96666927975154, 9.350370117636794, 8.793656576140524, 8.546433076572232, 7.981676232638125, 7.671627520776649, 7.928202671827015, 7.797031958571803, 7.781865071457537, 7.607220271735665, 7.661168179563895, 6.753643359648207, 6.953026067222924, 6.8010790751183405, 6.4723037614506165, 6.523409797106577, 6.335047419408956, 6.241086099348996, 5.953369700426695, 5.819847364120803, 5.566579563130351, 5.825144011171926, 5.486491993869748, 5.428157638879881, 5.530223662961799, 5.469390807490887, 5.211625782186157, 6.370489844249254, 10.805145132184041, 25.742197039821736, 19.40605619049512, 25.97837632064454, 18.150365264988984, 47.48790628375855, 159.97440622428303, 14.531375029114892, 18.910923423763137, 10.885602184243602, 26.409355001253708, 41.76915327436178, 10.060474430490695, 11.891259538996877, 21.154131238553944, 18.12961803968447, 24.36761553057189, 42.005841974296786, 24.472225327685727, 80.50421937378903, 65.3275134576484, 59.29093725796563, 67.95521622890246, 53.82258463918476], \"Category\": [\"Default\", \"Default\", \"Default\", \"Default\", \"Default\", \"Default\", \"Default\", \"Default\", \"Default\", \"Default\", \"Default\", \"Default\", \"Default\", \"Default\", \"Default\", \"Default\", \"Default\", \"Default\", \"Default\", \"Default\", \"Default\", \"Default\", \"Default\", \"Default\", \"Default\", \"Default\", \"Default\", \"Default\", \"Default\", \"Default\", \"Topic1\", \"Topic1\", \"Topic1\", \"Topic1\", \"Topic1\", \"Topic1\", \"Topic1\", \"Topic1\", \"Topic1\", \"Topic1\", \"Topic1\", \"Topic1\", \"Topic1\", \"Topic1\", \"Topic1\", \"Topic1\", \"Topic1\", \"Topic1\", \"Topic1\", \"Topic1\", \"Topic1\", \"Topic1\", \"Topic1\", \"Topic1\", \"Topic1\", \"Topic1\", \"Topic1\", \"Topic1\", \"Topic1\", \"Topic1\", \"Topic1\", \"Topic1\", \"Topic1\", \"Topic1\", \"Topic1\", \"Topic1\", \"Topic1\", \"Topic1\", \"Topic1\", \"Topic1\", \"Topic1\", \"Topic1\", \"Topic1\", \"Topic1\", \"Topic1\", \"Topic1\", \"Topic1\", \"Topic1\", \"Topic1\", \"Topic1\", \"Topic1\", \"Topic1\", \"Topic1\", \"Topic1\", \"Topic1\", \"Topic1\", \"Topic1\", \"Topic1\", \"Topic1\", \"Topic1\", \"Topic1\", \"Topic1\", \"Topic1\", \"Topic1\", \"Topic1\", \"Topic1\", \"Topic1\", \"Topic1\", \"Topic1\", \"Topic1\", \"Topic1\", \"Topic1\", \"Topic1\", \"Topic1\", \"Topic1\", \"Topic1\", \"Topic1\", \"Topic1\", \"Topic1\", \"Topic2\", \"Topic2\", \"Topic2\", \"Topic2\", \"Topic2\", \"Topic2\", \"Topic2\", \"Topic2\", \"Topic2\", \"Topic2\", \"Topic2\", \"Topic2\", \"Topic2\", \"Topic2\", \"Topic2\", \"Topic2\", \"Topic2\", \"Topic2\", \"Topic2\", \"Topic2\", \"Topic2\", \"Topic2\", \"Topic2\", \"Topic2\", \"Topic2\", \"Topic2\", \"Topic2\", \"Topic2\", \"Topic2\", \"Topic2\", \"Topic2\", \"Topic2\", \"Topic2\", \"Topic2\", \"Topic2\", \"Topic2\", \"Topic2\", \"Topic2\", \"Topic2\", \"Topic2\", \"Topic2\", \"Topic2\", \"Topic2\", \"Topic2\", \"Topic2\", \"Topic2\", \"Topic2\", \"Topic2\", \"Topic2\", \"Topic2\", \"Topic2\", \"Topic2\", \"Topic2\", \"Topic2\", \"Topic2\", \"Topic2\", \"Topic2\", \"Topic2\", \"Topic2\", \"Topic2\", \"Topic2\", \"Topic2\", \"Topic2\", \"Topic2\", \"Topic2\", \"Topic3\", \"Topic3\", \"Topic3\", \"Topic3\", \"Topic3\", \"Topic3\", \"Topic3\", \"Topic3\", \"Topic3\", \"Topic3\", \"Topic3\", \"Topic3\", \"Topic3\", \"Topic3\", \"Topic3\", \"Topic3\", \"Topic3\", \"Topic3\", \"Topic3\", \"Topic3\", \"Topic3\", \"Topic3\", \"Topic3\", \"Topic3\", \"Topic3\", \"Topic3\", \"Topic3\", \"Topic3\", \"Topic3\", \"Topic3\", \"Topic3\", \"Topic3\", \"Topic3\", \"Topic3\", \"Topic3\", \"Topic3\", \"Topic3\", \"Topic3\", \"Topic3\", \"Topic3\", \"Topic3\", \"Topic3\", \"Topic3\", \"Topic3\", \"Topic3\", \"Topic3\", \"Topic3\", \"Topic3\", \"Topic3\", \"Topic3\", \"Topic3\", \"Topic3\", \"Topic3\", \"Topic3\", \"Topic3\", \"Topic3\", \"Topic3\", \"Topic3\", \"Topic3\", \"Topic4\", \"Topic4\", \"Topic4\", \"Topic4\", \"Topic4\", \"Topic4\", \"Topic4\", \"Topic4\", \"Topic4\", \"Topic4\", \"Topic4\", \"Topic4\", \"Topic4\", \"Topic4\", \"Topic4\", \"Topic4\", \"Topic4\", \"Topic4\", \"Topic4\", \"Topic4\", \"Topic4\", \"Topic4\", \"Topic4\", \"Topic4\", \"Topic4\", \"Topic4\", \"Topic4\", \"Topic4\", \"Topic4\", \"Topic4\", \"Topic4\", \"Topic4\", \"Topic4\", \"Topic4\", \"Topic4\", \"Topic4\", \"Topic4\", \"Topic4\", \"Topic4\", \"Topic4\", \"Topic4\", \"Topic4\", \"Topic4\", \"Topic4\", \"Topic4\", \"Topic4\", \"Topic4\", \"Topic4\", \"Topic4\", \"Topic4\", \"Topic4\", \"Topic4\", \"Topic4\", \"Topic4\", \"Topic4\"], \"logprob\": [30.0, 29.0, 28.0, 27.0, 26.0, 25.0, 24.0, 23.0, 22.0, 21.0, 20.0, 19.0, 18.0, 17.0, 16.0, 15.0, 14.0, 13.0, 12.0, 11.0, 10.0, 9.0, 8.0, 7.0, 6.0, 5.0, 4.0, 3.0, 2.0, 1.0, -6.4936, -6.6006, -6.635, -6.6331, -6.6807, -6.8391, -6.7609, -6.7734, -6.5373, -6.9177, -6.941, -6.983, -7.0409, -7.0753, -7.0782, -7.1477, -7.1568, -7.1447, -7.2456, -7.3343, -7.3159, -7.373, -7.3684, -7.3602, -7.3942, -7.4402, -7.4443, -7.3404, -7.4886, -7.4793, -6.3835, -6.8748, -6.473, -6.5488, -6.8022, -5.898, -6.7902, -5.9782, -6.9788, -6.0038, -6.4215, -6.3953, -6.7013, -5.8743, -6.6335, -6.2953, -6.235, -6.3358, -6.4705, -5.4354, -5.5302, -6.3591, -6.1235, -6.0268, -6.5284, -5.9665, -6.1125, -5.5094, -5.6589, -5.6059, -5.9794, -5.7542, -5.8437, -5.6944, -5.8955, -5.9207, -5.7627, -6.0679, -6.1517, -5.9536, -6.155, -6.1727, -5.8015, -6.0616, -6.1821, -6.1115, -6.1386, -6.1449, -6.144, -5.7888, -6.1253, -6.2127, -6.2998, -6.4067, -6.4566, -6.5224, -6.56, -6.4082, -6.6185, -6.6343, -6.6765, -6.6556, -6.8106, -6.8463, -6.9265, -6.9168, -6.9683, -7.0156, -7.0309, -7.0635, -5.8749, -7.0667, -7.0814, -7.131, -7.1358, -7.0182, -7.1596, -7.1763, -7.1737, -6.9562, -7.0, -6.8511, -6.2666, -5.3438, -6.6811, -6.3564, -5.973, -6.3772, -6.1211, -6.5378, -6.8006, -6.2776, -6.0267, -5.3199, -6.0645, -6.3475, -5.9823, -6.3084, -5.984, -5.8071, -6.3167, -5.9305, -5.955, -6.3648, -5.79, -6.3779, -6.1749, -6.193, -6.1988, -6.117, -6.3392, -6.3059, -6.3253, -6.3491, -5.6977, -6.1426, -6.2187, -6.3086, -6.3967, -6.4114, -6.4398, -6.4637, -6.514, -6.5194, -5.7358, -6.605, -6.6139, -6.6484, -6.6558, -6.5459, -6.7206, -6.731, -6.7772, -6.8785, -6.8578, -6.9223, -6.9168, -6.9618, -6.9464, -6.9982, -7.0159, -7.0176, -7.0069, -7.0485, -5.7662, -6.1435, -6.0002, -5.4178, -6.9058, -6.2025, -6.0646, -6.5628, -5.7796, -5.8366, -6.0663, -5.6351, -6.042, -5.5707, -6.3361, -5.9553, -5.7734, -6.11, -6.1556, -5.9944, -6.2631, -6.2265, -5.9872, -6.0194, -6.1215, -6.1376, -6.2021, -6.2344, -6.2769, -6.3694, -6.37, -6.5635, -6.5679, -6.6359, -6.7019, -6.7323, -6.8077, -6.8475, -6.8157, -6.8328, -6.8355, -6.8599, -6.8549, -6.9855, -6.9574, -6.9811, -7.0318, -7.0242, -7.0558, -7.0738, -7.1264, -7.1493, -7.1986, -7.1537, -7.2167, -7.2275, -7.2088, -7.2227, -7.2723, -7.0769, -6.6136, -6.016, -6.3937, -6.2682, -6.5789, -6.0844, -5.4867, -6.7395, -6.6698, -6.8799, -6.5982, -6.4954, -6.9076, -6.8671, -6.7319, -6.7755, -6.7365, -6.6401, -6.7786, -6.692, -6.72, -6.7345, -6.8048, -6.8102], \"loglift\": [30.0, 29.0, 28.0, 27.0, 26.0, 25.0, 24.0, 23.0, 22.0, 21.0, 20.0, 19.0, 18.0, 17.0, 16.0, 15.0, 14.0, 13.0, 12.0, 11.0, 10.0, 9.0, 8.0, 7.0, 6.0, 5.0, 4.0, 3.0, 2.0, 1.0, 1.0912, 1.0888, 1.0881, 1.087, 1.0867, 1.0826, 1.0821, 1.082, 1.0815, 1.0806, 1.079, 1.0777, 1.076, 1.0758, 1.0754, 1.0728, 1.0726, 1.0718, 1.0687, 1.0654, 1.0651, 1.0635, 1.063, 1.0629, 1.0617, 1.0601, 1.0588, 1.0578, 1.0568, 1.0566, 1.0533, 1.0538, 1.0445, 1.0261, 1.0329, 0.9839, 1.028, 0.9723, 1.0383, 0.9617, 0.9888, 0.9809, 1.0068, 0.8691, 0.9906, 0.9145, 0.8705, 0.8949, 0.925, 0.647, 0.6358, 0.8726, 0.7783, 0.721, 0.9219, 0.6891, 0.7503, 0.4477, 0.519, 0.4539, 0.6386, 0.4959, 0.5196, 0.3795, 0.5072, 0.5266, 0.3498, 0.6009, 0.6271, 0.3779, 0.6253, 0.6377, 0.0403, 0.4534, 0.6309, 0.3665, 0.3251, 0.2343, 0.1988, 1.1374, 1.1332, 1.1321, 1.1306, 1.1284, 1.1276, 1.1266, 1.1256, 1.1244, 1.1243, 1.1237, 1.1228, 1.1218, 1.1192, 1.1183, 1.1155, 1.1141, 1.114, 1.1131, 1.1117, 1.1113, 1.1109, 1.1107, 1.1106, 1.1085, 1.1084, 1.1081, 1.1081, 1.1064, 1.1064, 1.1022, 1.1021, 1.0935, 1.0418, 0.9305, 1.0618, 1.0121, 0.951, 0.9971, 0.9434, 1.0221, 1.0579, 0.9165, 0.8434, 0.5933, 0.8199, 0.9139, 0.7707, 0.862, 0.6364, 0.492, 0.8178, 0.4465, 0.3878, 0.8141, 0.0518, 0.7917, 0.3536, 0.2707, 0.2039, -0.1599, 0.603, 0.2559, 0.133, -0.1831, 1.4454, 1.4376, 1.4368, 1.4341, 1.4328, 1.432, 1.4314, 1.4305, 1.4293, 1.4291, 1.4286, 1.4268, 1.4263, 1.4252, 1.4249, 1.4244, 1.4227, 1.422, 1.4204, 1.4172, 1.4166, 1.415, 1.4148, 1.4135, 1.4131, 1.4115, 1.4111, 1.411, 1.4107, 1.4092, 1.3766, 1.3828, 1.3749, 1.3284, 1.4054, 1.3467, 1.3168, 1.3347, 1.0918, 1.1035, 1.1141, 0.8888, 0.9658, 0.5033, 1.1061, 0.7736, 0.3391, 0.6964, 0.6788, 0.3688, 0.8246, 0.7439, 0.1906, 0.2307, -0.0617, -0.0552, -0.245, -0.3212, -0.4351, 2.0612, 2.0595, 2.0505, 2.0496, 2.0454, 2.0409, 2.039, 2.0319, 2.0318, 2.0307, 2.0302, 2.0295, 2.0278, 2.0257, 2.0212, 2.0202, 2.0186, 2.0174, 2.0172, 2.0149, 2.0118, 2.0064, 2.0062, 2.0014, 2.0009, 1.9978, 1.9977, 1.9977, 1.9949, 1.9936, 1.9882, 1.9231, 1.6527, 1.5575, 1.3913, 1.4392, 0.9719, 0.3551, 1.5009, 1.3072, 1.6495, 1.0449, 0.6893, 1.7006, 1.5739, 1.1331, 1.2437, 0.987, 0.5389, 0.9406, -0.1635, 0.0173, 0.0998, -0.1069, 0.1209]}, \"token.table\": {\"Topic\": [2, 1, 2, 1, 2, 3, 1, 2, 3, 1, 1, 2, 3, 2, 3, 1, 2, 2, 1, 3, 3, 1, 2, 3, 4, 3, 1, 3, 4, 1, 2, 3, 2, 4, 3, 1, 2, 3, 4, 1, 3, 3, 1, 2, 4, 1, 2, 4, 1, 1, 2, 4, 1, 2, 2, 3, 2, 3, 1, 2, 3, 4, 2, 3, 1, 2, 3, 4, 1, 2, 1, 2, 4, 1, 3, 2, 4, 2, 4, 1, 3, 4, 1, 4, 1, 2, 3, 4, 1, 3, 1, 2, 3, 4, 1, 3, 3, 2, 3, 2, 4, 4, 2, 3, 4, 4, 1, 3, 4, 2, 3, 4, 1, 1, 4, 2, 4, 4, 2, 1, 2, 4, 4, 1, 2, 3, 1, 4, 1, 2, 4, 1, 1, 1, 2, 4, 1, 2, 2, 1, 2, 3, 4, 1, 1, 2, 3, 3, 1, 3, 1, 2, 4, 4, 1, 2, 3, 4, 4, 1, 2, 3, 4, 1, 3, 4, 3, 4, 1, 2, 3, 4, 1, 2, 3, 1, 2, 3, 4, 1, 1, 2, 4, 1, 2, 3, 4, 1, 2, 4, 1, 3, 4, 1, 2, 3, 4, 1, 2, 3, 4, 1, 2, 1, 4, 1, 2, 4, 2, 4, 1, 1, 2, 3, 1, 2, 3, 4, 4, 2, 1, 2, 4, 1, 4, 3, 3, 1, 2, 3, 2, 1, 2, 3, 1, 2, 3, 4, 1, 2, 3, 4, 1, 3, 1, 2, 3, 4, 1, 3, 1, 2, 4, 1, 3, 2, 3, 3, 1, 1, 3, 1, 2, 3, 4, 1, 2, 3, 4, 1, 2, 3, 4, 2, 2, 4, 1, 2, 3, 1, 2, 3, 1, 2, 3, 1, 4, 1, 1, 2, 3, 4, 2, 3, 4, 1, 1, 3, 3, 3, 1, 4, 3, 2, 1, 2, 3, 4, 2, 2, 3, 1, 2, 4, 2, 2, 1, 4, 3, 2, 4, 1, 2, 3, 1, 2, 3, 4, 1, 1, 2, 3, 4, 2, 1, 1, 3, 3, 1, 2, 3, 1, 2, 4, 1, 2, 4, 3, 1, 2, 3, 2, 1, 1, 2, 3, 4, 4, 1, 3, 3, 1, 2, 1, 3, 1, 4, 1, 1, 3, 2, 3, 4, 2, 1, 3, 1, 2, 1, 2, 3, 1, 2, 3, 1, 2, 3, 4, 1, 2, 3, 4, 4, 1, 2, 3, 4, 1, 4, 4, 4, 1, 2, 3, 4, 1, 3, 4, 1, 2, 3, 4, 1, 2, 3, 4, 3, 4, 2, 4, 1, 4, 1, 2, 3, 4, 4, 4, 4, 1, 2, 1, 2, 4, 1, 2, 3, 2, 1, 3, 1, 1, 2, 3, 4, 4, 1, 2, 3, 4, 1, 2, 3, 1, 2, 2, 2, 4], \"Freq\": [0.9622439531941517, 0.1157681278532222, 0.8682609588991665, 0.8277168433185863, 0.11824526333122662, 0.05912263166561331, 0.8916829758566861, 0.03715345732736192, 0.07430691465472385, 0.9832494603926425, 0.15511133693783444, 0.8014085741788113, 0.05170377897927815, 0.9638389683658478, 0.936634502270165, 0.920865022064388, 0.9858012586822925, 0.9900310085416711, 0.8698903297721763, 0.11598537730295684, 0.925515025892155, 0.378653700536241, 0.0378653700536241, 0.2271922203217446, 0.3407883304826169, 0.9406385786628192, 0.952799996636719, 0.9575352807700372, 0.8829239475517702, 0.5580956763072646, 0.10530107100137069, 0.3369634272043862, 0.6538024141964321, 0.3269012070982161, 0.9713745456835114, 0.14761968505475645, 0.3116415573378191, 0.4592612423925756, 0.08201093614153135, 0.9463908770864051, 0.9384395275596056, 0.962165219514044, 0.1698509305342714, 0.806791920037789, 0.9211228436305632, 0.17480856739562023, 0.7341959830616049, 0.08740428369781011, 0.9915304786758132, 0.2659907725831055, 0.7270414450604884, 0.017732718172207035, 0.9196551394907352, 0.07074270303774886, 0.9834583137370194, 0.9900756126247927, 0.9625500302461978, 0.9763901818647942, 0.5359898560678327, 0.15045329293132145, 0.2915032550544353, 0.01880666161641518, 0.8941330542616727, 0.08128482311469752, 0.4023488075024172, 0.4642486240412506, 0.09284972480825013, 0.04126654435922228, 0.964510502688995, 0.9831983136372278, 0.16919298909930494, 0.7976240914681518, 0.02417042701418642, 0.2975594031438169, 0.7001397721030986, 0.42047690436851654, 0.5886676661159231, 0.992249120623605, 0.9141785942873183, 0.9551205232709532, 0.030810339460353327, 0.030810339460353327, 0.9572307249560138, 0.05038056447136915, 0.5511374784312231, 0.15746785098034946, 0.27994284618728793, 0.008748213943352748, 0.2787618140954544, 0.7123913026883836, 0.15863847220862057, 0.2643974536810343, 0.10575898147241371, 0.42303592588965483, 0.10342543968658843, 0.8963538106170997, 0.9876416126231731, 0.9332336357510094, 0.9858266701179569, 0.551583600829907, 0.4412668806639256, 0.9418428012119506, 0.09767698352139265, 0.8790928516925337, 0.8995272901447141, 0.9197643849787372, 0.29819667260499927, 0.09939889086833309, 0.6957922360783316, 0.19423361542393916, 0.15538689233915132, 0.6215475693566053, 0.9712321363110189, 0.9912270131494821, 0.9625287434370196, 0.500416186121268, 0.500416186121268, 0.9613711306796194, 0.973977851616678, 0.18866632720247178, 0.7074987270092692, 0.11791645450154485, 0.9155315319391655, 0.6941283477021825, 0.19088529561810016, 0.10411925215532737, 0.9350919342398284, 0.0333961405085653, 0.19152890046517798, 0.5745867013955339, 0.23941112558147248, 0.9161835290990886, 0.9609228086478384, 0.9844791080741405, 0.65660917786257, 0.328304588931285, 0.11508924339297837, 0.8631693254473377, 0.9846149792201935, 0.2354491809150471, 0.3384581975653802, 0.3237426237581898, 0.10300901665033312, 0.9862372995155302, 0.6488657630214737, 0.11284621965590848, 0.22569243931181696, 0.9800082352579866, 0.7217228724082138, 0.2706460771530802, 0.07141863747989359, 0.714186374798936, 0.21425591243968078, 0.8583478778225226, 0.600330366009541, 0.21440370214626467, 0.10005506100159017, 0.08576148085850586, 0.9113291344609046, 0.4670826679868122, 0.15569422266227073, 0.3277773108679384, 0.049166596630190754, 0.4047836163489833, 0.45538156839260624, 0.13492787211632776, 0.9184241988540711, 0.06888181491405533, 0.5147173224760095, 0.2083379638593372, 0.25735866123800477, 0.024510348689333786, 0.28987459999043946, 0.23189967999235156, 0.48312433331739907, 0.6257784083213662, 0.16467852850562267, 0.13174282280449814, 0.08233926425281134, 0.9444523070625982, 0.9722401798859287, 0.9616260254100741, 0.019625020926736205, 0.5611832458884826, 0.2061489474692385, 0.2176016667730851, 0.011452719303846583, 0.8890618407666381, 0.040411901853029, 0.040411901853029, 0.9815687572123187, 0.9514177914018199, 0.9145506604544913, 0.6249192663447392, 0.027170402884553874, 0.3124596331723696, 0.04075560432683081, 0.3843244664306174, 0.49108126266134444, 0.09608111660765435, 0.02135135924614541, 0.8843395227274513, 0.10612074272729416, 0.41289967315401815, 0.5505328975386908, 0.16522646194909985, 0.7553209689101708, 0.07081134083532852, 0.9360403246067382, 0.9360630251619085, 0.9815464709314188, 0.046967447312694255, 0.8923814989411909, 0.9495477112116305, 0.6224130008803421, 0.26798337537903616, 0.05186775007336184, 0.060512375085588814, 0.947112089740251, 0.9486537772890858, 0.21057993039840806, 0.46327584687649775, 0.3158698955976121, 0.9730293781887954, 0.8982176475329606, 0.9956447473489535, 0.9735191540610479, 0.5476919083774435, 0.39433817403175936, 0.06572302900529323, 0.9833530997584365, 0.8653966261562791, 0.05769310841041861, 0.07692414454722481, 0.8714056029451365, 0.037887200128049414, 0.09471800032012352, 0.9097466941915925, 0.3642898155363854, 0.07589371157008029, 0.5008984963625299, 0.06071496925606423, 0.06738548391810163, 0.9433967748534229, 0.41727067727918715, 0.32097744406091316, 0.21398496270727546, 0.042796992541455095, 0.9175717750212425, 0.04587858875106213, 0.6131255163835968, 0.24153429433293205, 0.13005692771773264, 0.9935265988206587, 0.9715579099890075, 0.9583048452799352, 0.9121940467294894, 0.9602118954533021, 0.9631607163100409, 0.811884731910178, 0.15613167921349577, 0.18632563754644363, 0.4471815301114647, 0.2484341833952582, 0.09937367335810328, 0.24170598949102068, 0.5774087526729939, 0.1678513815909866, 0.013428110527278927, 0.32145720674971395, 0.41330212296391794, 0.13776737432130598, 0.12245988828560532, 0.9399189864780781, 0.9877139098729404, 0.9136987775144323, 0.47239909986035333, 0.33067936990224733, 0.18895963994414133, 0.4809460631821991, 0.13403414875569483, 0.3863337228840616, 0.0926603859780953, 0.030886795326031766, 0.8802736667919053, 0.902245203593598, 0.045112260179679904, 0.9684006618645646, 0.6281513339531639, 0.11926924062401846, 0.22263591583150114, 0.03180513083307159, 0.3305718597065182, 0.1652859298532591, 0.49585778955977733, 0.9335900470264487, 0.023461116532892384, 0.9619057778485878, 0.9458525728487972, 0.9449849503603218, 0.9843267844999042, 0.8997760917618564, 0.9967682690287792, 0.9795892319895744, 0.4168977316102861, 0.35899526888663524, 0.13896591053676205, 0.08106344781311119, 0.9903116608390427, 0.966581153227075, 0.9890199812814132, 0.34045850924922705, 0.5992069762786396, 0.054473361479876324, 0.9588147179611239, 0.9984525628268296, 0.9356804487717709, 0.055040026398339464, 0.9454036278563704, 0.4122424423319105, 0.5668333582063769, 0.4563284210563218, 0.0217299248122058, 0.5215181954929392, 0.15939473551253797, 0.7286616480573164, 0.09108270600716455, 0.022770676501791137, 0.9503939069237249, 0.7962526801786262, 0.15482691003473287, 0.02211813000496184, 0.02211813000496184, 0.9769319302382179, 0.9505942443455134, 0.11659999402787788, 0.8744999552090841, 0.9136828085827746, 0.9440009241874233, 0.9205100364201872, 0.08368273058365339, 0.2643216197738371, 0.6841265452969902, 0.04664499172479478, 0.05119516933331907, 0.9215130479997433, 0.8770087630685993, 0.9780688627037694, 0.7854007785788498, 0.06160006106500783, 0.15400015266251957, 0.9528680161948582, 0.9247378590999099, 0.47944352746834007, 0.24482222679234386, 0.2346213006759962, 0.040803704465390646, 0.9593935192143851, 0.3811614044903865, 0.6018337965637681, 0.9582007580629262, 0.9389091556882895, 0.9307497866698663, 0.29995292905061094, 0.6936411484295378, 0.36745785233542816, 0.6430512415869993, 0.9406555932807357, 0.4327916784410689, 0.5688119202368335, 0.9794829045259316, 0.9855256658723741, 0.8977775180598597, 0.9822959271635588, 0.28608121855590823, 0.7152030463897706, 0.10453056834745297, 0.8710880695621082, 0.8022031351016318, 0.07520654391577798, 0.12534423985962997, 0.9668553345699055, 0.9751397630074389, 0.9454005004609833, 0.6108327947722274, 0.28065290570615853, 0.04952698335991033, 0.04952698335991033, 0.30613507489470565, 0.5233922248199806, 0.14812987494905114, 0.029625974989810226, 0.9201784291705384, 0.35959064471632673, 0.41096073681865913, 0.23116541446049577, 0.8884093637293481, 0.0925485023816492, 0.8329365214348429, 0.8398604910495708, 0.9030097966915143, 0.34380499542464543, 0.331302995591022, 0.15002399800348165, 0.1750279976707286, 0.777913499727508, 0.15056390317306606, 0.07528195158653303, 0.520832603730207, 0.2332086285359136, 0.21766138663351936, 0.031094483804788478, 0.6071949851707884, 0.09587289239538764, 0.2556610463877004, 0.03195763079846255, 0.9301750014703926, 0.8822129449944086, 0.9670526309002511, 0.862933626595252, 0.8700680415563865, 0.09000703878169516, 0.5120941892983717, 0.2735845668854315, 0.1823897112569543, 0.03507494447249122, 0.8591290608109177, 0.9124530591510449, 0.9041225644248484, 0.810185643248209, 0.17185756068901403, 0.17339867892796348, 0.8091938349971629, 0.01926651988088483, 0.6806404718429857, 0.17016011796074643, 0.15469101632795132, 0.9691725428578165, 0.05792727612151725, 0.926836417944276, 0.9773426710054898, 0.4540782233147647, 0.41914912921362896, 0.058215156835226246, 0.06985818820227149, 0.9270269476127369, 0.6222638413307688, 0.27124321288777103, 0.07977741555522677, 0.031910966222090706, 0.31937415291396315, 0.5823881611960504, 0.09393357438645974, 0.1660300547189776, 0.8301502735948881, 0.9592998142083888, 0.6145371725928961, 0.3781767215956284], \"Term\": [\"act\", \"action\", \"action\", \"april\", \"april\", \"april\", \"august\", \"august\", \"august\", \"awesome\", \"bag\", \"bag\", \"bag\", \"ban\", \"bergen\", \"bike\", \"bill\", \"billion\", \"bio\", \"bio\", \"bk\", \"black\", \"black\", \"black\", \"black\", \"blend\", \"bonnies\", \"breakfast\", \"brew\", \"brooklyn\", \"brooklyn\", \"brooklyn\", \"budget\", \"budget\", \"cafe\", \"call\", \"call\", \"call\", \"call\", \"canoe\", \"carroll\", \"census\", \"change\", \"change\", \"chelsea\", \"city\", \"city\", \"city\", \"cjg\", \"clean\", \"clean\", \"clean\", \"click\", \"click\", \"climate\", \"clothe\", \"coastal\", \"coffee\", \"come\", \"come\", \"come\", \"come\", \"communities\", \"communities\", \"community\", \"community\", \"community\", \"community\", \"compost\", \"congrats\", \"congratulations\", \"congratulations\", \"congratulations\", \"corner\", \"corner\", \"coronavirus\", \"coronavirus\", \"crisis\", \"crowd\", \"dance\", \"dance\", \"dance\", \"date\", \"date\", \"day\", \"day\", \"day\", \"day\", \"dd\", \"dd\", \"de\", \"de\", \"de\", \"de\", \"delicious\", \"delicious\", \"delivery\", \"development\", \"din\", \"discussion\", \"discussion\", \"drill\", \"ds\", \"ds\", \"dsd\", \"du\", \"dujourbakery\", \"dujourbakery\", \"dujourbakery\", \"early\", \"early\", \"early\", \"earth\", \"easter\", \"educators\", \"el\", \"el\", \"elevator\", \"environment\", \"environmental\", \"environmental\", \"environmental\", \"equal\", \"event\", \"event\", \"event\", \"events\", \"events\", \"families\", \"families\", \"families\", \"feb\", \"festival\", \"fifth\", \"fight\", \"fight\", \"fish\", \"fish\", \"flood\", \"food\", \"food\", \"food\", \"food\", \"fort\", \"free\", \"free\", \"free\", \"french\", \"fun\", \"fun\", \"fund\", \"fund\", \"fund\", \"fundraise\", \"garden\", \"garden\", \"garden\", \"garden\", \"generosity\", \"get\", \"get\", \"get\", \"get\", \"get_repost\", \"get_repost\", \"get_repost\", \"gift\", \"gift\", \"go\", \"go\", \"go\", \"go\", \"good\", \"good\", \"good\", \"gowanus\", \"gowanus\", \"gowanus\", \"gowanus\", \"grade\", \"grand\", \"grant\", \"grant\", \"great\", \"great\", \"great\", \"great\", \"greene\", \"greene\", \"greene\", \"grill\", \"habit\", \"hair\", \"happy\", \"happy\", \"happy\", \"happy\", \"help\", \"help\", \"help\", \"help\", \"high\", \"high\", \"hire\", \"hire\", \"hudson\", \"hudson\", \"hudson\", \"humanities\", \"independence\", \"jazz\", \"jersey\", \"jersey\", \"johns\", \"join\", \"join\", \"join\", \"join\", \"jour\", \"justice\", \"khcc\", \"khcc\", \"khcc\", \"kick\", \"kimble\", \"l\", \"le\", \"learn\", \"learn\", \"learn\", \"lend\", \"line\", \"line\", \"line\", \"link\", \"link\", \"link\", \"loan\", \"love\", \"love\", \"love\", \"love\", \"lunch\", \"lunch\", \"make\", \"make\", \"make\", \"make\", \"market\", \"market\", \"may\", \"may\", \"may\", \"member\", \"menu\", \"million\", \"missamericanpienyc\", \"monro\", \"montrose\", \"music\", \"music\", \"need\", \"need\", \"need\", \"need\", \"new\", \"new\", \"new\", \"new\", \"nyc\", \"nyc\", \"nyc\", \"nyc\", \"nys\", \"ocean\", \"offshore\", \"one\", \"one\", \"one\", \"open\", \"open\", \"open\", \"order\", \"order\", \"order\", \"page\", \"page\", \"parade\", \"park\", \"park\", \"park\", \"park\", \"pay\", \"pay\", \"pay\", \"peek\", \"pick\", \"pick\", \"pickup\", \"pie\", \"pink\", \"pitasandsticks\", \"pizza\", \"plastic\", \"please\", \"please\", \"please\", \"please\", \"pollution\", \"preserve\", \"print\", \"program\", \"program\", \"program\", \"propose\", \"protect\", \"ps\", \"ps\", \"pub\", \"puente\", \"puente\", \"ready\", \"ready\", \"ready\", \"receive\", \"receive\", \"receive\", \"receive\", \"recycle\", \"register\", \"register\", \"register\", \"register\", \"report\", \"reservoir\", \"restaurant\", \"restaurant\", \"ribbon\", \"ridgewood\", \"rise\", \"rise\", \"river\", \"river\", \"river\", \"rivers\", \"rivers\", \"roof\", \"santa\", \"saturday\", \"saturday\", \"saturday\", \"sea\", \"seal\", \"see\", \"see\", \"see\", \"see\", \"senada\", \"shop\", \"shop\", \"shophabit\", \"sight\", \"simple\", \"slope\", \"slope\", \"snow\", \"snow\", \"somethingelse_bk\", \"st\", \"st\", \"state\", \"sterling\", \"steve\", \"stone\", \"store\", \"store\", \"stream\", \"stream\", \"street\", \"street\", \"street\", \"stroll\", \"study\", \"succulent\", \"summer\", \"summer\", \"summer\", \"summer\", \"support\", \"support\", \"support\", \"support\", \"supporters\", \"take\", \"take\", \"take\", \"taylor\", \"teachers\", \"teachers\", \"teen\", \"teens\", \"thank\", \"thank\", \"thank\", \"thank\", \"ticket\", \"ticket\", \"ticket\", \"today\", \"today\", \"today\", \"today\", \"tomorrow\", \"tomorrow\", \"tomorrow\", \"tomorrow\", \"toy\", \"true\", \"trump\", \"unless\", \"update\", \"update\", \"us\", \"us\", \"us\", \"us\", \"velvette\", \"velvettebrew\", \"virus\", \"volunteer\", \"volunteer\", \"water\", \"water\", \"water\", \"week\", \"week\", \"week\", \"wildlife\", \"wine\", \"wine\", \"winter\", \"work\", \"work\", \"work\", \"work\", \"wythe\", \"year\", \"year\", \"year\", \"year\", \"years\", \"years\", \"years\", \"york\", \"york\", \"yorkers\", \"youth\", \"youth\"]}, \"R\": 30, \"lambda.step\": 0.01, \"plot.opts\": {\"xlab\": \"PC1\", \"ylab\": \"PC2\"}, \"topic.order\": [3, 1, 4, 2]};\n",
              "\n",
              "function LDAvis_load_lib(url, callback){\n",
              "  var s = document.createElement('script');\n",
              "  s.src = url;\n",
              "  s.async = true;\n",
              "  s.onreadystatechange = s.onload = callback;\n",
              "  s.onerror = function(){console.warn(\"failed to load library \" + url);};\n",
              "  document.getElementsByTagName(\"head\")[0].appendChild(s);\n",
              "}\n",
              "\n",
              "if(typeof(LDAvis) !== \"undefined\"){\n",
              "   // already loaded: just create the visualization\n",
              "   !function(LDAvis){\n",
              "       new LDAvis(\"#\" + \"ldavis_el611404707495299366222789671\", ldavis_el611404707495299366222789671_data);\n",
              "   }(LDAvis);\n",
              "}else if(typeof define === \"function\" && define.amd){\n",
              "   // require.js is available: use it to load d3/LDAvis\n",
              "   require.config({paths: {d3: \"https://d3js.org/d3.v5\"}});\n",
              "   require([\"d3\"], function(d3){\n",
              "      window.d3 = d3;\n",
              "      LDAvis_load_lib(\"https://cdn.jsdelivr.net/gh/bmabey/pyLDAvis@3.3.1/pyLDAvis/js/ldavis.v3.0.0.js\", function(){\n",
              "        new LDAvis(\"#\" + \"ldavis_el611404707495299366222789671\", ldavis_el611404707495299366222789671_data);\n",
              "      });\n",
              "    });\n",
              "}else{\n",
              "    // require.js not available: dynamically load d3 & LDAvis\n",
              "    LDAvis_load_lib(\"https://d3js.org/d3.v5.js\", function(){\n",
              "         LDAvis_load_lib(\"https://cdn.jsdelivr.net/gh/bmabey/pyLDAvis@3.3.1/pyLDAvis/js/ldavis.v3.0.0.js\", function(){\n",
              "                 new LDAvis(\"#\" + \"ldavis_el611404707495299366222789671\", ldavis_el611404707495299366222789671_data);\n",
              "            })\n",
              "         });\n",
              "}\n",
              "</script>"
            ],
            "text/plain": [
              "PreparedData(topic_coordinates=              x         y  topics  cluster       Freq\n",
              "topic                                                \n",
              "2      0.070308  0.088824       1        1  32.899715\n",
              "0     -0.105266  0.098974       2        1  31.730350\n",
              "3      0.131962 -0.061336       3        1  23.251905\n",
              "1     -0.097005 -0.126462       4        1  12.118031, topic_info=           Term        Freq       Total Category  logprob  loglift\n",
              "194       order   64.000000   64.000000  Default  30.0000  30.0000\n",
              "192    delivery   43.000000   43.000000  Default  29.0000  29.0000\n",
              "56      protect   54.000000   54.000000  Default  28.0000  28.0000\n",
              "196        pick   42.000000   42.000000  Default  27.0000  27.0000\n",
              "568       water  103.000000  103.000000  Default  26.0000  26.0000\n",
              "..          ...         ...         ...      ...      ...      ...\n",
              "276        need    8.284168   80.504219   Topic4  -6.6920  -0.1635\n",
              "19          nyc    8.054762   65.327513   Topic4  -6.7200   0.0173\n",
              "572  get_repost    7.939236   59.290937   Topic4  -6.7345   0.0998\n",
              "485        food    7.399964   67.955216   Topic4  -6.8048  -0.1069\n",
              "328         may    7.360414   53.822585   Topic4  -6.8102   0.1209\n",
              "\n",
              "[288 rows x 6 columns], token_table=      Topic      Freq     Term\n",
              "term                          \n",
              "1926      2  0.962244      act\n",
              "155       1  0.115768   action\n",
              "155       2  0.868261   action\n",
              "818       1  0.827717    april\n",
              "818       2  0.118245    april\n",
              "...     ...       ...      ...\n",
              "26        1  0.166030     york\n",
              "26        2  0.830150     york\n",
              "2256      2  0.959300  yorkers\n",
              "1668      2  0.614537    youth\n",
              "1668      4  0.378177    youth\n",
              "\n",
              "[458 rows x 3 columns], R=30, lambda_step=0.01, plot_opts={'xlab': 'PC1', 'ylab': 'PC2'}, topic_order=[3, 1, 4, 2])"
            ]
          },
          "execution_count": 29,
          "metadata": {},
          "output_type": "execute_result"
        }
      ],
      "source": [
        "LDAvis_prepared_3 = gensimvis.prepare(lda_model_tfidf, corpus_tfidf, id2word)\n",
        "LDAvis_prepared_3"
      ]
    },
    {
      "cell_type": "code",
      "execution_count": null,
      "metadata": {
        "colab": {
          "base_uri": "https://localhost:8080/"
        },
        "id": "wPUKX4pGNf3C",
        "outputId": "194c9e2c-5e27-49d9-8643-4116015dc3e6"
      },
      "outputs": [
        {
          "name": "stdout",
          "output_type": "stream",
          "text": [
            "\n",
            "Score: 0.528406023979187\t \n",
            "Topic: 0.004*\"order\" + 0.004*\"open\" + 0.004*\"st\" + 0.003*\"delivery\"\n",
            "\n",
            "Score: 0.4327649474143982\t \n",
            "Topic: 0.004*\"park\" + 0.004*\"us\" + 0.004*\"join\" + 0.004*\"today\"\n",
            "\n",
            "Score: 0.01952865533530712\t \n",
            "Topic: 0.005*\"new\" + 0.005*\"water\" + 0.003*\"protect\" + 0.003*\"thank\"\n",
            "\n",
            "Score: 0.01930043287575245\t \n",
            "Topic: 0.004*\"thank\" + 0.002*\"early\" + 0.002*\"khcc\" + 0.002*\"el\"\n"
          ]
        }
      ],
      "source": [
        "for index, score in sorted(lda_model_tfidf[corpus[3000]], key=lambda tup: -1*tup[1]):\n",
        "    print(\"\\nScore: {}\\t \\nTopic: {}\".format(score, lda_model_tfidf.print_topic(index, 4)))"
      ]
    },
    {
      "cell_type": "code",
      "execution_count": null,
      "metadata": {
        "colab": {
          "base_uri": "https://localhost:8080/"
        },
        "id": "7x52HgFCNf3C",
        "outputId": "03f7e547-6452-4374-a987-f8346a916573"
      },
      "outputs": [
        {
          "name": "stdout",
          "output_type": "stream",
          "text": [
            "Coherence Score:  0.30371951254730767\n"
          ]
        }
      ],
      "source": [
        "# Compute Coherence Score\n",
        "coherence_model_lda_3 = CoherenceModel(model=lda_model_tfidf, texts=train_list_of_lists, dictionary=id2word, coherence='c_v')\n",
        "coherence_lda_3 = coherence_model_lda_3.get_coherence()\n",
        "print('Coherence Score: ', coherence_lda_3)"
      ]
    },
    {
      "cell_type": "code",
      "execution_count": null,
      "metadata": {
        "id": "uxiVf1UZNf3C"
      },
      "outputs": [],
      "source": [
        "# supporting function\n",
        "def compute_coherence_values(corpus, dictionary, k, a, b):\n",
        "    \n",
        "    lda_model = gensim.models.LdaMulticore(corpus=corpus,\n",
        "                                           id2word=dictionary,\n",
        "                                           num_topics=k, \n",
        "                                           random_state=42,\n",
        "                                           chunksize=100,\n",
        "                                           passes=10,\n",
        "                                           alpha=a,\n",
        "                                           eta=b)\n",
        "    \n",
        "    coherence_model_lda = CoherenceModel(model=lda_model, texts=train_list_of_lists, dictionary=id2word, coherence='c_v')\n",
        "    \n",
        "    return coherence_model_lda.get_coherence()"
      ]
    },
    {
      "cell_type": "code",
      "execution_count": null,
      "metadata": {
        "colab": {
          "base_uri": "https://localhost:8080/"
        },
        "id": "baiSVxQiNf3C",
        "outputId": "830a6e6b-1a0a-4cb8-a8a9-a8ba9811de43"
      },
      "outputs": [
        {
          "name": "stderr",
          "output_type": "stream",
          "text": [
            "\n",
            "  0%|          | 0/540 [00:16<?, ?it/s]\n",
            "\n",
            "  0%|          | 1/540 [01:15<11:20:50, 75.79s/it]\u001b[A\n",
            "  0%|          | 2/540 [02:33<11:28:21, 76.77s/it]\u001b[A\n",
            "  1%|          | 3/540 [03:51<11:33:01, 77.43s/it]\u001b[A\n",
            "  1%|          | 4/540 [05:16<11:58:54, 80.48s/it]\u001b[A\n",
            "  1%|          | 5/540 [06:44<12:22:58, 83.32s/it]\u001b[A\n",
            "  1%|          | 6/540 [08:15<12:42:42, 85.70s/it]\u001b[A\n",
            "  1%|▏         | 7/540 [09:48<13:03:54, 88.24s/it]\u001b[A\n",
            "  1%|▏         | 8/540 [11:25<13:27:43, 91.10s/it]\u001b[A\n",
            "  2%|▏         | 9/540 [13:06<13:53:31, 94.18s/it]\u001b[A\n",
            "  2%|▏         | 10/540 [14:50<14:16:39, 96.98s/it]\u001b[A\n",
            "  2%|▏         | 11/540 [16:24<14:08:12, 96.21s/it]\u001b[A\n",
            "  2%|▏         | 12/540 [17:38<13:08:06, 89.56s/it]\u001b[A\n",
            "  2%|▏         | 13/540 [18:54<12:28:50, 85.26s/it]\u001b[A\n",
            "  3%|▎         | 14/540 [20:11<12:04:57, 82.70s/it]\u001b[A\n",
            "  3%|▎         | 15/540 [21:34<12:05:23, 82.90s/it]\u001b[A\n",
            "  3%|▎         | 16/540 [23:08<12:34:15, 86.37s/it]\u001b[A\n",
            "  3%|▎         | 17/540 [24:38<12:41:53, 87.41s/it]\u001b[A\n",
            "  3%|▎         | 18/540 [26:10<12:51:02, 88.63s/it]\u001b[A\n",
            "  4%|▎         | 19/540 [27:44<13:04:43, 90.37s/it]\u001b[A\n",
            "  4%|▎         | 20/540 [29:19<13:16:06, 91.86s/it]\u001b[A\n",
            "  4%|▍         | 21/540 [30:54<13:20:59, 92.60s/it]\u001b[A\n",
            "  4%|▍         | 22/540 [32:24<13:12:36, 91.81s/it]\u001b[A\n",
            "  4%|▍         | 23/540 [33:37<12:23:52, 86.33s/it]\u001b[A\n",
            "  4%|▍         | 24/540 [34:54<11:56:59, 83.37s/it]\u001b[A\n",
            "  5%|▍         | 25/540 [36:12<11:42:12, 81.81s/it]\u001b[A\n",
            "  5%|▍         | 26/540 [37:38<11:51:23, 83.04s/it]\u001b[A\n",
            "  5%|▌         | 27/540 [39:08<12:07:56, 85.14s/it]\u001b[A\n",
            "  5%|▌         | 28/540 [40:40<12:25:35, 87.37s/it]\u001b[A\n",
            "  5%|▌         | 29/540 [42:15<12:42:02, 89.48s/it]\u001b[A\n",
            "  6%|▌         | 30/540 [44:02<13:24:29, 94.65s/it]\u001b[A\n",
            "  6%|▌         | 31/540 [45:42<13:36:27, 96.24s/it]\u001b[A\n",
            "  6%|▌         | 32/540 [47:19<13:38:14, 96.64s/it]\u001b[A\n",
            "  6%|▌         | 33/540 [48:51<13:24:40, 95.23s/it]\u001b[A\n",
            "  6%|▋         | 34/540 [50:03<12:24:14, 88.25s/it]\u001b[A\n",
            "  6%|▋         | 35/540 [51:26<12:08:53, 86.60s/it]\u001b[A\n",
            "  7%|▋         | 36/540 [52:49<11:57:47, 85.45s/it]\u001b[A\n",
            "  7%|▋         | 37/540 [54:15<11:57:37, 85.60s/it]\u001b[A\n",
            "  7%|▋         | 38/540 [55:47<12:14:30, 87.79s/it]\u001b[A\n",
            "  7%|▋         | 39/540 [57:23<12:32:45, 90.15s/it]\u001b[A\n",
            "  7%|▋         | 40/540 [59:00<12:49:04, 92.29s/it]\u001b[A\n",
            "  8%|▊         | 41/540 [1:00:40<13:06:26, 94.56s/it]\u001b[A\n",
            "  8%|▊         | 42/540 [1:02:20<13:18:06, 96.16s/it]\u001b[A\n",
            "  8%|▊         | 43/540 [1:04:03<13:34:01, 98.27s/it]\u001b[A\n",
            "  8%|▊         | 44/540 [1:05:39<13:26:14, 97.53s/it]\u001b[A\n",
            "  8%|▊         | 45/540 [1:06:48<12:13:32, 88.91s/it]\u001b[A\n",
            "  9%|▊         | 46/540 [1:08:05<11:43:16, 85.42s/it]\u001b[A\n",
            "  9%|▊         | 47/540 [1:09:26<11:30:31, 84.04s/it]\u001b[A\n",
            "  9%|▉         | 48/540 [1:10:50<11:28:31, 83.97s/it]\u001b[A\n",
            "  9%|▉         | 49/540 [1:12:20<11:43:28, 85.96s/it]\u001b[A\n",
            "  9%|▉         | 50/540 [1:13:55<12:02:57, 88.52s/it]\u001b[A\n",
            "  9%|▉         | 51/540 [1:15:31<12:20:38, 90.88s/it]\u001b[A\n",
            " 10%|▉         | 52/540 [1:17:09<12:36:08, 92.97s/it]\u001b[A\n",
            " 10%|▉         | 53/540 [1:18:50<12:54:29, 95.42s/it]\u001b[A\n",
            " 10%|█         | 54/540 [1:20:31<13:06:26, 97.09s/it]\u001b[A\n",
            " 10%|█         | 55/540 [1:22:03<12:52:09, 95.52s/it]\u001b[A"
          ]
        }
      ],
      "source": [
        "grid = {}\n",
        "grid['Validation_Set'] = {}\n",
        "\n",
        "# Topics range\n",
        "min_topics = 2\n",
        "max_topics = 11\n",
        "step_size = 1\n",
        "topics_range = range(min_topics, max_topics, step_size)\n",
        "\n",
        "# Alpha parameter\n",
        "alpha = list(np.arange(0.01, 1, 0.1))\n",
        "alpha.append('symmetric')\n",
        "alpha.append('asymmetric')\n",
        "\n",
        "# Beta parameter\n",
        "beta = list(np.arange(0.01, 1, 0.1))\n",
        "beta.append('symmetric')\n",
        "\n",
        "# Validation sets\n",
        "num_of_docs = len(corpus)\n",
        "corpus_sets = [# gensim.utils.ClippedCorpus(corpus, num_of_docs*0.25), \n",
        "               # gensim.utils.ClippedCorpus(corpus, num_of_docs*0.5), \n",
        "               gensim.utils.ClippedCorpus(corpus, int(num_of_docs*0.75)), \n",
        "               corpus]\n",
        "corpus_title = ['75% Corpus', '100% Corpus']\n",
        "model_results = {'Validation_Set': [],\n",
        "                 'Topics': [],\n",
        "                 'Alpha': [],\n",
        "                 'Beta': [],\n",
        "                 'Coherence': []\n",
        "                }\n",
        "# Can take a long time to run\n",
        "if 1 == 1:\n",
        "    pbar = tqdm.tqdm(total=540)\n",
        "    \n",
        "    # iterate through validation corpuses\n",
        "    for i in range(len(corpus_sets)):\n",
        "        # iterate through number of topics\n",
        "        for k in topics_range:\n",
        "            # iterate through alpha values\n",
        "            for a in alpha:\n",
        "                # iterare through beta values\n",
        "                for b in beta:\n",
        "                    # get the coherence score for the given parameters\n",
        "                    cv = compute_coherence_values(corpus=corpus_sets[i], dictionary=id2word, \n",
        "                                                  k=k, a=a, b=b)\n",
        "                    # Save the model results\n",
        "                    model_results['Validation_Set'].append(corpus_title[i])\n",
        "                    model_results['Topics'].append(k)\n",
        "                    model_results['Alpha'].append(a)\n",
        "                    model_results['Beta'].append(b)\n",
        "                    model_results['Coherence'].append(cv)\n",
        "                    \n",
        "                    pbar.update(1)\n",
        "    pd.DataFrame(model_results).to_csv('lda_tuning_results_2.csv', index=False)\n",
        "    pbar.close()"
      ]
    },
    {
      "cell_type": "code",
      "execution_count": 17,
      "metadata": {},
      "outputs": [],
      "source": [
        "pd.set_option('display.max_columns', None)\n",
        "pd.set_option('display.max_rows', None)\n",
        "pd.set_option('display.max_colwidth', None)"
      ]
    },
    {
      "cell_type": "code",
      "execution_count": 21,
      "metadata": {
        "id": "eIdtl1qmNf3D"
      },
      "outputs": [
        {
          "data": {
            "text/html": [
              "<div>\n",
              "<style scoped>\n",
              "    .dataframe tbody tr th:only-of-type {\n",
              "        vertical-align: middle;\n",
              "    }\n",
              "\n",
              "    .dataframe tbody tr th {\n",
              "        vertical-align: top;\n",
              "    }\n",
              "\n",
              "    .dataframe thead th {\n",
              "        text-align: right;\n",
              "    }\n",
              "</style>\n",
              "<table border=\"1\" class=\"dataframe\">\n",
              "  <thead>\n",
              "    <tr style=\"text-align: right;\">\n",
              "      <th></th>\n",
              "      <th>Validation_Set</th>\n",
              "      <th>Topics</th>\n",
              "      <th>Alpha</th>\n",
              "      <th>Beta</th>\n",
              "      <th>Coherence</th>\n",
              "    </tr>\n",
              "  </thead>\n",
              "  <tbody>\n",
              "    <tr>\n",
              "      <th>0</th>\n",
              "      <td>75% Corpus</td>\n",
              "      <td>2</td>\n",
              "      <td>0.01</td>\n",
              "      <td>0.01</td>\n",
              "      <td>0.117242</td>\n",
              "    </tr>\n",
              "    <tr>\n",
              "      <th>1</th>\n",
              "      <td>75% Corpus</td>\n",
              "      <td>2</td>\n",
              "      <td>0.01</td>\n",
              "      <td>0.31</td>\n",
              "      <td>0.180934</td>\n",
              "    </tr>\n",
              "    <tr>\n",
              "      <th>2</th>\n",
              "      <td>75% Corpus</td>\n",
              "      <td>2</td>\n",
              "      <td>0.01</td>\n",
              "      <td>0.61</td>\n",
              "      <td>0.198977</td>\n",
              "    </tr>\n",
              "    <tr>\n",
              "      <th>3</th>\n",
              "      <td>75% Corpus</td>\n",
              "      <td>2</td>\n",
              "      <td>0.01</td>\n",
              "      <td>0.9099999999999999</td>\n",
              "      <td>0.195622</td>\n",
              "    </tr>\n",
              "    <tr>\n",
              "      <th>4</th>\n",
              "      <td>75% Corpus</td>\n",
              "      <td>2</td>\n",
              "      <td>0.01</td>\n",
              "      <td>symmetric</td>\n",
              "      <td>0.172741</td>\n",
              "    </tr>\n",
              "    <tr>\n",
              "      <th>5</th>\n",
              "      <td>75% Corpus</td>\n",
              "      <td>2</td>\n",
              "      <td>0.31</td>\n",
              "      <td>0.01</td>\n",
              "      <td>0.153577</td>\n",
              "    </tr>\n",
              "    <tr>\n",
              "      <th>6</th>\n",
              "      <td>75% Corpus</td>\n",
              "      <td>2</td>\n",
              "      <td>0.31</td>\n",
              "      <td>0.31</td>\n",
              "      <td>0.195611</td>\n",
              "    </tr>\n",
              "    <tr>\n",
              "      <th>7</th>\n",
              "      <td>75% Corpus</td>\n",
              "      <td>2</td>\n",
              "      <td>0.31</td>\n",
              "      <td>0.61</td>\n",
              "      <td>0.193260</td>\n",
              "    </tr>\n",
              "    <tr>\n",
              "      <th>8</th>\n",
              "      <td>75% Corpus</td>\n",
              "      <td>2</td>\n",
              "      <td>0.31</td>\n",
              "      <td>0.9099999999999999</td>\n",
              "      <td>0.189024</td>\n",
              "    </tr>\n",
              "    <tr>\n",
              "      <th>9</th>\n",
              "      <td>75% Corpus</td>\n",
              "      <td>2</td>\n",
              "      <td>0.31</td>\n",
              "      <td>symmetric</td>\n",
              "      <td>0.205633</td>\n",
              "    </tr>\n",
              "    <tr>\n",
              "      <th>10</th>\n",
              "      <td>75% Corpus</td>\n",
              "      <td>2</td>\n",
              "      <td>0.61</td>\n",
              "      <td>0.01</td>\n",
              "      <td>0.213074</td>\n",
              "    </tr>\n",
              "    <tr>\n",
              "      <th>11</th>\n",
              "      <td>75% Corpus</td>\n",
              "      <td>2</td>\n",
              "      <td>0.61</td>\n",
              "      <td>0.31</td>\n",
              "      <td>0.212723</td>\n",
              "    </tr>\n",
              "    <tr>\n",
              "      <th>12</th>\n",
              "      <td>75% Corpus</td>\n",
              "      <td>2</td>\n",
              "      <td>0.61</td>\n",
              "      <td>0.61</td>\n",
              "      <td>0.185711</td>\n",
              "    </tr>\n",
              "    <tr>\n",
              "      <th>13</th>\n",
              "      <td>75% Corpus</td>\n",
              "      <td>2</td>\n",
              "      <td>0.61</td>\n",
              "      <td>0.9099999999999999</td>\n",
              "      <td>0.185711</td>\n",
              "    </tr>\n",
              "    <tr>\n",
              "      <th>14</th>\n",
              "      <td>75% Corpus</td>\n",
              "      <td>2</td>\n",
              "      <td>0.61</td>\n",
              "      <td>symmetric</td>\n",
              "      <td>0.183794</td>\n",
              "    </tr>\n",
              "    <tr>\n",
              "      <th>15</th>\n",
              "      <td>75% Corpus</td>\n",
              "      <td>2</td>\n",
              "      <td>0.9099999999999999</td>\n",
              "      <td>0.01</td>\n",
              "      <td>0.184691</td>\n",
              "    </tr>\n",
              "    <tr>\n",
              "      <th>16</th>\n",
              "      <td>75% Corpus</td>\n",
              "      <td>2</td>\n",
              "      <td>0.9099999999999999</td>\n",
              "      <td>0.31</td>\n",
              "      <td>0.193514</td>\n",
              "    </tr>\n",
              "    <tr>\n",
              "      <th>17</th>\n",
              "      <td>75% Corpus</td>\n",
              "      <td>2</td>\n",
              "      <td>0.9099999999999999</td>\n",
              "      <td>0.61</td>\n",
              "      <td>0.194249</td>\n",
              "    </tr>\n",
              "    <tr>\n",
              "      <th>18</th>\n",
              "      <td>75% Corpus</td>\n",
              "      <td>2</td>\n",
              "      <td>0.9099999999999999</td>\n",
              "      <td>0.9099999999999999</td>\n",
              "      <td>0.199859</td>\n",
              "    </tr>\n",
              "    <tr>\n",
              "      <th>19</th>\n",
              "      <td>75% Corpus</td>\n",
              "      <td>2</td>\n",
              "      <td>0.9099999999999999</td>\n",
              "      <td>symmetric</td>\n",
              "      <td>0.194606</td>\n",
              "    </tr>\n",
              "  </tbody>\n",
              "</table>\n",
              "</div>"
            ],
            "text/plain": [
              "   Validation_Set  Topics               Alpha                Beta  Coherence\n",
              "0      75% Corpus       2                0.01                0.01   0.117242\n",
              "1      75% Corpus       2                0.01                0.31   0.180934\n",
              "2      75% Corpus       2                0.01                0.61   0.198977\n",
              "3      75% Corpus       2                0.01  0.9099999999999999   0.195622\n",
              "4      75% Corpus       2                0.01           symmetric   0.172741\n",
              "5      75% Corpus       2                0.31                0.01   0.153577\n",
              "6      75% Corpus       2                0.31                0.31   0.195611\n",
              "7      75% Corpus       2                0.31                0.61   0.193260\n",
              "8      75% Corpus       2                0.31  0.9099999999999999   0.189024\n",
              "9      75% Corpus       2                0.31           symmetric   0.205633\n",
              "10     75% Corpus       2                0.61                0.01   0.213074\n",
              "11     75% Corpus       2                0.61                0.31   0.212723\n",
              "12     75% Corpus       2                0.61                0.61   0.185711\n",
              "13     75% Corpus       2                0.61  0.9099999999999999   0.185711\n",
              "14     75% Corpus       2                0.61           symmetric   0.183794\n",
              "15     75% Corpus       2  0.9099999999999999                0.01   0.184691\n",
              "16     75% Corpus       2  0.9099999999999999                0.31   0.193514\n",
              "17     75% Corpus       2  0.9099999999999999                0.61   0.194249\n",
              "18     75% Corpus       2  0.9099999999999999  0.9099999999999999   0.199859\n",
              "19     75% Corpus       2  0.9099999999999999           symmetric   0.194606"
            ]
          },
          "execution_count": 21,
          "metadata": {},
          "output_type": "execute_result"
        }
      ],
      "source": [
        "results = pd.read_csv('lda_tuning_results.csv')\n",
        "results.head(20)"
      ]
    },
    {
      "cell_type": "code",
      "execution_count": null,
      "metadata": {
        "colab": {
          "base_uri": "https://localhost:8080/",
          "height": 81
        },
        "id": "uC0EhHvn1KKW",
        "outputId": "f9f26ab8-d269-4924-fe0b-f07c316936ae"
      },
      "outputs": [
        {
          "data": {
            "text/html": [
              "\n",
              "  <div id=\"df-0d7f6d6e-6dbc-4346-85f7-4880ef178867\">\n",
              "    <div class=\"colab-df-container\">\n",
              "      <div>\n",
              "<style scoped>\n",
              "    .dataframe tbody tr th:only-of-type {\n",
              "        vertical-align: middle;\n",
              "    }\n",
              "\n",
              "    .dataframe tbody tr th {\n",
              "        vertical-align: top;\n",
              "    }\n",
              "\n",
              "    .dataframe thead th {\n",
              "        text-align: right;\n",
              "    }\n",
              "</style>\n",
              "<table border=\"1\" class=\"dataframe\">\n",
              "  <thead>\n",
              "    <tr style=\"text-align: right;\">\n",
              "      <th></th>\n",
              "      <th>Validation_Set</th>\n",
              "      <th>Topics</th>\n",
              "      <th>Alpha</th>\n",
              "      <th>Beta</th>\n",
              "      <th>Coherence</th>\n",
              "    </tr>\n",
              "  </thead>\n",
              "  <tbody>\n",
              "    <tr>\n",
              "      <th>248</th>\n",
              "      <td>75% Corpus</td>\n",
              "      <td>10</td>\n",
              "      <td>0.31</td>\n",
              "      <td>0.9099999999999999</td>\n",
              "      <td>0.451215</td>\n",
              "    </tr>\n",
              "  </tbody>\n",
              "</table>\n",
              "</div>\n",
              "      <button class=\"colab-df-convert\" onclick=\"convertToInteractive('df-0d7f6d6e-6dbc-4346-85f7-4880ef178867')\"\n",
              "              title=\"Convert this dataframe to an interactive table.\"\n",
              "              style=\"display:none;\">\n",
              "        \n",
              "  <svg xmlns=\"http://www.w3.org/2000/svg\" height=\"24px\"viewBox=\"0 0 24 24\"\n",
              "       width=\"24px\">\n",
              "    <path d=\"M0 0h24v24H0V0z\" fill=\"none\"/>\n",
              "    <path d=\"M18.56 5.44l.94 2.06.94-2.06 2.06-.94-2.06-.94-.94-2.06-.94 2.06-2.06.94zm-11 1L8.5 8.5l.94-2.06 2.06-.94-2.06-.94L8.5 2.5l-.94 2.06-2.06.94zm10 10l.94 2.06.94-2.06 2.06-.94-2.06-.94-.94-2.06-.94 2.06-2.06.94z\"/><path d=\"M17.41 7.96l-1.37-1.37c-.4-.4-.92-.59-1.43-.59-.52 0-1.04.2-1.43.59L10.3 9.45l-7.72 7.72c-.78.78-.78 2.05 0 2.83L4 21.41c.39.39.9.59 1.41.59.51 0 1.02-.2 1.41-.59l7.78-7.78 2.81-2.81c.8-.78.8-2.07 0-2.86zM5.41 20L4 18.59l7.72-7.72 1.47 1.35L5.41 20z\"/>\n",
              "  </svg>\n",
              "      </button>\n",
              "      \n",
              "  <style>\n",
              "    .colab-df-container {\n",
              "      display:flex;\n",
              "      flex-wrap:wrap;\n",
              "      gap: 12px;\n",
              "    }\n",
              "\n",
              "    .colab-df-convert {\n",
              "      background-color: #E8F0FE;\n",
              "      border: none;\n",
              "      border-radius: 50%;\n",
              "      cursor: pointer;\n",
              "      display: none;\n",
              "      fill: #1967D2;\n",
              "      height: 32px;\n",
              "      padding: 0 0 0 0;\n",
              "      width: 32px;\n",
              "    }\n",
              "\n",
              "    .colab-df-convert:hover {\n",
              "      background-color: #E2EBFA;\n",
              "      box-shadow: 0px 1px 2px rgba(60, 64, 67, 0.3), 0px 1px 3px 1px rgba(60, 64, 67, 0.15);\n",
              "      fill: #174EA6;\n",
              "    }\n",
              "\n",
              "    [theme=dark] .colab-df-convert {\n",
              "      background-color: #3B4455;\n",
              "      fill: #D2E3FC;\n",
              "    }\n",
              "\n",
              "    [theme=dark] .colab-df-convert:hover {\n",
              "      background-color: #434B5C;\n",
              "      box-shadow: 0px 1px 3px 1px rgba(0, 0, 0, 0.15);\n",
              "      filter: drop-shadow(0px 1px 2px rgba(0, 0, 0, 0.3));\n",
              "      fill: #FFFFFF;\n",
              "    }\n",
              "  </style>\n",
              "\n",
              "      <script>\n",
              "        const buttonEl =\n",
              "          document.querySelector('#df-0d7f6d6e-6dbc-4346-85f7-4880ef178867 button.colab-df-convert');\n",
              "        buttonEl.style.display =\n",
              "          google.colab.kernel.accessAllowed ? 'block' : 'none';\n",
              "\n",
              "        async function convertToInteractive(key) {\n",
              "          const element = document.querySelector('#df-0d7f6d6e-6dbc-4346-85f7-4880ef178867');\n",
              "          const dataTable =\n",
              "            await google.colab.kernel.invokeFunction('convertToInteractive',\n",
              "                                                     [key], {});\n",
              "          if (!dataTable) return;\n",
              "\n",
              "          const docLinkHtml = 'Like what you see? Visit the ' +\n",
              "            '<a target=\"_blank\" href=https://colab.research.google.com/notebooks/data_table.ipynb>data table notebook</a>'\n",
              "            + ' to learn more about interactive tables.';\n",
              "          element.innerHTML = '';\n",
              "          dataTable['output_type'] = 'display_data';\n",
              "          await google.colab.output.renderOutput(dataTable, element);\n",
              "          const docLink = document.createElement('div');\n",
              "          docLink.innerHTML = docLinkHtml;\n",
              "          element.appendChild(docLink);\n",
              "        }\n",
              "      </script>\n",
              "    </div>\n",
              "  </div>\n",
              "  "
            ],
            "text/plain": [
              "    Validation_Set  Topics Alpha                Beta  Coherence\n",
              "248     75% Corpus      10  0.31  0.9099999999999999   0.451215"
            ]
          },
          "execution_count": 50,
          "metadata": {},
          "output_type": "execute_result"
        }
      ],
      "source": [
        "sorted.tail(1)"
      ]
    },
    {
      "cell_type": "code",
      "execution_count": 23,
      "metadata": {
        "id": "MYpx4S00VMOt"
      },
      "outputs": [
        {
          "data": {
            "text/plain": [
              "<AxesSubplot:xlabel='Topics', ylabel='Coherence'>"
            ]
          },
          "execution_count": 23,
          "metadata": {},
          "output_type": "execute_result"
        },
        {
          "data": {
            "image/png": "[encoded data removed]",
            "text/plain": [
              "<Figure size 432x288 with 1 Axes>"
            ]
          },
          "metadata": {
            "needs_background": "light"
          },
          "output_type": "display_data"
        }
      ],
      "source": [
        "plt.plot(kind='scatter', x='Topics', y='Coherence')"
      ]
    },
    {
      "cell_type": "code",
      "execution_count": null,
      "metadata": {
        "id": "x4XVufz4zltK"
      },
      "outputs": [],
      "source": []
    }
  ],
  "metadata": {
    "colab": {
      "name": "Training_LDA.ipynb",
      "provenance": []
    },
    "interpreter": {
      "hash": "53e0a93b7c64fcbbd161567d178793b8bdbd3decf5b1e60d467119eca94f2238"
    },
    "kernelspec": {
      "display_name": "Python 3.9.7 ('geo-env')",
      "language": "python",
      "name": "python3"
    },
    "language_info": {
      "codemirror_mode": {
        "name": "ipython",
        "version": 3
      },
      "file_extension": ".py",
      "mimetype": "text/x-python",
      "name": "python",
      "nbconvert_exporter": "python",
      "pygments_lexer": "ipython3",
      "version": "3.8.10"
    },
    "orig_nbformat": 4
  },
  "nbformat": 4,
  "nbformat_minor": 0
}
