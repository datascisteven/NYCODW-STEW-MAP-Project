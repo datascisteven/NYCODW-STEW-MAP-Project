{
 "cells": [
  {
   "cell_type": "markdown",
   "metadata": {},
   "source": [
    "## Importing Packages"
   ]
  },
  {
   "cell_type": "code",
   "execution_count": 34,
   "metadata": {},
   "outputs": [],
   "source": [
    "import pandas as pd\n",
    "import numpy as np\n",
    "import tqdm\n",
    "import pickle\n",
    "from pprint import pprint\n",
    "import os\n",
    "\n",
    "import warnings\n",
    "warnings.filterwarnings('ignore')\n",
    "\n",
    "#sklearn\n",
    "from sklearn.manifold import TSNE\n",
    "from sklearn.feature_extraction.text import CountVectorizer\n",
    "from sklearn.decomposition import LatentDirichletAllocation\n",
    "from sklearn.model_selection import train_test_split\n",
    "\n",
    "import gensim\n",
    "from gensim import corpora, models\n",
    "from gensim.corpora import Dictionary\n",
    "from gensim.models.coherencemodel import CoherenceModel\n",
    "from gensim.models.ldamodel import LdaModel\n",
    "\n",
    "import pyLDAvis\n",
    "import pyLDAvis.sklearn\n",
    "import pyLDAvis.gensim_models as gensimvis"
   ]
  },
  {
   "cell_type": "code",
   "execution_count": 2,
   "metadata": {},
   "outputs": [],
   "source": [
    "with open('processed_tweets.pickle', 'rb') as read_file:\n",
    "    df = pickle.load(read_file)"
   ]
  },
  {
   "cell_type": "markdown",
   "metadata": {},
   "source": [
    "## Train-Test Split"
   ]
  },
  {
   "cell_type": "code",
   "execution_count": 3,
   "metadata": {},
   "outputs": [
    {
     "data": {
      "text/plain": [
       "20180    [congrats, lead, nonprofit, organization, dedi...\n",
       "17391    [youre, pet, owner, new, york, know, toxic, in...\n",
       "9976                 [restock, feel, good, brooklynwineco]\n",
       "6257     [since, percent, excess, heat, retain, earth, ...\n",
       "6245     [shorebird, watch, big, business, new, jersey,...\n",
       "                               ...                        \n",
       "11964    [ooh, yourcbdstorebk, union, berkeley, cbd, st...\n",
       "21575    [meet, horticultural, therapist, garden, progr...\n",
       "5390     [alone, together, gowanus, community, group, s...\n",
       "860      [new, york, city, experience, dangerous, heat,...\n",
       "15795    [congratulations, raise, money, thank, partici...\n",
       "Name: tweet, Length: 17672, dtype: object"
      ]
     },
     "execution_count": 3,
     "metadata": {},
     "output_type": "execute_result"
    }
   ],
   "source": [
    "X_train, X_test = train_test_split(df.tweet, test_size=0.2, random_state=42)\n",
    "X_train"
   ]
  },
  {
   "cell_type": "code",
   "execution_count": 4,
   "metadata": {},
   "outputs": [
    {
     "data": {
      "text/plain": [
       "19530    [bundle, new, yorkers, go, dip, freeze, every,...\n",
       "20241    [congratulations, award, grant, historic, hous...\n",
       "15031                            [refresh, flower, street]\n",
       "9960     [mask, thermometers, oximeters, near, ave, bea...\n",
       "735      [deeply, thankful, haul, trash, recycle, treat...\n",
       "                               ...                        \n",
       "16606      [get_repost, member, dl, dd, show, chefs, take]\n",
       "21677    [know, secure, food, box, family, four, please...\n",
       "7948                                  [missamericanpienyc]\n",
       "4630     [dont, trash, tree, mulch, drop, bbp, anytime,...\n",
       "8439     [virtual, learn, great, option, yourchild, lea...\n",
       "Name: tweet, Length: 4418, dtype: object"
      ]
     },
     "execution_count": 4,
     "metadata": {},
     "output_type": "execute_result"
    }
   ],
   "source": [
    "X_test"
   ]
  },
  {
   "cell_type": "code",
   "execution_count": 5,
   "metadata": {},
   "outputs": [],
   "source": [
    "train_list_of_lists = list(X_train.values)"
   ]
  },
  {
   "cell_type": "markdown",
   "metadata": {},
   "source": [
    "## Bigram-Trigram Models\n",
    "\n",
    "(I did not incorporate bigrams and trigrams into the model yet)"
   ]
  },
  {
   "cell_type": "code",
   "execution_count": 6,
   "metadata": {},
   "outputs": [],
   "source": [
    "# Build the bigram and trigram models\n",
    "bigram = gensim.models.Phrases(train_list_of_lists, min_count=5, threshold=100) # higher threshold fewer phrases.\n",
    "trigram = gensim.models.Phrases(bigram[train_list_of_lists], threshold=100)\n",
    "# Faster way to get a sentence clubbed as a trigram/bigram\n",
    "bigram_mod = gensim.models.phrases.Phraser(bigram)\n",
    "trigram_mod = gensim.models.phrases.Phraser(trigram)"
   ]
  },
  {
   "cell_type": "code",
   "execution_count": 7,
   "metadata": {},
   "outputs": [],
   "source": [
    "def make_bigrams(texts):\n",
    "    return [bigram_mod[doc] for doc in texts]"
   ]
  },
  {
   "cell_type": "code",
   "execution_count": 8,
   "metadata": {},
   "outputs": [],
   "source": [
    "data_words_bigrams = make_bigrams(train_list_of_lists)"
   ]
  },
  {
   "cell_type": "markdown",
   "metadata": {},
   "source": [
    "## Bag of Words"
   ]
  },
  {
   "cell_type": "code",
   "execution_count": 11,
   "metadata": {},
   "outputs": [],
   "source": [
    "id2word = Dictionary(train_list_of_lists)\n",
    "corpus = [id2word.doc2bow(text) for text in train_list_of_lists]"
   ]
  },
  {
   "cell_type": "code",
   "execution_count": 12,
   "metadata": {},
   "outputs": [
    {
     "name": "stdout",
     "output_type": "stream",
     "text": [
      "Word 173 (\"class\") appears 1 time(s).\n",
      "Word 572 (\"get_repost\") appears 1 time(s).\n",
      "Word 660 (\"wine\") appears 1 time(s).\n",
      "Word 692 (\"january\") appears 1 time(s).\n",
      "Word 715 (\"pizza\") appears 1 time(s).\n",
      "Word 732 (\"february\") appears 1 time(s).\n",
      "Word 833 (\"thursday\") appears 2 time(s).\n",
      "Word 1022 (\"month\") appears 1 time(s).\n",
      "Word 1091 (\"dd\") appears 1 time(s).\n",
      "Word 3509 (\"pair\") appears 2 time(s).\n"
     ]
    }
   ],
   "source": [
    "sample = corpus[3000]\n",
    "\n",
    "for i in range(len(sample)):\n",
    "    print(\"Word {} (\\\"{}\\\") appears {} time(s).\".format(sample[i][0], \n",
    "                                                     id2word[sample[i][0]], \n",
    "                                                     sample[i][1]))"
   ]
  },
  {
   "cell_type": "markdown",
   "metadata": {},
   "source": [
    "## LDA with Bag of Words"
   ]
  },
  {
   "cell_type": "code",
   "execution_count": 13,
   "metadata": {},
   "outputs": [
    {
     "name": "stdout",
     "output_type": "stream",
     "text": [
      "[(0,\n",
      "  '0.019*\"water\" + 0.010*\"river\" + 0.008*\"protect\" + 0.008*\"new\" + '\n",
      "  '0.008*\"clean\" + 0.006*\"state\" + 0.006*\"hudson\" + 0.006*\"environmental\" + '\n",
      "  '0.006*\"society\" + 0.006*\"littoral\"'),\n",
      " (1,\n",
      "  '0.014*\"us\" + 0.011*\"new\" + 0.011*\"thank\" + 0.010*\"join\" + 0.009*\"today\" + '\n",
      "  '0.009*\"get\" + 0.008*\"day\" + 0.008*\"make\" + 0.008*\"help\" + 0.008*\"learn\"'),\n",
      " (2,\n",
      "  '0.025*\"park\" + 0.016*\"brooklyn\" + 0.012*\"st\" + 0.010*\"come\" + '\n",
      "  '0.009*\"get_repost\" + 0.008*\"slope\" + 0.008*\"good\" + 0.008*\"corner\" + '\n",
      "  '0.007*\"amaze\" + 0.007*\"house\"'),\n",
      " (3,\n",
      "  '0.011*\"high\" + 0.010*\"line\" + 0.009*\"june\" + 0.008*\"friday\" + '\n",
      "  '0.008*\"ticket\" + 0.007*\"april\" + 0.006*\"bio\" + 0.006*\"business\" + '\n",
      "  '0.006*\"update\" + 0.006*\"staff\"')]\n"
     ]
    }
   ],
   "source": [
    "# Build LDA model\n",
    "lda_model = LdaModel(corpus=corpus,\n",
    "                     id2word=id2word,\n",
    "                     num_topics=4, \n",
    "                     random_state=42,\n",
    "                     chunksize=100,\n",
    "                     passes=100,\n",
    "                     update_every=5,\n",
    "                     alpha='auto',\n",
    "                     per_word_topics=True)\n",
    "\n",
    "pprint(lda_model.print_topics())\n",
    "doc_lda = lda_model[corpus]\n"
   ]
  },
  {
   "cell_type": "code",
   "execution_count": 23,
   "metadata": {},
   "outputs": [
    {
     "data": {
      "text/html": [
       "\n",
       "<link rel=\"stylesheet\" type=\"text/css\" href=\"https://cdn.jsdelivr.net/gh/bmabey/pyLDAvis@3.3.1/pyLDAvis/js/ldavis.v1.0.0.css\">\n",
       "\n",
       "\n",
       "<div id=\"ldavis_el129791402395611689287054338494\"></div>\n",
       "<script type=\"text/javascript\">\n",
       "\n",
       "var ldavis_el129791402395611689287054338494_data = {\"mdsDat\": {\"x\": [0.32277678343758553, 0.032648131868918455, -0.1745819368696314, -0.18084297843687275], \"y\": [-0.13132757032618073, 0.3150348871379369, -0.1785626453535983, -0.005144671458157824], \"topics\": [1, 2, 3, 4], \"cluster\": [1, 1, 1, 1], \"Freq\": [49.99897775113198, 19.579902290276316, 17.910234973559174, 12.510884985032527]}, \"tinfo\": {\"Term\": [\"park\", \"water\", \"brooklyn\", \"us\", \"st\", \"thank\", \"join\", \"come\", \"river\", \"today\", \"high\", \"new\", \"day\", \"get_repost\", \"make\", \"line\", \"help\", \"learn\", \"protect\", \"clean\", \"support\", \"see\", \"june\", \"slope\", \"community\", \"good\", \"corner\", \"amaze\", \"house\", \"friday\", \"us\", \"thank\", \"join\", \"today\", \"day\", \"make\", \"learn\", \"help\", \"support\", \"community\", \"see\", \"work\", \"one\", \"go\", \"please\", \"need\", \"take\", \"time\", \"program\", \"free\", \"food\", \"check\", \"order\", \"nyc\", \"look\", \"week\", \"celebrate\", \"garden\", \"call\", \"year\", \"know\", \"get\", \"new\", \"open\", \"water\", \"river\", \"protect\", \"clean\", \"state\", \"hudson\", \"littoral\", \"environmental\", \"society\", \"fish\", \"climate\", \"plant\", \"bay\", \"ocean\", \"compost\", \"pollution\", \"quality\", \"bill\", \"ban\", \"stream\", \"beach\", \"sea\", \"whale\", \"w\", \"rise\", \"act\", \"storm\", \"nj\", \"rivers\", \"environment\", \"change\", \"de\", \"say\", \"use\", \"new\", \"american\", \"drink\", \"project\", \"ny\", \"brooklyn\", \"st\", \"get_repost\", \"slope\", \"corner\", \"good\", \"amaze\", \"house\", \"shop\", \"street\", \"bag\", \"store\", \"ave\", \"kid\", \"mark\", \"lot\", \"dance\", \"bar\", \"tree\", \"near\", \"serve\", \"plastic\", \"soon\", \"delicious\", \"youre\", \"big\", \"morning\", \"dd\", \"welcome\", \"think\", \"park\", \"spot\", \"come\", \"open\", \"july\", \"get\", \"high\", \"line\", \"june\", \"friday\", \"ticket\", \"bio\", \"april\", \"business\", \"update\", \"staff\", \"days\", \"fort\", \"avenue\", \"due\", \"supply\", \"buy\", \"another\", \"rain\", \"taste\", \"dl\", \"reopen\", \"fifth\", \"sale\", \"win\", \"mother\", \"flower\", \"whitman\", \"walt\", \"weather\", \"blog\", \"todays\", \"greene\", \"pm\", \"park\", \"gift\", \"sit\"], \"Freq\": [1158.0, 836.0, 658.0, 1537.0, 497.0, 1192.0, 1167.0, 819.0, 445.0, 1057.0, 312.0, 1591.0, 932.0, 349.0, 875.0, 285.0, 843.0, 841.0, 349.0, 341.0, 811.0, 786.0, 255.0, 308.0, 775.0, 303.0, 303.0, 286.0, 276.0, 226.0, 1537.0690122957624, 1191.3055588376171, 1167.192091803083, 1056.4492547051163, 931.7362800023412, 874.5958985765554, 840.6934458312248, 842.9211577369506, 810.4950938249278, 774.9443058517919, 786.0288949064296, 692.3142622993785, 662.0424938101575, 651.4210733319278, 638.8744979693149, 623.0834028114122, 622.513333180548, 611.2118223364206, 570.1949380340715, 558.8651940807175, 482.34644879562313, 485.5495288339083, 476.55185010159795, 466.1727248148885, 462.7935388080027, 454.13054980698314, 460.0271100612168, 447.41980491669494, 447.0885468340394, 430.9868094826308, 435.40287332412936, 980.9170044133078, 1246.2503090729492, 734.4309379946535, 836.1156496895333, 445.00116842837633, 348.7321648885757, 340.7800084344265, 274.6327676883052, 263.3585421360208, 246.71065016857733, 248.43257557381224, 247.13990983409104, 229.9806609157079, 225.39608135555878, 216.39060777036465, 175.32329362612376, 149.43693223094408, 158.90641226180554, 144.3946175455421, 144.618572913201, 142.41806227847806, 143.17204602831075, 143.88321987174254, 140.04934587120943, 138.00316469454367, 139.70206132254225, 142.70770361904977, 129.76980671252343, 125.80175088883618, 128.13511985376863, 119.55285858940277, 118.35499566737589, 116.04692577911554, 226.17258484687983, 127.39342422689097, 165.78523629930126, 191.61663201441957, 344.60893460748974, 162.0165595973629, 167.10022834692666, 151.7407873032116, 140.04902008833076, 658.0301935188527, 497.20568775982076, 348.95067826030305, 307.83740612676826, 302.78415081142685, 302.96704947200703, 285.3000446163429, 275.8387453298371, 269.1214474553433, 227.57482469698982, 206.5734766833107, 204.98084282728098, 199.24596406171008, 193.9562256207692, 177.11937953286275, 178.44014253874082, 172.7411916261495, 163.61374758311615, 166.19127768878747, 160.69424168244356, 163.12701736957828, 160.74601951099885, 151.66122698861, 142.6560754715817, 146.85808838537966, 144.04991412866002, 135.74299035472342, 133.7367857493879, 136.99447723351108, 136.73383732962523, 1004.6645775811522, 186.20467493344262, 418.2928500198168, 222.27186242213733, 153.10332332690658, 144.74504078957386, 311.79269566484305, 284.9456456240432, 254.4068058251215, 225.64560911124073, 220.829343074593, 181.33324243093446, 182.9810952191506, 165.52678525477583, 160.83096815237076, 156.03959073218513, 146.32876294855566, 129.62226939067617, 129.69533497878447, 127.21109197284778, 136.34560452206955, 120.49147777418213, 119.15123943846471, 114.9558357469232, 110.59433013882564, 113.40101928715481, 112.51300438040046, 106.18389946946003, 106.87604499783643, 105.78358044999806, 98.02809630966765, 96.59797012704135, 90.68458187151843, 89.76874453595896, 91.31686071476656, 89.89536683586353, 91.09914061430388, 127.23151807208745, 126.12452757533117, 153.16277631321782, 107.7593241720282, 101.00083533353569], \"Total\": [1158.0, 836.0, 658.0, 1537.0, 497.0, 1192.0, 1167.0, 819.0, 445.0, 1057.0, 312.0, 1591.0, 932.0, 349.0, 875.0, 285.0, 843.0, 841.0, 349.0, 341.0, 811.0, 786.0, 255.0, 308.0, 775.0, 303.0, 303.0, 286.0, 276.0, 226.0, 1537.7740662064982, 1192.0086720163902, 1167.9037502140661, 1057.163987793572, 932.4459392523548, 875.3069099548903, 841.3986930417893, 843.6292924757074, 811.1943732469858, 775.6423415794742, 786.7383644541472, 693.0223279529699, 662.7673448061704, 652.1358028466218, 639.5757749550245, 623.7894814004849, 623.2281055428878, 611.9244058912725, 570.889649192727, 559.5700889434542, 483.049550504356, 486.2616687309772, 477.2617732084936, 466.88551431548444, 463.504832249272, 454.8356061799932, 460.7436366211208, 448.1218307042695, 447.8006523187735, 431.69658756832786, 436.1211739732059, 1126.1313674385178, 1591.3357940209062, 999.0493596598338, 836.8237521752168, 445.7116332107426, 349.434960656557, 341.5074919439478, 275.33943344473875, 264.06624135645075, 247.4236925288867, 249.1532671801905, 247.85880268783802, 230.69486594278453, 226.09651610664432, 217.12918568674095, 176.0287793615031, 150.14099187772658, 159.6554909973734, 145.0975342123339, 145.32525340077024, 143.12626493877423, 143.88748602629548, 144.60393620453658, 140.76009225451645, 138.70953025692535, 140.42742065143673, 143.4568599604882, 130.48452044775675, 126.50407033501924, 128.85435261055918, 120.25496356583196, 119.05779922519149, 116.75862111089313, 333.7968399233298, 138.30296406007125, 251.91767816655505, 372.40117665469745, 1591.3357940209062, 280.2738473468501, 336.10712276816884, 345.7430732478638, 214.53057058992238, 658.7509945877274, 497.91713830097007, 349.66997098101467, 308.5410630736845, 303.4859433927633, 303.7016728194325, 286.0338290230857, 276.56753636369325, 269.8409364195815, 228.30022375744775, 207.28951042700174, 205.6941260554429, 199.9561269637007, 194.67577140547715, 177.83323276074503, 179.16272441370722, 173.46300420257225, 164.32143281494464, 166.9168373350496, 161.41274642871647, 163.86816752173442, 161.47701624477625, 152.40142139332428, 143.37177377772798, 147.5999595540391, 144.8069233322128, 136.46129226809515, 134.4474031121038, 137.7226072527093, 137.48214377099706, 1158.3159056263967, 197.389009706952, 819.2707083134756, 999.0493596598338, 251.52881883035158, 1126.1313674385178, 312.5135793216815, 285.66070777800684, 255.13899430660453, 226.38646313939552, 221.55672852619043, 182.05325871231034, 183.71433896475332, 166.25247136185268, 161.54993946975986, 156.78861770914833, 147.06828470207319, 130.3318116106068, 130.41726203089203, 127.9563358345554, 137.14871353059397, 121.22458175346183, 119.91055708591122, 115.69556889709719, 111.30923068843056, 114.13761362571994, 113.2448113202438, 106.89500258147316, 107.61428223646739, 106.52549021072198, 98.75828786400285, 97.32432123502639, 91.38122020941455, 90.46465835684401, 92.05059299137176, 90.63420673053274, 91.87302935050461, 146.3635136589524, 211.61837851759873, 1158.3159056263967, 241.2668497514503, 208.58903556224914], \"Category\": [\"Default\", \"Default\", \"Default\", \"Default\", \"Default\", \"Default\", \"Default\", \"Default\", \"Default\", \"Default\", \"Default\", \"Default\", \"Default\", \"Default\", \"Default\", \"Default\", \"Default\", \"Default\", \"Default\", \"Default\", \"Default\", \"Default\", \"Default\", \"Default\", \"Default\", \"Default\", \"Default\", \"Default\", \"Default\", \"Default\", \"Topic1\", \"Topic1\", \"Topic1\", \"Topic1\", \"Topic1\", \"Topic1\", \"Topic1\", \"Topic1\", \"Topic1\", \"Topic1\", \"Topic1\", \"Topic1\", \"Topic1\", \"Topic1\", \"Topic1\", \"Topic1\", \"Topic1\", \"Topic1\", \"Topic1\", \"Topic1\", \"Topic1\", \"Topic1\", \"Topic1\", \"Topic1\", \"Topic1\", \"Topic1\", \"Topic1\", \"Topic1\", \"Topic1\", \"Topic1\", \"Topic1\", \"Topic1\", \"Topic1\", \"Topic1\", \"Topic2\", \"Topic2\", \"Topic2\", \"Topic2\", \"Topic2\", \"Topic2\", \"Topic2\", \"Topic2\", \"Topic2\", \"Topic2\", \"Topic2\", \"Topic2\", \"Topic2\", \"Topic2\", \"Topic2\", \"Topic2\", \"Topic2\", \"Topic2\", \"Topic2\", \"Topic2\", \"Topic2\", \"Topic2\", \"Topic2\", \"Topic2\", \"Topic2\", \"Topic2\", \"Topic2\", \"Topic2\", \"Topic2\", \"Topic2\", \"Topic2\", \"Topic2\", \"Topic2\", \"Topic2\", \"Topic2\", \"Topic2\", \"Topic2\", \"Topic2\", \"Topic2\", \"Topic3\", \"Topic3\", \"Topic3\", \"Topic3\", \"Topic3\", \"Topic3\", \"Topic3\", \"Topic3\", \"Topic3\", \"Topic3\", \"Topic3\", \"Topic3\", \"Topic3\", \"Topic3\", \"Topic3\", \"Topic3\", \"Topic3\", \"Topic3\", \"Topic3\", \"Topic3\", \"Topic3\", \"Topic3\", \"Topic3\", \"Topic3\", \"Topic3\", \"Topic3\", \"Topic3\", \"Topic3\", \"Topic3\", \"Topic3\", \"Topic3\", \"Topic3\", \"Topic3\", \"Topic3\", \"Topic3\", \"Topic3\", \"Topic4\", \"Topic4\", \"Topic4\", \"Topic4\", \"Topic4\", \"Topic4\", \"Topic4\", \"Topic4\", \"Topic4\", \"Topic4\", \"Topic4\", \"Topic4\", \"Topic4\", \"Topic4\", \"Topic4\", \"Topic4\", \"Topic4\", \"Topic4\", \"Topic4\", \"Topic4\", \"Topic4\", \"Topic4\", \"Topic4\", \"Topic4\", \"Topic4\", \"Topic4\", \"Topic4\", \"Topic4\", \"Topic4\", \"Topic4\", \"Topic4\", \"Topic4\", \"Topic4\", \"Topic4\", \"Topic4\", \"Topic4\"], \"logprob\": [30.0, 29.0, 28.0, 27.0, 26.0, 25.0, 24.0, 23.0, 22.0, 21.0, 20.0, 19.0, 18.0, 17.0, 16.0, 15.0, 14.0, 13.0, 12.0, 11.0, 10.0, 9.0, 8.0, 7.0, 6.0, 5.0, 4.0, 3.0, 2.0, 1.0, -4.2856, -4.5404, -4.5608, -4.6605, -4.7861, -4.8494, -4.889, -4.8863, -4.9255, -4.9704, -4.9562, -5.0832, -5.1279, -5.144, -5.1635, -5.1885, -5.1894, -5.2077, -5.2772, -5.2973, -5.4445, -5.4379, -5.4566, -5.4786, -5.4859, -5.5048, -5.4919, -5.5197, -5.5204, -5.5571, -5.5469, -4.7347, -4.4953, -5.0241, -3.9569, -4.5876, -4.8314, -4.8545, -5.0703, -5.1122, -5.1775, -5.1705, -5.1757, -5.2477, -5.2678, -5.3086, -5.5191, -5.6788, -5.6174, -5.7131, -5.7116, -5.7269, -5.7216, -5.7167, -5.7437, -5.7584, -5.7462, -5.7249, -5.8199, -5.851, -5.8326, -5.9019, -5.912, -5.9317, -5.2644, -5.8384, -5.575, -5.4302, -4.8433, -5.598, -5.5671, -5.6635, -5.7437, -4.1073, -4.3876, -4.7416, -4.867, -4.8835, -4.8829, -4.943, -4.9767, -5.0014, -5.1691, -5.2659, -5.2736, -5.302, -5.3289, -5.4197, -5.4123, -5.4448, -5.4991, -5.4834, -5.5171, -5.502, -5.5167, -5.5749, -5.6361, -5.6071, -5.6264, -5.6858, -5.7007, -5.6766, -5.6785, -3.6842, -5.3697, -4.5604, -5.1927, -5.5655, -5.6216, -4.4955, -4.5855, -4.6989, -4.8188, -4.8404, -5.0375, -5.0284, -5.1287, -5.1574, -5.1877, -5.2519, -5.3732, -5.3726, -5.3919, -5.3226, -5.4462, -5.4574, -5.4932, -5.5319, -5.5069, -5.5147, -5.5726, -5.5661, -5.5764, -5.6525, -5.6672, -5.7304, -5.7406, -5.7235, -5.7391, -5.7258, -5.3918, -5.4005, -5.2063, -5.5579, -5.6227], \"loglift\": [30.0, 29.0, 28.0, 27.0, 26.0, 25.0, 24.0, 23.0, 22.0, 21.0, 20.0, 19.0, 18.0, 17.0, 16.0, 15.0, 14.0, 13.0, 12.0, 11.0, 10.0, 9.0, 8.0, 7.0, 6.0, 5.0, 4.0, 3.0, 2.0, 1.0, 0.6927, 0.6926, 0.6926, 0.6925, 0.6924, 0.6924, 0.6923, 0.6923, 0.6923, 0.6923, 0.6923, 0.6921, 0.6921, 0.6921, 0.6921, 0.692, 0.692, 0.692, 0.6919, 0.6919, 0.6917, 0.6917, 0.6917, 0.6916, 0.6916, 0.6916, 0.6916, 0.6916, 0.6916, 0.6915, 0.6915, 0.5551, 0.4487, 0.3855, 1.6298, 1.6291, 1.6287, 1.6285, 1.6281, 1.628, 1.6278, 1.6278, 1.6278, 1.6276, 1.6276, 1.6273, 1.6267, 1.626, 1.626, 1.6258, 1.6258, 1.6257, 1.6257, 1.6257, 1.6256, 1.6256, 1.6255, 1.6254, 1.6252, 1.6251, 1.6251, 1.6248, 1.6247, 1.6246, 1.2414, 1.5485, 1.2123, 0.9662, 0.1007, 1.0826, 0.9318, 0.8071, 1.2042, 1.7187, 1.7184, 1.7177, 1.7175, 1.7175, 1.7174, 1.7172, 1.7172, 1.7171, 1.7166, 1.7163, 1.7163, 1.7162, 1.7161, 1.7158, 1.7158, 1.7156, 1.7155, 1.7154, 1.7153, 1.7153, 1.7153, 1.7149, 1.7148, 1.7148, 1.7146, 1.7145, 1.7145, 1.7145, 1.7143, 1.5775, 1.6615, 1.0476, 0.2169, 1.2234, -0.3318, 2.0763, 2.0761, 2.0757, 2.0753, 2.0753, 2.0746, 2.0746, 2.0742, 2.0741, 2.0738, 2.0735, 2.0731, 2.073, 2.0727, 2.0727, 2.0725, 2.0722, 2.0722, 2.0721, 2.0721, 2.0721, 2.0719, 2.0717, 2.0716, 2.0711, 2.0711, 2.0709, 2.0708, 2.0706, 2.0704, 2.0701, 1.9385, 1.5611, 0.0553, 1.2726, 1.3533]}, \"token.table\": {\"Topic\": [2, 3, 1, 2, 4, 4, 3, 4, 3, 2, 3, 2, 2, 3, 2, 4, 4, 3, 4, 4, 1, 1, 1, 2, 1, 2, 2, 1, 3, 1, 2, 3, 3, 1, 4, 3, 2, 4, 3, 4, 2, 3, 4, 4, 2, 2, 4, 2, 4, 1, 4, 1, 4, 1, 1, 3, 3, 1, 3, 4, 1, 3, 3, 4, 1, 4, 3, 2, 1, 1, 3, 4, 3, 1, 1, 4, 2, 1, 3, 1, 3, 3, 4, 3, 1, 1, 2, 2, 2, 3, 1, 2, 1, 1, 3, 4, 1, 3, 4, 2, 3, 1, 1, 4, 2, 1, 1, 2, 2, 2, 4, 4, 2, 2, 2, 4, 2, 3, 2, 1, 3, 3, 1, 4, 3, 2, 3, 1, 3, 3, 4, 2, 3, 2, 2, 3, 4, 1, 1, 4, 1, 3, 4, 1, 1, 4, 3, 4, 1, 1, 2, 2, 4, 2, 4, 1, 3, 2, 4, 4, 1, 1, 3], \"Freq\": [0.996015382479913, 0.9963856407243277, 0.4210168059454019, 0.5780061234165688, 0.9924063643098677, 0.9961116863888867, 0.995218316246572, 0.9968005613337197, 0.9986033522564389, 0.9938320833117253, 0.9980438777252714, 0.9941556183867506, 0.9946000869824518, 0.9944275914877249, 0.9921309695375896, 0.9942145572138604, 0.9930025676462495, 0.9988599719865359, 0.9984813978415805, 0.989898238989578, 0.9982120340499113, 0.9983860078316561, 0.3205542629599997, 0.6770585367192518, 0.9994618767058895, 0.9985139654153441, 0.9951502299746754, 0.48945970596884364, 0.5102098680672734, 0.9991718585422166, 0.995894341038454, 0.9983987943977543, 0.9973308187258676, 0.9995217532367481, 0.9927361313539674, 0.9966722814889123, 0.9182738841724183, 0.07230503024979672, 0.9974069248923129, 0.9900329646855033, 0.49686540000876117, 0.38678144910861645, 0.11603443473258494, 0.9925260767408038, 0.9935026544192174, 0.9953712540347446, 0.9916272738681959, 0.9969879436200506, 0.9966676239719855, 0.9978272404906284, 0.9974541011399569, 0.9989812018999612, 0.9982929052645805, 0.9974965943915153, 0.8711239455405353, 0.12875940071700065, 0.9980839905150133, 0.2362529293134162, 0.3150039057512216, 0.4476371292254202, 0.9982583338598128, 0.9976895984374453, 0.12981377342629719, 0.8677025907968285, 0.9992540651666317, 0.9983566175818784, 0.9979479284837433, 0.9959622201195666, 0.999226177487742, 0.38961738243639576, 0.6082801991098832, 0.9955357889933681, 0.9965287339015104, 0.9974292145391804, 0.9995261544317974, 0.9976870890534925, 0.9982875830339601, 0.9989108371388014, 0.9935102325692349, 0.9996493687512348, 0.9953145272803646, 0.9966196108769886, 0.9923217799700308, 0.9974429130421942, 0.9987343784657728, 0.7829899916042677, 0.2167989944650661, 0.9978798083815278, 0.6525876457374999, 0.3449391841755357, 0.9981033587714052, 0.9924005305715857, 0.9988422109022362, 0.734698433969188, 0.22221124297160727, 0.042039964886520294, 0.999451510212658, 0.8676389533445229, 0.13208831827036022, 0.9947994753299998, 0.9970459186336886, 0.9990997549038424, 0.40166643651383604, 0.595411423538157, 0.9924358865345859, 0.9984416442056971, 0.5611103012927784, 0.4396328133840326, 0.9987552457380345, 0.9977618934551363, 0.9939879383132136, 0.9978382115931873, 0.9962867591796014, 0.9984033775254726, 0.9911152462747046, 0.9942918149552158, 0.6589454190279148, 0.3413813616650643, 0.9948847764417404, 0.9990614866548938, 0.9947020367966264, 0.9968835847120174, 0.5129703951676216, 0.4842057001114932, 0.9982463822860581, 0.996535113223638, 0.9973660259224992, 0.05572752006978928, 0.9423017029982552, 0.9981580503452852, 0.9949701852043159, 0.9987672181914078, 0.9966254454186222, 0.9933696255248644, 0.9958235147646165, 0.9986849607393871, 0.9916243215045709, 0.9985276361789776, 0.9996339934915338, 0.9972218774083873, 0.9991538048001917, 0.9964930444218257, 0.9974871964850996, 0.9984893462617722, 0.9988989524737771, 0.9904974358995619, 0.9945072207831901, 0.9965958546839147, 0.9994966320322934, 0.483349708013683, 0.5155730218812619, 0.9968153495021846, 0.9948636476908901, 0.9990156204659876, 0.9885867873608349, 0.9981628391255224, 0.9947531689449983, 0.9969562878143461, 0.995828243390262, 0.9950670003049741, 0.9985248268176443, 0.998386395472219, 0.9959352322598745], \"Term\": [\"act\", \"amaze\", \"american\", \"american\", \"another\", \"april\", \"ave\", \"avenue\", \"bag\", \"ban\", \"bar\", \"bay\", \"beach\", \"big\", \"bill\", \"bio\", \"blog\", \"brooklyn\", \"business\", \"buy\", \"call\", \"celebrate\", \"change\", \"change\", \"check\", \"clean\", \"climate\", \"come\", \"come\", \"community\", \"compost\", \"corner\", \"dance\", \"day\", \"days\", \"dd\", \"de\", \"de\", \"delicious\", \"dl\", \"drink\", \"drink\", \"drink\", \"due\", \"environment\", \"environmental\", \"fifth\", \"fish\", \"flower\", \"food\", \"fort\", \"free\", \"friday\", \"garden\", \"get\", \"get\", \"get_repost\", \"gift\", \"gift\", \"gift\", \"go\", \"good\", \"greene\", \"greene\", \"help\", \"high\", \"house\", \"hudson\", \"join\", \"july\", \"july\", \"june\", \"kid\", \"know\", \"learn\", \"line\", \"littoral\", \"look\", \"lot\", \"make\", \"mark\", \"morning\", \"mother\", \"near\", \"need\", \"new\", \"new\", \"nj\", \"ny\", \"ny\", \"nyc\", \"ocean\", \"one\", \"open\", \"open\", \"open\", \"order\", \"park\", \"park\", \"plant\", \"plastic\", \"please\", \"pm\", \"pm\", \"pollution\", \"program\", \"project\", \"project\", \"protect\", \"quality\", \"rain\", \"reopen\", \"rise\", \"river\", \"rivers\", \"sale\", \"say\", \"say\", \"sea\", \"see\", \"serve\", \"shop\", \"sit\", \"sit\", \"slope\", \"society\", \"soon\", \"spot\", \"spot\", \"st\", \"staff\", \"state\", \"store\", \"storm\", \"stream\", \"street\", \"supply\", \"support\", \"take\", \"taste\", \"thank\", \"think\", \"ticket\", \"time\", \"today\", \"todays\", \"tree\", \"update\", \"us\", \"use\", \"use\", \"w\", \"walt\", \"water\", \"weather\", \"week\", \"welcome\", \"whale\", \"whitman\", \"win\", \"work\", \"year\", \"youre\"]}, \"R\": 30, \"lambda.step\": 0.01, \"plot.opts\": {\"xlab\": \"PC1\", \"ylab\": \"PC2\"}, \"topic.order\": [2, 1, 3, 4]};\n",
       "\n",
       "function LDAvis_load_lib(url, callback){\n",
       "  var s = document.createElement('script');\n",
       "  s.src = url;\n",
       "  s.async = true;\n",
       "  s.onreadystatechange = s.onload = callback;\n",
       "  s.onerror = function(){console.warn(\"failed to load library \" + url);};\n",
       "  document.getElementsByTagName(\"head\")[0].appendChild(s);\n",
       "}\n",
       "\n",
       "if(typeof(LDAvis) !== \"undefined\"){\n",
       "   // already loaded: just create the visualization\n",
       "   !function(LDAvis){\n",
       "       new LDAvis(\"#\" + \"ldavis_el129791402395611689287054338494\", ldavis_el129791402395611689287054338494_data);\n",
       "   }(LDAvis);\n",
       "}else if(typeof define === \"function\" && define.amd){\n",
       "   // require.js is available: use it to load d3/LDAvis\n",
       "   require.config({paths: {d3: \"https://d3js.org/d3.v5\"}});\n",
       "   require([\"d3\"], function(d3){\n",
       "      window.d3 = d3;\n",
       "      LDAvis_load_lib(\"https://cdn.jsdelivr.net/gh/bmabey/pyLDAvis@3.3.1/pyLDAvis/js/ldavis.v3.0.0.js\", function(){\n",
       "        new LDAvis(\"#\" + \"ldavis_el129791402395611689287054338494\", ldavis_el129791402395611689287054338494_data);\n",
       "      });\n",
       "    });\n",
       "}else{\n",
       "    // require.js not available: dynamically load d3 & LDAvis\n",
       "    LDAvis_load_lib(\"https://d3js.org/d3.v5.js\", function(){\n",
       "         LDAvis_load_lib(\"https://cdn.jsdelivr.net/gh/bmabey/pyLDAvis@3.3.1/pyLDAvis/js/ldavis.v3.0.0.js\", function(){\n",
       "                 new LDAvis(\"#\" + \"ldavis_el129791402395611689287054338494\", ldavis_el129791402395611689287054338494_data);\n",
       "            })\n",
       "         });\n",
       "}\n",
       "</script>"
      ],
      "text/plain": [
       "PreparedData(topic_coordinates=              x         y  topics  cluster       Freq\n",
       "topic                                                \n",
       "1      0.322777 -0.131328       1        1  49.998978\n",
       "0      0.032648  0.315035       2        1  19.579902\n",
       "2     -0.174582 -0.178563       3        1  17.910235\n",
       "3     -0.180843 -0.005145       4        1  12.510885, topic_info=          Term         Freq        Total Category  logprob  loglift\n",
       "21        park  1158.000000  1158.000000  Default  30.0000  30.0000\n",
       "568      water   836.000000   836.000000  Default  29.0000  29.0000\n",
       "416   brooklyn   658.000000   658.000000  Default  28.0000  28.0000\n",
       "376         us  1537.000000  1537.000000  Default  27.0000  27.0000\n",
       "225         st   497.000000   497.000000  Default  26.0000  26.0000\n",
       "...        ...          ...          ...      ...      ...      ...\n",
       "421     greene   127.231518   146.363514   Topic4  -5.3918   1.9385\n",
       "90          pm   126.124528   211.618379   Topic4  -5.4005   1.5611\n",
       "21        park   153.162776  1158.315906   Topic4  -5.2063   0.0553\n",
       "1190      gift   107.759324   241.266850   Topic4  -5.5579   1.2726\n",
       "97         sit   101.000835   208.589036   Topic4  -5.6227   1.3533\n",
       "\n",
       "[175 rows x 6 columns], token_table=      Topic      Freq      Term\n",
       "term                           \n",
       "1926      2  0.996015       act\n",
       "817       3  0.996386     amaze\n",
       "580       1  0.421017  american\n",
       "580       2  0.578006  american\n",
       "1670      4  0.992406   another\n",
       "...     ...       ...       ...\n",
       "1058      4  0.995828   whitman\n",
       "2264      4  0.995067       win\n",
       "186       1  0.998525      work\n",
       "724       1  0.998386      year\n",
       "27        3  0.995935     youre\n",
       "\n",
       "[163 rows x 3 columns], R=30, lambda_step=0.01, plot_opts={'xlab': 'PC1', 'ylab': 'PC2'}, topic_order=[2, 1, 3, 4])"
      ]
     },
     "execution_count": 23,
     "metadata": {},
     "output_type": "execute_result"
    }
   ],
   "source": [
    "pyLDAvis.enable_notebook()\n",
    "LDAvis_prepared = gensimvis.prepare(lda_model, corpus, id2word)\n",
    "LDAvis_prepared"
   ]
  },
  {
   "cell_type": "code",
   "execution_count": 12,
   "metadata": {},
   "outputs": [
    {
     "name": "stdout",
     "output_type": "stream",
     "text": [
      "Coherence Score:  0.28826282195420916\n"
     ]
    }
   ],
   "source": [
    "# Compute Coherence Score\n",
    "coherence_model_lda = CoherenceModel(model=lda_model, texts=train_list_of_lists, dictionary=id2word, coherence='c_v')\n",
    "coherence_lda = coherence_model_lda.get_coherence()\n",
    "print('Coherence Score: ', coherence_lda)"
   ]
  },
  {
   "cell_type": "code",
   "execution_count": 24,
   "metadata": {},
   "outputs": [
    {
     "name": "stdout",
     "output_type": "stream",
     "text": [
      "Topic: 0 \n",
      "Words: 0.013*\"park\" + 0.010*\"open\" + 0.008*\"come\" + 0.008*\"brooklyn\" + 0.008*\"st\" + 0.007*\"get\" + 0.006*\"get_repost\" + 0.005*\"slope\" + 0.005*\"day\" + 0.005*\"us\"\n",
      "Topic: 1 \n",
      "Words: 0.007*\"grant\" + 0.007*\"garden\" + 0.007*\"us\" + 0.006*\"learn\" + 0.006*\"receive\" + 0.005*\"make\" + 0.005*\"gift\" + 0.005*\"community\" + 0.005*\"see\" + 0.005*\"today\"\n",
      "Topic: 2 \n",
      "Words: 0.016*\"water\" + 0.010*\"new\" + 0.009*\"river\" + 0.007*\"protect\" + 0.007*\"high\" + 0.006*\"line\" + 0.006*\"state\" + 0.006*\"change\" + 0.005*\"hudson\" + 0.005*\"fish\"\n",
      "Topic: 3 \n",
      "Words: 0.017*\"thank\" + 0.012*\"us\" + 0.010*\"help\" + 0.010*\"support\" + 0.009*\"join\" + 0.008*\"community\" + 0.008*\"work\" + 0.008*\"new\" + 0.007*\"get\" + 0.006*\"need\"\n"
     ]
    }
   ],
   "source": [
    "lda_model_bow = gensim.models.LdaMulticore(corpus=corpus,\n",
    "                                            id2word=id2word,\n",
    "                                            num_topics=4, \n",
    "                                            random_state=42,\n",
    "                                            chunksize=100,\n",
    "                                            passes=100,\n",
    "                                            update_every=5,\n",
    "                                            alpha='auto',\n",
    "                                            per_word_topics=True,\n",
    "                                            workers=2)\n",
    "\n",
    "for idx, topic in lda_model_bow.print_topics(-1):\n",
    "    print('Topic: {} \\nWords: {}'.format(idx, topic))"
   ]
  },
  {
   "cell_type": "code",
   "execution_count": 25,
   "metadata": {},
   "outputs": [
    {
     "name": "stderr",
     "output_type": "stream",
     "text": [
      "/Users/examsherpa/opt/anaconda3/envs/nlp-env/lib/python3.8/site-packages/past/builtins/misc.py:45: DeprecationWarning: the imp module is deprecated in favour of importlib; see the module's documentation for alternative uses\n",
      "  from imp import reload\n",
      "/Users/examsherpa/opt/anaconda3/envs/nlp-env/lib/python3.8/site-packages/past/builtins/misc.py:45: DeprecationWarning: the imp module is deprecated in favour of importlib; see the module's documentation for alternative uses\n",
      "  from imp import reload\n",
      "/Users/examsherpa/opt/anaconda3/envs/nlp-env/lib/python3.8/site-packages/past/builtins/misc.py:45: DeprecationWarning: the imp module is deprecated in favour of importlib; see the module's documentation for alternative uses\n",
      "  from imp import reload\n",
      "/Users/examsherpa/opt/anaconda3/envs/nlp-env/lib/python3.8/site-packages/past/builtins/misc.py:45: DeprecationWarning: the imp module is deprecated in favour of importlib; see the module's documentation for alternative uses\n",
      "  from imp import reload\n",
      "/Users/examsherpa/opt/anaconda3/envs/nlp-env/lib/python3.8/site-packages/past/builtins/misc.py:45: DeprecationWarning: the imp module is deprecated in favour of importlib; see the module's documentation for alternative uses\n",
      "  from imp import reload\n",
      "/Users/examsherpa/opt/anaconda3/envs/nlp-env/lib/python3.8/site-packages/past/builtins/misc.py:45: DeprecationWarning: the imp module is deprecated in favour of importlib; see the module's documentation for alternative uses\n",
      "  from imp import reload\n",
      "/Users/examsherpa/opt/anaconda3/envs/nlp-env/lib/python3.8/site-packages/past/builtins/misc.py:45: DeprecationWarning: the imp module is deprecated in favour of importlib; see the module's documentation for alternative uses\n",
      "  from imp import reload\n",
      "/Users/examsherpa/opt/anaconda3/envs/nlp-env/lib/python3.8/site-packages/past/builtins/misc.py:45: DeprecationWarning: the imp module is deprecated in favour of importlib; see the module's documentation for alternative uses\n",
      "  from imp import reload\n",
      "/Users/examsherpa/opt/anaconda3/envs/nlp-env/lib/python3.8/site-packages/past/builtins/misc.py:45: DeprecationWarning: the imp module is deprecated in favour of importlib; see the module's documentation for alternative uses\n",
      "  from imp import reload\n"
     ]
    },
    {
     "data": {
      "text/html": [
       "\n",
       "<link rel=\"stylesheet\" type=\"text/css\" href=\"https://cdn.jsdelivr.net/gh/bmabey/pyLDAvis@3.3.1/pyLDAvis/js/ldavis.v1.0.0.css\">\n",
       "\n",
       "\n",
       "<div id=\"ldavis_el129791402395611707204716683031\"></div>\n",
       "<script type=\"text/javascript\">\n",
       "\n",
       "var ldavis_el129791402395611707204716683031_data = {\"mdsDat\": {\"x\": [0.011294735373273622, -0.19232275255600237, -0.057272310455518845, 0.23830032763824754], \"y\": [-0.1319084989407601, 0.14268948436240153, -0.10657758628740965, 0.09579660086576808], \"topics\": [1, 2, 3, 4], \"cluster\": [1, 1, 1, 1], \"Freq\": [27.525524093071162, 27.294449950972506, 22.873901946589555, 22.30612400936678]}, \"tinfo\": {\"Term\": [\"thank\", \"water\", \"river\", \"st\", \"support\", \"park\", \"protect\", \"grant\", \"community\", \"high\", \"help\", \"get_repost\", \"line\", \"receive\", \"garden\", \"slope\", \"state\", \"link\", \"hudson\", \"gift\", \"program\", \"fish\", \"work\", \"climate\", \"corner\", \"change\", \"brooklyn\", \"fund\", \"bag\", \"families\", \"link\", \"fund\", \"families\", \"volunteer\", \"bio\", \"donate\", \"click\", \"ensure\", \"forward\", \"essential\", \"students\", \"census\", \"count\", \"oyster\", \"workers\", \"yorkers\", \"emergency\", \"connect\", \"camp\", \"lend\", \"creek\", \"womens\", \"november\", \"dump\", \"equal\", \"webinar\", \"teachers\", \"ps\", \"appreciate\", \"ridgewood\", \"thank\", \"hand\", \"waste\", \"budget\", \"staff\", \"early\", \"khcc\", \"raise\", \"help\", \"support\", \"school\", \"work\", \"community\", \"nyc\", \"need\", \"us\", \"please\", \"city\", \"join\", \"register\", \"program\", \"society\", \"food\", \"get\", \"learn\", \"day\", \"new\", \"today\", \"make\", \"visit\", \"event\", \"time\", \"park\", \"see\", \"go\", \"st\", \"get_repost\", \"slope\", \"street\", \"ave\", \"l\", \"wine\", \"bar\", \"near\", \"restaurant\", \"prospect\", \"delicious\", \"avenue\", \"fort\", \"lunch\", \"pizza\", \"fresh\", \"mask\", \"union\", \"taste\", \"fifth\", \"la\", \"market\", \"dinner\", \"chicken\", \"whitman\", \"grill\", \"walt\", \"beer\", \"sun\", \"corner\", \"music\", \"sunday\", \"park\", \"brooklyn\", \"open\", \"come\", \"de\", \"enjoy\", \"happy\", \"order\", \"night\", \"get\", \"fun\", \"saturday\", \"day\", \"tomorrow\", \"today\", \"us\", \"new\", \"join\", \"free\", \"drink\", \"see\", \"food\", \"make\", \"grant\", \"receive\", \"gift\", \"bag\", \"compost\", \"book\", \"congrats\", \"whale\", \"card\", \"member\", \"artists\", \"cjg\", \"clothe\", \"chocolate\", \"le\", \"museum\", \"pickup\", \"stories\", \"cultural\", \"hny\", \"products\", \"bakery\", \"award\", \"french\", \"kit\", \"seal\", \"exhibit\", \"ones\", \"reusable\", \"hire\", \"plastic\", \"history\", \"congratulations\", \"online\", \"garden\", \"arts\", \"art\", \"women\", \"excite\", \"black\", \"class\", \"offer\", \"love\", \"available\", \"learn\", \"call\", \"share\", \"know\", \"watch\", \"use\", \"program\", \"make\", \"check\", \"home\", \"us\", \"see\", \"community\", \"one\", \"take\", \"today\", \"day\", \"new\", \"order\", \"open\", \"support\", \"go\", \"join\", \"river\", \"high\", \"line\", \"state\", \"hudson\", \"climate\", \"fish\", \"stream\", \"pollution\", \"ocean\", \"sea\", \"storm\", \"rise\", \"could\", \"level\", \"delaware\", \"study\", \"pool\", \"flood\", \"crab\", \"wildlife\", \"source\", \"protect\", \"release\", \"coast\", \"trump\", \"miles\", \"isla\", \"epa\", \"surge\", \"atlantic\", \"pub\", \"water\", \"act\", \"rivers\", \"change\", \"bill\", \"nj\", \"jersey\", \"quality\", \"say\", \"new\", \"clean\", \"environmental\", \"years\", \"drink\", \"people\", \"public\", \"use\", \"take\", \"york\", \"one\", \"live\"], \"Freq\": [1160.0, 876.0, 467.0, 479.0, 792.0, 1177.0, 369.0, 353.0, 725.0, 329.0, 782.0, 355.0, 302.0, 299.0, 410.0, 329.0, 282.0, 324.0, 269.0, 261.0, 537.0, 236.0, 652.0, 234.0, 301.0, 337.0, 692.0, 256.0, 219.0, 244.0, 323.933682717763, 255.62094285500135, 243.31096273246402, 236.95392875891685, 185.7149084867212, 163.09912881910685, 162.73092142864226, 134.20530365650774, 134.59908676923925, 117.17738278516612, 110.8582329396774, 101.05205448503959, 99.30058980904968, 98.54286431158134, 79.82366829978052, 78.05691114519958, 74.20241937477326, 75.93573630827049, 70.2110252141153, 67.39411773981806, 64.73512997424653, 62.149184009788094, 59.941184819679336, 57.359911755791764, 54.68217513953774, 62.21363139499672, 51.45051732636407, 51.06553973300846, 51.12650569995103, 49.84423459031558, 1051.1197641054707, 152.14855486784876, 128.99111947280704, 114.10672893821594, 154.81997984810965, 135.95142276323818, 231.43963415539838, 110.58655350602815, 611.4934501434982, 608.5663395010671, 191.9938556439907, 483.8266006370653, 487.9984632196171, 300.05239856537935, 372.700387941526, 746.9336590154935, 360.49537275861115, 262.35610250414516, 558.6125314750071, 196.3927081286986, 307.9219638655126, 185.64519424880177, 269.8743916278271, 422.2888939333722, 347.656989913022, 371.71176533866776, 466.11039657627936, 350.50761669434826, 308.2514284019333, 213.64982296555894, 210.87590903893363, 234.94555473622756, 253.58009467796197, 212.90832738921577, 208.4912269773169, 478.9764177997451, 354.7443359017668, 328.55328892807887, 233.8264435644666, 208.5051786947211, 206.54979748723338, 182.0799361448219, 172.4464113888317, 170.5315340096379, 165.90546887788875, 149.54471806148595, 148.0241214663366, 139.18741799394576, 135.42070388211806, 125.91560209117061, 119.03699048891788, 120.07795590641389, 120.76525790376783, 111.89552266531037, 110.78191574636985, 108.20515415415096, 105.78074315644352, 108.81557125669673, 97.32794615188027, 93.59526433866816, 93.6164032497557, 89.64648168683232, 91.05743126817679, 87.96087527683578, 84.99390599052356, 292.7785025626807, 175.22407424010078, 241.52353336761954, 802.9104253486763, 487.0155336231799, 597.466152464261, 513.4642212762121, 139.0030219739656, 206.77510890208794, 248.44920547955087, 266.99876671429604, 174.89944755180505, 444.00299414228203, 208.2251573085725, 248.45885600626423, 325.94600044915353, 202.49260252133394, 321.0621243346475, 322.35413117424997, 313.3884796346276, 280.5082268373874, 221.4713709316552, 188.93264743641012, 200.0769337654727, 184.47772304236133, 185.82946380392923, 352.92134776449893, 298.6333895687127, 261.2366342911798, 218.82714477437517, 170.13013299850576, 153.7102676793753, 149.32876664060439, 135.08532022826938, 90.39718161710275, 86.31076907623338, 82.9640996673713, 72.2238524176722, 71.70159894012774, 72.21248822196284, 69.0047581477703, 67.42406453327034, 68.2921380385942, 67.27699602249682, 59.85516528065762, 57.77331123004757, 58.209878315139825, 49.89344571786715, 47.2714682744292, 47.756700401691816, 46.9189046579871, 46.2524787258232, 41.635853013031046, 43.34579577020244, 39.91509910578135, 39.46110216321964, 166.06418909271312, 200.63253818496656, 218.06948415326673, 196.99234426746065, 341.3643115849849, 86.50432315365268, 192.90387415897462, 98.5884772335737, 147.6465207654405, 129.43201642676786, 178.34177831550912, 136.0573722589612, 214.95739529288562, 161.67027128751562, 319.94469967882185, 210.83921533522954, 149.4944067804728, 202.95390262091948, 115.13761845564804, 181.38574146890622, 229.54726235244883, 266.5413528367466, 196.25685304541264, 162.52845538547965, 334.5160605232895, 235.7084999123592, 237.1132120283625, 222.15100848436472, 211.3134549372338, 233.21282500825725, 210.30132196510758, 230.55175972682997, 173.40983631219092, 188.35661404579096, 183.40662967210008, 175.7936175970007, 177.02969242261884, 466.54499756651677, 328.85336039115566, 302.2393333454896, 281.4238202393174, 269.0534221108531, 233.40411554377224, 235.9059938169448, 153.80482024109185, 141.67042297999936, 141.38362184728993, 140.78834248234696, 128.22915989751286, 128.94330956369893, 126.15000246241291, 105.92072209858931, 103.68101030890766, 102.72758907333487, 102.83373611177535, 93.323433515635, 89.80955712559116, 84.64819797524159, 79.51370033505681, 366.64534792147657, 74.76840463640914, 72.21278594555585, 70.4987757144793, 66.49500731359971, 66.28543302261409, 61.892630854591786, 61.29479987814783, 62.210892197284785, 63.480150744624645, 779.5086844611928, 132.1664008276216, 105.43247123787805, 274.66995975739104, 137.5145089442572, 112.72685582158334, 99.74771277839133, 121.36177590026136, 169.4256698677098, 521.7283283545764, 192.71835700843152, 156.9032304884897, 164.77414009260582, 153.0377246362606, 147.5725903376031, 140.09411858233668, 142.68042040148916, 151.58639121097514, 131.8835662909728, 137.95183195905582, 128.26598429076554], \"Total\": [1160.0, 876.0, 467.0, 479.0, 792.0, 1177.0, 369.0, 353.0, 725.0, 329.0, 782.0, 355.0, 302.0, 299.0, 410.0, 329.0, 282.0, 324.0, 269.0, 261.0, 537.0, 236.0, 652.0, 234.0, 301.0, 337.0, 692.0, 256.0, 219.0, 244.0, 324.654990096715, 256.3543792154637, 244.02066008596805, 237.66400568632648, 186.43563699684825, 163.81164665910865, 163.44444332616735, 134.91880277643247, 135.32668738830625, 117.89665391279864, 111.56989167307447, 101.75508217581536, 100.0067810475751, 99.31377756930942, 80.5281235028583, 78.78070984373676, 74.90464656641625, 76.66927429519407, 70.92543362174673, 68.10723879566194, 65.48087450776246, 62.874876485323725, 60.6589218763588, 58.10247104082192, 55.39415672262953, 63.06710032157765, 52.164487271723225, 51.774289807867774, 51.84223115612856, 50.54404152551117, 1160.5242250632268, 159.8429583022499, 136.7874988630303, 120.28952745866538, 167.55262368821946, 147.38167801079567, 265.1049311731598, 118.31552117258202, 782.2237747229432, 792.4670448314106, 221.26304724552813, 652.5756825727806, 725.5976490436335, 439.403596909761, 585.8721680118492, 1449.5994026499354, 591.2918479897095, 384.35110586169753, 1119.4691902019533, 271.3983330788235, 537.9506987000002, 252.38019019205734, 466.66125523035134, 1081.6014124141504, 782.17147270714, 908.2009797983316, 1531.7789642923133, 1028.9937960900559, 832.8830534764368, 355.0762827195526, 352.0025669196909, 613.2817650533766, 1177.0195505046609, 715.795309630897, 600.7358506804311, 479.68617143775856, 355.46281614145016, 329.2563393564203, 234.55852383822977, 209.21002733922944, 207.25434193345077, 182.7857990155131, 173.15679329222553, 171.26206079949964, 166.6163295215302, 150.24783712976753, 148.73071405011538, 139.8912848549671, 136.12977891121534, 126.62077525519305, 119.7374327816468, 120.794225090512, 121.49589047859388, 112.60626989583413, 111.48652765690316, 108.91420409307952, 106.48366957586934, 109.54699626186546, 98.03716324621533, 94.2955913345057, 94.33104318949796, 90.34185509818906, 91.76575515632737, 88.66970898410077, 85.70713370282584, 301.94784564931814, 180.70069787997906, 276.9978611040035, 1177.0195505046609, 692.7376725879077, 978.8812806137258, 833.7676768775993, 155.3374713393027, 282.9976673401988, 390.0225705217029, 440.8901201856355, 228.38918968271258, 1081.6014124141504, 311.07020283394644, 428.0167935207202, 908.2009797983316, 357.86216882130515, 1028.9937960900559, 1449.5994026499354, 1531.7789642923133, 1119.4691902019533, 532.4358251851856, 342.4434320314978, 715.795309630897, 466.66125523035134, 832.8830534764368, 353.62990774616384, 299.34588252647876, 261.94875444788653, 219.5478402521861, 170.84167118210047, 154.42227541540518, 150.03229336175966, 135.81640548624424, 91.10824178759343, 87.02874572246577, 83.6778644223797, 72.9313195194679, 72.41766439180823, 72.93811190570273, 69.71632738550248, 68.12595670521674, 69.01486910351353, 67.99690976965768, 60.56617204764798, 58.482168753360966, 58.9320642997515, 50.600376633141394, 47.98054311880346, 48.48016621603349, 47.637898123392404, 46.961587819472456, 42.33987883471661, 44.08861060682921, 40.62553298224297, 40.16791530208068, 169.37124060939885, 209.09291873931116, 245.59218571289293, 223.385777132326, 410.31402557867756, 94.49750851997791, 240.3462970448683, 113.62801079249887, 185.75370424097466, 160.20966934616686, 260.46765351657984, 192.3442381023537, 412.1573577097054, 266.5364046312968, 782.17147270714, 415.6384967955805, 246.74031238157497, 416.6046288518767, 159.74471152137792, 348.75539818576135, 537.9506987000002, 832.8830534764368, 455.3259113143498, 313.86872569822157, 1449.5994026499354, 715.795309630897, 725.5976490436335, 659.9630955101807, 615.794511484768, 1028.9937960900559, 908.2009797983316, 1531.7789642923133, 440.8901201856355, 978.8812806137258, 792.4670448314106, 600.7358506804311, 1119.4691902019533, 467.25904455100704, 329.58128062749006, 302.9816342545168, 282.1371901128513, 269.831669730524, 234.10440333280832, 236.61911639858613, 154.5112476393086, 142.371769722369, 142.08529672562844, 141.50075300863875, 128.9314533667548, 129.66034828895465, 126.87377547729999, 106.62726293310227, 104.381878985109, 103.43012962778097, 103.55104603942789, 94.01985772196127, 90.52699284297415, 85.3530482634987, 80.21770247338439, 369.99844377662413, 75.4741760885986, 72.9250461924103, 71.19431870314591, 67.2047893567449, 67.00714543755872, 62.593549917157915, 61.98943618306857, 62.91603501213722, 64.23521839600662, 876.505293578588, 140.9076951313157, 111.14934769315107, 337.98590361632887, 158.58758597881223, 127.53281723658318, 109.78468421393839, 146.83424351132692, 254.2330059033498, 1531.7789642923133, 368.1611695691409, 266.6700348942911, 337.91504746476306, 342.4434320314978, 325.15260816610964, 315.59581474486373, 348.75539818576135, 615.794511484768, 366.27061280077953, 659.9630955101807, 409.8535796703884], \"Category\": [\"Default\", \"Default\", \"Default\", \"Default\", \"Default\", \"Default\", \"Default\", \"Default\", \"Default\", \"Default\", \"Default\", \"Default\", \"Default\", \"Default\", \"Default\", \"Default\", \"Default\", \"Default\", \"Default\", \"Default\", \"Default\", \"Default\", \"Default\", \"Default\", \"Default\", \"Default\", \"Default\", \"Default\", \"Default\", \"Default\", \"Topic1\", \"Topic1\", \"Topic1\", \"Topic1\", \"Topic1\", \"Topic1\", \"Topic1\", \"Topic1\", \"Topic1\", \"Topic1\", \"Topic1\", \"Topic1\", \"Topic1\", \"Topic1\", \"Topic1\", \"Topic1\", \"Topic1\", \"Topic1\", \"Topic1\", \"Topic1\", \"Topic1\", \"Topic1\", \"Topic1\", \"Topic1\", \"Topic1\", \"Topic1\", \"Topic1\", \"Topic1\", \"Topic1\", \"Topic1\", \"Topic1\", \"Topic1\", \"Topic1\", \"Topic1\", \"Topic1\", \"Topic1\", \"Topic1\", \"Topic1\", \"Topic1\", \"Topic1\", \"Topic1\", \"Topic1\", \"Topic1\", \"Topic1\", \"Topic1\", \"Topic1\", \"Topic1\", \"Topic1\", \"Topic1\", \"Topic1\", \"Topic1\", \"Topic1\", \"Topic1\", \"Topic1\", \"Topic1\", \"Topic1\", \"Topic1\", \"Topic1\", \"Topic1\", \"Topic1\", \"Topic1\", \"Topic1\", \"Topic1\", \"Topic1\", \"Topic1\", \"Topic2\", \"Topic2\", \"Topic2\", \"Topic2\", \"Topic2\", \"Topic2\", \"Topic2\", \"Topic2\", \"Topic2\", \"Topic2\", \"Topic2\", \"Topic2\", \"Topic2\", \"Topic2\", \"Topic2\", \"Topic2\", \"Topic2\", \"Topic2\", \"Topic2\", \"Topic2\", \"Topic2\", \"Topic2\", \"Topic2\", \"Topic2\", \"Topic2\", \"Topic2\", \"Topic2\", \"Topic2\", \"Topic2\", \"Topic2\", \"Topic2\", \"Topic2\", \"Topic2\", \"Topic2\", \"Topic2\", \"Topic2\", \"Topic2\", \"Topic2\", \"Topic2\", \"Topic2\", \"Topic2\", \"Topic2\", \"Topic2\", \"Topic2\", \"Topic2\", \"Topic2\", \"Topic2\", \"Topic2\", \"Topic2\", \"Topic2\", \"Topic2\", \"Topic2\", \"Topic2\", \"Topic2\", \"Topic2\", \"Topic2\", \"Topic3\", \"Topic3\", \"Topic3\", \"Topic3\", \"Topic3\", \"Topic3\", \"Topic3\", \"Topic3\", \"Topic3\", \"Topic3\", \"Topic3\", \"Topic3\", \"Topic3\", \"Topic3\", \"Topic3\", \"Topic3\", \"Topic3\", \"Topic3\", \"Topic3\", \"Topic3\", \"Topic3\", \"Topic3\", \"Topic3\", \"Topic3\", \"Topic3\", \"Topic3\", \"Topic3\", \"Topic3\", \"Topic3\", \"Topic3\", \"Topic3\", \"Topic3\", \"Topic3\", \"Topic3\", \"Topic3\", \"Topic3\", \"Topic3\", \"Topic3\", \"Topic3\", \"Topic3\", \"Topic3\", \"Topic3\", \"Topic3\", \"Topic3\", \"Topic3\", \"Topic3\", \"Topic3\", \"Topic3\", \"Topic3\", \"Topic3\", \"Topic3\", \"Topic3\", \"Topic3\", \"Topic3\", \"Topic3\", \"Topic3\", \"Topic3\", \"Topic3\", \"Topic3\", \"Topic3\", \"Topic3\", \"Topic3\", \"Topic3\", \"Topic3\", \"Topic3\", \"Topic3\", \"Topic3\", \"Topic4\", \"Topic4\", \"Topic4\", \"Topic4\", \"Topic4\", \"Topic4\", \"Topic4\", \"Topic4\", \"Topic4\", \"Topic4\", \"Topic4\", \"Topic4\", \"Topic4\", \"Topic4\", \"Topic4\", \"Topic4\", \"Topic4\", \"Topic4\", \"Topic4\", \"Topic4\", \"Topic4\", \"Topic4\", \"Topic4\", \"Topic4\", \"Topic4\", \"Topic4\", \"Topic4\", \"Topic4\", \"Topic4\", \"Topic4\", \"Topic4\", \"Topic4\", \"Topic4\", \"Topic4\", \"Topic4\", \"Topic4\", \"Topic4\", \"Topic4\", \"Topic4\", \"Topic4\", \"Topic4\", \"Topic4\", \"Topic4\", \"Topic4\", \"Topic4\", \"Topic4\", \"Topic4\", \"Topic4\", \"Topic4\", \"Topic4\", \"Topic4\", \"Topic4\", \"Topic4\"], \"logprob\": [30.0, 29.0, 28.0, 27.0, 26.0, 25.0, 24.0, 23.0, 22.0, 21.0, 20.0, 19.0, 18.0, 17.0, 16.0, 15.0, 14.0, 13.0, 12.0, 11.0, 10.0, 9.0, 8.0, 7.0, 6.0, 5.0, 4.0, 3.0, 2.0, 1.0, -5.2458, -5.4826, -5.532, -5.5584, -5.8021, -5.9319, -5.9342, -6.1269, -6.124, -6.2626, -6.3181, -6.4107, -6.4282, -6.4358, -6.6465, -6.6689, -6.7195, -6.6964, -6.7748, -6.8157, -6.856, -6.8968, -6.9329, -6.977, -7.0248, -6.8957, -7.0857, -7.0932, -7.092, -7.1174, -4.0687, -6.0014, -6.1666, -6.2892, -5.984, -6.114, -5.582, -6.3205, -4.6104, -4.6152, -5.7688, -4.8446, -4.836, -5.3223, -5.1055, -4.4103, -5.1388, -5.4566, -4.7008, -5.7462, -5.2965, -5.8025, -5.4283, -4.9806, -5.1751, -5.1082, -4.8819, -5.1669, -5.2954, -5.662, -5.675, -5.567, -5.4906, -5.6654, -5.6864, -4.8462, -5.1465, -5.2232, -5.5633, -5.6779, -5.6873, -5.8134, -5.8678, -5.879, -5.9065, -6.0103, -6.0205, -6.0821, -6.1095, -6.1823, -6.2384, -6.2297, -6.224, -6.3003, -6.3103, -6.3338, -6.3565, -6.3282, -6.4398, -6.4789, -6.4787, -6.522, -6.5064, -6.541, -6.5753, -5.3385, -5.8518, -5.5309, -4.3296, -4.8296, -4.6252, -4.7767, -6.0834, -5.6862, -5.5026, -5.4306, -5.8537, -4.922, -5.6793, -5.5026, -5.2311, -5.7072, -5.2462, -5.2422, -5.2704, -5.3813, -5.6176, -5.7765, -5.7192, -5.8003, -5.793, -4.9749, -5.142, -5.2758, -5.4529, -5.7046, -5.8061, -5.835, -5.9353, -6.337, -6.3832, -6.4228, -6.5614, -6.5687, -6.5616, -6.607, -6.6302, -6.6174, -6.6324, -6.7493, -6.7847, -6.7771, -6.9313, -6.9853, -6.9751, -6.9928, -7.0071, -7.1122, -7.072, -7.1544, -7.1659, -5.7288, -5.5397, -5.4564, -5.558, -5.0082, -6.381, -5.579, -6.2502, -5.8464, -5.978, -5.6575, -5.9281, -5.4707, -5.7556, -5.073, -5.4901, -5.8339, -5.5282, -6.0951, -5.6406, -5.4051, -5.2557, -5.5618, -5.7503, -5.0285, -5.3786, -5.3726, -5.4378, -5.4878, -5.3892, -5.4926, -5.4007, -5.6855, -5.6029, -5.6295, -5.6719, -5.6649, -4.6707, -5.0204, -5.1048, -5.1762, -5.2211, -5.3633, -5.3526, -5.7804, -5.8625, -5.8646, -5.8688, -5.9622, -5.9567, -5.9786, -6.1534, -6.1747, -6.184, -6.1829, -6.28, -6.3184, -6.3775, -6.4401, -4.9117, -6.5017, -6.5364, -6.5605, -6.6189, -6.6221, -6.6907, -6.7004, -6.6855, -6.6653, -4.1574, -5.932, -6.158, -5.2005, -5.8923, -6.0911, -6.2134, -6.0173, -5.6836, -4.5589, -5.5548, -5.7604, -5.7115, -5.7854, -5.8217, -5.8737, -5.8554, -5.7949, -5.9341, -5.8891, -5.9619], \"loglift\": [30.0, 29.0, 28.0, 27.0, 26.0, 25.0, 24.0, 23.0, 22.0, 21.0, 20.0, 19.0, 18.0, 17.0, 16.0, 15.0, 14.0, 13.0, 12.0, 11.0, 10.0, 9.0, 8.0, 7.0, 6.0, 5.0, 4.0, 3.0, 2.0, 1.0, 1.2878, 1.2872, 1.2871, 1.2871, 1.2862, 1.2857, 1.2857, 1.2848, 1.2847, 1.2839, 1.2837, 1.2831, 1.283, 1.2823, 1.2813, 1.2808, 1.2806, 1.2804, 1.2799, 1.2795, 1.2786, 1.2784, 1.2782, 1.2772, 1.2771, 1.2764, 1.2763, 1.2763, 1.2762, 1.2761, 1.191, 1.2407, 1.2314, 1.2373, 1.211, 1.2093, 1.1542, 1.2225, 1.0438, 1.026, 1.1482, 0.9909, 0.8934, 0.9086, 0.8377, 0.627, 0.7952, 0.9082, 0.5949, 0.9666, 0.7321, 0.983, 0.7424, 0.3495, 0.4792, 0.3967, 0.1003, 0.2131, 0.2961, 0.7821, 0.7777, 0.3306, -0.245, 0.0775, 0.2318, 1.297, 1.2965, 1.2963, 1.2954, 1.2951, 1.2951, 1.2946, 1.2944, 1.2942, 1.2942, 1.2938, 1.2937, 1.2934, 1.2933, 1.2929, 1.2926, 1.2925, 1.2925, 1.2922, 1.2921, 1.292, 1.2919, 1.2918, 1.2912, 1.291, 1.2909, 1.2908, 1.2907, 1.2905, 1.2901, 1.2676, 1.2677, 1.1614, 0.916, 0.9461, 0.8048, 0.8137, 1.1874, 0.9847, 0.8475, 0.7969, 1.0316, 0.4081, 0.8971, 0.7546, 0.2738, 0.729, 0.1338, -0.2049, -0.2883, -0.0855, 0.4213, 0.7038, 0.0238, 0.3704, -0.2016, 1.4732, 1.4728, 1.4725, 1.4719, 1.471, 1.4706, 1.4705, 1.4698, 1.4673, 1.4669, 1.4666, 1.4654, 1.4652, 1.4652, 1.4649, 1.4648, 1.4646, 1.4645, 1.4634, 1.463, 1.4628, 1.4611, 1.4603, 1.4601, 1.46, 1.46, 1.4584, 1.4582, 1.4575, 1.4574, 1.4555, 1.4339, 1.3563, 1.3494, 1.2912, 1.3868, 1.2553, 1.3332, 1.2456, 1.2618, 1.0964, 1.129, 0.8242, 0.9752, 0.5812, 0.7965, 0.9741, 0.756, 1.1477, 0.8214, 0.6235, 0.3358, 0.6336, 0.8171, 0.0088, 0.3644, 0.3567, 0.3863, 0.4056, -0.0092, 0.0122, -0.4185, 0.542, -0.1729, 0.0117, 0.2463, -0.3691, 1.4988, 1.4981, 1.4979, 1.4978, 1.4974, 1.4973, 1.4973, 1.4957, 1.4954, 1.4954, 1.4953, 1.4948, 1.4948, 1.4946, 1.4937, 1.4936, 1.4935, 1.4934, 1.4929, 1.4924, 1.492, 1.4915, 1.4912, 1.4909, 1.4905, 1.4905, 1.4897, 1.4895, 1.489, 1.489, 1.489, 1.4885, 1.383, 1.4363, 1.4475, 1.2929, 1.3577, 1.3769, 1.4044, 1.3098, 1.0945, 0.4233, 0.853, 0.9699, 0.7821, 0.6949, 0.7103, 0.6882, 0.6065, 0.0986, 0.4789, -0.065, 0.3386]}, \"token.table\": {\"Topic\": [1, 4, 1, 2, 3, 3, 2, 3, 4, 1, 2, 3, 2, 2, 3, 3, 3, 2, 2, 1, 4, 1, 2, 3, 3, 1, 2, 3, 1, 4, 1, 2, 3, 4, 1, 3, 1, 3, 4, 1, 2, 3, 4, 2, 3, 1, 3, 4, 3, 2, 3, 4, 1, 4, 1, 4, 3, 4, 1, 2, 3, 4, 1, 3, 3, 3, 1, 3, 1, 2, 3, 4, 1, 4, 1, 3, 1, 2, 3, 1, 2, 4, 2, 2, 1, 2, 4, 1, 1, 4, 1, 1, 2, 3, 4, 1, 1, 4, 4, 1, 1, 1, 2, 3, 2, 3, 3, 1, 2, 4, 4, 1, 2, 4, 2, 1, 1, 2, 3, 3, 2, 1, 2, 1, 2, 3, 1, 2, 3, 4, 2, 3, 1, 2, 3, 4, 3, 2, 1, 3, 1, 2, 3, 1, 3, 4, 4, 3, 1, 3, 4, 3, 1, 2, 3, 4, 4, 4, 1, 4, 1, 2, 3, 4, 1, 3, 3, 1, 2, 3, 4, 2, 2, 3, 1, 2, 3, 4, 1, 4, 4, 1, 1, 2, 3, 4, 1, 2, 3, 2, 1, 2, 3, 4, 2, 2, 3, 4, 3, 2, 3, 2, 1, 2, 3, 4, 1, 2, 3, 4, 1, 2, 1, 4, 1, 1, 2, 3, 4, 2, 3, 1, 2, 3, 4, 3, 1, 3, 1, 2, 3, 4, 2, 3, 1, 1, 2, 4, 1, 2, 3, 4, 3, 2, 1, 3, 1, 2, 3, 4, 4, 3, 1, 3, 2, 1, 4, 1, 4, 1, 3, 4, 1, 4, 1, 3, 3, 1, 2, 3, 4, 2, 3, 1, 4, 4, 1, 4, 1, 2, 3, 1, 2, 4, 1, 3, 4, 3, 1, 2, 3, 4, 1, 3, 2, 1, 4, 4, 2, 1, 3, 4, 3, 4, 4, 2, 1, 4, 2, 1, 2, 1, 3, 4, 1, 2, 3, 4, 2, 1, 1, 2, 1, 2, 3, 4, 1, 2, 3, 4, 1, 2, 3, 4, 2, 1, 2, 3, 4, 1, 3, 4, 1, 2, 3, 1, 2, 1, 3, 1, 3, 4, 1, 4, 1, 3, 2, 4, 2, 1, 3, 1, 1, 3, 4, 1, 1, 2, 3, 4, 1, 3, 4, 1], \"Freq\": [0.056774755931850156, 0.9367834728755277, 0.9837539562371054, 0.1955511716963376, 0.8030080029232587, 0.9918991189956994, 0.08465831666142504, 0.9206591936929972, 0.9854403569461981, 0.10880314844839326, 0.2851392855888927, 0.6077968982289554, 0.9989960933426537, 0.9936287320836953, 0.9795637344834642, 0.9975046884926911, 0.9881349374631301, 0.9933193883402929, 0.9924471503090097, 0.13241893979523506, 0.8701816043686875, 0.9976633383838756, 0.18725461529527695, 0.8051948457696909, 0.9972654501154756, 0.16600800642238295, 0.7030078185017434, 0.12991930937403884, 0.9477134245054989, 0.04987965392134205, 0.2261580693913228, 0.18766307885662956, 0.5076526876762671, 0.07939591797780482, 0.9869520202487281, 0.9878359875478978, 0.9925794155960612, 0.18639830633740173, 0.8136434006791344, 0.18228701230819722, 0.3821438571280279, 0.43046089653501995, 0.004392458127908367, 0.9968652687753226, 0.9871382480133903, 0.6816683912294412, 0.06504469381960316, 0.2523734120200603, 0.9872301841567627, 0.21115865735128228, 0.683386200155059, 0.10365970451790221, 0.4753353000393891, 0.5242269309005835, 0.997280768210147, 0.9952824324656625, 0.994232561967913, 0.9873151099559183, 0.2266818506418857, 0.6152793088851184, 0.10074748917417142, 0.05637061894269116, 0.6725490368432193, 0.3266272986308258, 0.995073384752814, 0.9931195255459397, 0.10993835134300274, 0.8876503923249851, 0.9912706321881016, 0.9703662543772207, 0.02980647197745729, 0.9931130332173624, 0.9899328721809758, 0.9941786109708929, 0.992656260146534, 0.9906520087285264, 0.40960096748916036, 0.3589513854878126, 0.23122635261484858, 0.10300154793334633, 0.8948259476709463, 0.9963415203019724, 0.9950869996504611, 0.9894207134124174, 0.9950452444886432, 0.5519159730376019, 0.4467891210304396, 0.9810254018276204, 0.9227741320060017, 0.0746361430298972, 0.9879226909426224, 0.038869578337465994, 0.7314547923504965, 0.1696127054725789, 0.06007116652153836, 0.9931899575335325, 0.4087448372038049, 0.588742563678875, 0.9905173948762537, 0.9928845072124997, 0.9923945770889999, 0.5994274469258046, 0.33522482813860166, 0.06534043260328676, 0.2045719634786036, 0.7967539630219298, 0.9919726072896098, 0.9958173210186037, 0.9916061995706434, 0.9973834895167843, 0.9891527412753885, 0.5785781377258837, 0.3942902864502319, 0.025714583898928167, 0.9917007217652782, 0.9975859352311724, 0.2911148962339071, 0.41507349721092557, 0.2911148962339071, 0.9900956153101083, 0.9934249746631771, 0.32790025875428835, 0.6686593511852155, 0.9986176198099356, 0.1657267257781346, 0.8310707866227044, 0.3901622123977166, 0.410502422522716, 0.13221136581249637, 0.06749251541477087, 0.9986979899994209, 0.9963780913946843, 0.3462420292786025, 0.28964477449267706, 0.2929740247742021, 0.0699142559120255, 0.9982187373512085, 0.9962159831916501, 0.9509333511744726, 0.043792983277771765, 0.09743025884161101, 0.635860636650514, 0.2666512347244091, 0.7811064042593321, 0.13423268812967246, 0.08309642598503533, 0.9982363056955682, 0.9709241743491681, 0.03826050182968695, 0.9612951084708847, 0.004782562728710869, 0.9917552860360833, 0.30586035542866435, 0.12744181476194347, 0.5193253951549196, 0.047790680535728804, 0.9969178201678306, 0.9849695815128069, 0.09108738683906865, 0.9108738683906865, 0.4993438005195622, 0.25101182101251696, 0.15811064882283096, 0.09200789168786208, 0.8713530864090818, 0.12447901234415455, 0.9866094402036776, 0.25203752605766805, 0.17282573215382951, 0.4872725503781582, 0.08641286607691476, 0.9987728028707237, 0.9954578051470632, 0.9897251130062906, 0.44491522913198583, 0.01662039649056269, 0.4091174520753893, 0.13040618784903033, 0.9837427149413013, 0.9941172368506185, 0.9967600866074536, 0.9979825041453395, 0.26594863484578996, 0.26106884338072955, 0.16103311834699208, 0.3123066537638634, 0.12373914730868593, 0.35423363739349306, 0.521645424928774, 0.9950973664950168, 0.36979981608992324, 0.22332066815820037, 0.32057321719483606, 0.08644671025478724, 0.9950067434020929, 0.9959184588331302, 0.9881792422270862, 0.9820728646235393, 0.9834724272557552, 0.9684522641757286, 0.027670064690735102, 0.9984698257262802, 0.6366576539482519, 0.08192913509253644, 0.17751312603382896, 0.10411827584676506, 0.30422143851237277, 0.20433757565316024, 0.15080504784626203, 0.3407802379902545, 0.2320600203259608, 0.7662359161706253, 0.10977566639987983, 0.8860464502276015, 0.9891372636377898, 0.6827436145489953, 0.1069631662793426, 0.2093747084616919, 0.9923616535233467, 0.29114467141043376, 0.7070656305681963, 0.24849874351416687, 0.2060721287678457, 0.3363824454886893, 0.2091026012497258, 0.9753085753475619, 0.11639057926502858, 0.8818824659696396, 0.1767323611414193, 0.6098798820891753, 0.19205597626928803, 0.0204314868371583, 0.6055930667885695, 0.3923880170577623, 0.9968405434070772, 0.2157993041756142, 0.6822316584764496, 0.10195242716958151, 0.23681187868763232, 0.12609463670380422, 0.18145325769571827, 0.4551708837112933, 0.9852949209830224, 0.9938412511065643, 0.01771257026403054, 0.9800955546096899, 0.6088363998657145, 0.14206182663533337, 0.2486081966118334, 0.9973887398948965, 0.994678508228511, 0.9841840887329067, 0.5725431730905937, 0.42754847341180696, 0.9983504778870562, 0.008108142211028227, 0.9918960638157863, 0.9850448975593653, 0.9807703869177876, 0.36755873994646465, 0.18694797980035702, 0.44360537579745735, 0.17026001157605636, 0.8240584560281128, 0.9381693872445427, 0.05916383523163783, 0.9988445388873917, 0.7221857178580194, 0.09211552523699228, 0.18423105047398455, 0.9937173731046502, 0.9963009056597267, 0.9846024670613827, 0.9892362876198458, 0.9949070915073972, 0.9994456082679877, 0.04498451951156251, 0.9446749097428128, 0.3621353235349082, 0.579416517655853, 0.05607256622475997, 0.10620178880418235, 0.22813717594972505, 0.6647445299224747, 0.8677454386992334, 0.13106571730353003, 0.9964611283121003, 0.9795239500170022, 0.29757110326670677, 0.27940948663540544, 0.3297031942297784, 0.09360217802286082, 0.3931258701253203, 0.6038737592646672, 0.999221459617387, 0.736983357760595, 0.26151022372150146, 0.9972861043551251, 0.9985695409235962, 0.9250824999817534, 0.071619290321168, 0.9959693718066859, 0.985338895943437, 0.9927755924374387, 0.9966911946727525, 0.9976188294968339, 0.9948920657309198, 0.9958413507811612, 0.9917494183707309, 0.1263547662805189, 0.8736529554253021, 0.7684862152590315, 0.2309244292157681, 0.984038632322021, 0.1818788539215007, 0.2289724857404607, 0.3426467694413986, 0.24683558746489379, 0.9956359959617682, 0.977676627670901, 0.9056252142799864, 0.09392307169982733, 0.38318439156518364, 0.26741378815612815, 0.15490432850507424, 0.19403805360109297, 0.341109928294729, 0.3119552335686838, 0.22643479570561786, 0.12050607153432023, 0.24590472999659796, 0.5644631302194635, 0.187222919429228, 0.9832245223368766, 0.9946160200813422, 0.5153147818869469, 0.22213033436090615, 0.23109832922640858, 0.03173290490870088, 0.06881613911884633, 0.5189883825212994, 0.41002949558312607, 0.6026873953984195, 0.20558962553310575, 0.19150814433220809, 0.9972061159012743, 0.9916553276870781, 0.9430686361856199, 0.05117426707983983, 0.18779964428421927, 0.7198986364228406, 0.09389982214210964, 0.11066675890110061, 0.8898976488954482, 0.983079920970894, 0.9939889037460432, 0.9964906230408908, 0.9958636712960879, 0.995700984322932, 0.13200970337668028, 0.8712640422860898, 0.9860854361196568, 0.7416764260841429, 0.12412353411738755, 0.134850259288026, 0.9934417507836307, 0.1272509180121194, 0.09173903391571399, 0.29297304379534467, 0.48828840632557446, 0.48870969644884116, 0.15016219723288415, 0.36038927335892196, 0.9900900887376451], \"Term\": [\"act\", \"act\", \"appreciate\", \"art\", \"art\", \"artists\", \"arts\", \"arts\", \"atlantic\", \"available\", \"available\", \"available\", \"ave\", \"avenue\", \"award\", \"bag\", \"bakery\", \"bar\", \"beer\", \"bill\", \"bill\", \"bio\", \"black\", \"black\", \"book\", \"brooklyn\", \"brooklyn\", \"brooklyn\", \"budget\", \"budget\", \"call\", \"call\", \"call\", \"call\", \"camp\", \"card\", \"census\", \"change\", \"change\", \"check\", \"check\", \"check\", \"check\", \"chicken\", \"chocolate\", \"city\", \"city\", \"city\", \"cjg\", \"class\", \"class\", \"class\", \"clean\", \"clean\", \"click\", \"climate\", \"clothe\", \"coast\", \"come\", \"come\", \"come\", \"come\", \"community\", \"community\", \"compost\", \"congrats\", \"congratulations\", \"congratulations\", \"connect\", \"corner\", \"corner\", \"could\", \"count\", \"crab\", \"creek\", \"cultural\", \"day\", \"day\", \"day\", \"de\", \"de\", \"delaware\", \"delicious\", \"dinner\", \"donate\", \"drink\", \"drink\", \"dump\", \"early\", \"early\", \"emergency\", \"enjoy\", \"enjoy\", \"enjoy\", \"enjoy\", \"ensure\", \"environmental\", \"environmental\", \"epa\", \"equal\", \"essential\", \"event\", \"event\", \"event\", \"excite\", \"excite\", \"exhibit\", \"families\", \"fifth\", \"fish\", \"flood\", \"food\", \"food\", \"food\", \"fort\", \"forward\", \"free\", \"free\", \"free\", \"french\", \"fresh\", \"fun\", \"fun\", \"fund\", \"garden\", \"garden\", \"get\", \"get\", \"get\", \"get\", \"get_repost\", \"gift\", \"go\", \"go\", \"go\", \"go\", \"grant\", \"grill\", \"hand\", \"hand\", \"happy\", \"happy\", \"happy\", \"help\", \"help\", \"help\", \"high\", \"hire\", \"history\", \"history\", \"history\", \"hny\", \"home\", \"home\", \"home\", \"home\", \"hudson\", \"isla\", \"jersey\", \"jersey\", \"join\", \"join\", \"join\", \"join\", \"khcc\", \"khcc\", \"kit\", \"know\", \"know\", \"know\", \"know\", \"l\", \"la\", \"le\", \"learn\", \"learn\", \"learn\", \"learn\", \"lend\", \"level\", \"line\", \"link\", \"live\", \"live\", \"live\", \"live\", \"love\", \"love\", \"love\", \"lunch\", \"make\", \"make\", \"make\", \"make\", \"market\", \"mask\", \"member\", \"miles\", \"museum\", \"music\", \"music\", \"near\", \"need\", \"need\", \"need\", \"need\", \"new\", \"new\", \"new\", \"new\", \"night\", \"night\", \"nj\", \"nj\", \"november\", \"nyc\", \"nyc\", \"nyc\", \"ocean\", \"offer\", \"offer\", \"one\", \"one\", \"one\", \"one\", \"ones\", \"online\", \"online\", \"open\", \"open\", \"open\", \"open\", \"order\", \"order\", \"oyster\", \"park\", \"park\", \"park\", \"people\", \"people\", \"people\", \"people\", \"pickup\", \"pizza\", \"plastic\", \"plastic\", \"please\", \"please\", \"please\", \"pollution\", \"pool\", \"products\", \"program\", \"program\", \"prospect\", \"protect\", \"protect\", \"ps\", \"pub\", \"public\", \"public\", \"public\", \"quality\", \"quality\", \"raise\", \"raise\", \"receive\", \"register\", \"register\", \"register\", \"release\", \"restaurant\", \"reusable\", \"ridgewood\", \"rise\", \"river\", \"rivers\", \"rivers\", \"saturday\", \"saturday\", \"saturday\", \"say\", \"say\", \"say\", \"school\", \"school\", \"sea\", \"seal\", \"see\", \"see\", \"see\", \"see\", \"share\", \"share\", \"slope\", \"society\", \"society\", \"source\", \"st\", \"staff\", \"staff\", \"state\", \"stories\", \"storm\", \"stream\", \"street\", \"students\", \"study\", \"sun\", \"sunday\", \"sunday\", \"support\", \"support\", \"surge\", \"take\", \"take\", \"take\", \"take\", \"taste\", \"teachers\", \"thank\", \"thank\", \"time\", \"time\", \"time\", \"time\", \"today\", \"today\", \"today\", \"today\", \"tomorrow\", \"tomorrow\", \"tomorrow\", \"trump\", \"union\", \"us\", \"us\", \"us\", \"us\", \"use\", \"use\", \"use\", \"visit\", \"visit\", \"visit\", \"volunteer\", \"walt\", \"waste\", \"waste\", \"watch\", \"watch\", \"watch\", \"water\", \"water\", \"webinar\", \"whale\", \"whitman\", \"wildlife\", \"wine\", \"women\", \"women\", \"womens\", \"work\", \"work\", \"work\", \"workers\", \"years\", \"years\", \"years\", \"years\", \"york\", \"york\", \"york\", \"yorkers\"]}, \"R\": 30, \"lambda.step\": 0.01, \"plot.opts\": {\"xlab\": \"PC1\", \"ylab\": \"PC2\"}, \"topic.order\": [4, 1, 2, 3]};\n",
       "\n",
       "function LDAvis_load_lib(url, callback){\n",
       "  var s = document.createElement('script');\n",
       "  s.src = url;\n",
       "  s.async = true;\n",
       "  s.onreadystatechange = s.onload = callback;\n",
       "  s.onerror = function(){console.warn(\"failed to load library \" + url);};\n",
       "  document.getElementsByTagName(\"head\")[0].appendChild(s);\n",
       "}\n",
       "\n",
       "if(typeof(LDAvis) !== \"undefined\"){\n",
       "   // already loaded: just create the visualization\n",
       "   !function(LDAvis){\n",
       "       new LDAvis(\"#\" + \"ldavis_el129791402395611707204716683031\", ldavis_el129791402395611707204716683031_data);\n",
       "   }(LDAvis);\n",
       "}else if(typeof define === \"function\" && define.amd){\n",
       "   // require.js is available: use it to load d3/LDAvis\n",
       "   require.config({paths: {d3: \"https://d3js.org/d3.v5\"}});\n",
       "   require([\"d3\"], function(d3){\n",
       "      window.d3 = d3;\n",
       "      LDAvis_load_lib(\"https://cdn.jsdelivr.net/gh/bmabey/pyLDAvis@3.3.1/pyLDAvis/js/ldavis.v3.0.0.js\", function(){\n",
       "        new LDAvis(\"#\" + \"ldavis_el129791402395611707204716683031\", ldavis_el129791402395611707204716683031_data);\n",
       "      });\n",
       "    });\n",
       "}else{\n",
       "    // require.js not available: dynamically load d3 & LDAvis\n",
       "    LDAvis_load_lib(\"https://d3js.org/d3.v5.js\", function(){\n",
       "         LDAvis_load_lib(\"https://cdn.jsdelivr.net/gh/bmabey/pyLDAvis@3.3.1/pyLDAvis/js/ldavis.v3.0.0.js\", function(){\n",
       "                 new LDAvis(\"#\" + \"ldavis_el129791402395611707204716683031\", ldavis_el129791402395611707204716683031_data);\n",
       "            })\n",
       "         });\n",
       "}\n",
       "</script>"
      ],
      "text/plain": [
       "PreparedData(topic_coordinates=              x         y  topics  cluster       Freq\n",
       "topic                                                \n",
       "3      0.011295 -0.131908       1        1  27.525524\n",
       "0     -0.192323  0.142689       2        1  27.294450\n",
       "1     -0.057272 -0.106578       3        1  22.873902\n",
       "2      0.238300  0.095797       4        1  22.306124, topic_info=         Term         Freq        Total Category  logprob  loglift\n",
       "445     thank  1160.000000  1160.000000  Default  30.0000  30.0000\n",
       "568     water   876.000000   876.000000  Default  29.0000  29.0000\n",
       "150     river   467.000000   467.000000  Default  28.0000  28.0000\n",
       "225        st   479.000000   479.000000  Default  27.0000  27.0000\n",
       "169   support   792.000000   792.000000  Default  26.0000  26.0000\n",
       "...       ...          ...          ...      ...      ...      ...\n",
       "185       use   142.680420   348.755398   Topic4  -5.8554   0.6065\n",
       "218      take   151.586391   615.794511   Topic4  -5.7949   0.0986\n",
       "26       york   131.883566   366.270613   Topic4  -5.9341   0.4789\n",
       "166       one   137.951832   659.963096   Topic4  -5.8891  -0.0650\n",
       "1163     live   128.265984   409.853580   Topic4  -5.9619   0.3386\n",
       "\n",
       "[271 rows x 6 columns], token_table=      Topic      Freq        Term\n",
       "term                             \n",
       "1926      1  0.056775         act\n",
       "1926      4  0.936783         act\n",
       "647       1  0.983754  appreciate\n",
       "872       2  0.195551         art\n",
       "872       3  0.803008         art\n",
       "...     ...       ...         ...\n",
       "101       4  0.488288       years\n",
       "26        1  0.488710        york\n",
       "26        3  0.150162        york\n",
       "26        4  0.360389        york\n",
       "2256      1  0.990090     yorkers\n",
       "\n",
       "[374 rows x 3 columns], R=30, lambda_step=0.01, plot_opts={'xlab': 'PC1', 'ylab': 'PC2'}, topic_order=[4, 1, 2, 3])"
      ]
     },
     "execution_count": 25,
     "metadata": {},
     "output_type": "execute_result"
    }
   ],
   "source": [
    "LDAvis_prepared_2 = gensimvis.prepare(lda_model_bow, corpus, id2word)\n",
    "LDAvis_prepared_2"
   ]
  },
  {
   "cell_type": "code",
   "execution_count": 26,
   "metadata": {},
   "outputs": [
    {
     "name": "stdout",
     "output_type": "stream",
     "text": [
      "\n",
      "Score: 0.9402359127998352\t \n",
      "Topic: 0.013*\"park\" + 0.010*\"open\" + 0.008*\"come\" + 0.008*\"brooklyn\"\n",
      "\n",
      "Score: 0.020550765097141266\t \n",
      "Topic: 0.007*\"grant\" + 0.007*\"garden\" + 0.007*\"us\" + 0.006*\"learn\"\n",
      "\n",
      "Score: 0.019865620881319046\t \n",
      "Topic: 0.017*\"thank\" + 0.012*\"us\" + 0.010*\"help\" + 0.010*\"support\"\n",
      "\n",
      "Score: 0.019347691908478737\t \n",
      "Topic: 0.016*\"water\" + 0.010*\"new\" + 0.009*\"river\" + 0.007*\"protect\"\n"
     ]
    }
   ],
   "source": [
    "for index, score in sorted(lda_model_bow[corpus[3000]], key=lambda tup: -1*tup[1]):\n",
    "    print(\"\\nScore: {}\\t \\nTopic: {}\".format(score, lda_model_bow.print_topic(index, 4)))"
   ]
  },
  {
   "cell_type": "code",
   "execution_count": 27,
   "metadata": {},
   "outputs": [
    {
     "name": "stdout",
     "output_type": "stream",
     "text": [
      "Coherence Score:  0.28302921569964656\n"
     ]
    }
   ],
   "source": [
    "# Compute Coherence Score\n",
    "coherence_model_lda_2 = CoherenceModel(model=lda_model_bow, texts=train_list_of_lists, dictionary=id2word, coherence='c_v')\n",
    "coherence_lda_2 = coherence_model_lda_2.get_coherence()\n",
    "print('Coherence Score: ', coherence_lda_2)"
   ]
  },
  {
   "cell_type": "markdown",
   "metadata": {},
   "source": [
    "## LDA with TF-IDF"
   ]
  },
  {
   "cell_type": "code",
   "execution_count": 29,
   "metadata": {},
   "outputs": [
    {
     "name": "stdout",
     "output_type": "stream",
     "text": [
      "[(0, 0.42466773753051157),\n",
      " (1, 0.1766020120629213),\n",
      " (2, 0.23014024341235387),\n",
      " (3, 0.2832750364803111),\n",
      " (4, 0.2366724011621648),\n",
      " (5, 0.2832750364803111),\n",
      " (6, 0.18979599067454203),\n",
      " (7, 0.2143401059677086),\n",
      " (8, 0.24462258623808159),\n",
      " (9, 0.33186344059309086),\n",
      " (10, 0.29674778220154957),\n",
      " (11, 0.19428450256362492),\n",
      " (12, 0.19638562074430463),\n",
      " (13, 0.24300529787323882),\n",
      " (14, 0.2088991128043566)]\n"
     ]
    }
   ],
   "source": [
    "tfidf = models.TfidfModel(corpus)\n",
    "corpus_tfidf = tfidf[corpus]\n",
    "\n",
    "for doc in corpus_tfidf:\n",
    "    pprint(doc)\n",
    "    break"
   ]
  },
  {
   "cell_type": "code",
   "execution_count": 30,
   "metadata": {},
   "outputs": [
    {
     "name": "stdout",
     "output_type": "stream",
     "text": [
      "Topic: 0 Word: 0.006*\"thank\" + 0.005*\"us\" + 0.004*\"join\" + 0.004*\"support\" + 0.004*\"community\" + 0.003*\"learn\" + 0.003*\"today\" + 0.003*\"work\" + 0.003*\"help\" + 0.003*\"program\"\n",
      "Topic: 1 Word: 0.003*\"order\" + 0.003*\"new\" + 0.002*\"delivery\" + 0.002*\"get\" + 0.002*\"today\" + 0.002*\"plastic\" + 0.002*\"open\" + 0.002*\"day\" + 0.002*\"park\" + 0.002*\"slope\"\n",
      "Topic: 2 Word: 0.005*\"st\" + 0.004*\"corner\" + 0.003*\"open\" + 0.003*\"union\" + 0.003*\"store\" + 0.003*\"ave\" + 0.003*\"president\" + 0.003*\"wine\" + 0.002*\"happy\" + 0.002*\"come\"\n",
      "Topic: 3 Word: 0.006*\"water\" + 0.004*\"gowanus\" + 0.003*\"river\" + 0.003*\"new\" + 0.002*\"protect\" + 0.002*\"climate\" + 0.002*\"clean\" + 0.002*\"quality\" + 0.002*\"drink\" + 0.002*\"ocean\"\n"
     ]
    }
   ],
   "source": [
    "lda_model_tfidf = gensim.models.LdaMulticore(corpus=corpus_tfidf,\n",
    "                                                id2word=id2word,\n",
    "                                                num_topics=4, \n",
    "                                                random_state=42,\n",
    "                                                chunksize=100,\n",
    "                                                passes=100,\n",
    "                                                update_every=5,\n",
    "                                                alpha='auto',\n",
    "                                                per_word_topics=True,\n",
    "                                                workers=4)\n",
    "\n",
    "for idx, topic in lda_model_tfidf.print_topics(-1):\n",
    "    print('Topic: {} Word: {}'.format(idx, topic))"
   ]
  },
  {
   "cell_type": "code",
   "execution_count": 31,
   "metadata": {},
   "outputs": [
    {
     "name": "stderr",
     "output_type": "stream",
     "text": [
      "/Users/examsherpa/opt/anaconda3/envs/nlp-env/lib/python3.8/site-packages/past/builtins/misc.py:45: DeprecationWarning: the imp module is deprecated in favour of importlib; see the module's documentation for alternative uses\n",
      "  from imp import reload\n",
      "/Users/examsherpa/opt/anaconda3/envs/nlp-env/lib/python3.8/site-packages/past/builtins/misc.py:45: DeprecationWarning: the imp module is deprecated in favour of importlib; see the module's documentation for alternative uses\n",
      "  from imp import reload\n",
      "/Users/examsherpa/opt/anaconda3/envs/nlp-env/lib/python3.8/site-packages/past/builtins/misc.py:45: DeprecationWarning: the imp module is deprecated in favour of importlib; see the module's documentation for alternative uses\n",
      "  from imp import reload\n",
      "/Users/examsherpa/opt/anaconda3/envs/nlp-env/lib/python3.8/site-packages/past/builtins/misc.py:45: DeprecationWarning: the imp module is deprecated in favour of importlib; see the module's documentation for alternative uses\n",
      "  from imp import reload\n",
      "/Users/examsherpa/opt/anaconda3/envs/nlp-env/lib/python3.8/site-packages/past/builtins/misc.py:45: DeprecationWarning: the imp module is deprecated in favour of importlib; see the module's documentation for alternative uses\n",
      "  from imp import reload\n",
      "/Users/examsherpa/opt/anaconda3/envs/nlp-env/lib/python3.8/site-packages/past/builtins/misc.py:45: DeprecationWarning: the imp module is deprecated in favour of importlib; see the module's documentation for alternative uses\n",
      "  from imp import reload\n",
      "/Users/examsherpa/opt/anaconda3/envs/nlp-env/lib/python3.8/site-packages/past/builtins/misc.py:45: DeprecationWarning: the imp module is deprecated in favour of importlib; see the module's documentation for alternative uses\n",
      "  from imp import reload\n",
      "/Users/examsherpa/opt/anaconda3/envs/nlp-env/lib/python3.8/site-packages/past/builtins/misc.py:45: DeprecationWarning: the imp module is deprecated in favour of importlib; see the module's documentation for alternative uses\n",
      "  from imp import reload\n",
      "/Users/examsherpa/opt/anaconda3/envs/nlp-env/lib/python3.8/site-packages/past/builtins/misc.py:45: DeprecationWarning: the imp module is deprecated in favour of importlib; see the module's documentation for alternative uses\n",
      "  from imp import reload\n"
     ]
    },
    {
     "data": {
      "text/html": [
       "\n",
       "<link rel=\"stylesheet\" type=\"text/css\" href=\"https://cdn.jsdelivr.net/gh/bmabey/pyLDAvis@3.3.1/pyLDAvis/js/ldavis.v1.0.0.css\">\n",
       "\n",
       "\n",
       "<div id=\"ldavis_el129791402395611680328516812744\"></div>\n",
       "<script type=\"text/javascript\">\n",
       "\n",
       "var ldavis_el129791402395611680328516812744_data = {\"mdsDat\": {\"x\": [-0.12848697611836504, 0.044824339728403, -0.05712347528071746, 0.14078611167067956], \"y\": [0.08688370809296256, 0.024272464236392115, -0.12998194494034931, 0.01882577261099468], \"topics\": [1, 2, 3, 4], \"cluster\": [1, 1, 1, 1], \"Freq\": [39.89191657925254, 22.69743037602877, 22.26653838211467, 15.144114662604025]}, \"tinfo\": {\"Term\": [\"water\", \"st\", \"gowanus\", \"corner\", \"union\", \"river\", \"link\", \"store\", \"plastic\", \"order\", \"khcc\", \"program\", \"ave\", \"president\", \"register\", \"wine\", \"delivery\", \"littoral\", \"grill\", \"quality\", \"families\", \"rise\", \"slope\", \"pizza\", \"climate\", \"sea\", \"restaurant\", \"storm\", \"bag\", \"ocean\", \"link\", \"khcc\", \"register\", \"littoral\", \"bio\", \"history\", \"donate\", \"events\", \"activities\", \"congrats\", \"click\", \"families\", \"education\", \"greene\", \"census\", \"donation\", \"fort\", \"arts\", \"registration\", \"youth\", \"resources\", \"everyone\", \"students\", \"difference\", \"grand\", \"hall\", \"emergency\", \"kick\", \"humanities\", \"voice\", \"society\", \"workshop\", \"partner\", \"interest\", \"grant\", \"information\", \"program\", \"annual\", \"virtual\", \"learn\", \"join\", \"thank\", \"support\", \"community\", \"work\", \"visit\", \"receive\", \"us\", \"free\", \"line\", \"please\", \"help\", \"summer\", \"event\", \"year\", \"high\", \"today\", \"see\", \"food\", \"day\", \"park\", \"brooklyn\", \"new\", \"get\", \"make\", \"time\", \"one\", \"open\", \"need\", \"come\", \"plastic\", \"grill\", \"shophabit\", \"habit\", \"le\", \"pub\", \"brunch\", \"chocolate\", \"bonnies\", \"succulent\", \"monro\", \"bakery\", \"bk\", \"french\", \"sauce\", \"trump\", \"toy\", \"pie\", \"chip\", \"santa\", \"missamericanpienyc\", \"christmas\", \"curbside\", \"bagel\", \"singleuse\", \"negril\", \"olive\", \"room\", \"alchemy\", \"bistro\", \"menu\", \"ban\", \"lunch\", \"delivery\", \"baby\", \"pickup\", \"bag\", \"order\", \"bill\", \"restaurant\", \"slope\", \"tree\", \"pick\", \"cjg\", \"call\", \"dd\", \"new\", \"take\", \"get\", \"day\", \"today\", \"open\", \"ready\", \"spot\", \"park\", \"make\", \"get_repost\", \"come\", \"corner\", \"st\", \"us\", \"storm\", \"sea\", \"reservoir\", \"ps\", \"rise\", \"study\", \"ridgewood\", \"flood\", \"surge\", \"sewage\", \"infrastructure\", \"barriers\", \"quality\", \"pinots\", \"palette\", \"dump\", \"imagine\", \"recreation\", \"boathouse\", \"brooklynwineco\", \"ocean\", \"co\", \"prospectcare\", \"overflow\", \"qbgs\", \"planet\", \"gallons\", \"shower\", \"draft\", \"rezoning\", \"level\", \"canoe\", \"gowanus\", \"species\", \"water\", \"delaware\", \"source\", \"rivers\", \"climate\", \"rain\", \"river\", \"might\", \"swim\", \"wildlife\", \"waterfront\", \"protect\", \"clean\", \"fish\", \"drink\", \"green\", \"new\", \"change\", \"act\", \"hudson\", \"pollution\", \"say\", \"help\", \"years\", \"environmental\", \"park\", \"plan\", \"people\", \"well\", \"open\", \"today\", \"union\", \"carroll\", \"clothe\", \"gorgeous\", \"sterling\", \"hair\", \"general\", \"somethingelse_bk\", \"ribbon\", \"parade\", \"sandwich\", \"annies\", \"dress\", \"buttermilk\", \"fabulous\", \"bhoomki\", \"lizziekingsparlor\", \"loaf\", \"kings\", \"bakehouse\", \"zuzus\", \"petals\", \"bakeshop\", \"medusagreeknyc\", \"shoplykke\", \"yourcbdstorebk\", \"lifevintageandthrift\", \"boutique\", \"shape\", \"gutnyc\", \"market\", \"president\", \"st\", \"corner\", \"wine\", \"store\", \"anniesblueribbongeneralstore\", \"ave\", \"pizza\", \"near\", \"sale\", \"awesome\", \"wait\", \"open\", \"happy\", \"blue\", \"come\", \"beautiful\", \"order\", \"get\", \"slope\", \"great\", \"park\", \"get_repost\", \"love\", \"good\"], \"Freq\": [101.0, 78.0, 61.0, 55.0, 27.0, 63.0, 54.0, 40.0, 30.0, 63.0, 49.0, 74.0, 38.0, 31.0, 46.0, 33.0, 43.0, 41.0, 23.0, 25.0, 43.0, 23.0, 52.0, 25.0, 34.0, 22.0, 33.0, 21.0, 37.0, 24.0, 53.70108332264947, 48.99066388005323, 45.827070688626385, 40.742511031440024, 35.02758200216381, 32.45772477682877, 31.800229593145723, 30.346941593818965, 30.620169797934913, 28.80885281167341, 28.45956129376251, 42.23739091845392, 26.865414547835886, 24.97884531005778, 24.320784685480362, 23.684479463277682, 23.42650537052927, 23.302763364125454, 21.95024921324438, 21.506252741916942, 20.841405547329064, 31.35046613640694, 20.640235237459947, 18.32033359010883, 18.51403675404937, 18.07310927074363, 16.602423090051683, 16.378865414455305, 15.43523539049503, 15.396406743377662, 38.07289314586821, 19.685877187843168, 31.704728928787336, 31.58497059420493, 47.006866952560635, 32.051070431534406, 67.27996986054211, 35.44421471618233, 28.54402178862225, 76.72047892490158, 92.19142792048278, 122.39548950839622, 80.33105698116094, 77.57273907329966, 68.5690778745714, 49.58642366400677, 38.86162178816644, 101.02082074727785, 57.921682554469655, 45.065209443756956, 64.59639249298081, 68.04096119634328, 48.91279166710751, 46.3886481633095, 49.03910246381878, 45.235967476744115, 73.13274365735228, 61.164821254520575, 47.46657807535057, 60.587268155654485, 62.3672914424634, 54.95725760277689, 62.276677620223765, 58.170665881142, 51.95423427401423, 49.391226303313694, 47.54195313755917, 48.769159445713555, 47.224507967214805, 47.70150981201444, 30.235876229804774, 23.2338420980354, 21.007954109021124, 20.131701926079618, 19.67466200566528, 18.207995563730844, 17.071752294084813, 15.258302963897531, 13.734779303025277, 12.954551286701186, 12.794005378583861, 12.881249918312012, 13.261015729202903, 12.494161686056009, 13.063483586567997, 13.074487599112508, 12.177176539934873, 11.962458543338567, 11.888169448727478, 11.570976130388607, 11.307598241833995, 11.507469774356323, 10.617425818052375, 9.967183154832126, 9.668268958535213, 9.556818939433617, 9.53467771324024, 9.274098503626867, 8.759119742192349, 8.65398694923666, 18.467705690728916, 22.45733934538394, 23.436735767089335, 31.236299501251263, 14.406031346989327, 13.45727409078523, 25.641949197807918, 36.91078009527538, 19.385966444909602, 21.620188601382182, 26.779448779509234, 17.75086975407982, 22.648565179996247, 16.949089362346083, 25.667445199356344, 18.910961116529684, 36.090284584442266, 26.110458970694566, 31.056360094639693, 29.60746981320017, 30.705897070957224, 30.12362336470261, 20.43952895037015, 19.25317440624076, 26.8744248062891, 24.410387800185042, 20.888632123014588, 23.411990932424484, 20.4549336944826, 19.47182656660232, 19.34801213679206, 21.39010218810157, 21.805189108418453, 19.39300389993497, 17.58675585245767, 22.39975420110119, 16.385907995285862, 15.27558540081488, 15.177208369729986, 11.852839899104014, 11.76358994181733, 11.635558132541252, 11.286263690138105, 24.101530028795306, 8.723910912110627, 8.593799055426148, 11.99141832706258, 8.593454166000038, 8.479680642563633, 8.225689930852052, 8.137174737994906, 22.777093223650223, 7.901433175482268, 7.700141996514339, 7.305999075694822, 7.513407579121307, 7.327182284214437, 7.349597240684445, 7.124356597220194, 7.761589438904516, 6.954141883498075, 16.31042505277226, 14.484690395691363, 51.799535574565496, 16.344104254991507, 75.2387122440563, 15.026755177472856, 13.827559647696528, 15.802465051052582, 26.04169656966638, 17.384025135015545, 38.977612084521915, 10.840601572436963, 14.02325690582772, 12.272996622579033, 13.696190337017477, 29.39660953323495, 25.576774198361804, 19.071134236390208, 23.574970275996314, 19.512761219211544, 37.613223802377156, 21.926358832011477, 15.613948347929592, 20.08072341239294, 15.707217016790075, 17.340440537104797, 21.195684519725223, 18.476904750395406, 17.585998952267865, 20.761927870764307, 17.779455500214517, 17.36778177131959, 17.69554525954988, 18.46697079243259, 18.09851320814847, 26.42004940985967, 15.801442725011903, 15.921020587815653, 15.368192850658879, 12.028748575202995, 11.90306025651067, 11.763628025749782, 13.471769982691297, 10.982384240423116, 11.166860564624265, 10.975196611496798, 10.458367239646396, 10.818645196975595, 10.024284960159608, 9.999882959954764, 9.7928714764672, 9.777541429528815, 9.50562662813782, 9.777785226131586, 9.216318736046345, 8.791043244596707, 8.715640160653617, 8.612003293246989, 8.711189658526537, 8.276431353400193, 8.350913643799752, 8.261252829449985, 14.547966862720216, 8.663851351637094, 8.237807560933305, 16.752867223385998, 23.407719954647682, 45.3967418266142, 34.26661684491186, 22.811566355884523, 25.82986154310535, 14.61438832440903, 23.41810122194018, 17.445733283256367, 18.45321351684608, 15.551257874207334, 13.649492849605329, 15.233631695447379, 28.619836840975704, 20.456065743188283, 13.192760797289788, 19.7048944145086, 14.757886422019318, 16.051148724321788, 18.491010731986442, 14.83669100278673, 16.13846384625844, 16.400162501562, 14.65046730771552, 14.515446727033458, 13.740483375306463], \"Total\": [101.0, 78.0, 61.0, 55.0, 27.0, 63.0, 54.0, 40.0, 30.0, 63.0, 49.0, 74.0, 38.0, 31.0, 46.0, 33.0, 43.0, 41.0, 23.0, 25.0, 43.0, 23.0, 52.0, 25.0, 34.0, 22.0, 33.0, 21.0, 37.0, 24.0, 54.28089848113623, 49.55911967201311, 46.392135195732514, 41.32109177594107, 35.598663840606235, 33.05519974347928, 32.39909949107618, 30.920221243702215, 31.22040137077699, 29.37470707819069, 29.03807833283119, 43.118667204210375, 27.43537350007671, 25.545389729456293, 24.880349193551133, 24.253127560517196, 23.998015016942645, 23.872544801300155, 22.52041140051403, 22.075771661759973, 21.414490992866476, 32.22465693195106, 21.2207579693921, 18.880521617154635, 19.082965942341737, 18.651429117152347, 17.166291167437123, 16.958107999145955, 16.00119760831593, 15.962855873636814, 39.50168488907553, 20.43916486292149, 33.458736881525205, 33.41814757618517, 50.88020359717236, 34.05011551938996, 74.34015585618373, 38.200003120788274, 30.388509256230734, 92.40570816846622, 117.71775840565756, 163.94615848666996, 101.99608034725674, 97.9087902335295, 87.19510964760138, 59.290022516835485, 44.087770739506176, 144.11341227913448, 72.24598708286817, 53.25330251290672, 87.61725415377431, 94.47861081410308, 61.319226336490644, 58.38132502994273, 63.63331772156694, 57.6516046493304, 129.21630566153658, 98.71270305548215, 68.94714233241633, 114.65948875927629, 126.40380662107881, 95.44100660342147, 147.01787128164466, 122.30824184614562, 93.74937777674879, 82.82271564477806, 84.52040995726932, 125.97959044382446, 80.81243743351257, 106.09525158083585, 30.87151144352704, 23.805612306515815, 21.58965076229484, 20.703264629144822, 20.24244247810461, 18.776844176135675, 17.64499149068014, 15.832050931675237, 14.30113096121026, 13.521693060194634, 13.36027157694069, 13.45290313951745, 13.85283764633472, 13.06831850698442, 13.66606723888664, 13.697703152185245, 12.758642281891365, 12.533679762555014, 12.461925357608136, 12.148235982743564, 11.878438646856093, 12.097195045074299, 11.190455061900145, 10.535383660301788, 10.240424577664232, 10.125923018169168, 10.123165951176187, 9.859601506155242, 9.330134929753573, 9.220154217953086, 21.30377463568279, 26.55585345672447, 29.105680116714186, 43.094541180521865, 17.145139143433067, 15.722221383127497, 37.403891955682404, 63.85873371306515, 28.073583158931847, 33.56547692714801, 52.70747781292778, 25.650777927452552, 41.945470643158224, 24.960231384650935, 60.58775457113762, 31.962043643475333, 147.01787128164466, 76.92064209649841, 122.30824184614562, 114.65948875927629, 129.21630566153658, 125.97959044382446, 45.704941699800656, 41.27970612222231, 126.40380662107881, 93.74937777674879, 59.45020380840289, 106.09525158083585, 55.30377982305459, 78.82276966439169, 144.11341227913448, 21.95829210675026, 22.397763006608432, 19.96011105850504, 18.174367696028845, 23.173991113460513, 16.96457209838605, 15.841044981624494, 15.741840497226468, 12.415415402718816, 12.328591916125486, 12.200142632332216, 11.847988700111301, 25.462137293185165, 9.289831725667879, 9.158074170632194, 12.77968482168974, 9.162535082563188, 9.053931186599478, 8.813332130783742, 8.723788215290723, 24.45435582979438, 8.494503424882257, 8.283853863473952, 7.8672054389866934, 8.09209096366991, 7.895196154563742, 7.931234862093427, 7.693653128174262, 8.382130979721714, 7.517165783564433, 17.75193490025751, 15.91695422337189, 61.14953727449624, 18.85298608665384, 101.12632014004762, 17.31519198581215, 16.02224155412527, 19.05945448568681, 34.69758078688872, 22.06628623233156, 63.87561782475883, 12.54174628633283, 17.97445324929403, 14.954737495371178, 17.479201737984184, 52.35496508949256, 55.05122595796306, 33.76213373746836, 52.5708089881127, 35.84166407295813, 147.01787128164466, 46.53567413262325, 22.99280088896795, 42.15175428495389, 25.141290295309975, 37.0771771015476, 94.47861081410308, 53.03632683296985, 42.21221185533388, 126.40380662107881, 46.32101674942861, 43.78143268112696, 52.65729334286863, 125.97959044382446, 129.21630566153658, 27.012524249962834, 16.382504038498382, 16.50726766572198, 15.967522557543173, 12.603900201169598, 12.485632541401941, 12.362824326773742, 14.16914951964844, 11.557838287301866, 11.761753730037068, 11.565208045567562, 11.029120937571358, 11.415441777978797, 10.59999224128621, 10.584103113719948, 10.374484601934133, 10.361403541756264, 10.078077276346297, 10.36984719515214, 9.787473518914018, 9.364860403944432, 9.291070101083156, 9.187085409720666, 9.303104458066917, 8.849024302131157, 8.929416848134224, 8.835529043853121, 15.564605030349698, 9.269321125610391, 8.815300679739837, 20.874382562983072, 31.482944194951287, 78.82276966439169, 55.30377982305459, 33.53188252455929, 40.90580294173117, 19.046482731545304, 38.001634614381715, 25.25778798667376, 30.8374844598992, 24.38573138111181, 20.872673567622932, 28.614747850700233, 125.97959044382446, 73.44207509853197, 26.24765599412048, 106.09525158083585, 41.70920587456721, 63.85873371306515, 122.30824184614562, 52.70747781292778, 87.10422784221501, 126.40380662107881, 59.45020380840289, 66.20102736165563, 51.18759736465278], \"Category\": [\"Default\", \"Default\", \"Default\", \"Default\", \"Default\", \"Default\", \"Default\", \"Default\", \"Default\", \"Default\", \"Default\", \"Default\", \"Default\", \"Default\", \"Default\", \"Default\", \"Default\", \"Default\", \"Default\", \"Default\", \"Default\", \"Default\", \"Default\", \"Default\", \"Default\", \"Default\", \"Default\", \"Default\", \"Default\", \"Default\", \"Topic1\", \"Topic1\", \"Topic1\", \"Topic1\", \"Topic1\", \"Topic1\", \"Topic1\", \"Topic1\", \"Topic1\", \"Topic1\", \"Topic1\", \"Topic1\", \"Topic1\", \"Topic1\", \"Topic1\", \"Topic1\", \"Topic1\", \"Topic1\", \"Topic1\", \"Topic1\", \"Topic1\", \"Topic1\", \"Topic1\", \"Topic1\", \"Topic1\", \"Topic1\", \"Topic1\", \"Topic1\", \"Topic1\", \"Topic1\", \"Topic1\", \"Topic1\", \"Topic1\", \"Topic1\", \"Topic1\", \"Topic1\", \"Topic1\", \"Topic1\", \"Topic1\", \"Topic1\", \"Topic1\", \"Topic1\", \"Topic1\", \"Topic1\", \"Topic1\", \"Topic1\", \"Topic1\", \"Topic1\", \"Topic1\", \"Topic1\", \"Topic1\", \"Topic1\", \"Topic1\", \"Topic1\", \"Topic1\", \"Topic1\", \"Topic1\", \"Topic1\", \"Topic1\", \"Topic1\", \"Topic1\", \"Topic1\", \"Topic1\", \"Topic1\", \"Topic1\", \"Topic1\", \"Topic1\", \"Topic1\", \"Topic1\", \"Topic1\", \"Topic2\", \"Topic2\", \"Topic2\", \"Topic2\", \"Topic2\", \"Topic2\", \"Topic2\", \"Topic2\", \"Topic2\", \"Topic2\", \"Topic2\", \"Topic2\", \"Topic2\", \"Topic2\", \"Topic2\", \"Topic2\", \"Topic2\", \"Topic2\", \"Topic2\", \"Topic2\", \"Topic2\", \"Topic2\", \"Topic2\", \"Topic2\", \"Topic2\", \"Topic2\", \"Topic2\", \"Topic2\", \"Topic2\", \"Topic2\", \"Topic2\", \"Topic2\", \"Topic2\", \"Topic2\", \"Topic2\", \"Topic2\", \"Topic2\", \"Topic2\", \"Topic2\", \"Topic2\", \"Topic2\", \"Topic2\", \"Topic2\", \"Topic2\", \"Topic2\", \"Topic2\", \"Topic2\", \"Topic2\", \"Topic2\", \"Topic2\", \"Topic2\", \"Topic2\", \"Topic2\", \"Topic2\", \"Topic2\", \"Topic2\", \"Topic2\", \"Topic2\", \"Topic2\", \"Topic2\", \"Topic2\", \"Topic3\", \"Topic3\", \"Topic3\", \"Topic3\", \"Topic3\", \"Topic3\", \"Topic3\", \"Topic3\", \"Topic3\", \"Topic3\", \"Topic3\", \"Topic3\", \"Topic3\", \"Topic3\", \"Topic3\", \"Topic3\", \"Topic3\", \"Topic3\", \"Topic3\", \"Topic3\", \"Topic3\", \"Topic3\", \"Topic3\", \"Topic3\", \"Topic3\", \"Topic3\", \"Topic3\", \"Topic3\", \"Topic3\", \"Topic3\", \"Topic3\", \"Topic3\", \"Topic3\", \"Topic3\", \"Topic3\", \"Topic3\", \"Topic3\", \"Topic3\", \"Topic3\", \"Topic3\", \"Topic3\", \"Topic3\", \"Topic3\", \"Topic3\", \"Topic3\", \"Topic3\", \"Topic3\", \"Topic3\", \"Topic3\", \"Topic3\", \"Topic3\", \"Topic3\", \"Topic3\", \"Topic3\", \"Topic3\", \"Topic3\", \"Topic3\", \"Topic3\", \"Topic3\", \"Topic3\", \"Topic3\", \"Topic3\", \"Topic3\", \"Topic3\", \"Topic3\", \"Topic4\", \"Topic4\", \"Topic4\", \"Topic4\", \"Topic4\", \"Topic4\", \"Topic4\", \"Topic4\", \"Topic4\", \"Topic4\", \"Topic4\", \"Topic4\", \"Topic4\", \"Topic4\", \"Topic4\", \"Topic4\", \"Topic4\", \"Topic4\", \"Topic4\", \"Topic4\", \"Topic4\", \"Topic4\", \"Topic4\", \"Topic4\", \"Topic4\", \"Topic4\", \"Topic4\", \"Topic4\", \"Topic4\", \"Topic4\", \"Topic4\", \"Topic4\", \"Topic4\", \"Topic4\", \"Topic4\", \"Topic4\", \"Topic4\", \"Topic4\", \"Topic4\", \"Topic4\", \"Topic4\", \"Topic4\", \"Topic4\", \"Topic4\", \"Topic4\", \"Topic4\", \"Topic4\", \"Topic4\", \"Topic4\", \"Topic4\", \"Topic4\", \"Topic4\", \"Topic4\", \"Topic4\", \"Topic4\", \"Topic4\"], \"logprob\": [30.0, 29.0, 28.0, 27.0, 26.0, 25.0, 24.0, 23.0, 22.0, 21.0, 20.0, 19.0, 18.0, 17.0, 16.0, 15.0, 14.0, 13.0, 12.0, 11.0, 10.0, 9.0, 8.0, 7.0, 6.0, 5.0, 4.0, 3.0, 2.0, 1.0, -6.0144, -6.1062, -6.1729, -6.2905, -6.4417, -6.5179, -6.5383, -6.5851, -6.5761, -6.6371, -6.6493, -6.2545, -6.7069, -6.7798, -6.8065, -6.833, -6.8439, -6.8492, -6.909, -6.9294, -6.9608, -6.5526, -6.9705, -7.0898, -7.0793, -7.1034, -7.1882, -7.2018, -7.2611, -7.2637, -6.3583, -7.0179, -6.5413, -6.5451, -6.1475, -6.5305, -5.7889, -6.4298, -6.6463, -5.6576, -5.4739, -5.1905, -5.6116, -5.6466, -5.7699, -6.0941, -6.3378, -5.3825, -5.9387, -6.1897, -5.8296, -5.7777, -6.1078, -6.1607, -6.1052, -6.1859, -5.7055, -5.8842, -6.1378, -5.8937, -5.8647, -5.9912, -5.8662, -5.9344, -6.0474, -6.098, -6.1362, -6.1107, -6.1429, -6.1328, -6.0248, -6.2883, -6.389, -6.4316, -6.4545, -6.532, -6.5964, -6.7087, -6.8139, -6.8724, -6.8849, -6.8781, -6.849, -6.9086, -6.864, -6.8632, -6.9343, -6.9521, -6.9583, -6.9854, -7.0084, -6.9909, -7.0714, -7.1346, -7.165, -7.1766, -7.1789, -7.2066, -7.2638, -7.2758, -6.5178, -6.3222, -6.2796, -5.9923, -6.7662, -6.8343, -6.1896, -5.8254, -6.4693, -6.3602, -6.1462, -6.5574, -6.3138, -6.6037, -6.1886, -6.4941, -5.8478, -6.1715, -5.9981, -6.0458, -6.0094, -6.0286, -6.4164, -6.4762, -6.1427, -6.2389, -6.3947, -6.2806, -6.4156, -6.4649, -6.4713, -6.3518, -6.3326, -6.4498, -6.5476, -6.3057, -6.6183, -6.6884, -6.6949, -6.9421, -6.9497, -6.9606, -6.9911, -6.2324, -7.2486, -7.2637, -6.9305, -7.2637, -7.277, -7.3074, -7.3183, -6.2889, -7.3477, -7.3735, -7.426, -7.398, -7.4231, -7.4201, -7.4512, -7.3655, -7.4754, -6.6229, -6.7416, -5.4673, -6.6208, -5.094, -6.7049, -6.788, -6.6545, -6.155, -6.5591, -5.7517, -7.0314, -6.774, -6.9073, -6.7976, -6.0338, -6.173, -6.4665, -6.2545, -6.4436, -5.7873, -6.327, -6.6665, -6.4149, -6.6606, -6.5617, -6.3609, -6.4982, -6.5476, -6.3816, -6.5367, -6.5601, -6.5414, -6.4987, -6.5189, -5.7551, -6.2691, -6.2616, -6.2969, -6.5419, -6.5524, -6.5642, -6.4286, -6.6329, -6.6163, -6.6336, -6.6818, -6.648, -6.7242, -6.7267, -6.7476, -6.7491, -6.7773, -6.7491, -6.8083, -6.8555, -6.8641, -6.8761, -6.8646, -6.9158, -6.9069, -6.9177, -6.3518, -6.8701, -6.9205, -6.2107, -5.8762, -5.2138, -5.4951, -5.902, -5.7777, -6.3472, -5.8757, -6.1701, -6.114, -6.2851, -6.4155, -6.3057, -5.6751, -6.0109, -6.4496, -6.0484, -6.3375, -6.2534, -6.1119, -6.3321, -6.248, -6.2319, -6.3448, -6.354, -6.4089], \"loglift\": [30.0, 29.0, 28.0, 27.0, 26.0, 25.0, 24.0, 23.0, 22.0, 21.0, 20.0, 19.0, 18.0, 17.0, 16.0, 15.0, 14.0, 13.0, 12.0, 11.0, 10.0, 9.0, 8.0, 7.0, 6.0, 5.0, 4.0, 3.0, 2.0, 1.0, 0.9083, 0.9075, 0.9067, 0.9049, 0.9028, 0.9008, 0.9003, 0.9003, 0.8996, 0.8995, 0.8989, 0.8983, 0.898, 0.8966, 0.8962, 0.8953, 0.8949, 0.8948, 0.8934, 0.8929, 0.8919, 0.8915, 0.8913, 0.8889, 0.8887, 0.8875, 0.8856, 0.8842, 0.883, 0.8829, 0.8822, 0.8814, 0.8651, 0.8626, 0.8398, 0.8585, 0.8192, 0.8441, 0.8564, 0.733, 0.6746, 0.6267, 0.6802, 0.6862, 0.6787, 0.7403, 0.7928, 0.5637, 0.698, 0.752, 0.6142, 0.5907, 0.6929, 0.6891, 0.6585, 0.6765, 0.3498, 0.4404, 0.5457, 0.2811, 0.2126, 0.367, 0.06, 0.1758, 0.3287, 0.4021, 0.3436, -0.03, 0.3818, 0.1196, 1.4621, 1.4586, 1.4556, 1.4549, 1.4545, 1.4522, 1.4499, 1.446, 1.4425, 1.4401, 1.4396, 1.4395, 1.4393, 1.438, 1.4378, 1.4364, 1.4363, 1.4363, 1.4358, 1.4342, 1.4337, 1.4329, 1.4304, 1.4275, 1.4254, 1.4251, 1.423, 1.4217, 1.4198, 1.4195, 1.3401, 1.3153, 1.2663, 1.1611, 1.3089, 1.3274, 1.1054, 0.9347, 1.1126, 1.043, 0.8058, 1.1148, 0.8666, 1.0958, 0.624, 0.9581, 0.0784, 0.4025, 0.1122, 0.129, 0.0459, 0.0521, 0.6782, 0.7202, -0.0654, 0.1373, 0.437, -0.0282, 0.4883, 0.0847, -0.5251, 1.4759, 1.4753, 1.4733, 1.4692, 1.4681, 1.4674, 1.4657, 1.4656, 1.4557, 1.4552, 1.4547, 1.4535, 1.4472, 1.4392, 1.4385, 1.4384, 1.438, 1.4366, 1.4331, 1.4325, 1.431, 1.4297, 1.429, 1.4281, 1.4279, 1.4274, 1.4259, 1.4252, 1.4252, 1.4242, 1.4174, 1.4078, 1.3361, 1.3593, 1.2064, 1.3603, 1.3548, 1.3147, 1.2151, 1.2636, 1.0081, 1.3563, 1.2539, 1.3045, 1.2582, 0.9249, 0.7355, 0.9309, 0.7001, 0.894, 0.1389, 0.7496, 1.1151, 0.7606, 1.0317, 0.7421, 0.0075, 0.4476, 0.6265, -0.3043, 0.5445, 0.5775, 0.4116, -0.4181, -0.4636, 1.8654, 1.8514, 1.8514, 1.8493, 1.8409, 1.8398, 1.8379, 1.8371, 1.8365, 1.8357, 1.8352, 1.8344, 1.8339, 1.8317, 1.8308, 1.8299, 1.8296, 1.8291, 1.8288, 1.8274, 1.8243, 1.8236, 1.8229, 1.8218, 1.8207, 1.8206, 1.8204, 1.82, 1.82, 1.8198, 1.6676, 1.5912, 1.3358, 1.4089, 1.5023, 1.4278, 1.6227, 1.4034, 1.5175, 1.3741, 1.4377, 1.4628, 1.2571, 0.4055, 0.6093, 1.1996, 0.2041, 0.8486, 0.5067, -0.0017, 0.6199, 0.2017, -0.1546, 0.4869, 0.3701, 0.5724]}, \"token.table\": {\"Topic\": [2, 3, 1, 2, 4, 2, 3, 4, 1, 3, 1, 1, 2, 4, 1, 4, 2, 4, 1, 2, 2, 4, 2, 4, 1, 2, 4, 3, 1, 2, 3, 4, 4, 1, 2, 3, 1, 2, 2, 1, 2, 3, 4, 3, 2, 1, 4, 1, 2, 3, 4, 3, 2, 4, 1, 2, 3, 4, 3, 4, 4, 1, 1, 2, 3, 2, 2, 2, 1, 2, 3, 1, 2, 3, 1, 1, 2, 3, 4, 3, 1, 2, 3, 4, 1, 2, 3, 1, 2, 4, 2, 1, 2, 3, 4, 1, 2, 4, 1, 3, 1, 2, 4, 1, 1, 1, 3, 4, 1, 2, 3, 4, 3, 1, 1, 1, 2, 3, 1, 2, 3, 1, 1, 4, 1, 2, 1, 2, 3, 4, 3, 1, 2, 3, 4, 1, 1, 2, 3, 4, 2, 3, 4, 1, 2, 3, 4, 1, 2, 3, 4, 1, 2, 3, 4, 4, 1, 3, 1, 1, 3, 1, 2, 3, 4, 1, 2, 3, 4, 1, 2, 4, 2, 4, 1, 1, 2, 3, 4, 1, 2, 3, 1, 3, 1, 1, 3, 4, 1, 3, 1, 3, 3, 1, 2, 1, 2, 3, 4, 1, 1, 4, 2, 1, 2, 3, 3, 4, 4, 1, 2, 3, 1, 1, 4, 4, 1, 2, 3, 4, 2, 4, 1, 2, 3, 4, 2, 4, 4, 2, 4, 1, 3, 2, 2, 2, 3, 4, 1, 2, 3, 4, 2, 1, 2, 3, 4, 2, 3, 2, 1, 2, 3, 4, 1, 2, 3, 4, 1, 2, 4, 3, 3, 4, 1, 2, 3, 4, 1, 3, 1, 2, 3, 4, 4, 1, 2, 4, 1, 2, 2, 3, 2, 4, 1, 2, 3, 4, 3, 2, 1, 2, 3, 1, 2, 3, 4, 2, 3, 4, 1, 3, 3, 1, 2, 3, 3, 2, 3, 2, 3, 1, 3, 1, 2, 3, 4, 1, 2, 3, 3, 1, 1, 3, 1, 1, 2, 4, 3, 4, 3, 3, 1, 3, 1, 3, 2, 2, 4, 4, 2, 2, 1, 2, 3, 4, 3, 1, 2, 3, 4, 3, 4, 2, 4, 3, 2, 1, 2, 4, 1, 2, 4, 2, 3, 2, 3, 1, 2, 3, 4, 1, 2, 4, 4, 1, 2, 4, 3, 1, 3, 2, 1, 2, 3, 4, 1, 2, 3, 4, 3, 1, 3, 1, 2, 3, 4, 1, 2, 3, 4, 1, 2, 3, 4, 1, 2, 3, 4, 2, 2, 3, 4, 2, 4, 1, 2, 3, 4, 1, 3, 1, 2, 3, 4, 1, 1, 4, 1, 2, 3, 1, 3, 1, 2, 3, 4, 2, 3, 1, 2, 3, 4, 1, 2, 3, 1, 1, 2, 3, 1, 2, 3, 4, 4, 1, 4], \"Freq\": [0.3044431182526628, 0.695869984577515, 0.9929404696576614, 0.9646162748728552, 0.9066905745801013, 0.1575093964740964, 0.10500626431606427, 0.787546982370482, 0.9162302916397709, 0.05235601666512977, 0.9634498622345183, 0.23683191766161424, 0.15788794510774282, 0.6052371229130142, 0.3353667165503029, 0.6707334331006058, 0.8165579691642387, 0.1166511384520341, 0.29408704348288756, 0.6951148300504616, 0.9491823290385561, 0.9195427178022758, 0.9663341707867455, 0.9796360432741036, 0.112969444001821, 0.8284425893466875, 0.03765648133394034, 0.9284276241668482, 0.2397552240642789, 0.19180417925142312, 0.19180417925142312, 0.3596328360964184, 0.9639033054360775, 0.1424827025946407, 0.6767928373245433, 0.17810337824330086, 0.9831829687966165, 0.9761225015602872, 0.93843588814741, 0.11429592039273927, 0.26669048091639164, 0.07619728026182618, 0.4952823217018702, 0.907715706305577, 0.9789435561406273, 0.06424833768991133, 0.96372506534867, 0.5762722120957628, 0.16764282533694919, 0.10477676583559324, 0.14668747216983055, 0.9170328076027688, 0.9634461999587351, 0.9433969169383649, 0.3466046918002773, 0.429129618419391, 0.09902991194293638, 0.13203988259058183, 0.8795652612635461, 0.06282609009025329, 0.9766516743960808, 0.9646166865785262, 0.4727555882676507, 0.04297778075160461, 0.4727555882676507, 0.9629330665725642, 0.9474451582258019, 0.9919654891309805, 0.24038238698739167, 0.6810834297976097, 0.08012746232913055, 0.2179787968602763, 0.3088032955520581, 0.4722873931972653, 0.9642511353219434, 0.23056362485718265, 0.02882045310714783, 0.7493317807858436, 0.9692700405667171, 0.9417854817229517, 0.4524236408773483, 0.21678632792039607, 0.14138238777417134, 0.1885098503655618, 0.7966598281314315, 0.09192228786131904, 0.11234946294161215, 0.9872438871579798, 0.36163893433668276, 0.6147861883723607, 0.9829805793556525, 0.5320100469666966, 0.26164428539345735, 0.13082214269672868, 0.08721476179781912, 0.21900977540993272, 0.5944551046841031, 0.18772266463708517, 0.11550550531803372, 0.866291289885253, 0.11602397572943486, 0.7193486495224961, 0.16243356602120881, 0.9533634909559595, 0.9876817721064716, 0.9895630961456173, 0.954411237351674, 0.9636070345713458, 0.11413177988865872, 0.24728552309209387, 0.4565271195546349, 0.19021963314776452, 0.9389902933782487, 0.9841309432118541, 0.9903129239848523, 0.45010671473731806, 0.11844913545718896, 0.42641688764588026, 0.7879231925004687, 0.15415888548922216, 0.051386295163074046, 0.9702388531941813, 0.9619962771198101, 0.9448131686318525, 0.9740560811188259, 0.02319181145521014, 0.17771388641060182, 0.23695184854746912, 0.5627606403002391, 0.02961898106843364, 0.9528746020926098, 0.6816816246480223, 0.18855023660477213, 0.04351159306263972, 0.07251932177106621, 0.9584126013656528, 0.802812756000861, 0.16609919089672986, 0.027683198482788312, 0.013841599241394156, 0.9182512649646967, 0.8825863969122673, 0.9706519871848388, 0.4742117058060531, 0.2534579806894422, 0.12264095839811719, 0.14716915007774062, 0.2523120029721387, 0.3532368041609941, 0.15138720178328322, 0.2523120029721387, 0.31257571802048834, 0.19535982376280522, 0.21489580613908574, 0.2735037532679273, 0.9394068457359962, 0.14718018158665033, 0.8503743825006465, 0.9956523560020798, 0.9237384420099294, 0.07861603761786633, 0.5051419556775569, 0.11480498992671749, 0.19516848287541974, 0.18368798388274798, 0.33480588333100797, 0.08370147083275199, 0.5580098055516799, 0.027900490277583997, 0.9786501699432909, 0.9661587235756456, 0.9075130038827106, 0.9660312205952868, 0.9611046905479879, 0.965073501174595, 0.43571753599102275, 0.21785876799551138, 0.08169703799831676, 0.2723234599943892, 0.7197396258693661, 0.05292203131392398, 0.22227253151848073, 0.7805506936661243, 0.2081468516442998, 0.968077647339359, 0.49819990546623516, 0.4744761004440335, 0.023723805022201675, 0.9374298328897831, 0.9822609047497671, 0.9397912315973637, 0.05873695197483523, 0.9835950579953214, 0.9575635491778189, 0.029923860911806842, 0.7815303421168309, 0.09344384525309934, 0.10193874027610837, 0.025484685069027093, 0.9887181274463022, 0.9435014802834014, 0.9643343640275585, 0.9880230620209567, 0.8332818559176036, 0.05410921142322102, 0.11904026513108623, 0.901310200262615, 0.05633188751641344, 0.9054353123954249, 0.8450180153445618, 0.03755635623753608, 0.11266906871260823, 0.9948250952177248, 0.9922293491739727, 0.9651202136564014, 0.992252760699747, 0.4380596669833121, 0.21147708061263343, 0.1359495518224072, 0.22658258637067868, 0.7902237607150796, 0.17178777406849555, 0.5546703480403979, 0.2560016990955683, 0.12800084954778415, 0.06400042477389208, 0.19162243424115805, 0.8143953455249217, 0.9674189987403518, 0.8449206916529652, 0.09388007685032948, 0.07973371308664841, 0.8770708439531325, 0.9260476336181951, 0.9730341127524306, 0.22699646623584813, 0.19456839963072695, 0.5837051988921809, 0.5815936444024308, 0.14849199431551424, 0.13611766145588808, 0.13611766145588808, 0.9875642923669061, 0.42171743788362664, 0.24486818973888, 0.25847197805770666, 0.07482083575354666, 0.04089251039610837, 0.9405277391104925, 0.987833257720933, 0.5679101654176452, 0.1774719266930141, 0.16564046491347983, 0.09465169423627419, 0.3889518915514302, 0.23813381115393684, 0.1428802866923621, 0.2301960174488056, 0.1722552164818367, 0.5794039099843598, 0.2505530421553988, 0.8897695699302355, 0.9827393655383245, 0.9352346811945478, 0.4904915576305201, 0.21360116219393618, 0.16613423726195037, 0.12657846648529553, 0.9564019141938777, 0.029887559818558677, 0.4339739208258118, 0.11420366337521363, 0.38829245547572633, 0.06852219802512818, 0.9686720584479045, 0.14304285797729313, 0.5483309555796236, 0.3099261922841351, 0.12720848735448578, 0.8268551678041575, 0.9574203448097175, 0.9688011866924272, 0.27714224237266005, 0.6730597314764601, 0.3885925064505852, 0.15111930806411644, 0.3885925064505852, 0.0647654177417642, 0.8866150837751786, 0.971769718981162, 0.7418630112046256, 0.1483726022409251, 0.11413277095455779, 0.03977520597606507, 0.31820164780852056, 0.6364032956170411, 0.03977520597606507, 0.09528969023427898, 0.15881615039046498, 0.730554291796139, 0.9012625710607364, 0.09416176115559932, 0.9657340812438096, 0.2101042371281737, 0.229204622321644, 0.5539111706106398, 0.990405845257167, 0.9586275431138209, 0.9886196331599137, 0.039274000783416, 0.942576018801984, 0.18127200734572152, 0.7704060312193164, 0.32819208256566756, 0.4375894434208901, 0.04375894434208901, 0.19691524953940054, 0.8845990474418085, 0.04536405371496454, 0.06804608057244681, 0.8835940803085208, 0.9915473777165448, 0.9768915677756158, 0.9518985112011221, 0.9806443686658464, 0.029792515749752165, 0.6554353464945476, 0.3277176732472738, 0.9312020250111861, 0.9517350672820245, 0.9469072284940735, 0.9493401413803683, 0.3913856468455128, 0.6105616090789999, 0.15740219649271323, 0.8394783812944706, 0.9128157962957629, 0.3280606956163092, 0.6561213912326184, 0.9511285881463947, 0.9877977359878313, 0.9512612350544162, 0.2427369261513801, 0.21576615657900453, 0.4585030827303846, 0.05394153914475113, 0.9822409493978898, 0.617954914735893, 0.13169530969781326, 0.12156490125951994, 0.12156490125951994, 0.973347165810907, 0.9709448920842457, 0.972688267689599, 0.9040544727708927, 0.9098408627711464, 0.9765220107974204, 0.20869903961335037, 0.5122612790509509, 0.28458959947275053, 0.9619842826124404, 0.025315375858222116, 0.917486259988493, 0.12482647906934452, 0.8737853534854116, 0.10608399066372907, 0.8486719253098326, 0.29069974394851567, 0.46027459458514985, 0.12112489331188153, 0.12112489331188153, 0.1776136522429828, 0.24104709947261954, 0.5709010250667305, 0.9520862438189127, 0.22001768337905928, 0.14667845558603954, 0.6356066408728379, 0.9563585317978501, 0.9895970742557588, 0.943141973001617, 0.9614180666672281, 0.7990968400532549, 0.06523239510638816, 0.06523239510638816, 0.08154049388298519, 0.7843438662312444, 0.07843438662312445, 0.09804298327890555, 0.039217193311562225, 0.9665403541287998, 0.22253806246691288, 0.7788832186341951, 0.390012344961505, 0.33801069896663766, 0.16900534948331883, 0.10400329198973467, 0.7441467438221159, 0.09759301558322832, 0.08539388863532478, 0.06709519821346946, 0.5916251310830983, 0.19318371627203212, 0.1690357517380281, 0.04829592906800803, 0.5649441812027418, 0.23990780297650682, 0.13930130495410073, 0.05417272970437251, 0.9405389488058519, 0.7017331034134304, 0.19492586205928622, 0.11695551723557174, 0.9490642230720311, 0.9625164889962393, 0.7008369200527447, 0.13184060872279355, 0.11102367050340509, 0.05551183525170254, 0.9543080825543938, 0.03290717526049634, 0.84331221135567, 0.0337324884542268, 0.1011974653626804, 0.0337324884542268, 0.9396814779724346, 0.454311184841766, 0.5242052132789607, 0.07910897962984291, 0.16810658171341616, 0.7416466840297773, 0.17163255193059976, 0.8009519090094656, 0.4367865976369043, 0.2088979380002586, 0.3418329894549686, 0.018990721636387146, 0.1337368844233504, 0.8024213065401025, 0.02982236381353131, 0.23857891050825047, 0.05964472762706262, 0.6859143677112202, 0.7913287829886695, 0.06881119852075387, 0.13762239704150775, 0.9785135612992596, 0.7700368573331933, 0.12572030323807237, 0.09429022742855428, 0.5656500325612784, 0.056565003256127844, 0.33939001953676706, 0.01885500108537595, 0.895915168488475, 0.9965676551234118, 0.9610394188267073], \"Term\": [\"act\", \"act\", \"activities\", \"alchemy\", \"annies\", \"anniesblueribbongeneralstore\", \"anniesblueribbongeneralstore\", \"anniesblueribbongeneralstore\", \"annual\", \"annual\", \"arts\", \"ave\", \"ave\", \"ave\", \"awesome\", \"awesome\", \"baby\", \"baby\", \"bag\", \"bag\", \"bagel\", \"bakehouse\", \"bakery\", \"bakeshop\", \"ban\", \"ban\", \"ban\", \"barriers\", \"beautiful\", \"beautiful\", \"beautiful\", \"beautiful\", \"bhoomki\", \"bill\", \"bill\", \"bill\", \"bio\", \"bistro\", \"bk\", \"blue\", \"blue\", \"blue\", \"blue\", \"boathouse\", \"bonnies\", \"boutique\", \"boutique\", \"brooklyn\", \"brooklyn\", \"brooklyn\", \"brooklyn\", \"brooklynwineco\", \"brunch\", \"buttermilk\", \"call\", \"call\", \"call\", \"call\", \"canoe\", \"canoe\", \"carroll\", \"census\", \"change\", \"change\", \"change\", \"chip\", \"chocolate\", \"christmas\", \"cjg\", \"cjg\", \"cjg\", \"clean\", \"clean\", \"clean\", \"click\", \"climate\", \"climate\", \"climate\", \"clothe\", \"co\", \"come\", \"come\", \"come\", \"come\", \"community\", \"community\", \"community\", \"congrats\", \"corner\", \"corner\", \"curbside\", \"day\", \"day\", \"day\", \"day\", \"dd\", \"dd\", \"dd\", \"delaware\", \"delaware\", \"delivery\", \"delivery\", \"delivery\", \"difference\", \"donate\", \"donation\", \"draft\", \"dress\", \"drink\", \"drink\", \"drink\", \"drink\", \"dump\", \"education\", \"emergency\", \"environmental\", \"environmental\", \"environmental\", \"event\", \"event\", \"event\", \"events\", \"everyone\", \"fabulous\", \"families\", \"families\", \"fish\", \"fish\", \"fish\", \"fish\", \"flood\", \"food\", \"food\", \"food\", \"food\", \"fort\", \"free\", \"free\", \"free\", \"free\", \"french\", \"gallons\", \"general\", \"get\", \"get\", \"get\", \"get\", \"get_repost\", \"get_repost\", \"get_repost\", \"get_repost\", \"good\", \"good\", \"good\", \"good\", \"gorgeous\", \"gowanus\", \"gowanus\", \"grand\", \"grant\", \"grant\", \"great\", \"great\", \"great\", \"great\", \"green\", \"green\", \"green\", \"green\", \"greene\", \"grill\", \"gutnyc\", \"habit\", \"hair\", \"hall\", \"happy\", \"happy\", \"happy\", \"happy\", \"help\", \"help\", \"help\", \"high\", \"high\", \"history\", \"hudson\", \"hudson\", \"hudson\", \"humanities\", \"imagine\", \"information\", \"information\", \"infrastructure\", \"interest\", \"interest\", \"join\", \"join\", \"join\", \"join\", \"khcc\", \"kick\", \"kings\", \"le\", \"learn\", \"learn\", \"learn\", \"level\", \"level\", \"lifevintageandthrift\", \"line\", \"line\", \"line\", \"link\", \"littoral\", \"lizziekingsparlor\", \"loaf\", \"love\", \"love\", \"love\", \"love\", \"lunch\", \"lunch\", \"make\", \"make\", \"make\", \"make\", \"market\", \"market\", \"medusagreeknyc\", \"menu\", \"menu\", \"might\", \"might\", \"missamericanpienyc\", \"monro\", \"near\", \"near\", \"near\", \"need\", \"need\", \"need\", \"need\", \"negril\", \"new\", \"new\", \"new\", \"new\", \"ocean\", \"ocean\", \"olive\", \"one\", \"one\", \"one\", \"one\", \"open\", \"open\", \"open\", \"open\", \"order\", \"order\", \"order\", \"overflow\", \"palette\", \"parade\", \"park\", \"park\", \"park\", \"park\", \"partner\", \"partner\", \"people\", \"people\", \"people\", \"people\", \"petals\", \"pick\", \"pick\", \"pick\", \"pickup\", \"pickup\", \"pie\", \"pinots\", \"pizza\", \"pizza\", \"plan\", \"plan\", \"plan\", \"plan\", \"planet\", \"plastic\", \"please\", \"please\", \"please\", \"pollution\", \"pollution\", \"pollution\", \"pollution\", \"president\", \"president\", \"president\", \"program\", \"program\", \"prospectcare\", \"protect\", \"protect\", \"protect\", \"ps\", \"pub\", \"qbgs\", \"quality\", \"quality\", \"rain\", \"rain\", \"ready\", \"ready\", \"ready\", \"ready\", \"receive\", \"receive\", \"receive\", \"recreation\", \"register\", \"registration\", \"reservoir\", \"resources\", \"restaurant\", \"restaurant\", \"restaurant\", \"rezoning\", \"ribbon\", \"ridgewood\", \"rise\", \"river\", \"river\", \"rivers\", \"rivers\", \"room\", \"sale\", \"sale\", \"sandwich\", \"santa\", \"sauce\", \"say\", \"say\", \"say\", \"say\", \"sea\", \"see\", \"see\", \"see\", \"see\", \"sewage\", \"shape\", \"shophabit\", \"shoplykke\", \"shower\", \"singleuse\", \"slope\", \"slope\", \"slope\", \"society\", \"society\", \"somethingelse_bk\", \"source\", \"source\", \"species\", \"species\", \"spot\", \"spot\", \"spot\", \"spot\", \"st\", \"st\", \"st\", \"sterling\", \"store\", \"store\", \"store\", \"storm\", \"students\", \"study\", \"succulent\", \"summer\", \"summer\", \"summer\", \"summer\", \"support\", \"support\", \"support\", \"support\", \"surge\", \"swim\", \"swim\", \"take\", \"take\", \"take\", \"take\", \"thank\", \"thank\", \"thank\", \"thank\", \"time\", \"time\", \"time\", \"time\", \"today\", \"today\", \"today\", \"today\", \"toy\", \"tree\", \"tree\", \"tree\", \"trump\", \"union\", \"us\", \"us\", \"us\", \"us\", \"virtual\", \"virtual\", \"visit\", \"visit\", \"visit\", \"visit\", \"voice\", \"wait\", \"wait\", \"water\", \"water\", \"water\", \"waterfront\", \"waterfront\", \"well\", \"well\", \"well\", \"well\", \"wildlife\", \"wildlife\", \"wine\", \"wine\", \"wine\", \"wine\", \"work\", \"work\", \"work\", \"workshop\", \"year\", \"year\", \"year\", \"years\", \"years\", \"years\", \"years\", \"yourcbdstorebk\", \"youth\", \"zuzus\"]}, \"R\": 30, \"lambda.step\": 0.01, \"plot.opts\": {\"xlab\": \"PC1\", \"ylab\": \"PC2\"}, \"topic.order\": [1, 2, 4, 3]};\n",
       "\n",
       "function LDAvis_load_lib(url, callback){\n",
       "  var s = document.createElement('script');\n",
       "  s.src = url;\n",
       "  s.async = true;\n",
       "  s.onreadystatechange = s.onload = callback;\n",
       "  s.onerror = function(){console.warn(\"failed to load library \" + url);};\n",
       "  document.getElementsByTagName(\"head\")[0].appendChild(s);\n",
       "}\n",
       "\n",
       "if(typeof(LDAvis) !== \"undefined\"){\n",
       "   // already loaded: just create the visualization\n",
       "   !function(LDAvis){\n",
       "       new LDAvis(\"#\" + \"ldavis_el129791402395611680328516812744\", ldavis_el129791402395611680328516812744_data);\n",
       "   }(LDAvis);\n",
       "}else if(typeof define === \"function\" && define.amd){\n",
       "   // require.js is available: use it to load d3/LDAvis\n",
       "   require.config({paths: {d3: \"https://d3js.org/d3.v5\"}});\n",
       "   require([\"d3\"], function(d3){\n",
       "      window.d3 = d3;\n",
       "      LDAvis_load_lib(\"https://cdn.jsdelivr.net/gh/bmabey/pyLDAvis@3.3.1/pyLDAvis/js/ldavis.v3.0.0.js\", function(){\n",
       "        new LDAvis(\"#\" + \"ldavis_el129791402395611680328516812744\", ldavis_el129791402395611680328516812744_data);\n",
       "      });\n",
       "    });\n",
       "}else{\n",
       "    // require.js not available: dynamically load d3 & LDAvis\n",
       "    LDAvis_load_lib(\"https://d3js.org/d3.v5.js\", function(){\n",
       "         LDAvis_load_lib(\"https://cdn.jsdelivr.net/gh/bmabey/pyLDAvis@3.3.1/pyLDAvis/js/ldavis.v3.0.0.js\", function(){\n",
       "                 new LDAvis(\"#\" + \"ldavis_el129791402395611680328516812744\", ldavis_el129791402395611680328516812744_data);\n",
       "            })\n",
       "         });\n",
       "}\n",
       "</script>"
      ],
      "text/plain": [
       "PreparedData(topic_coordinates=              x         y  topics  cluster       Freq\n",
       "topic                                                \n",
       "0     -0.128487  0.086884       1        1  39.891917\n",
       "1      0.044824  0.024272       2        1  22.697430\n",
       "3     -0.057123 -0.129982       3        1  22.266538\n",
       "2      0.140786  0.018826       4        1  15.144115, topic_info=            Term        Freq       Total Category  logprob  loglift\n",
       "568        water  101.000000  101.000000  Default  30.0000  30.0000\n",
       "225           st   78.000000   78.000000  Default  29.0000  29.0000\n",
       "466      gowanus   61.000000   61.000000  Default  28.0000  28.0000\n",
       "259       corner   55.000000   55.000000  Default  27.0000  27.0000\n",
       "412        union   27.000000   27.000000  Default  26.0000  26.0000\n",
       "...          ...         ...         ...      ...      ...      ...\n",
       "273        great   16.138464   87.104228   Topic4  -6.2480   0.2017\n",
       "21          park   16.400163  126.403807   Topic4  -6.2319  -0.1546\n",
       "572   get_repost   14.650467   59.450204   Topic4  -6.3448   0.4869\n",
       "1029        love   14.515447   66.201027   Topic4  -6.3540   0.3701\n",
       "30          good   13.740483   51.187597   Topic4  -6.4089   0.5724\n",
       "\n",
       "[282 rows x 6 columns], token_table=      Topic      Freq            Term\n",
       "term                                 \n",
       "1926      2  0.304443             act\n",
       "1926      3  0.695870             act\n",
       "446       1  0.992940      activities\n",
       "6221      2  0.964616         alchemy\n",
       "2408      4  0.906691          annies\n",
       "...     ...       ...             ...\n",
       "101       3  0.339390           years\n",
       "101       4  0.018855           years\n",
       "995       4  0.895915  yourcbdstorebk\n",
       "1668      1  0.996568           youth\n",
       "3626      4  0.961039           zuzus\n",
       "\n",
       "[457 rows x 3 columns], R=30, lambda_step=0.01, plot_opts={'xlab': 'PC1', 'ylab': 'PC2'}, topic_order=[1, 2, 4, 3])"
      ]
     },
     "execution_count": 31,
     "metadata": {},
     "output_type": "execute_result"
    }
   ],
   "source": [
    "LDAvis_prepared_3 = gensimvis.prepare(lda_model_tfidf, corpus_tfidf, id2word)\n",
    "LDAvis_prepared_3"
   ]
  },
  {
   "cell_type": "code",
   "execution_count": 32,
   "metadata": {},
   "outputs": [
    {
     "name": "stdout",
     "output_type": "stream",
     "text": [
      "\n",
      "Score: 0.5621809959411621\t \n",
      "Topic: 0.005*\"st\" + 0.004*\"corner\" + 0.003*\"open\" + 0.003*\"union\"\n",
      "\n",
      "Score: 0.39833658933639526\t \n",
      "Topic: 0.006*\"thank\" + 0.005*\"us\" + 0.004*\"join\" + 0.004*\"support\"\n",
      "\n",
      "Score: 0.02010035328567028\t \n",
      "Topic: 0.003*\"order\" + 0.003*\"new\" + 0.002*\"delivery\" + 0.002*\"get\"\n",
      "\n",
      "Score: 0.01938203163444996\t \n",
      "Topic: 0.006*\"water\" + 0.004*\"gowanus\" + 0.003*\"river\" + 0.003*\"new\"\n"
     ]
    }
   ],
   "source": [
    "for index, score in sorted(lda_model_tfidf[corpus[3000]], key=lambda tup: -1*tup[1]):\n",
    "    print(\"\\nScore: {}\\t \\nTopic: {}\".format(score, lda_model_tfidf.print_topic(index, 4)))"
   ]
  },
  {
   "cell_type": "code",
   "execution_count": 33,
   "metadata": {},
   "outputs": [
    {
     "name": "stdout",
     "output_type": "stream",
     "text": [
      "Coherence Score:  0.2654761237827161\n"
     ]
    }
   ],
   "source": [
    "# Compute Coherence Score\n",
    "coherence_model_lda_3 = CoherenceModel(model=lda_model_tfidf, texts=train_list_of_lists, dictionary=id2word, coherence='c_v')\n",
    "coherence_lda_3 = coherence_model_lda_3.get_coherence()\n",
    "print('Coherence Score: ', coherence_lda_3)"
   ]
  },
  {
   "cell_type": "markdown",
   "metadata": {},
   "source": [
    "## Hyperparameter Tuning"
   ]
  },
  {
   "cell_type": "code",
   "execution_count": 35,
   "metadata": {},
   "outputs": [],
   "source": [
    "# supporting function\n",
    "def compute_coherence_values(corpus, dictionary, k, a, b):\n",
    "    \n",
    "    lda_model = gensim.models.LdaMulticore(corpus=corpus,\n",
    "                                           id2word=dictionary,\n",
    "                                           num_topics=k, \n",
    "                                           random_state=42,\n",
    "                                           chunksize=100,\n",
    "                                           passes=10,\n",
    "                                           alpha=a,\n",
    "                                           eta=b)\n",
    "    \n",
    "    coherence_model_lda = CoherenceModel(model=lda_model, texts=train_list_of_lists, dictionary=id2word, coherence='c_v')\n",
    "    \n",
    "    return coherence_model_lda.get_coherence()"
   ]
  },
  {
   "cell_type": "code",
   "execution_count": 37,
   "metadata": {},
   "outputs": [
    {
     "name": "stderr",
     "output_type": "stream",
     "text": [
      "  0%|          | 0/540 [03:02<?, ?it/s]\n",
      "Process SpawnPoolWorker-131:\n",
      "Process SpawnPoolWorker-130:\n",
      "Process SpawnPoolWorker-133:\n",
      "Process SpawnPoolWorker-129:\n",
      "Process SpawnPoolWorker-127:\n",
      "Process SpawnPoolWorker-132:\n",
      "Process SpawnPoolWorker-128:\n",
      "Traceback (most recent call last):\n",
      "  File \"<string>\", line 1, in <module>\n",
      "  File \"/Users/examsherpa/opt/anaconda3/envs/nlp-env/lib/python3.8/multiprocessing/spawn.py\", line 116, in spawn_main\n",
      "Traceback (most recent call last):\n",
      "Traceback (most recent call last):\n",
      "Traceback (most recent call last):\n",
      "Traceback (most recent call last):\n",
      "Traceback (most recent call last):\n",
      "  File \"/Users/examsherpa/opt/anaconda3/envs/nlp-env/lib/python3.8/multiprocessing/process.py\", line 315, in _bootstrap\n",
      "    self.run()\n",
      "  File \"/Users/examsherpa/opt/anaconda3/envs/nlp-env/lib/python3.8/multiprocessing/process.py\", line 315, in _bootstrap\n",
      "    self.run()\n",
      "  File \"/Users/examsherpa/opt/anaconda3/envs/nlp-env/lib/python3.8/multiprocessing/process.py\", line 108, in run\n",
      "    self._target(*self._args, **self._kwargs)\n",
      "  File \"/Users/examsherpa/opt/anaconda3/envs/nlp-env/lib/python3.8/multiprocessing/process.py\", line 108, in run\n",
      "    self._target(*self._args, **self._kwargs)\n",
      "  File \"/Users/examsherpa/opt/anaconda3/envs/nlp-env/lib/python3.8/multiprocessing/pool.py\", line 109, in worker\n",
      "    initializer(*initargs)\n",
      "  File \"/Users/examsherpa/opt/anaconda3/envs/nlp-env/lib/python3.8/multiprocessing/pool.py\", line 109, in worker\n",
      "    initializer(*initargs)\n",
      "  File \"/Users/examsherpa/opt/anaconda3/envs/nlp-env/lib/python3.8/site-packages/gensim/models/ldamulticore.py\", line 341, in worker_e_step\n",
      "    chunk_no, chunk, w_state = input_queue.get()\n",
      "  File \"/Users/examsherpa/opt/anaconda3/envs/nlp-env/lib/python3.8/site-packages/gensim/models/ldamulticore.py\", line 341, in worker_e_step\n",
      "    chunk_no, chunk, w_state = input_queue.get()\n",
      "  File \"/Users/examsherpa/opt/anaconda3/envs/nlp-env/lib/python3.8/multiprocessing/queues.py\", line 96, in get\n",
      "    with self._rlock:\n",
      "  File \"/Users/examsherpa/opt/anaconda3/envs/nlp-env/lib/python3.8/multiprocessing/queues.py\", line 96, in get\n",
      "    with self._rlock:\n",
      "  File \"/Users/examsherpa/opt/anaconda3/envs/nlp-env/lib/python3.8/multiprocessing/synchronize.py\", line 95, in __enter__\n",
      "    return self._semlock.__enter__()\n",
      "  File \"/Users/examsherpa/opt/anaconda3/envs/nlp-env/lib/python3.8/multiprocessing/synchronize.py\", line 95, in __enter__\n",
      "    return self._semlock.__enter__()\n",
      "  File \"/Users/examsherpa/opt/anaconda3/envs/nlp-env/lib/python3.8/multiprocessing/process.py\", line 315, in _bootstrap\n",
      "    self.run()\n",
      "  File \"/Users/examsherpa/opt/anaconda3/envs/nlp-env/lib/python3.8/multiprocessing/process.py\", line 108, in run\n",
      "    self._target(*self._args, **self._kwargs)\n",
      "KeyboardInterrupt\n",
      "  File \"/Users/examsherpa/opt/anaconda3/envs/nlp-env/lib/python3.8/multiprocessing/pool.py\", line 109, in worker\n",
      "    initializer(*initargs)\n",
      "  File \"/Users/examsherpa/opt/anaconda3/envs/nlp-env/lib/python3.8/site-packages/gensim/models/ldamulticore.py\", line 341, in worker_e_step\n",
      "    chunk_no, chunk, w_state = input_queue.get()\n",
      "  File \"/Users/examsherpa/opt/anaconda3/envs/nlp-env/lib/python3.8/multiprocessing/queues.py\", line 96, in get\n",
      "    with self._rlock:\n",
      "  File \"/Users/examsherpa/opt/anaconda3/envs/nlp-env/lib/python3.8/multiprocessing/synchronize.py\", line 95, in __enter__\n",
      "    return self._semlock.__enter__()\n",
      "  File \"/Users/examsherpa/opt/anaconda3/envs/nlp-env/lib/python3.8/multiprocessing/process.py\", line 315, in _bootstrap\n",
      "    self.run()\n",
      "KeyboardInterrupt\n",
      "  File \"/Users/examsherpa/opt/anaconda3/envs/nlp-env/lib/python3.8/multiprocessing/process.py\", line 108, in run\n",
      "    self._target(*self._args, **self._kwargs)\n",
      "  File \"/Users/examsherpa/opt/anaconda3/envs/nlp-env/lib/python3.8/multiprocessing/pool.py\", line 109, in worker\n",
      "    initializer(*initargs)\n",
      "  File \"/Users/examsherpa/opt/anaconda3/envs/nlp-env/lib/python3.8/site-packages/gensim/models/ldamulticore.py\", line 341, in worker_e_step\n",
      "    chunk_no, chunk, w_state = input_queue.get()\n",
      "  File \"/Users/examsherpa/opt/anaconda3/envs/nlp-env/lib/python3.8/multiprocessing/queues.py\", line 96, in get\n",
      "    with self._rlock:\n",
      "  File \"/Users/examsherpa/opt/anaconda3/envs/nlp-env/lib/python3.8/multiprocessing/synchronize.py\", line 95, in __enter__\n",
      "    return self._semlock.__enter__()\n",
      "    exitcode = _main(fd, parent_sentinel)\n",
      "KeyboardInterrupt\n",
      "  File \"/Users/examsherpa/opt/anaconda3/envs/nlp-env/lib/python3.8/multiprocessing/spawn.py\", line 126, in _main\n",
      "  File \"/Users/examsherpa/opt/anaconda3/envs/nlp-env/lib/python3.8/multiprocessing/process.py\", line 315, in _bootstrap\n",
      "    self.run()\n",
      "Traceback (most recent call last):\n",
      "    self = reduction.pickle.load(from_parent)\n",
      "  File \"/Users/examsherpa/opt/anaconda3/envs/nlp-env/lib/python3.8/site-packages/gensim/__init__.py\", line 11, in <module>\n",
      "  File \"/Users/examsherpa/opt/anaconda3/envs/nlp-env/lib/python3.8/multiprocessing/process.py\", line 108, in run\n",
      "    self._target(*self._args, **self._kwargs)\n",
      "  File \"/Users/examsherpa/opt/anaconda3/envs/nlp-env/lib/python3.8/multiprocessing/pool.py\", line 109, in worker\n",
      "    initializer(*initargs)\n",
      "  File \"/Users/examsherpa/opt/anaconda3/envs/nlp-env/lib/python3.8/site-packages/gensim/models/ldamulticore.py\", line 341, in worker_e_step\n",
      "    chunk_no, chunk, w_state = input_queue.get()\n",
      "  File \"/Users/examsherpa/opt/anaconda3/envs/nlp-env/lib/python3.8/multiprocessing/queues.py\", line 96, in get\n",
      "    with self._rlock:\n",
      "  File \"/Users/examsherpa/opt/anaconda3/envs/nlp-env/lib/python3.8/multiprocessing/process.py\", line 315, in _bootstrap\n",
      "    self.run()\n",
      "  File \"/Users/examsherpa/opt/anaconda3/envs/nlp-env/lib/python3.8/multiprocessing/synchronize.py\", line 95, in __enter__\n",
      "    return self._semlock.__enter__()\n",
      "  File \"/Users/examsherpa/opt/anaconda3/envs/nlp-env/lib/python3.8/multiprocessing/process.py\", line 108, in run\n",
      "    self._target(*self._args, **self._kwargs)\n",
      "  File \"/Users/examsherpa/opt/anaconda3/envs/nlp-env/lib/python3.8/multiprocessing/pool.py\", line 109, in worker\n",
      "    initializer(*initargs)\n",
      "  File \"/Users/examsherpa/opt/anaconda3/envs/nlp-env/lib/python3.8/site-packages/gensim/models/ldamulticore.py\", line 341, in worker_e_step\n",
      "    chunk_no, chunk, w_state = input_queue.get()\n",
      "  File \"/Users/examsherpa/opt/anaconda3/envs/nlp-env/lib/python3.8/multiprocessing/queues.py\", line 96, in get\n",
      "    with self._rlock:\n",
      "  File \"/Users/examsherpa/opt/anaconda3/envs/nlp-env/lib/python3.8/multiprocessing/synchronize.py\", line 95, in __enter__\n",
      "    return self._semlock.__enter__()\n",
      "KeyboardInterrupt\n",
      "KeyboardInterrupt\n",
      "KeyboardInterrupt\n",
      "    from gensim import parsing, corpora, matutils, interfaces, models, similarities, utils  # noqa:F401\n",
      "Traceback (most recent call last):\n",
      "  File \"/Users/examsherpa/opt/anaconda3/envs/nlp-env/lib/python3.8/multiprocessing/process.py\", line 315, in _bootstrap\n",
      "    self.run()\n",
      "  File \"/Users/examsherpa/opt/anaconda3/envs/nlp-env/lib/python3.8/multiprocessing/process.py\", line 108, in run\n",
      "    self._target(*self._args, **self._kwargs)\n",
      "  File \"/Users/examsherpa/opt/anaconda3/envs/nlp-env/lib/python3.8/multiprocessing/pool.py\", line 109, in worker\n",
      "    initializer(*initargs)\n",
      "  File \"/Users/examsherpa/opt/anaconda3/envs/nlp-env/lib/python3.8/site-packages/gensim/models/ldamulticore.py\", line 341, in worker_e_step\n",
      "    chunk_no, chunk, w_state = input_queue.get()\n",
      "  File \"/Users/examsherpa/opt/anaconda3/envs/nlp-env/lib/python3.8/multiprocessing/queues.py\", line 97, in get\n",
      "    res = self._recv_bytes()\n",
      "  File \"/Users/examsherpa/opt/anaconda3/envs/nlp-env/lib/python3.8/multiprocessing/connection.py\", line 216, in recv_bytes\n",
      "    buf = self._recv_bytes(maxlength)\n",
      "  File \"/Users/examsherpa/opt/anaconda3/envs/nlp-env/lib/python3.8/multiprocessing/connection.py\", line 414, in _recv_bytes\n",
      "    buf = self._recv(4)\n",
      "  File \"/Users/examsherpa/opt/anaconda3/envs/nlp-env/lib/python3.8/multiprocessing/connection.py\", line 379, in _recv\n",
      "    chunk = read(handle, remaining)\n",
      "  File \"/Users/examsherpa/opt/anaconda3/envs/nlp-env/lib/python3.8/site-packages/gensim/corpora/__init__.py\", line 6, in <module>\n",
      "KeyboardInterrupt\n",
      "    from .indexedcorpus import IndexedCorpus  # noqa:F401 must appear before the other classes\n",
      "  File \"/Users/examsherpa/opt/anaconda3/envs/nlp-env/lib/python3.8/site-packages/gensim/corpora/indexedcorpus.py\", line 14, in <module>\n",
      "    from gensim import interfaces, utils\n",
      "  File \"/Users/examsherpa/opt/anaconda3/envs/nlp-env/lib/python3.8/site-packages/gensim/interfaces.py\", line 19, in <module>\n",
      "    from gensim import utils, matutils\n",
      "  File \"/Users/examsherpa/opt/anaconda3/envs/nlp-env/lib/python3.8/site-packages/gensim/matutils.py\", line 19, in <module>\n",
      "    from scipy.stats import entropy\n",
      "  File \"/Users/examsherpa/opt/anaconda3/envs/nlp-env/lib/python3.8/site-packages/scipy/stats/__init__.py\", line 441, in <module>\n",
      "    from .stats import *\n",
      "  File \"/Users/examsherpa/opt/anaconda3/envs/nlp-env/lib/python3.8/site-packages/scipy/stats/stats.py\", line 43, in <module>\n",
      "    from . import distributions\n",
      "  File \"/Users/examsherpa/opt/anaconda3/envs/nlp-env/lib/python3.8/site-packages/scipy/stats/distributions.py\", line 8, in <module>\n",
      "    from ._distn_infrastructure import (rv_discrete, rv_continuous, rv_frozen)\n",
      "  File \"/Users/examsherpa/opt/anaconda3/envs/nlp-env/lib/python3.8/site-packages/scipy/stats/_distn_infrastructure.py\", line 24, in <module>\n",
      "    from scipy import optimize\n",
      "  File \"/Users/examsherpa/opt/anaconda3/envs/nlp-env/lib/python3.8/site-packages/scipy/optimize/__init__.py\", line 400, in <module>\n",
      "    from .optimize import *\n",
      "  File \"/Users/examsherpa/opt/anaconda3/envs/nlp-env/lib/python3.8/site-packages/scipy/optimize/optimize.py\", line 36, in <module>\n",
      "    from ._numdiff import approx_derivative\n",
      "  File \"/Users/examsherpa/opt/anaconda3/envs/nlp-env/lib/python3.8/site-packages/scipy/optimize/_numdiff.py\", line 6, in <module>\n",
      "    from scipy.sparse.linalg import LinearOperator\n",
      "  File \"/Users/examsherpa/opt/anaconda3/envs/nlp-env/lib/python3.8/site-packages/scipy/sparse/linalg/__init__.py\", line 111, in <module>\n",
      "    from .isolve import *\n",
      "  File \"/Users/examsherpa/opt/anaconda3/envs/nlp-env/lib/python3.8/site-packages/scipy/sparse/linalg/isolve/__init__.py\", line 4, in <module>\n",
      "    from .iterative import *\n",
      "  File \"<frozen importlib._bootstrap>\", line 991, in _find_and_load\n",
      "  File \"<frozen importlib._bootstrap>\", line 971, in _find_and_load_unlocked\n",
      "  File \"<frozen importlib._bootstrap>\", line 914, in _find_spec\n",
      "  File \"<frozen importlib._bootstrap_external>\", line 1407, in find_spec\n",
      "  File \"<frozen importlib._bootstrap_external>\", line 1379, in _get_spec\n",
      "  File \"<frozen importlib._bootstrap_external>\", line 1510, in find_spec\n",
      "  File \"<frozen importlib._bootstrap_external>\", line 1553, in _fill_cache\n",
      "KeyboardInterrupt\n"
     ]
    },
    {
     "ename": "KeyboardInterrupt",
     "evalue": "",
     "output_type": "error",
     "traceback": [
      "\u001b[0;31m---------------------------------------------------------------------------\u001b[0m",
      "\u001b[0;31mKeyboardInterrupt\u001b[0m                         Traceback (most recent call last)",
      "\u001b[0;32m/var/folders/_1/5_00v86n0lvgk2xlkx9tzzcc0000gn/T/ipykernel_12979/382386448.py\u001b[0m in \u001b[0;36m<module>\u001b[0;34m\u001b[0m\n\u001b[1;32m     43\u001b[0m                 \u001b[0;32mfor\u001b[0m \u001b[0mb\u001b[0m \u001b[0;32min\u001b[0m \u001b[0mbeta\u001b[0m\u001b[0;34m:\u001b[0m\u001b[0;34m\u001b[0m\u001b[0;34m\u001b[0m\u001b[0m\n\u001b[1;32m     44\u001b[0m                     \u001b[0;31m# get the coherence score for the given parameters\u001b[0m\u001b[0;34m\u001b[0m\u001b[0;34m\u001b[0m\u001b[0;34m\u001b[0m\u001b[0m\n\u001b[0;32m---> 45\u001b[0;31m                     cv = compute_coherence_values(corpus=corpus_sets[i], dictionary=id2word, \n\u001b[0m\u001b[1;32m     46\u001b[0m                                                   k=k, a=a, b=b)\n\u001b[1;32m     47\u001b[0m                     \u001b[0;31m# Save the model results\u001b[0m\u001b[0;34m\u001b[0m\u001b[0;34m\u001b[0m\u001b[0;34m\u001b[0m\u001b[0m\n",
      "\u001b[0;32m/var/folders/_1/5_00v86n0lvgk2xlkx9tzzcc0000gn/T/ipykernel_12979/2819140474.py\u001b[0m in \u001b[0;36mcompute_coherence_values\u001b[0;34m(corpus, dictionary, k, a, b)\u001b[0m\n\u001b[1;32m      2\u001b[0m \u001b[0;32mdef\u001b[0m \u001b[0mcompute_coherence_values\u001b[0m\u001b[0;34m(\u001b[0m\u001b[0mcorpus\u001b[0m\u001b[0;34m,\u001b[0m \u001b[0mdictionary\u001b[0m\u001b[0;34m,\u001b[0m \u001b[0mk\u001b[0m\u001b[0;34m,\u001b[0m \u001b[0ma\u001b[0m\u001b[0;34m,\u001b[0m \u001b[0mb\u001b[0m\u001b[0;34m)\u001b[0m\u001b[0;34m:\u001b[0m\u001b[0;34m\u001b[0m\u001b[0;34m\u001b[0m\u001b[0m\n\u001b[1;32m      3\u001b[0m \u001b[0;34m\u001b[0m\u001b[0m\n\u001b[0;32m----> 4\u001b[0;31m     lda_model = gensim.models.LdaMulticore(corpus=corpus,\n\u001b[0m\u001b[1;32m      5\u001b[0m                                            \u001b[0mid2word\u001b[0m\u001b[0;34m=\u001b[0m\u001b[0mdictionary\u001b[0m\u001b[0;34m,\u001b[0m\u001b[0;34m\u001b[0m\u001b[0;34m\u001b[0m\u001b[0m\n\u001b[1;32m      6\u001b[0m                                            \u001b[0mnum_topics\u001b[0m\u001b[0;34m=\u001b[0m\u001b[0mk\u001b[0m\u001b[0;34m,\u001b[0m\u001b[0;34m\u001b[0m\u001b[0;34m\u001b[0m\u001b[0m\n",
      "\u001b[0;32m~/opt/anaconda3/envs/nlp-env/lib/python3.8/site-packages/gensim/models/ldamulticore.py\u001b[0m in \u001b[0;36m__init__\u001b[0;34m(self, corpus, num_topics, id2word, workers, chunksize, passes, batch, alpha, eta, decay, offset, eval_every, iterations, gamma_threshold, random_state, minimum_probability, minimum_phi_value, per_word_topics, dtype)\u001b[0m\n\u001b[1;32m    184\u001b[0m             \u001b[0;32mraise\u001b[0m \u001b[0mNotImplementedError\u001b[0m\u001b[0;34m(\u001b[0m\u001b[0;34m\"auto-tuning alpha not implemented in LdaMulticore; use plain LdaModel.\"\u001b[0m\u001b[0;34m)\u001b[0m\u001b[0;34m\u001b[0m\u001b[0;34m\u001b[0m\u001b[0m\n\u001b[1;32m    185\u001b[0m \u001b[0;34m\u001b[0m\u001b[0m\n\u001b[0;32m--> 186\u001b[0;31m         super(LdaMulticore, self).__init__(\n\u001b[0m\u001b[1;32m    187\u001b[0m             \u001b[0mcorpus\u001b[0m\u001b[0;34m=\u001b[0m\u001b[0mcorpus\u001b[0m\u001b[0;34m,\u001b[0m \u001b[0mnum_topics\u001b[0m\u001b[0;34m=\u001b[0m\u001b[0mnum_topics\u001b[0m\u001b[0;34m,\u001b[0m\u001b[0;34m\u001b[0m\u001b[0;34m\u001b[0m\u001b[0m\n\u001b[1;32m    188\u001b[0m             \u001b[0mid2word\u001b[0m\u001b[0;34m=\u001b[0m\u001b[0mid2word\u001b[0m\u001b[0;34m,\u001b[0m \u001b[0mchunksize\u001b[0m\u001b[0;34m=\u001b[0m\u001b[0mchunksize\u001b[0m\u001b[0;34m,\u001b[0m \u001b[0mpasses\u001b[0m\u001b[0;34m=\u001b[0m\u001b[0mpasses\u001b[0m\u001b[0;34m,\u001b[0m \u001b[0malpha\u001b[0m\u001b[0;34m=\u001b[0m\u001b[0malpha\u001b[0m\u001b[0;34m,\u001b[0m \u001b[0meta\u001b[0m\u001b[0;34m=\u001b[0m\u001b[0meta\u001b[0m\u001b[0;34m,\u001b[0m\u001b[0;34m\u001b[0m\u001b[0;34m\u001b[0m\u001b[0m\n",
      "\u001b[0;32m~/opt/anaconda3/envs/nlp-env/lib/python3.8/site-packages/gensim/models/ldamodel.py\u001b[0m in \u001b[0;36m__init__\u001b[0;34m(self, corpus, num_topics, id2word, distributed, chunksize, passes, update_every, alpha, eta, decay, offset, eval_every, iterations, gamma_threshold, minimum_probability, random_state, ns_conf, minimum_phi_value, per_word_topics, callbacks, dtype)\u001b[0m\n\u001b[1;32m    518\u001b[0m             \u001b[0muse_numpy\u001b[0m \u001b[0;34m=\u001b[0m \u001b[0mself\u001b[0m\u001b[0;34m.\u001b[0m\u001b[0mdispatcher\u001b[0m \u001b[0;32mis\u001b[0m \u001b[0;32mnot\u001b[0m \u001b[0;32mNone\u001b[0m\u001b[0;34m\u001b[0m\u001b[0;34m\u001b[0m\u001b[0m\n\u001b[1;32m    519\u001b[0m             \u001b[0mstart\u001b[0m \u001b[0;34m=\u001b[0m \u001b[0mtime\u001b[0m\u001b[0;34m.\u001b[0m\u001b[0mtime\u001b[0m\u001b[0;34m(\u001b[0m\u001b[0;34m)\u001b[0m\u001b[0;34m\u001b[0m\u001b[0;34m\u001b[0m\u001b[0m\n\u001b[0;32m--> 520\u001b[0;31m             \u001b[0mself\u001b[0m\u001b[0;34m.\u001b[0m\u001b[0mupdate\u001b[0m\u001b[0;34m(\u001b[0m\u001b[0mcorpus\u001b[0m\u001b[0;34m,\u001b[0m \u001b[0mchunks_as_numpy\u001b[0m\u001b[0;34m=\u001b[0m\u001b[0muse_numpy\u001b[0m\u001b[0;34m)\u001b[0m\u001b[0;34m\u001b[0m\u001b[0;34m\u001b[0m\u001b[0m\n\u001b[0m\u001b[1;32m    521\u001b[0m             self.add_lifecycle_event(\n\u001b[1;32m    522\u001b[0m                 \u001b[0;34m\"created\"\u001b[0m\u001b[0;34m,\u001b[0m\u001b[0;34m\u001b[0m\u001b[0;34m\u001b[0m\u001b[0m\n",
      "\u001b[0;32m~/opt/anaconda3/envs/nlp-env/lib/python3.8/site-packages/gensim/models/ldamulticore.py\u001b[0m in \u001b[0;36mupdate\u001b[0;34m(self, corpus, chunks_as_numpy)\u001b[0m\n\u001b[1;32m    284\u001b[0m \u001b[0;34m\u001b[0m\u001b[0m\n\u001b[1;32m    285\u001b[0m         \u001b[0mlogger\u001b[0m\u001b[0;34m.\u001b[0m\u001b[0minfo\u001b[0m\u001b[0;34m(\u001b[0m\u001b[0;34m\"training LDA model using %i processes\"\u001b[0m\u001b[0;34m,\u001b[0m \u001b[0mself\u001b[0m\u001b[0;34m.\u001b[0m\u001b[0mworkers\u001b[0m\u001b[0;34m)\u001b[0m\u001b[0;34m\u001b[0m\u001b[0;34m\u001b[0m\u001b[0m\n\u001b[0;32m--> 286\u001b[0;31m         \u001b[0mpool\u001b[0m \u001b[0;34m=\u001b[0m \u001b[0mPool\u001b[0m\u001b[0;34m(\u001b[0m\u001b[0mself\u001b[0m\u001b[0;34m.\u001b[0m\u001b[0mworkers\u001b[0m\u001b[0;34m,\u001b[0m \u001b[0mworker_e_step\u001b[0m\u001b[0;34m,\u001b[0m \u001b[0;34m(\u001b[0m\u001b[0mjob_queue\u001b[0m\u001b[0;34m,\u001b[0m \u001b[0mresult_queue\u001b[0m\u001b[0;34m,\u001b[0m \u001b[0mself\u001b[0m\u001b[0;34m)\u001b[0m\u001b[0;34m)\u001b[0m\u001b[0;34m\u001b[0m\u001b[0;34m\u001b[0m\u001b[0m\n\u001b[0m\u001b[1;32m    287\u001b[0m         \u001b[0;32mfor\u001b[0m \u001b[0mpass_\u001b[0m \u001b[0;32min\u001b[0m \u001b[0mrange\u001b[0m\u001b[0;34m(\u001b[0m\u001b[0mself\u001b[0m\u001b[0;34m.\u001b[0m\u001b[0mpasses\u001b[0m\u001b[0;34m)\u001b[0m\u001b[0;34m:\u001b[0m\u001b[0;34m\u001b[0m\u001b[0;34m\u001b[0m\u001b[0m\n\u001b[1;32m    288\u001b[0m             \u001b[0mqueue_size\u001b[0m\u001b[0;34m,\u001b[0m \u001b[0mreallen\u001b[0m \u001b[0;34m=\u001b[0m \u001b[0;34m[\u001b[0m\u001b[0;36m0\u001b[0m\u001b[0;34m]\u001b[0m\u001b[0;34m,\u001b[0m \u001b[0;36m0\u001b[0m\u001b[0;34m\u001b[0m\u001b[0;34m\u001b[0m\u001b[0m\n",
      "\u001b[0;32m~/opt/anaconda3/envs/nlp-env/lib/python3.8/multiprocessing/context.py\u001b[0m in \u001b[0;36mPool\u001b[0;34m(self, processes, initializer, initargs, maxtasksperchild)\u001b[0m\n\u001b[1;32m    117\u001b[0m         \u001b[0;34m'''Returns a process pool object'''\u001b[0m\u001b[0;34m\u001b[0m\u001b[0;34m\u001b[0m\u001b[0m\n\u001b[1;32m    118\u001b[0m         \u001b[0;32mfrom\u001b[0m \u001b[0;34m.\u001b[0m\u001b[0mpool\u001b[0m \u001b[0;32mimport\u001b[0m \u001b[0mPool\u001b[0m\u001b[0;34m\u001b[0m\u001b[0;34m\u001b[0m\u001b[0m\n\u001b[0;32m--> 119\u001b[0;31m         return Pool(processes, initializer, initargs, maxtasksperchild,\n\u001b[0m\u001b[1;32m    120\u001b[0m                     context=self.get_context())\n\u001b[1;32m    121\u001b[0m \u001b[0;34m\u001b[0m\u001b[0m\n",
      "\u001b[0;32m~/opt/anaconda3/envs/nlp-env/lib/python3.8/multiprocessing/pool.py\u001b[0m in \u001b[0;36m__init__\u001b[0;34m(self, processes, initializer, initargs, maxtasksperchild, context)\u001b[0m\n\u001b[1;32m    210\u001b[0m         \u001b[0mself\u001b[0m\u001b[0;34m.\u001b[0m\u001b[0m_processes\u001b[0m \u001b[0;34m=\u001b[0m \u001b[0mprocesses\u001b[0m\u001b[0;34m\u001b[0m\u001b[0;34m\u001b[0m\u001b[0m\n\u001b[1;32m    211\u001b[0m         \u001b[0;32mtry\u001b[0m\u001b[0;34m:\u001b[0m\u001b[0;34m\u001b[0m\u001b[0;34m\u001b[0m\u001b[0m\n\u001b[0;32m--> 212\u001b[0;31m             \u001b[0mself\u001b[0m\u001b[0;34m.\u001b[0m\u001b[0m_repopulate_pool\u001b[0m\u001b[0;34m(\u001b[0m\u001b[0;34m)\u001b[0m\u001b[0;34m\u001b[0m\u001b[0;34m\u001b[0m\u001b[0m\n\u001b[0m\u001b[1;32m    213\u001b[0m         \u001b[0;32mexcept\u001b[0m \u001b[0mException\u001b[0m\u001b[0;34m:\u001b[0m\u001b[0;34m\u001b[0m\u001b[0;34m\u001b[0m\u001b[0m\n\u001b[1;32m    214\u001b[0m             \u001b[0;32mfor\u001b[0m \u001b[0mp\u001b[0m \u001b[0;32min\u001b[0m \u001b[0mself\u001b[0m\u001b[0;34m.\u001b[0m\u001b[0m_pool\u001b[0m\u001b[0;34m:\u001b[0m\u001b[0;34m\u001b[0m\u001b[0;34m\u001b[0m\u001b[0m\n",
      "\u001b[0;32m~/opt/anaconda3/envs/nlp-env/lib/python3.8/multiprocessing/pool.py\u001b[0m in \u001b[0;36m_repopulate_pool\u001b[0;34m(self)\u001b[0m\n\u001b[1;32m    301\u001b[0m \u001b[0;34m\u001b[0m\u001b[0m\n\u001b[1;32m    302\u001b[0m     \u001b[0;32mdef\u001b[0m \u001b[0m_repopulate_pool\u001b[0m\u001b[0;34m(\u001b[0m\u001b[0mself\u001b[0m\u001b[0;34m)\u001b[0m\u001b[0;34m:\u001b[0m\u001b[0;34m\u001b[0m\u001b[0;34m\u001b[0m\u001b[0m\n\u001b[0;32m--> 303\u001b[0;31m         return self._repopulate_pool_static(self._ctx, self.Process,\n\u001b[0m\u001b[1;32m    304\u001b[0m                                             \u001b[0mself\u001b[0m\u001b[0;34m.\u001b[0m\u001b[0m_processes\u001b[0m\u001b[0;34m,\u001b[0m\u001b[0;34m\u001b[0m\u001b[0;34m\u001b[0m\u001b[0m\n\u001b[1;32m    305\u001b[0m                                             \u001b[0mself\u001b[0m\u001b[0;34m.\u001b[0m\u001b[0m_pool\u001b[0m\u001b[0;34m,\u001b[0m \u001b[0mself\u001b[0m\u001b[0;34m.\u001b[0m\u001b[0m_inqueue\u001b[0m\u001b[0;34m,\u001b[0m\u001b[0;34m\u001b[0m\u001b[0;34m\u001b[0m\u001b[0m\n",
      "\u001b[0;32m~/opt/anaconda3/envs/nlp-env/lib/python3.8/multiprocessing/pool.py\u001b[0m in \u001b[0;36m_repopulate_pool_static\u001b[0;34m(ctx, Process, processes, pool, inqueue, outqueue, initializer, initargs, maxtasksperchild, wrap_exception)\u001b[0m\n\u001b[1;32m    324\u001b[0m             \u001b[0mw\u001b[0m\u001b[0;34m.\u001b[0m\u001b[0mname\u001b[0m \u001b[0;34m=\u001b[0m \u001b[0mw\u001b[0m\u001b[0;34m.\u001b[0m\u001b[0mname\u001b[0m\u001b[0;34m.\u001b[0m\u001b[0mreplace\u001b[0m\u001b[0;34m(\u001b[0m\u001b[0;34m'Process'\u001b[0m\u001b[0;34m,\u001b[0m \u001b[0;34m'PoolWorker'\u001b[0m\u001b[0;34m)\u001b[0m\u001b[0;34m\u001b[0m\u001b[0;34m\u001b[0m\u001b[0m\n\u001b[1;32m    325\u001b[0m             \u001b[0mw\u001b[0m\u001b[0;34m.\u001b[0m\u001b[0mdaemon\u001b[0m \u001b[0;34m=\u001b[0m \u001b[0;32mTrue\u001b[0m\u001b[0;34m\u001b[0m\u001b[0;34m\u001b[0m\u001b[0m\n\u001b[0;32m--> 326\u001b[0;31m             \u001b[0mw\u001b[0m\u001b[0;34m.\u001b[0m\u001b[0mstart\u001b[0m\u001b[0;34m(\u001b[0m\u001b[0;34m)\u001b[0m\u001b[0;34m\u001b[0m\u001b[0;34m\u001b[0m\u001b[0m\n\u001b[0m\u001b[1;32m    327\u001b[0m             \u001b[0mpool\u001b[0m\u001b[0;34m.\u001b[0m\u001b[0mappend\u001b[0m\u001b[0;34m(\u001b[0m\u001b[0mw\u001b[0m\u001b[0;34m)\u001b[0m\u001b[0;34m\u001b[0m\u001b[0;34m\u001b[0m\u001b[0m\n\u001b[1;32m    328\u001b[0m             \u001b[0mutil\u001b[0m\u001b[0;34m.\u001b[0m\u001b[0mdebug\u001b[0m\u001b[0;34m(\u001b[0m\u001b[0;34m'added worker'\u001b[0m\u001b[0;34m)\u001b[0m\u001b[0;34m\u001b[0m\u001b[0;34m\u001b[0m\u001b[0m\n",
      "\u001b[0;32m~/opt/anaconda3/envs/nlp-env/lib/python3.8/multiprocessing/process.py\u001b[0m in \u001b[0;36mstart\u001b[0;34m(self)\u001b[0m\n\u001b[1;32m    119\u001b[0m                \u001b[0;34m'daemonic processes are not allowed to have children'\u001b[0m\u001b[0;34m\u001b[0m\u001b[0;34m\u001b[0m\u001b[0m\n\u001b[1;32m    120\u001b[0m         \u001b[0m_cleanup\u001b[0m\u001b[0;34m(\u001b[0m\u001b[0;34m)\u001b[0m\u001b[0;34m\u001b[0m\u001b[0;34m\u001b[0m\u001b[0m\n\u001b[0;32m--> 121\u001b[0;31m         \u001b[0mself\u001b[0m\u001b[0;34m.\u001b[0m\u001b[0m_popen\u001b[0m \u001b[0;34m=\u001b[0m \u001b[0mself\u001b[0m\u001b[0;34m.\u001b[0m\u001b[0m_Popen\u001b[0m\u001b[0;34m(\u001b[0m\u001b[0mself\u001b[0m\u001b[0;34m)\u001b[0m\u001b[0;34m\u001b[0m\u001b[0;34m\u001b[0m\u001b[0m\n\u001b[0m\u001b[1;32m    122\u001b[0m         \u001b[0mself\u001b[0m\u001b[0;34m.\u001b[0m\u001b[0m_sentinel\u001b[0m \u001b[0;34m=\u001b[0m \u001b[0mself\u001b[0m\u001b[0;34m.\u001b[0m\u001b[0m_popen\u001b[0m\u001b[0;34m.\u001b[0m\u001b[0msentinel\u001b[0m\u001b[0;34m\u001b[0m\u001b[0;34m\u001b[0m\u001b[0m\n\u001b[1;32m    123\u001b[0m         \u001b[0;31m# Avoid a refcycle if the target function holds an indirect\u001b[0m\u001b[0;34m\u001b[0m\u001b[0;34m\u001b[0m\u001b[0;34m\u001b[0m\u001b[0m\n",
      "\u001b[0;32m~/opt/anaconda3/envs/nlp-env/lib/python3.8/multiprocessing/context.py\u001b[0m in \u001b[0;36m_Popen\u001b[0;34m(process_obj)\u001b[0m\n\u001b[1;32m    282\u001b[0m         \u001b[0;32mdef\u001b[0m \u001b[0m_Popen\u001b[0m\u001b[0;34m(\u001b[0m\u001b[0mprocess_obj\u001b[0m\u001b[0;34m)\u001b[0m\u001b[0;34m:\u001b[0m\u001b[0;34m\u001b[0m\u001b[0;34m\u001b[0m\u001b[0m\n\u001b[1;32m    283\u001b[0m             \u001b[0;32mfrom\u001b[0m \u001b[0;34m.\u001b[0m\u001b[0mpopen_spawn_posix\u001b[0m \u001b[0;32mimport\u001b[0m \u001b[0mPopen\u001b[0m\u001b[0;34m\u001b[0m\u001b[0;34m\u001b[0m\u001b[0m\n\u001b[0;32m--> 284\u001b[0;31m             \u001b[0;32mreturn\u001b[0m \u001b[0mPopen\u001b[0m\u001b[0;34m(\u001b[0m\u001b[0mprocess_obj\u001b[0m\u001b[0;34m)\u001b[0m\u001b[0;34m\u001b[0m\u001b[0;34m\u001b[0m\u001b[0m\n\u001b[0m\u001b[1;32m    285\u001b[0m \u001b[0;34m\u001b[0m\u001b[0m\n\u001b[1;32m    286\u001b[0m     \u001b[0;32mclass\u001b[0m \u001b[0mForkServerProcess\u001b[0m\u001b[0;34m(\u001b[0m\u001b[0mprocess\u001b[0m\u001b[0;34m.\u001b[0m\u001b[0mBaseProcess\u001b[0m\u001b[0;34m)\u001b[0m\u001b[0;34m:\u001b[0m\u001b[0;34m\u001b[0m\u001b[0;34m\u001b[0m\u001b[0m\n",
      "\u001b[0;32m~/opt/anaconda3/envs/nlp-env/lib/python3.8/multiprocessing/popen_spawn_posix.py\u001b[0m in \u001b[0;36m__init__\u001b[0;34m(self, process_obj)\u001b[0m\n\u001b[1;32m     30\u001b[0m     \u001b[0;32mdef\u001b[0m \u001b[0m__init__\u001b[0m\u001b[0;34m(\u001b[0m\u001b[0mself\u001b[0m\u001b[0;34m,\u001b[0m \u001b[0mprocess_obj\u001b[0m\u001b[0;34m)\u001b[0m\u001b[0;34m:\u001b[0m\u001b[0;34m\u001b[0m\u001b[0;34m\u001b[0m\u001b[0m\n\u001b[1;32m     31\u001b[0m         \u001b[0mself\u001b[0m\u001b[0;34m.\u001b[0m\u001b[0m_fds\u001b[0m \u001b[0;34m=\u001b[0m \u001b[0;34m[\u001b[0m\u001b[0;34m]\u001b[0m\u001b[0;34m\u001b[0m\u001b[0;34m\u001b[0m\u001b[0m\n\u001b[0;32m---> 32\u001b[0;31m         \u001b[0msuper\u001b[0m\u001b[0;34m(\u001b[0m\u001b[0;34m)\u001b[0m\u001b[0;34m.\u001b[0m\u001b[0m__init__\u001b[0m\u001b[0;34m(\u001b[0m\u001b[0mprocess_obj\u001b[0m\u001b[0;34m)\u001b[0m\u001b[0;34m\u001b[0m\u001b[0;34m\u001b[0m\u001b[0m\n\u001b[0m\u001b[1;32m     33\u001b[0m \u001b[0;34m\u001b[0m\u001b[0m\n\u001b[1;32m     34\u001b[0m     \u001b[0;32mdef\u001b[0m \u001b[0mduplicate_for_child\u001b[0m\u001b[0;34m(\u001b[0m\u001b[0mself\u001b[0m\u001b[0;34m,\u001b[0m \u001b[0mfd\u001b[0m\u001b[0;34m)\u001b[0m\u001b[0;34m:\u001b[0m\u001b[0;34m\u001b[0m\u001b[0;34m\u001b[0m\u001b[0m\n",
      "\u001b[0;32m~/opt/anaconda3/envs/nlp-env/lib/python3.8/multiprocessing/popen_fork.py\u001b[0m in \u001b[0;36m__init__\u001b[0;34m(self, process_obj)\u001b[0m\n\u001b[1;32m     17\u001b[0m         \u001b[0mself\u001b[0m\u001b[0;34m.\u001b[0m\u001b[0mreturncode\u001b[0m \u001b[0;34m=\u001b[0m \u001b[0;32mNone\u001b[0m\u001b[0;34m\u001b[0m\u001b[0;34m\u001b[0m\u001b[0m\n\u001b[1;32m     18\u001b[0m         \u001b[0mself\u001b[0m\u001b[0;34m.\u001b[0m\u001b[0mfinalizer\u001b[0m \u001b[0;34m=\u001b[0m \u001b[0;32mNone\u001b[0m\u001b[0;34m\u001b[0m\u001b[0;34m\u001b[0m\u001b[0m\n\u001b[0;32m---> 19\u001b[0;31m         \u001b[0mself\u001b[0m\u001b[0;34m.\u001b[0m\u001b[0m_launch\u001b[0m\u001b[0;34m(\u001b[0m\u001b[0mprocess_obj\u001b[0m\u001b[0;34m)\u001b[0m\u001b[0;34m\u001b[0m\u001b[0;34m\u001b[0m\u001b[0m\n\u001b[0m\u001b[1;32m     20\u001b[0m \u001b[0;34m\u001b[0m\u001b[0m\n\u001b[1;32m     21\u001b[0m     \u001b[0;32mdef\u001b[0m \u001b[0mduplicate_for_child\u001b[0m\u001b[0;34m(\u001b[0m\u001b[0mself\u001b[0m\u001b[0;34m,\u001b[0m \u001b[0mfd\u001b[0m\u001b[0;34m)\u001b[0m\u001b[0;34m:\u001b[0m\u001b[0;34m\u001b[0m\u001b[0;34m\u001b[0m\u001b[0m\n",
      "\u001b[0;32m~/opt/anaconda3/envs/nlp-env/lib/python3.8/multiprocessing/popen_spawn_posix.py\u001b[0m in \u001b[0;36m_launch\u001b[0;34m(self, process_obj)\u001b[0m\n\u001b[1;32m     60\u001b[0m             \u001b[0mself\u001b[0m\u001b[0;34m.\u001b[0m\u001b[0msentinel\u001b[0m \u001b[0;34m=\u001b[0m \u001b[0mparent_r\u001b[0m\u001b[0;34m\u001b[0m\u001b[0;34m\u001b[0m\u001b[0m\n\u001b[1;32m     61\u001b[0m             \u001b[0;32mwith\u001b[0m \u001b[0mopen\u001b[0m\u001b[0;34m(\u001b[0m\u001b[0mparent_w\u001b[0m\u001b[0;34m,\u001b[0m \u001b[0;34m'wb'\u001b[0m\u001b[0;34m,\u001b[0m \u001b[0mclosefd\u001b[0m\u001b[0;34m=\u001b[0m\u001b[0;32mFalse\u001b[0m\u001b[0;34m)\u001b[0m \u001b[0;32mas\u001b[0m \u001b[0mf\u001b[0m\u001b[0;34m:\u001b[0m\u001b[0;34m\u001b[0m\u001b[0;34m\u001b[0m\u001b[0m\n\u001b[0;32m---> 62\u001b[0;31m                 \u001b[0mf\u001b[0m\u001b[0;34m.\u001b[0m\u001b[0mwrite\u001b[0m\u001b[0;34m(\u001b[0m\u001b[0mfp\u001b[0m\u001b[0;34m.\u001b[0m\u001b[0mgetbuffer\u001b[0m\u001b[0;34m(\u001b[0m\u001b[0;34m)\u001b[0m\u001b[0;34m)\u001b[0m\u001b[0;34m\u001b[0m\u001b[0;34m\u001b[0m\u001b[0m\n\u001b[0m\u001b[1;32m     63\u001b[0m         \u001b[0;32mfinally\u001b[0m\u001b[0;34m:\u001b[0m\u001b[0;34m\u001b[0m\u001b[0;34m\u001b[0m\u001b[0m\n\u001b[1;32m     64\u001b[0m             \u001b[0mfds_to_close\u001b[0m \u001b[0;34m=\u001b[0m \u001b[0;34m[\u001b[0m\u001b[0;34m]\u001b[0m\u001b[0;34m\u001b[0m\u001b[0;34m\u001b[0m\u001b[0m\n",
      "\u001b[0;31mKeyboardInterrupt\u001b[0m: "
     ]
    }
   ],
   "source": [
    "grid = {}\n",
    "grid['Validation_Set'] = {}\n",
    "\n",
    "# Topics range\n",
    "min_topics = 2\n",
    "max_topics = 11\n",
    "step_size = 1\n",
    "topics_range = range(min_topics, max_topics, step_size)\n",
    "\n",
    "# Alpha parameter\n",
    "alpha = list(np.arange(0.01, 1, 0.3))\n",
    "alpha.append('symmetric')\n",
    "alpha.append('asymmetric')\n",
    "\n",
    "# Beta parameter\n",
    "beta = list(np.arange(0.01, 1, 0.3))\n",
    "beta.append('symmetric')\n",
    "\n",
    "# Validation sets\n",
    "num_of_docs = len(corpus)\n",
    "corpus_sets = [# gensim.utils.ClippedCorpus(corpus, num_of_docs*0.25), \n",
    "               # gensim.utils.ClippedCorpus(corpus, num_of_docs*0.5), \n",
    "               gensim.utils.ClippedCorpus(corpus, int(num_of_docs*0.75)), \n",
    "               corpus]\n",
    "corpus_title = ['75% Corpus', '100% Corpus']\n",
    "model_results = {'Validation_Set': [],\n",
    "                 'Topics': [],\n",
    "                 'Alpha': [],\n",
    "                 'Beta': [],\n",
    "                 'Coherence': []\n",
    "                }\n",
    "# Can take a long time to run\n",
    "if 1 == 1:\n",
    "    pbar = tqdm.tqdm(total=540)\n",
    "    \n",
    "    # iterate through validation corpuses\n",
    "    for i in range(len(corpus_sets)):\n",
    "        # iterate through number of topics\n",
    "        for k in topics_range:\n",
    "            # iterate through alpha values\n",
    "            for a in alpha:\n",
    "                # iterare through beta values\n",
    "                for b in beta:\n",
    "                    # get the coherence score for the given parameters\n",
    "                    cv = compute_coherence_values(corpus=corpus_sets[i], dictionary=id2word, \n",
    "                                                  k=k, a=a, b=b)\n",
    "                    # Save the model results\n",
    "                    model_results['Validation_Set'].append(corpus_title[i])\n",
    "                    model_results['Topics'].append(k)\n",
    "                    model_results['Alpha'].append(a)\n",
    "                    model_results['Beta'].append(b)\n",
    "                    model_results['Coherence'].append(cv)\n",
    "                    \n",
    "                    pbar.update(1)\n",
    "    pd.DataFrame(model_results).to_csv('lda_tuning_results.csv', index=False)\n",
    "    pbar.close()"
   ]
  },
  {
   "cell_type": "code",
   "execution_count": null,
   "metadata": {},
   "outputs": [],
   "source": []
  }
 ],
 "metadata": {
  "interpreter": {
   "hash": "53e0a93b7c64fcbbd161567d178793b8bdbd3decf5b1e60d467119eca94f2238"
  },
  "kernelspec": {
   "display_name": "Python 3.9.7 ('geo-env')",
   "language": "python",
   "name": "python3"
  },
  "language_info": {
   "codemirror_mode": {
    "name": "ipython",
    "version": 3
   },
   "file_extension": ".py",
   "mimetype": "text/x-python",
   "name": "python",
   "nbconvert_exporter": "python",
   "pygments_lexer": "ipython3",
   "version": "3.8.10"
  },
  "orig_nbformat": 4
 },
 "nbformat": 4,
 "nbformat_minor": 2
}
